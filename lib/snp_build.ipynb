{
 "cells": [
  {
   "cell_type": "code",
   "execution_count": null,
   "metadata": {},
   "outputs": [],
   "source": [
    "# SNP scanner and pickler\n",
    "\n",
    "# STATUS: Completed\n",
    "# Run-time: 1 hour and 31 mins before market opens\n",
    "\n",
    "#***          Start ib_insync (run once)       *****\n",
    "#___________________________________________________\n",
    "\n",
    "from ib_insync import *\n",
    "util.startLoop()\n",
    "ib = IB().connect('127.0.0.1', 1300, clientId=2)"
   ]
  },
  {
   "cell_type": "code",
   "execution_count": null,
   "metadata": {},
   "outputs": [],
   "source": [
    "import os\n",
    "from snplist import fspath, snp_list, get_opt\n",
    "import datetime\n",
    "\n",
    "# declaration\n",
    "hrs = 5.5   # approximate time taken to get options for all scrips\n",
    "\n",
    "# qualified list of stocks and index, with their contracts and chains\n",
    "symconchain = snp_list(ib)\n",
    "\n",
    "symbols = symconchain[0] # all symbols\n",
    "\n",
    "contracts = symconchain[1] # all contracts\n",
    "\n",
    "chains = symconchain[2] # all chains\n",
    "\n",
    "# Take only pickle files. Remove directories and files starting with underscore (for underlyings)\n",
    "fs = [f for f in os.listdir(fspath) if (f[-7:] == 'opt.pkl')] # list of opt pickle files\n",
    "xs = [f[:-8] for f in fs] # symbols for existing pickle files with options\n",
    "\n",
    "if fs: # if the file list is not empty\n",
    "\n",
    "    # Get modified time, fail time and identify where the scrip has failed\n",
    "    fsmod = {f: os.path.getmtime(fspath + '/' + f) for f in fs}\n",
    "    failtime = max([v for k, v in fsmod.items()])\n",
    "    failscrip = [k[:-4] for k, v in fsmod.items() if v == failtime][0]\n",
    "    \n",
    "    # now - porgram runtime\n",
    "    floortime = (datetime.datetime.now() - datetime.timedelta(hours = hrs)).timestamp()  \n",
    "\n",
    "    if failtime < floortime:   # program failed to fully pickle\n",
    "        restartfrom = 0  # restart from zero\n",
    "    else:\n",
    "        restartfrom = symbols.index(failscrip[:-4]) + 1 # restart from where it failed\n",
    "\n",
    "else: \n",
    "    restartfrom = 0  # restart from zero if the file list is empty\n",
    "\n",
    "[get_opt(ib, contract, chain) for contract, chain in zip(contracts[restartfrom:], chains[restartfrom:])]\n",
    "print('SNP build completed!')\n",
    "ib.disconnect()"
   ]
  },
  {
   "cell_type": "code",
   "execution_count": null,
   "metadata": {},
   "outputs": [],
   "source": []
  }
 ],
 "metadata": {
  "kernelspec": {
   "display_name": "Python 3",
   "language": "python",
   "name": "python3"
  },
  "language_info": {
   "codemirror_mode": {
    "name": "ipython",
    "version": 3
   },
   "file_extension": ".py",
   "mimetype": "text/x-python",
   "name": "python",
   "nbconvert_exporter": "python",
   "pygments_lexer": "ipython3",
   "version": "3.7.1"
  }
 },
 "nbformat": 4,
 "nbformat_minor": 2
}
