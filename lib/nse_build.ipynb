{
 "cells": [
  {
   "cell_type": "code",
   "execution_count": 2,
   "metadata": {},
   "outputs": [],
   "source": [
    "# NSE scanner and pickler\n",
    "\n",
    "# STATUS: WIP\n",
    "# Run-time: \n",
    "\n",
    "#***          Start ib_insync (run once)       *****\n",
    "#_______________________________________________\n",
    "\n",
    "from ib_insync import *\n",
    "util.startLoop()\n",
    "ib = IB().connect('127.0.0.1', 3000, clientId=2)"
   ]
  },
  {
   "cell_type": "code",
   "execution_count": 3,
   "metadata": {},
   "outputs": [],
   "source": [
    "import os\n",
    "from nselist import fspath, nse_list, get_opt\n",
    "import datetime\n",
    "\n",
    "# declaration\n",
    "hrs = 2   # approximate time taken to get options for all scrips\n",
    "\n",
    "# qualified list of stocks and index, with their contracts and chains\n",
    "df_nselist = nse_list(ib)\n",
    "\n",
    "# make the dfs from nselist\n",
    "dfs = [df_nselist[df_nselist.symbol == s].reset_index(drop=True) for s in list(df_nselist.symbol.unique())]\n",
    "\n",
    "# Take only pickle files. Remove directories and files starting with underscore (for underlyings)\n",
    "fs = [f for f in os.listdir(fspath) if (f[-7:] == 'opt.pkl')] # list of opt pickle files\n",
    "\n",
    "all_pickles = [fspath+f for f in os.listdir(fspath) if f.endswith('.pkl')]  # all pickled files\n",
    "av_pkl_symbols = [f[:-8] for f in fs] # available pickle symbols\n",
    "\n",
    "if fs: # if the file list is not empty\n",
    "    \n",
    "    # Get modified time, fail time and identify where the scrip has failed\n",
    "    fsmod = {f: os.path.getmtime(fspath + '/' + f) for f in fs}\n",
    "    failtime = max([v for k, v in fsmod.items()])\n",
    "    failscrip = [k[:-4] for k, v in fsmod.items() if v == failtime][0]\n",
    "    \n",
    "    # now - porgram runtime\n",
    "    floortime = (datetime.datetime.now() - datetime.timedelta(hours = hrs)).timestamp()\n",
    "    \n",
    "    if failtime < floortime:   # the pickles are old\n",
    "#         [os.unlink(fn) for fn in all_pickles] # delete all the pickles\n",
    "        [get_opt(ib, df) for df in dfs] # get options for all the symbols\n",
    "    else:\n",
    "        dfr = [df for df in dfs if dfs.symbol not in av_pkl_symbols] # pickle the remaining symbols\n",
    "\n",
    "else:  # there are no pickles\n",
    "    [get_opt(ib, df) for df in dfs] # get options for all the symbols"
   ]
  }
 ],
 "metadata": {
  "kernelspec": {
   "display_name": "Python 3",
   "language": "python",
   "name": "python3"
  },
  "language_info": {
   "codemirror_mode": {
    "name": "ipython",
    "version": 3
   },
   "file_extension": ".py",
   "mimetype": "text/x-python",
   "name": "python",
   "nbconvert_exporter": "python",
   "pygments_lexer": "ipython3",
   "version": "3.7.1"
  }
 },
 "nbformat": 4,
 "nbformat_minor": 2
}
