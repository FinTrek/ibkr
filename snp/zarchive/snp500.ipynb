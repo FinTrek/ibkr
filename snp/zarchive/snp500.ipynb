{
 "cells": [
  {
   "cell_type": "markdown",
   "metadata": {},
   "source": [
    "# Introduction\n",
    "\n",
    "The SnP500 program has the following components:\n",
    "1. Ticker and expiry extraction - Make a list of NYSE weekly tickers of interest\n",
    "2. Contract data extraction - Probablility of Profit from Standard Deviation, Strike Price, Underlying Value\n",
    "3. Determine margins and Return on Margin\n",
    "4. Assemble target dataframe\n",
    "5. Place orders"
   ]
  },
  {
   "cell_type": "markdown",
   "metadata": {},
   "source": [
    "## Ticker and Expiry extraction\n",
    "The following program called <i>snp_weeklies</i>:\n",
    "1. Generates a list of NYSE weekly options from CBOE's spreadsheet\n",
    "2. Extracts only S&P500 scrips from it\n",
    "\n",
    "The file contents <i> snp_weeklies.py</i> can be seen here..."
   ]
  },
  {
   "cell_type": "raw",
   "metadata": {},
   "source": [
    "from utilities import display_py\n",
    "with open('snp_weeklies.py') as f:\n",
    "    code = f.read()\n",
    "    \n",
    "display_py(code)"
   ]
  },
  {
   "cell_type": "markdown",
   "metadata": {},
   "source": [
    "## Contract Data Extraction\n",
    "\n",
    "This program is split into the following parts:\n",
    "1. Assemble the weeklies dataframe\n",
    "2. Connect to IBKR\n",
    "3. Extract target scrips underlying price and standard deviation\n",
    "4. Extract all strike prices for the expiries\n",
    "4. Filter dataframe for only relevant strike prices beyond standard deviation threshold\n",
    "5. Extract the contract price for the filtered dataframe"
   ]
  },
  {
   "cell_type": "markdown",
   "metadata": {},
   "source": [
    "### 1) Assemble the weeklies dataframe\n",
    "The script is imported. Weeklies df is generated."
   ]
  },
  {
   "cell_type": "code",
   "execution_count": null,
   "metadata": {},
   "outputs": [],
   "source": [
    "import snp_weeklies\n",
    "\n",
    "# Get the weeklies dataframe\n",
    "df = snp_weeklies.main()\n",
    "\n",
    "# limit the DTE to a reasonable no of days\n",
    "df1 = df.loc[(df.DTE > 30) & (df.DTE < 60), :]\n",
    "\n",
    "# Small dataframe\n",
    "df_small = df1.head().copy()\n",
    "df_small"
   ]
  },
  {
   "cell_type": "markdown",
   "metadata": {},
   "source": [
    "### 2) Connect to IBKR   \n",
    "<p>...Ensure that either TWS or IBG has been started in _Paper_ mode.</p>\n",
    "<p>...In _File -> Global Configuration -> API -> Settings_ the Socket number typically for TWS is: 7497 | IBG is: 4002</p>\n",
    "<p>...Read-Only API is unchecked</p>\n",
    "<p>...Trusted IPs is 127.0.0.1</p>"
   ]
  },
  {
   "cell_type": "markdown",
   "metadata": {},
   "source": [
    "To set up a connection with IBKR a connector class has been made. The file contents of _connector.py_ is in the cell below."
   ]
  },
  {
   "cell_type": "raw",
   "metadata": {},
   "source": [
    "from utilities import display_py\n",
    "\n",
    "with open('connector.py') as f:\n",
    "    code = f.read()\n",
    "    \n",
    "display_py(code)"
   ]
  },
  {
   "cell_type": "markdown",
   "metadata": {},
   "source": [
    "Run the following cells to:<br\\>\n",
    "a) Instantiate <i>ib_insync</i><br\\>\n",
    "b) Instantiate a connection<br\\>"
   ]
  },
  {
   "cell_type": "code",
   "execution_count": null,
   "metadata": {},
   "outputs": [],
   "source": [
    "from ib_insync import *\n",
    "util.startLoop()  # to keep Jupyter live\n",
    "\n",
    "# Instantiate from main IB class\n",
    "ib = IB()\n",
    "\n",
    "from connector import Connector\n",
    "\n",
    "platform = 2       # (<1> for TWS | <2> for IBG)\n",
    "live_or_paper = 2  # (<1> for Live | <2> for Paper)\n",
    "y = 1              # (<1> for USA  | <2> for NSE)\n",
    "\n",
    "connection = Connector(platform = platform, live_or_paper = live_or_paper, y = y)\n",
    "\n",
    "ip=connection.ip\n",
    "socket=connection.socket\n",
    "client = connection.client\n",
    "\n",
    "# Connect to IB\n",
    "ib.connect(host=ip, port=socket, clientId=client)\n",
    "\n",
    "# Set the exchange\n",
    "exchange = 'SMART'\n",
    "\n",
    "# Set currency and primaryExchange based on connector\n",
    "if connection.y == 1:\n",
    "    currency  = 'USD'\n",
    "    primaryExchange = 'NASDAQ'\n",
    "else:\n",
    "    currency = 'INR'\n",
    "    primaryExchange = 'NSE'"
   ]
  },
  {
   "cell_type": "markdown",
   "metadata": {},
   "source": [
    "### 3) Extract underlying price and standard deviation"
   ]
  },
  {
   "cell_type": "code",
   "execution_count": null,
   "metadata": {},
   "outputs": [],
   "source": [
    "import pandas as pd\n",
    "import numpy as np\n",
    "\n",
    "def get_price(symbol, exchange=exchange, currency=currency, primaryExchange=primaryExchange):\n",
    "    '''Gets the Last / Market Price of the Stock\n",
    "    Args: \n",
    "       (symbol)          = string: name of equity\n",
    "       \n",
    "       [exchange]        = string: [default: 'SMART']\n",
    "       [currency]        = string: [default: 'USD']\n",
    "       [primaryExchange] = string: for scrips like INTC [default: 'NASDAQ']\n",
    "       \n",
    "    Returns:\n",
    "           marketPrice() = float\n",
    "           \n",
    "    '''\n",
    "    contract = Stock(symbol, exchange=exchange, currency=currency, primaryExchange=primaryExchange)\n",
    "    ib.qualifyContracts(contract) # qualify the contract\n",
    "    \n",
    "    [ticker] = ib.reqTickers(contract)\n",
    "    price = ticker.marketPrice()\n",
    "    \n",
    "    return price\n",
    "\n",
    "def get_stdev(symbol, DTE, exchange=exchange, currency=currency, primaryExchange=primaryExchange):\n",
    "    '''Gets the Standard Deviation of the Stock\n",
    "    Args: \n",
    "       (symbol)          = string: name of equity\n",
    "       (DTE)             = int: days-to-expiry\n",
    "       \n",
    "       [exchange]        = string: [default: 'SMART']\n",
    "       [currency]        = string: [default: 'USD']\n",
    "       [primaryExchange] = string: for scrips like INTC [default: 'NASDAQ']\n",
    "       \n",
    "    Returns:\n",
    "       standard deviation = float\n",
    "    \n",
    "    '''\n",
    "    contract = Stock(symbol, exchange=exchange, currency=currency, primaryExchange=primaryExchange)\n",
    "    \n",
    "    sd_days = str(DTE)+' D'  # days for standard deviation\n",
    "    bars = ib.reqHistoricalData(contract=contract, endDateTime='', durationStr=sd_days, \n",
    "                                barSizeSetting='1 day',  whatToShow='Trades', useRTH=True)\n",
    "    sd = np.std([b.close for b in bars], ddof=1)\n",
    "    \n",
    "    return sd\n",
    "\n",
    "# Get the unique list of symbols to generate a price dataframe\n",
    "underlying_df = pd.DataFrame(df_small['Ticker'].unique().tolist(), columns=['Ticker'])\n",
    "\n",
    "# Make the price dataframe\n",
    "underlying_df['Underlying'] = underlying_df.Ticker.apply(get_price)\n",
    "\n",
    "# Make the Standard Deviation dataframe\n",
    "df_small.loc[:, 'Stdev'] = df_small[['Ticker', 'DTE']].apply(lambda x: get_stdev(*x), axis=1)\n",
    "\n",
    "# Merge the underlying and stdev dataframes\n",
    "df_small = df_small.merge(underlying_df, how='left', left_on='Ticker', right_on='Ticker')"
   ]
  },
  {
   "cell_type": "code",
   "execution_count": null,
   "metadata": {},
   "outputs": [],
   "source": [
    "df_small"
   ]
  },
  {
   "cell_type": "code",
   "execution_count": null,
   "metadata": {},
   "outputs": [],
   "source": [
    "scrip = Option(symbol='ABBV', lastTradeDateOrContractMonth='20180810', exchange='SMART')"
   ]
  },
  {
   "cell_type": "code",
   "execution_count": null,
   "metadata": {},
   "outputs": [],
   "source": [
    "ib.qualifyContracts(scrip)"
   ]
  },
  {
   "cell_type": "code",
   "execution_count": null,
   "metadata": {},
   "outputs": [],
   "source": [
    "set(cd.scrip.strike for cd in ib.reqContractDetails(scrip))"
   ]
  },
  {
   "cell_type": "code",
   "execution_count": null,
   "metadata": {},
   "outputs": [],
   "source": [
    "help(Option)"
   ]
  },
  {
   "cell_type": "markdown",
   "metadata": {},
   "source": [
    "### 3) Extract strike prices for the expiries"
   ]
  },
  {
   "cell_type": "code",
   "execution_count": null,
   "metadata": {},
   "outputs": [],
   "source": [
    "def get_strikes(symbol, expiry, exchange=exchange, currency=currency, primaryExchange=primaryExchange):\n",
    "    '''Gets the strike prices for the various expiries of a contract\n",
    "    Args: \n",
    "       (symbol)          = string: name of equity\n",
    "       (expiry)          = string: expiry in yyyymmdd format\n",
    "       \n",
    "       [exchange]        = string: [default: 'SMART']\n",
    "       [currency]        = string: [default: 'USD']\n",
    "       [primaryExchange] = string: for scrips like INTC [default: 'NASDAQ']\n",
    "       \n",
    "    Returns:\n",
    "       strikes = tuple of floats\n",
    "    \n",
    "    '''\n",
    "    contract = Option(symbol, expiry, exchange=exchange, currency=currency, primaryExchange=primaryExchange)\n",
    "    \n",
    "    strikes = set(cd.contract.strike for cd in ib.reqContractDetails(contract))\n",
    "    \n",
    "    return strikes"
   ]
  },
  {
   "cell_type": "code",
   "execution_count": null,
   "metadata": {},
   "outputs": [],
   "source": [
    "get_strikes(symbol='AAPL', expiry='20180810')"
   ]
  },
  {
   "cell_type": "markdown",
   "metadata": {},
   "source": [
    "## Prepare to Order\n",
    "6. Check out the margin requirements for the trade\n",
    "7. Assemble scrips + strike, sorted and weighted PoP and RoM"
   ]
  },
  {
   "cell_type": "markdown",
   "metadata": {},
   "source": [
    "## Order Management\n",
    "8. Check liquidation value limits\n",
    "9. Place orders with continuous liquidation value limit check"
   ]
  },
  {
   "cell_type": "code",
   "execution_count": null,
   "metadata": {},
   "outputs": [],
   "source": [
    "contract = Option('AAPL', '20180622', exchange='SMART')\n",
    "set(cd.contract.strike for cd in ib.reqContractDetails(contract))"
   ]
  },
  {
   "cell_type": "markdown",
   "metadata": {},
   "source": [
    "### 3) Extract target scrips info"
   ]
  },
  {
   "cell_type": "code",
   "execution_count": null,
   "metadata": {},
   "outputs": [],
   "source": [
    "contract = Option('AAPL', '20180622', exchange='SMART')\n",
    "set(cd.contract.strike for cd in ib.reqContractDetails(contract))``"
   ]
  },
  {
   "cell_type": "code",
   "execution_count": null,
   "metadata": {},
   "outputs": [],
   "source": [
    "exch = 'SMART'\n",
    "curr = 'USD'\n",
    "scrip = 'TSLA'\n",
    "stock = Stock(symbol=scrip, currency=curr, exchange=exch)\n",
    "vol = ib.reqHistoricalData(contract=stock, endDateTime='', durationStr='33 D', \n",
    "                                barSizeSetting='1 DAY', whatToShow='OPTION_IMPLIED_VOLATILITY', \n",
    "                                useRTH=False)"
   ]
  },
  {
   "cell_type": "code",
   "execution_count": null,
   "metadata": {},
   "outputs": [],
   "source": [
    "np.mean([v.close for v in vol])"
   ]
  },
  {
   "cell_type": "code",
   "execution_count": null,
   "metadata": {},
   "outputs": [],
   "source": [
    "import numpy as np\n",
    "import math\n",
    "bars = ib.reqHistoricalData(contract=stock, endDateTime='', durationStr='33 D', \n",
    "                                barSizeSetting='1 DAY', whatToShow='Trades', \n",
    "                                useRTH=False)\n",
    "daily_sd = np.std([b.close for b in bars], ddof=1)\n",
    "daily_sd"
   ]
  },
  {
   "cell_type": "markdown",
   "metadata": {},
   "source": [
    "3) Get StdDev for the expiries"
   ]
  },
  {
   "cell_type": "code",
   "execution_count": null,
   "metadata": {},
   "outputs": [],
   "source": [
    "df2 = df1.head()\n",
    "df2\n",
    "\n",
    "def get_stdev(scrip, DTE):\n",
    "    '''\n",
    "    Gets the standard deviation of the stock.\n",
    "    Min DTE is 45 days\n",
    "    \n",
    "    Args: scrip = name of scrip (string)\n",
    "           DTE = Days to Expiry (int)\n",
    "           \n",
    "    Returns: Std Dev of scrip (double?) '''\n",
    "    \n",
    "    exch = 'SMART'\n",
    "    curr = 'USD'\n",
    "    sd_days = str(DTE)+' D'\n",
    "    \n",
    "    stock = Stock(scrip, exch, curr)\n",
    "    bars = ib.reqHistoricalData(stock, '', sd_days, '1 day', 'Trades', True )\n",
    "    \n",
    "    return np.std([b.close for b in bars], ddof=1)"
   ]
  },
  {
   "cell_type": "raw",
   "metadata": {},
   "source": [
    "df1[['Ticker', 'DTE']].apply(lambda x: get_stdev(*x), axis=1)"
   ]
  },
  {
   "cell_type": "code",
   "execution_count": null,
   "metadata": {},
   "outputs": [],
   "source": [
    "# Put the parameters\n",
    "scrip = 'AAPL'\n",
    "exch = 'SMART'\n",
    "curr = 'USD'\n",
    "\n",
    "# Qualify the contract\n",
    "contract = Stock(scrip, exch, curr)\n",
    "ib.qualifyContracts (contract)\n",
    "\n",
    "cds = ib.reqContractDetails(contract)\n",
    "cds"
   ]
  },
  {
   "cell_type": "code",
   "execution_count": null,
   "metadata": {},
   "outputs": [],
   "source": [
    "cds = ib.reqContractDetails(Option('AAPL', '20180706', exchange='SMART', strike=152.5, right='P'))\n",
    "options = [cd.contract for cd in cds]\n",
    "tickers = [t for i in range(0, len(options), 100) for t in ib.reqTickers(*options[i:i + 100])]\n",
    "tickers"
   ]
  },
  {
   "cell_type": "code",
   "execution_count": null,
   "metadata": {},
   "outputs": [],
   "source": [
    "ib.reqContractDetails(Option('AAPL', '20180706', exchange='SMART', strike=152.5, right='P'))"
   ]
  },
  {
   "cell_type": "code",
   "execution_count": null,
   "metadata": {},
   "outputs": [],
   "source": [
    "symbol = df2.iloc[0].Ticker\n",
    "exp_date = df2.iloc[0].Expiry"
   ]
  },
  {
   "cell_type": "code",
   "execution_count": null,
   "metadata": {},
   "outputs": [],
   "source": [
    "# contract = Option[symbol, exp_date, 240, 'C', 'SMART']\n",
    "spx = Index('SPX', 'CBOE')\n",
    "ib.qualifyContracts(spx)"
   ]
  },
  {
   "cell_type": "code",
   "execution_count": null,
   "metadata": {},
   "outputs": [],
   "source": [
    "[ticker] = ib.reqTickers(spx)\n",
    "ticker"
   ]
  },
  {
   "cell_type": "code",
   "execution_count": null,
   "metadata": {},
   "outputs": [],
   "source": [
    "spxValue= ticker.marketPrice\n",
    "spxValue"
   ]
  },
  {
   "cell_type": "code",
   "execution_count": null,
   "metadata": {},
   "outputs": [],
   "source": [
    "import ib_insync\n",
    "print(ib_insync.__all__)"
   ]
  },
  {
   "cell_type": "code",
   "execution_count": null,
   "metadata": {},
   "outputs": [],
   "source": [
    "ib.isConnected() "
   ]
  },
  {
   "cell_type": "code",
   "execution_count": null,
   "metadata": {},
   "outputs": [],
   "source": []
  },
  {
   "cell_type": "code",
   "execution_count": null,
   "metadata": {},
   "outputs": [],
   "source": [
    "# Disconnect\n",
    "ib.disconnect()"
   ]
  },
  {
   "cell_type": "code",
   "execution_count": null,
   "metadata": {},
   "outputs": [],
   "source": [
    "contract = Stock('BULLSHIT', exchange=exchange, currency=currency, primaryExchange=primaryExchange)"
   ]
  },
  {
   "cell_type": "code",
   "execution_count": null,
   "metadata": {},
   "outputs": [],
   "source": [
    "try:\n",
    "    ib.qualifyContracts(contract)\n",
    "except Exception:\n",
    "    pass"
   ]
  },
  {
   "cell_type": "code",
   "execution_count": null,
   "metadata": {},
   "outputs": [],
   "source": []
  }
 ],
 "metadata": {
  "kernelspec": {
   "display_name": "Python 3",
   "language": "python",
   "name": "python3"
  },
  "language_info": {
   "codemirror_mode": {
    "name": "ipython",
    "version": 3
   },
   "file_extension": ".py",
   "mimetype": "text/x-python",
   "name": "python",
   "nbconvert_exporter": "python",
   "pygments_lexer": "ipython3",
   "version": "3.7.1"
  }
 },
 "nbformat": 4,
 "nbformat_minor": 2
}
