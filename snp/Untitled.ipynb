{
 "cells": [
  {
   "cell_type": "code",
   "execution_count": 1,
   "metadata": {},
   "outputs": [],
   "source": [
    "from ib_insync import *\n",
    "util.startLoop()\n",
    "ib = IB().connect('127.0.0.1', 1300, clientId=15)"
   ]
  },
  {
   "cell_type": "code",
   "execution_count": null,
   "metadata": {},
   "outputs": [],
   "source": [
    "import pandas as pd\n",
    "# ... build the snp list\n",
    "\n",
    "sym_chg_dict = {'BRK.B': 'BRK B', 'BRK/B': 'BRK B'} # Remap symbols in line with IBKR\n",
    "\n",
    "snpurl = 'https://en.wikipedia.org/wiki/S%26P_100'\n",
    "df_snp = pd.read_html(snpurl, header=0)[2]\n",
    "\n",
    "df_snp.Symbol = df_snp.Symbol.map(sym_chg_dict).fillna(df_snp.Symbol)\n",
    "df_snp['Type'] = 'Stock'\n",
    "\n",
    "# Download cboe weeklies to a dataframe\n",
    "dls = \"http://www.cboe.com/publish/weelkysmf/weeklysmf.xls\"\n",
    "\n",
    "# read from row no 11, dropna and reset index\n",
    "df_cboe = pd.read_excel(dls, header=12, \n",
    "                        usecols=[0,2,3]).loc[11:, :]\\\n",
    "                        .reset_index(drop=True)\n",
    "\n",
    "# remove column names white-spaces and remap to IBKR\n",
    "df_cboe.columns = df_cboe.columns.str.replace(' ', '')\n",
    "df_cboe.Ticker = df_cboe.Ticker.map(sym_chg_dict).fillna(df_cboe.Ticker)\n",
    "\n",
    "# list the equities\n",
    "equities = [e for e in list(df_snp.Symbol) if e in list(df_cboe.Ticker)]\n",
    "\n",
    "# filter and list the etfs\n",
    "df_etf = df_cboe[df_cboe.ProductType == 'ETF'].reset_index(drop=True)\n",
    "etfs = list(df_etf.Ticker)\n",
    "\n",
    "stocks = sorted(equities+etfs)\n",
    "\n",
    "# list the indexes\n",
    "indexes = sorted('OEX,XEO,XSP,DJX'.split(','))"
   ]
  }
 ],
 "metadata": {
  "kernelspec": {
   "display_name": "Python 3",
   "language": "python",
   "name": "python3"
  },
  "language_info": {
   "codemirror_mode": {
    "name": "ipython",
    "version": 3
   },
   "file_extension": ".py",
   "mimetype": "text/x-python",
   "name": "python",
   "nbconvert_exporter": "python",
   "pygments_lexer": "ipython3",
   "version": "3.7.1"
  }
 },
 "nbformat": 4,
 "nbformat_minor": 2
}
