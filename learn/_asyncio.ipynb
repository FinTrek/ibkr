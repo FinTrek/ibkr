{
 "cells": [
  {
   "cell_type": "markdown",
   "metadata": {},
   "source": [
    "# Reference:\n",
    "1. [Async IO in Python: A Complete Walkthrough](https://realpython.com/async-io-python/) from which the first two simple notes are made\n",
    "2. [Demystifying asyncio](https://www.youtube.com/watch?v=tSLDcRkgTsY) ...a nice step-by-step basic asyncio in Jupyter\n",
    "3. [Good introductory long video](https://youtu.be/M-UcUs7IMIM?t=466) - referred to by Ewald\n",
    "\n",
    "# Intro\n",
    "* Asynchronous IO (async IO): a language agnostic model that has implementations across a host of programming languages\n",
    "* async/await: two new Python keywords that are used to define coroutines\n",
    "* asyncio: the Python package that provides a foundation and API for running and managing coroutines\n",
    "\n",
    "# Concepts\n",
    "* <b>Parallelism</b> consists of performing multipple operations at the same time. <b>Multiprocessing</b> is a means to effect parallelism to spread tasks over CPUs or cores.\n",
    "   * e.g. tightly bound `for` loops\n",
    "* <b>Concurrency</b> is broader than parallelism. It suggest that multiple tasks have the ability to run in an overlapping manner.\n",
    "* <b>Threading</b> is a concurrent execution model where multiple threads thak turns executing tasks.\n",
    "   * threading is better for IO-bound tasks, which is dominated by a lot of wiating on input/output to complete.\n",
    "   \n",
    "# Async IO\n",
    "* Async IO is a single-threaded, single-process design tha uses <b>cooperative multitasking</b>\n",
    "* It gives a feeling of concurrency despite using a single thread in a single process\n",
    "* Coroutines (a central feature of async IO) can be scheduled concurrently, but they are not inherently concurrent.\n",
    "\n",
    "What does it mean to be <b>asynchronous</b>?\n",
    "It has two properties:\n",
    "* Asynchronous routines are able to 'pause' while waiting on their ultimate result and let other routines run in the meantime.\n",
    "* Asynchronous code, through the mechanism above facilitates concurrent execution (feels like concurrency)."
   ]
  },
  {
   "cell_type": "raw",
   "metadata": {},
   "source": [
    "# countasync.py\n",
    "# This code doesn't run in Jupyter, as Jupter is already running an event loop.\n",
    "# Ref:[StackOverflow](https://stackoverflow.com/questions/55409641)\n",
    "\n",
    "import asyncio\n",
    "\n",
    "async def count():\n",
    "    print('One')\n",
    "    await asyncio.sleep(1)\n",
    "    print('Two')\n",
    "\n",
    "async def main():\n",
    "    await asyncio.gather(count(), count(), count())\n",
    "    \n",
    "if __name__ == \"__main__\":\n",
    "    import time\n",
    "    s = time.perf_counter()\n",
    "    asyncio.run(main())\n",
    "    elapsed = time.perf_counter() - s\n",
    "    print(f\"{__file__} executed in {elapsed:0.2f} seconds.\")"
   ]
  },
  {
   "cell_type": "code",
   "execution_count": null,
   "metadata": {},
   "outputs": [],
   "source": [
    "import asyncio\n",
    "\n",
    "async def count():\n",
    "    print(\"One\")\n",
    "    await asyncio.sleep(1)\n",
    "    print(\"Two\")\n",
    "\n",
    "async def main():\n",
    "    await asyncio.gather(count(), count(), count())\n",
    "\n",
    "if __name__ == \"__main__\":\n",
    "    import time\n",
    "    s = time.perf_counter()\n",
    "#     asyncio.run(main())\n",
    "    await main()\n",
    "    elapsed = time.perf_counter() - s\n",
    "    print(f\"executed in {elapsed:0.2f} seconds.\")"
   ]
  },
  {
   "cell_type": "markdown",
   "metadata": {},
   "source": [
    "Contrasting the above code with asyncio, to the one below without asyncio..."
   ]
  },
  {
   "cell_type": "code",
   "execution_count": null,
   "metadata": {},
   "outputs": [],
   "source": [
    "def count():\n",
    "    print(\"One\")\n",
    "    time.sleep(1)\n",
    "    print(\"Two\")\n",
    "    \n",
    "def main():\n",
    "    (count(), count(), count())\n",
    "    \n",
    "if __name__ == \"__main__\":\n",
    "    import time\n",
    "    s = time.perf_counter()\n",
    "    main()\n",
    "    elapsed = time.perf_counter() - s\n",
    "    print(f\"executed in {elapsed:0.2f} seconds.\")    "
   ]
  },
  {
   "cell_type": "markdown",
   "metadata": {},
   "source": [
    "From ... [Demystifying asyncio](https://www.youtube.com/watch?v=tSLDcRkgTsY) ...a nice step-by-step basic asyncio in Jupyter"
   ]
  },
  {
   "cell_type": "code",
   "execution_count": 1,
   "metadata": {},
   "outputs": [
    {
     "name": "stdout",
     "output_type": "stream",
     "text": [
      "Highest prime below 10000\n",
      "Highest prime below 100000\n",
      "Highest prime below 1000\n",
      "== Highest prime below 1000 is 997\n",
      "== Highest prime below 100000 is 99991\n",
      "== Highest prime below 10000 is 9973\n",
      "Took 387.96 ms\n"
     ]
    }
   ],
   "source": [
    "import time\n",
    "import asyncio\n",
    "\n",
    "def is_prime(x):\n",
    "    \n",
    "    return not any(x//i == x/i for i in range(x-1, 1, -1))\n",
    "\n",
    "async def highest_prime_below(x):\n",
    "    print('Highest prime below %d' % x)\n",
    "    for y in range(x-1, 0, -1):\n",
    "        if is_prime(y):\n",
    "            print('== Highest prime below %d is %d' % (x, y))\n",
    "            return y\n",
    "        await asyncio.sleep(0.01)\n",
    "#         time.sleep(0.01)\n",
    "    return None\n",
    "\n",
    "async def main():\n",
    "    t0 = time.time()\n",
    "    await asyncio.wait([highest_prime_below(100000),\n",
    "            highest_prime_below(10000),\n",
    "            highest_prime_below(1000)])\n",
    "    t1 = time.time()\n",
    "    print(f'Took {1000*(t1-t0):0.2f} ms')\n",
    "loop = asyncio.get_event_loop() \n",
    "loop.run_until_complete(main())"
   ]
  },
  {
   "cell_type": "code",
   "execution_count": null,
   "metadata": {},
   "outputs": [],
   "source": []
  }
 ],
 "metadata": {
  "kernelspec": {
   "display_name": "Python 3",
   "language": "python",
   "name": "python3"
  },
  "language_info": {
   "codemirror_mode": {
    "name": "ipython",
    "version": 3
   },
   "file_extension": ".py",
   "mimetype": "text/x-python",
   "name": "python",
   "nbconvert_exporter": "python",
   "pygments_lexer": "ipython3",
   "version": "3.7.1"
  }
 },
 "nbformat": 4,
 "nbformat_minor": 2
}
