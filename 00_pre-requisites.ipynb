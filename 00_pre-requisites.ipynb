{
 "cells": [
  {
   "cell_type": "markdown",
   "metadata": {},
   "source": [
    "# Pre-requisites\n",
    "This document outlines how to set-up environment \n",
    " - for [python](https://www.python.org/downloads/)\n",
    " - using [Jupyter Notebook](http://jupyter.org/install) as IDE\n",
    " - to run [IBKR TWS API]( https://interactivebrokers.github.io/) in C:\\ root for Windows\n",
    " - on [TWS](https://www.interactivebrokers.com.hk/en/index.php?f=16042) or [IB Gateway](https://www.interactivebrokers.com.hk/en/index.php?f=16457)\n",
    " - with [IB_insync](https://rawgit.com/erdewit/ib_insync/master/docs/html/readme.html#) library\n",
    " - backed up into [git](https://git-scm.com/downloads)\n",
    " \n",
    " **Note:** The instructions are for Windows 10. The same process can be used for other OS - such as Ubuntu and MacOS.\n",
    " \n",
    "## Notes to ready the software\n",
    "* This section is borrowed from [ib_insync](https://rawgit.com/erdewit/ib_insync/master/docs/html/readme.html)\n",
    "  1. Install [python](https://www.python.org/downloads/) latest release (3.7.x at the time of this writing)\n",
    "  \n",
    "  \n",
    "  2. Install ib_insyc with the command: \n",
    "  > *pip3 install -U ib_insync*\n",
    "  \n",
    "  \n",
    "  3. Install [Interactive Brokers Python API](http://interactivebrokers.github.io/) - latest version\n",
    "     * IBKR's TWS API should be in the root folder. This needs to be shared between Python and Jupyter.\n",
    "    \n",
    "    \n",
    "  4. Install jupyter+numpy+pandas with the command:\n",
    "  > *pip3 install -U jupyter numpy pandas*\n",
    "      \n",
    "      \n",
    "  5. To get Jupyter recognize TWS API, go to the *C:\\TWS API\\source\\pythonclient* folder and run *python setup.py install*\n",
    "    \n",
    "    \n",
    "  6. Set the API for TWS / IB Gateway to the appropriate _Socket Port_\n",
    "    * For our example we will use IB Gateway's paper trading account with a Socket Port of 4002\n",
    "    \n",
    "  \n",
    "  7. Make a project folder and set up [Git](http://rogerdudler.github.io/git-guide/)\n",
    "  \n",
    "  \n",
    "## Check the setup\n",
    "Run the following:\n",
    "### Importing"
   ]
  },
  {
   "cell_type": "code",
   "execution_count": null,
   "metadata": {},
   "outputs": [],
   "source": [
    "import os\n",
    "os.getcwd() "
   ]
  },
  {
   "cell_type": "code",
   "execution_count": null,
   "metadata": {},
   "outputs": [],
   "source": [
    "from ib_insync import *\n",
    "util.startLoop() # Works only in notebooks, not in regular Python programs"
   ]
  },
  {
   "cell_type": "markdown",
   "metadata": {},
   "source": [
    "### Connecting"
   ]
  },
  {
   "cell_type": "code",
   "execution_count": null,
   "metadata": {},
   "outputs": [],
   "source": [
    "ib=IB() # Instance of IB main class\n",
    "ib.connect('127.0.0.1', 4004, clientId=1)    # Run this only on Paper Trades"
   ]
  },
  {
   "cell_type": "markdown",
   "metadata": {},
   "source": [
    "### Test the connection"
   ]
  },
  {
   "cell_type": "code",
   "execution_count": null,
   "metadata": {},
   "outputs": [],
   "source": [
    "import ib_insync\n",
    "print(ib_insync.__all__)"
   ]
  },
  {
   "cell_type": "code",
   "execution_count": null,
   "metadata": {},
   "outputs": [],
   "source": [
    "[v for v in ib.accountValues() if v.tag == 'NetLiquidationByCurrency' and v.currency == 'BASE']\n",
    "\n",
    "# Output would be something like:\n",
    "#[AccountValue(account='DUxxxxxx', tag='NetLiquidationByCurrency', value='1009909.26', currency='BASE', modelCode='')]"
   ]
  },
  {
   "cell_type": "code",
   "execution_count": null,
   "metadata": {},
   "outputs": [],
   "source": [
    "# %%time\n",
    "\n",
    "contract = Stock('TSLA', 'SMART', 'USD')\n",
    "cds = ib.reqContractDetails(contract)"
   ]
  },
  {
   "cell_type": "code",
   "execution_count": null,
   "metadata": {},
   "outputs": [],
   "source": [
    "cds"
   ]
  },
  {
   "cell_type": "markdown",
   "metadata": {},
   "source": [
    "### Disconnect\n",
    "To disconnect the session"
   ]
  },
  {
   "cell_type": "code",
   "execution_count": null,
   "metadata": {},
   "outputs": [],
   "source": [
    "ib.disconnect()"
   ]
  }
 ],
 "metadata": {
  "kernelspec": {
   "display_name": "Python 3",
   "language": "python",
   "name": "python3"
  },
  "language_info": {
   "codemirror_mode": {
    "name": "ipython",
    "version": 3
   },
   "file_extension": ".py",
   "mimetype": "text/x-python",
   "name": "python",
   "nbconvert_exporter": "python",
   "pygments_lexer": "ipython3",
   "version": "3.7.1"
  }
 },
 "nbformat": 4,
 "nbformat_minor": 2
}
