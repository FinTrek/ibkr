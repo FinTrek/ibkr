{
 "cells": [
  {
   "cell_type": "code",
   "execution_count": null,
   "metadata": {},
   "outputs": [],
   "source": [
    "# Program to get connected to appropriate IB instance\n",
    "from ib_insync import *\n",
    "util.startLoop()"
   ]
  },
  {
   "cell_type": "code",
   "execution_count": null,
   "metadata": {},
   "outputs": [],
   "source": [
    "host = '127.0.0.1'\n",
    "port = 1\n",
    "dict_id = {'ibnse.live': 3000, 'ibnse.paper': 3001,\n",
    "           'ibsnp.live': 1300, 'ibsnp.paper': 1301}"
   ]
  },
  {
   "cell_type": "code",
   "execution_count": 1,
   "metadata": {},
   "outputs": [],
   "source": [
    "class Connection:\n",
    "    \n",
    "    def __init__(self, name):\n",
    "        self.name = name"
   ]
  },
  {
   "cell_type": "code",
   "execution_count": null,
   "metadata": {},
   "outputs": [],
   "source": [
    "    \n",
    "    # class attribute\n",
    "    market = 'nse'\n",
    "    trade = 'live'\n",
    "    \n",
    "    # instance attribute\n",
    "    def __init__(self, cid, host, port=1):\n",
    "        self.cid = cid\n",
    "        self.host = '127.0.0.1'\n",
    "        self.port = 1\n",
    "        \n",
    "# instantiate the Connection class\n",
    "cx = Connection()\n",
    "        "
   ]
  },
  {
   "cell_type": "code",
   "execution_count": null,
   "metadata": {},
   "outputs": [],
   "source": [
    "connect = Cxn()"
   ]
  },
  {
   "cell_type": "code",
   "execution_count": null,
   "metadata": {},
   "outputs": [],
   "source": [
    "class Human:\n",
    " \n",
    "  def __init__(self):\n",
    "    self.name = 'Guido'\n",
    "    self.head = self.Head()\n",
    "    self.brain = self.Brain()\n",
    " \n",
    "  class Head:\n",
    "    def talk(self):\n",
    "      return 'talking...'\n",
    " \n",
    "  class Brain:\n",
    "    def think(self):\n",
    "      return 'thinking...'\n",
    " \n",
    "guido = Human()\n",
    "print (guido.name)\n",
    "print (guido.head.talk())\n",
    "print (guido.brain.think())"
   ]
  },
  {
   "cell_type": "code",
   "execution_count": null,
   "metadata": {},
   "outputs": [],
   "source": [
    "Connect.ibnse.live"
   ]
  },
  {
   "cell_type": "code",
   "execution_count": null,
   "metadata": {},
   "outputs": [],
   "source": [
    "class Cxn(object):\n",
    "    "
   ]
  },
  {
   "cell_type": "code",
   "execution_count": null,
   "metadata": {},
   "outputs": [],
   "source": []
  },
  {
   "cell_type": "code",
   "execution_count": null,
   "metadata": {},
   "outputs": [],
   "source": []
  },
  {
   "cell_type": "code",
   "execution_count": null,
   "metadata": {},
   "outputs": [],
   "source": [
    "ib = IB()\n",
    "\n",
    "\n",
    "\n",
    "ib_snp_paper = ib.connect('127.0.0.1', 1301, 1)\n",
    "ib_snp_paper = ib.connect('127.0.0.1', 1301, 1)\n",
    "\n",
    "with snp_paper:\n",
    "    print(ib.qualifyContracts(Contract(conId=270639)))"
   ]
  },
  {
   "cell_type": "code",
   "execution_count": null,
   "metadata": {},
   "outputs": [],
   "source": [
    "ib.isConnected()"
   ]
  },
  {
   "cell_type": "code",
   "execution_count": null,
   "metadata": {},
   "outputs": [],
   "source": [
    "class Connect:\n",
    "    '''Defines connection type\n",
    "    Attr: \n",
    "        market: <nse> <snp> as string\n",
    "        trade: <live> <paper> as string'''\n",
    "    \n",
    "    host = '127.0.0.1'\n",
    "    \n",
    "    def __init__(self, market, trade):\n",
    "        self.market = market\n",
    "        self.trade = trade\n",
    "        \n",
    "    def get_cstring(self, market, trade='paper'):\n",
    "        ''' gets the connection string\n",
    "        Args:\n",
    "           (market): <'nse'> | <'snp'> as string\n",
    "           (trade): <'paper'> | <'live'> as string\n",
    "        Returns:\n",
    "           ib.connect(host=host, clientId = clientId, port=port)\n",
    "           '''\n",
    "        if upper(market) == 'NSE':\n",
    "        \n",
    "        "
   ]
  }
 ],
 "metadata": {
  "kernelspec": {
   "display_name": "Python 3",
   "language": "python",
   "name": "python3"
  },
  "language_info": {
   "codemirror_mode": {
    "name": "ipython",
    "version": 3
   },
   "file_extension": ".py",
   "mimetype": "text/x-python",
   "name": "python",
   "nbconvert_exporter": "python",
   "pygments_lexer": "ipython3",
   "version": "3.7.1"
  }
 },
 "nbformat": 4,
 "nbformat_minor": 2
}
