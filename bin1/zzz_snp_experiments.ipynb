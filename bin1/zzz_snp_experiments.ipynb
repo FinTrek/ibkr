{
 "cells": [
  {
   "cell_type": "code",
   "execution_count": 1,
   "metadata": {},
   "outputs": [],
   "source": [
    "def get_connected(market, trade_type):\n",
    "    ''' get connected to ibkr\n",
    "    Args: \n",
    "       (market) as string <'nse'> | <'snp'>\n",
    "       (trade_type) as string <'live'> | <'paper'>\n",
    "    Returns:\n",
    "        (ib) object if successful\n",
    "    '''\n",
    "    \n",
    "    ip = (market.upper(), trade_type.upper())\n",
    "    \n",
    "    #host dictionary\n",
    "    hostdict = {('NSE', 'LIVE'): 3000,\n",
    "                ('NSE', 'PAPER'): 3001,\n",
    "                ('SNP', 'LIVE'): 1300,\n",
    "                ('SNP', 'PAPER'): 1301,}\n",
    "    \n",
    "    host = hostdict[ip]\n",
    "    \n",
    "    cid = 1 # initialize clientId\n",
    "    max_cid = 5 # maximum clientId allowed. max possible is 32\n",
    "\n",
    "    for i in range(cid, max_cid):\n",
    "        try:\n",
    "            ib = IB().connect('127.0.0.1', host, clientId=i)\n",
    "            \n",
    "        except Exception as e:\n",
    "            print(e) # print the error\n",
    "            continue # go to next\n",
    "            \n",
    "        break # successful try\n",
    "        \n",
    "    return ib"
   ]
  },
  {
   "cell_type": "code",
   "execution_count": 2,
   "metadata": {},
   "outputs": [],
   "source": [
    "from ib_insync import *\n",
    "util.startLoop()\n",
    "ib = get_connected('snp', 'live')"
   ]
  },
  {
   "cell_type": "code",
   "execution_count": 3,
   "metadata": {},
   "outputs": [],
   "source": [
    "from itertools import repeat\n",
    "def get_margins(ib, contracts, *lotsize):\n",
    "    '''Margin dictionary. 1 min for 100 contracts.\n",
    "    Args:\n",
    "        (ib) as object\n",
    "        (contracts) as list of underlying contract\n",
    "        (*lotsize) as <int>|<list>\n",
    "    Returns:\n",
    "        {contract (obj): underlying_margin(float)} as dictionary'''\n",
    "    \n",
    "    if type(contracts) is pd.Series:\n",
    "        contracts = list(contracts)\n",
    "    else:\n",
    "        contracts = contracts\n",
    "\n",
    "    if type(lotsize[0]) is pd.Series:\n",
    "        positions = list(lotsize[0])\n",
    "    else:\n",
    "        positions = repeat(lotsize[0], len(contracts)) # convert *arg tuple to int\n",
    "    \n",
    "    orders = [Order(action='SELL', orderType='MKT', totalQuantity=abs(p), whatIf=True)\n",
    "              if p < 0 else\n",
    "              Order(action='BUY', orderType='MKT', totalQuantity=abs(p), whatIf=True)\n",
    "              for p in positions]\n",
    "\n",
    "    co = [c for c in zip(contracts, orders)]\n",
    "\n",
    "    dict_margins = {c: float(ib.whatIfOrder(c, o).initMarginChange) for c, o in co}\n",
    "    \n",
    "    return dict_margins"
   ]
  },
  {
   "cell_type": "code",
   "execution_count": 4,
   "metadata": {},
   "outputs": [],
   "source": [
    "import pandas as pd\n",
    "def get_underlyings(ib):\n",
    "    '''Returns: list of underlying contracts\n",
    "    Usage: \n",
    "       with get_connected('snp', 'live') as ib: und_contracts = get_underlyings(ib)'''\n",
    "\n",
    "    # exclusion list\n",
    "    excl = ['VXX','P', 'TSRO']\n",
    "\n",
    "    # Download cboe weeklies to a dataframe\n",
    "    dls = \"http://www.cboe.com/publish/weelkysmf/weeklysmf.xls\"\n",
    "\n",
    "#     snp500 = list(pd.read_html('https://en.wikipedia.org/wiki/List_of_S%26P_500_companies')[0][1:].loc[:, 1])\n",
    "\n",
    "    snp100 = pd.read_html('https://en.wikipedia.org/wiki/S%26P_100')[2][1:].loc[:, 0]\n",
    "    snp100 = [s.replace('.', ' ') if '.' in s else s  for s in snp100] # without dot in symbol\n",
    "    # read from row no 11, dropna and reset index\n",
    "    df_cboe = pd.read_excel(dls, header=12, \n",
    "                            usecols=[0,2,3]).loc[11:, :]\\\n",
    "                            .dropna(axis=0)\\\n",
    "                            .reset_index(drop=True)\n",
    "\n",
    "    # remove column names white-spaces and remap to IBKR\n",
    "    df_cboe.columns = df_cboe.columns.str.replace(' ', '')\n",
    "\n",
    "    # remove '/' for IBKR\n",
    "    df_cboe.Ticker = df_cboe.Ticker.str.replace('/', ' ', regex=False)\n",
    "\n",
    "    # make symbols\n",
    "    symbols = {s for s in df_cboe.Ticker if s not in excl if s in snp100}\n",
    "    stocks = [Stock(symbol=s, exchange='SMART', currency='USD') for s in symbols]\n",
    "\n",
    "    blk = 50 # no of stocks in a block\n",
    "    stkblks = [stocks[i: i+blk] for i in range(0, len(stocks), blk)] # blocks of stocks\n",
    "\n",
    "    # qualify the contracts\n",
    "    contracts = [ib.qualifyContracts(*s) for s in stkblks]\n",
    "\n",
    "    # return flattened contract list\n",
    "    return [contract for subl in contracts for contract in subl] "
   ]
  },
  {
   "cell_type": "code",
   "execution_count": 5,
   "metadata": {},
   "outputs": [],
   "source": [
    "from math import sqrt\n",
    "\n",
    "from os import listdir, unlink, path\n",
    "from datetime import datetime, timedelta\n",
    "\n",
    "tradingdays = 252\n",
    "\n",
    "hrs = 24 # setting time to check freshness of ohlc\n",
    "\n",
    "def get_ohlc(ib, contracts, fspath):\n",
    "    '''Gets the ohlc\n",
    "    Args: \n",
    "       (ib) as ib object\n",
    "       (contracts) as list of qualified contracts\n",
    "       (fspath) as string containing zdata path\n",
    "    Returns:\n",
    "       None. But pickles ohlc'''\n",
    "    \n",
    "    fs = [f for f in listdir(fspath) if (f[-8:] == 'ohlc.pkl')] # list of opt pickle files\n",
    "\n",
    "    floortime = (datetime.now() - timedelta(hours = hrs)).timestamp()\n",
    "\n",
    "    if fs:\n",
    "        lasttime = min([v for k, v in {f: path.getmtime(fspath + f) for f in fs}.items()])\n",
    "\n",
    "    else: # if the folder is empty\n",
    "        lasttime = (datetime.now() - timedelta(hours = hrs+1)).timestamp() # make last time older than 24 hours\n",
    "\n",
    "    # generate OHLC pickles if data is older than 24 hours or no data\n",
    "    if lasttime < floortime:\n",
    "        \n",
    "        for contract in contracts:\n",
    "    \n",
    "            # Extract the history\n",
    "            hist = ib.reqHistoricalData(contract=contract, endDateTime='', \n",
    "                                            durationStr='365 D', barSizeSetting='1 day',  \n",
    "                                                        whatToShow='Trades', useRTH=True)\n",
    "            df = util.df(hist)\n",
    "            df.insert(0, column='symbol', value=contract.symbol)\n",
    "\n",
    "            df_ohlc = df.set_index('date').sort_index(ascending = False)\n",
    "\n",
    "            # get cumulative standard deviation\n",
    "            df_stdev = pd.DataFrame(df_ohlc['close'].expanding(1).std(ddof=0))\n",
    "            df_stdev.columns = ['stdev']\n",
    "\n",
    "            # get cumulative volatility\n",
    "            df_vol = pd.DataFrame(df_ohlc['close'].pct_change().expanding(1).std(ddof=0)*sqrt(tradingdays))\n",
    "            df_vol.columns = ['volatility']\n",
    "\n",
    "            df_ohlc1 = df_ohlc.join(df_vol)\n",
    "\n",
    "            df_ohlc2 = df_ohlc1.join(df_stdev)\n",
    "\n",
    "            #pickle the ohlc\n",
    "            df_ohlc2.to_pickle(fspath+contract.symbol+'_ohlc.pkl')\n",
    "    \n",
    "    return None"
   ]
  },
  {
   "cell_type": "code",
   "execution_count": 8,
   "metadata": {},
   "outputs": [],
   "source": [
    "from math import sqrt\n",
    "\n",
    "from os import listdir, unlink, path\n",
    "from datetime import datetime, timedelta\n",
    "\n",
    "tradingdays = 252\n",
    "\n",
    "hrs = 24 # setting time to check freshness of ohlc\n",
    "\n",
    "async def ohlcAsync(ib, contracts, fspath):\n",
    "    '''Gets the ohlc\n",
    "    Args: \n",
    "       (ib) as ib object\n",
    "       (contracts) as list of qualified contracts\n",
    "       (fspath) as string containing zdata path\n",
    "    Returns:\n",
    "       None. But pickles ohlc'''\n",
    "    \n",
    "    fs = [f for f in listdir(fspath) if (f[-8:] == 'ohlc.pkl')] # list of opt pickle files\n",
    "\n",
    "    floortime = (datetime.now() - timedelta(hours = hrs)).timestamp()\n",
    "\n",
    "    if fs:\n",
    "        lasttime = min([v for k, v in {f: path.getmtime(fspath + f) for f in fs}.items()])\n",
    "\n",
    "    else: # if the folder is empty\n",
    "        lasttime = (datetime.now() - timedelta(hours = hrs+1)).timestamp() # make last time older than 24 hours\n",
    "\n",
    "    # generate OHLC pickles if data is older than 24 hours or no data\n",
    "    if lasttime < floortime:\n",
    "        \n",
    "        for contract in contracts:\n",
    "    \n",
    "            # Extract the history\n",
    "            hist = ib.reqHistoricalData(contract=contract, endDateTime='', \n",
    "                                            durationStr='365 D', barSizeSetting='1 day',  \n",
    "                                                        whatToShow='Trades', useRTH=True)\n",
    "            df = util.df(hist)\n",
    "            df.insert(0, column='symbol', value=contract.symbol)\n",
    "\n",
    "            df_ohlc = df.set_index('date').sort_index(ascending = False)\n",
    "\n",
    "            # get cumulative standard deviation\n",
    "            df_stdev = pd.DataFrame(df_ohlc['close'].expanding(1).std(ddof=0))\n",
    "            df_stdev.columns = ['stdev']\n",
    "\n",
    "            # get cumulative volatility\n",
    "            df_vol = pd.DataFrame(df_ohlc['close'].pct_change().expanding(1).std(ddof=0)*sqrt(tradingdays))\n",
    "            df_vol.columns = ['volatility']\n",
    "\n",
    "            df_ohlc1 = df_ohlc.join(df_vol)\n",
    "\n",
    "            df_ohlc2 = df_ohlc1.join(df_stdev)\n",
    "\n",
    "            #pickle the ohlc\n",
    "            df_ohlc2.to_pickle(fspath+contract.symbol+'_ohlc.pkl')\n",
    "    \n",
    "    return None"
   ]
  },
  {
   "cell_type": "code",
   "execution_count": 6,
   "metadata": {},
   "outputs": [
    {
     "name": "stdout",
     "output_type": "stream",
     "text": [
      "Wall time: 51.5 s\n"
     ]
    }
   ],
   "source": [
    "%%time\n",
    "#____________________________________________________________________________________\n",
    "\n",
    "# This section needs to be a script.\n",
    "# It needs to be run once first to get df_p and remaining quantities\n",
    "\n",
    "import numpy as np\n",
    "\n",
    "if not ib.isConnected():\n",
    "    ib = get_connected('snp', 'live')\n",
    "\n",
    "m_maxp = 0.02    # % of max margin allowed on net liquidity per scrip to limit positon risk\n",
    "max_nlvp = 0.8    # max allowable nlv to prevent overall portfolio risk. 0.8 means 80% of NLV.\n",
    "                  # max available funds for option trades = max_nlvp * NLV - initMargin\n",
    "\n",
    "fspath = '../data/snp/' # path for pickles\n",
    "       \n",
    "#...get current positions\n",
    "#________________________\n",
    "\n",
    "#... read the account info\n",
    "ac = ib.accountValues()\n",
    "df_a = util.df(ac)\n",
    "\n",
    "#... set max margin per position\n",
    "net_liq = float(df_a[df_a.tag == 'NetLiquidation'].iloc[0].value) \n",
    "# av_funds = float(df_a[df_a.tag == 'FullAvailableFunds'].iloc[0].value)\n",
    "max_p = net_liq*m_maxp\n",
    "\n",
    "#... read the positions\n",
    "ps = ib.portfolio()\n",
    "df_p = util.df(ps)\n",
    "\n",
    "expiry = [d.lastTradeDateOrContractMonth for d in df_p.contract]\n",
    "strike = [d.strike for d in df_p.contract]\n",
    "\n",
    "df_p['symbol'] = [s.symbol for s in df_p.contract.values]\n",
    "df_p['expiry'] = expiry\n",
    "df_p['strike'] = strike\n",
    "\n",
    "df_p = df_p.assign(type=[type(x).__name__ for x in df_p.contract])\n",
    "\n",
    "# get the contracts again (as some of them miss markets)\n",
    "port_c = [j for c in [ib.qualifyContracts(Contract(conId=c.conId)) for c in df_p.contract] for j in c]\n",
    "\n",
    "df_p = df_p.assign(contract=port_c)\n",
    "\n",
    "# get the margins\n",
    "dict_port_opt_margins = get_margins(ib, df_p.contract, df_p.position)\n",
    "df_p = df_p.assign(totmargin=df_p.contract.map(dict_port_opt_margins))\n",
    "\n",
    "df_p = df_p.assign(lotsize=[int(k.multiplier) for k in port_c])\n",
    "\n",
    "df_p_margin = pd.DataFrame(df_p.groupby('symbol').sum().totmargin).reset_index()\n",
    "\n",
    "#... get the underlying margins and the blacklist\n",
    "#____________________________________________________\n",
    "\n",
    "undContracts = get_underlyings(ib)\n",
    "lotsize=100\n",
    "undMargins = get_margins(ib, undContracts, 100)\n",
    "undMargins = {k.symbol: v for k, v in undMargins.items()} # margin with symbols instead of contracts\n",
    "undMargins = {k: abs(v) for k, v in undMargins.items()} # positive margins\n",
    "\n",
    "df_p_margin = df_p_margin.assign(margin = df_p_margin.symbol.map(undMargins))\n",
    "df_p_margin = df_p_margin.assign(maxmargin=max_p)\n",
    "df_p_margin = df_p_margin.assign(netqty=((df_p_margin.maxmargin-df_p_margin.totmargin)/df_p_margin.margin).apply(np.floor))\n",
    "df_p_margin = df_p_margin.assign(remqty=np.where(df_p_margin.netqty > 0, df_p_margin.netqty, 0).astype(int))\n",
    "\n",
    "blacklist = list(df_p_margin[df_p_margin.remqty <= 0 ].symbol)\n",
    "\n",
    "#...get the max remaining quantities for each symbol\n",
    "masterContracts = [c for c in undContracts if c.symbol not in blacklist]"
   ]
  },
  {
   "cell_type": "code",
   "execution_count": 9,
   "metadata": {},
   "outputs": [],
   "source": [
    "#****!!! DATA LIMITER*****\n",
    "masterContracts = masterContracts[:5]\n",
    "\n",
    "masterMargin = {m.symbol: undMargins[m.symbol] for m in masterContracts}\n",
    "\n",
    "maxqty = {k: int(max_p/m) for k, m in masterMargin.items()}\n",
    "remq = list(df_p_margin[['symbol', 'remqty']].set_index('symbol').to_dict().values())[0]\n",
    "maxremqty = {k: remq.get(k, v) for k, v in maxqty.items()}"
   ]
  },
  {
   "cell_type": "code",
   "execution_count": 10,
   "metadata": {},
   "outputs": [
    {
     "ename": "SyntaxError",
     "evalue": "'await' outside function (<timed exec>, line 4)",
     "output_type": "error",
     "traceback": [
      "Traceback \u001b[1;36m(most recent call last)\u001b[0m:\n",
      "  File \u001b[0;32m\"c:\\users\\kashir\\appdata\\local\\programs\\python\\python37-32\\lib\\site-packages\\IPython\\core\\interactiveshell.py\"\u001b[0m, line \u001b[0;32m3267\u001b[0m, in \u001b[0;35mrun_code\u001b[0m\n    exec(code_obj, self.user_global_ns, self.user_ns)\n",
      "  File \u001b[0;32m\"<ipython-input-10-ad6afc7220b2>\"\u001b[0m, line \u001b[0;32m1\u001b[0m, in \u001b[0;35m<module>\u001b[0m\n    get_ipython().run_cell_magic('time', '', '#____________________________________________________________________________________\\n\\n#...get the ohlcs\\ntask1 = await ohlcAsync(ib=ib, contracts=masterContracts, fspath=fspath)\\n')\n",
      "  File \u001b[0;32m\"c:\\users\\kashir\\appdata\\local\\programs\\python\\python37-32\\lib\\site-packages\\IPython\\core\\interactiveshell.py\"\u001b[0m, line \u001b[0;32m2323\u001b[0m, in \u001b[0;35mrun_cell_magic\u001b[0m\n    result = fn(magic_arg_s, cell)\n",
      "  File \u001b[0;32m\"<decorator-gen-63>\"\u001b[0m, line \u001b[0;32m2\u001b[0m, in \u001b[0;35mtime\u001b[0m\n",
      "  File \u001b[0;32m\"c:\\users\\kashir\\appdata\\local\\programs\\python\\python37-32\\lib\\site-packages\\IPython\\core\\magic.py\"\u001b[0m, line \u001b[0;32m187\u001b[0m, in \u001b[0;35m<lambda>\u001b[0m\n    call = lambda f, *a, **k: f(*a, **k)\n",
      "  File \u001b[0;32m\"c:\\users\\kashir\\appdata\\local\\programs\\python\\python37-32\\lib\\site-packages\\IPython\\core\\magics\\execution.py\"\u001b[0m, line \u001b[0;32m1252\u001b[0m, in \u001b[0;35mtime\u001b[0m\n    code = self.shell.compile(expr_ast, source, mode)\n",
      "\u001b[1;36m  File \u001b[1;32m\"c:\\users\\kashir\\appdata\\local\\programs\\python\\python37-32\\lib\\codeop.py\"\u001b[1;36m, line \u001b[1;32m133\u001b[1;36m, in \u001b[1;35m__call__\u001b[1;36m\u001b[0m\n\u001b[1;33m    codeob = compile(source, filename, symbol, self.flags, 1)\u001b[0m\n",
      "\u001b[1;36m  File \u001b[1;32m\"<timed exec>\"\u001b[1;36m, line \u001b[1;32m4\u001b[0m\n\u001b[1;31mSyntaxError\u001b[0m\u001b[1;31m:\u001b[0m 'await' outside function\n"
     ]
    },
    {
     "name": "stderr",
     "output_type": "stream",
     "text": [
      "Error 1100, reqId -1: Connectivity between IB and Trader Workstation has been lost.\n",
      "An existing connection was forcibly closed by the remote host\n"
     ]
    }
   ],
   "source": [
    "%%time\n",
    "#____________________________________________________________________________________\n",
    "\n",
    "#...get the ohlcs\n",
    "\n",
    "\n",
    "task1 = await ohlcAsync(ib=ib, contracts=masterContracts, fspath=fspath)"
   ]
  },
  {
   "cell_type": "code",
   "execution_count": null,
   "metadata": {},
   "outputs": [],
   "source": [
    "#...get the underlying prices\n",
    "tickers = await ib.reqTickersAsync(*masterContracts)"
   ]
  },
  {
   "cell_type": "code",
   "execution_count": null,
   "metadata": {},
   "outputs": [],
   "source": [
    "#...get the chains\n",
    "for c in masterContracts:\n",
    "    chains =  await ib.reqSecDefOptParamsAsync(underlyingSymbol=c.symbol, futFopExchange='', \n",
    "                                  underlyingConId=c.conId, underlyingSecType=c.secType)\n",
    "    util.df(chains).to_pickle(fspath+c.symbol+'_chains.pkl')"
   ]
  },
  {
   "cell_type": "code",
   "execution_count": null,
   "metadata": {},
   "outputs": [],
   "source": [
    "a"
   ]
  },
  {
   "cell_type": "code",
   "execution_count": null,
   "metadata": {},
   "outputs": [],
   "source": []
  },
  {
   "cell_type": "code",
   "execution_count": null,
   "metadata": {},
   "outputs": [],
   "source": [
    "undPrice = {t.contract.symbol: t.marketPrice() for t in tickers}"
   ]
  },
  {
   "cell_type": "code",
   "execution_count": null,
   "metadata": {},
   "outputs": [],
   "source": [
    "# %%time\n",
    "#____________________________________________________________________________________\n"
   ]
  },
  {
   "cell_type": "code",
   "execution_count": null,
   "metadata": {},
   "outputs": [],
   "source": []
  },
  {
   "cell_type": "code",
   "execution_count": null,
   "metadata": {},
   "outputs": [],
   "source": [
    "import pandas as pd\n",
    "def get_rfrate():\n",
    "    '''Returns: risk Free rate for the market as float'''\n",
    "    rate_url = 'https://www.treasury.gov/resource-center/data-chart-center/interest-rates/pages/textview.aspx?data=yield'\n",
    "    df_rate = pd.read_html(rate_url)[1]\n",
    "    df_rate.columns  = df_rate.iloc[0] # Set the first row as header\n",
    "    df_rate = df_rate.drop(0,0) # Drop the first row\n",
    "    rate = float(df_rate[-1:]['1 yr'].values[0])/100 # Get the last row's 1 yr value as float\n",
    "    return rate\n"
   ]
  },
  {
   "cell_type": "code",
   "execution_count": null,
   "metadata": {},
   "outputs": [],
   "source": [
    "def get_dividend_tick(ib, contract):\n",
    "    ''' Gets the dividend ticker\n",
    "    Args:\n",
    "       (ib) as the connected object\n",
    "       (contract) as the qualified contract object with conId\n",
    "    '''\n",
    "    ib.reqMktData(contract, '456', snapshot=False, regulatorySnapshot=False) # request ticker stream\n",
    "    ticker_data = ib.ticker(contract)\n",
    "    \n",
    "    while ticker_data.dividends is None:\n",
    "        ib.sleep(0.1)\n",
    "        \n",
    "    ib.cancelMktData(contract)\n",
    "    \n",
    "    return ticker_data"
   ]
  },
  {
   "cell_type": "code",
   "execution_count": null,
   "metadata": {},
   "outputs": [],
   "source": [
    "# gets days to expiry from now onwards\n",
    "import datetime\n",
    "\n",
    "def get_dte(dt):\n",
    "    '''Gets days to expiry\n",
    "    Arg: (dt) as day in string format 'yyyymmdd'\n",
    "    Returns: days to expiry as int'''\n",
    "    return (util.parseIBDatetime(dt) - \n",
    "            datetime.datetime.now().date()).days"
   ]
  },
  {
   "cell_type": "code",
   "execution_count": null,
   "metadata": {},
   "outputs": [],
   "source": [
    "symbol = snp[5]\n",
    "\n",
    "from itertools import product\n",
    "\n",
    "ib=get_connected('snp', 'live')\n",
    "\n",
    "und_contract = ib.qualifyContracts(Stock(symbol=symbol, exchange='SMART', currency='USD'))[0]\n",
    "\n",
    "es = list([product(c.expirations, c.strikes) \n",
    "        for c in ib.reqSecDefOptParams(underlyingSymbol=und_contract.symbol, \n",
    "                               futFopExchange='', underlyingSecType=und_contract.secType, \n",
    "                               underlyingConId=und_contract.conId)\n",
    "        if c.exchange == 'SMART'\n",
    "        if c.expirations\n",
    "        if c.strikes][0])"
   ]
  },
  {
   "cell_type": "code",
   "execution_count": null,
   "metadata": {},
   "outputs": [],
   "source": [
    "ib.disconnect()"
   ]
  },
  {
   "cell_type": "code",
   "execution_count": null,
   "metadata": {},
   "outputs": [],
   "source": [
    "df_ohlc = get_ohlc(ib, und_contract, fspath)"
   ]
  },
  {
   "cell_type": "code",
   "execution_count": null,
   "metadata": {},
   "outputs": [],
   "source": [
    "df_ohlc[:45].stdev.max()*3"
   ]
  },
  {
   "cell_type": "code",
   "execution_count": null,
   "metadata": {},
   "outputs": [],
   "source": []
  },
  {
   "cell_type": "code",
   "execution_count": null,
   "metadata": {},
   "outputs": [],
   "source": []
  },
  {
   "cell_type": "code",
   "execution_count": null,
   "metadata": {},
   "outputs": [],
   "source": []
  },
  {
   "cell_type": "code",
   "execution_count": null,
   "metadata": {},
   "outputs": [],
   "source": [
    "    und_contracts = ib.qualifyContracts(*(Stock(symbol=s, exchange='SMART', currency='USD') for s in snp))\n",
    "    tickers = ib.reqTickers(*und_contracts)\n",
    "    und_prices = {t.contract.symbol: t.marketPrice() for t in tickers}\n",
    "    div_ticks = [get_dividend_tick(ib, contract) for contract in und_contracts]"
   ]
  },
  {
   "cell_type": "code",
   "execution_count": null,
   "metadata": {},
   "outputs": [],
   "source": [
    "with get_connected('snp', 'live') as ib:\n",
    "    df_ohlc = get_ohlc(ib, und_contracts[20], fspath)"
   ]
  },
  {
   "cell_type": "code",
   "execution_count": null,
   "metadata": {},
   "outputs": [],
   "source": [
    "from itertools import product\n",
    "\n",
    "with get_connected('snp', 'live') as ib:\n",
    "    chains = [ib.reqSecDefOptParams(underlyingSymbol=und_contract.symbol, futFopExchange='', \n",
    "                                  underlyingConId=und_contract.conId, underlyingSecType=und_contract.secType) for und_contract in und_contracts]"
   ]
  },
  {
   "cell_type": "code",
   "execution_count": null,
   "metadata": {},
   "outputs": [],
   "source": [
    "chains"
   ]
  },
  {
   "cell_type": "code",
   "execution_count": null,
   "metadata": {},
   "outputs": [],
   "source": []
  },
  {
   "cell_type": "code",
   "execution_count": null,
   "metadata": {},
   "outputs": [],
   "source": []
  }
 ],
 "metadata": {
  "kernelspec": {
   "display_name": "Python 3",
   "language": "python",
   "name": "python3"
  },
  "language_info": {
   "codemirror_mode": {
    "name": "ipython",
    "version": 3
   },
   "file_extension": ".py",
   "mimetype": "text/x-python",
   "name": "python",
   "nbconvert_exporter": "python",
   "pygments_lexer": "ipython3",
   "version": "3.7.1"
  }
 },
 "nbformat": 4,
 "nbformat_minor": 2
}
