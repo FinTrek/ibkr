{
 "cells": [
  {
   "cell_type": "code",
   "execution_count": 1,
   "metadata": {},
   "outputs": [],
   "source": [
    "from ib_insync import *\n",
    "util.startLoop()\n",
    "ib = IB().connect('127.0.0.1', 3000, clientId=9) # For nse - Kavi\n",
    "\n",
    "import pandas as pd"
   ]
  },
  {
   "cell_type": "code",
   "execution_count": 9,
   "metadata": {},
   "outputs": [
    {
     "name": "stderr",
     "output_type": "stream",
     "text": [
      "Started to throttle requests\n",
      "Stopped to throttle requests\n"
     ]
    },
    {
     "name": "stdout",
     "output_type": "stream",
     "text": [
      "Wall time: 14.1 s\n"
     ]
    }
   ],
   "source": [
    "%%time\n",
    "fspath = '../data/nse/'\n",
    "\n",
    "df1 = pd.read_csv(fspath+'checked_old.csv')\n",
    "\n",
    "existing_symbol = [c.contract.symbol for c in ib.positions()]\n",
    "\n",
    "df2 = df1[~df1.symbol.isin(existing_symbol)].reset_index(drop=True)\n",
    "\n",
    "orders = [Order(action='SELL', totalQuantity=lot, orderType='MKT') for lot in df2.lot]\n",
    "contracts = [eval(c) for c in df2.option]\n",
    "\n",
    "tickers = ib.reqTickers(*contracts)\n",
    "\n",
    "price_dict = {t.contract.conId: t.marketPrice() for t in tickers}"
   ]
  },
  {
   "cell_type": "code",
   "execution_count": 16,
   "metadata": {},
   "outputs": [],
   "source": [
    "df3 = df2.assign(conId=[c.conId for c in contracts])"
   ]
  },
  {
   "cell_type": "code",
   "execution_count": 20,
   "metadata": {},
   "outputs": [],
   "source": [
    "df4 = df3.set_index('conId')"
   ]
  },
  {
   "cell_type": "code",
   "execution_count": 23,
   "metadata": {},
   "outputs": [],
   "source": [
    "df4.price = df4.price.map(price_dict).fillna(df4.price)"
   ]
  },
  {
   "cell_type": "code",
   "execution_count": 28,
   "metadata": {},
   "outputs": [],
   "source": [
    "df = df4.reset_index()"
   ]
  },
  {
   "cell_type": "code",
   "execution_count": 29,
   "metadata": {},
   "outputs": [],
   "source": [
    "df.to_csv(fspath+'check.csv', index=None, header=True)"
   ]
  },
  {
   "cell_type": "code",
   "execution_count": 33,
   "metadata": {},
   "outputs": [
    {
     "name": "stdout",
     "output_type": "stream",
     "text": [
      "124 contracts from 58 scrips, consuming 43,043,455 margin from full available funds of 15,145,559, giving INR 799,003\n"
     ]
    }
   ],
   "source": [
    "max_nlvp = 0.8    # max allowable nlv to prevent overall portfolio risk. 0.8 means 80% of NLV.\n",
    "                  # max available funds for option trades = max_nlvp * NLV - initMargin\n",
    "\n",
    "ac = ib.accountValues()\n",
    "df_a = util.df(ac)\n",
    "\n",
    "#... set max margin per position\n",
    "net_liq = float(df_a[df_a.tag == 'NetLiquidation'].iloc[0].value) \n",
    "av_funds = float(df_a[df_a.tag == 'FullAvailableFunds'].iloc[0].value)\n",
    "\n",
    "df_final = pd.read_csv(fspath+'checked.csv') # picks up the checked and ready-to-go contracts\n",
    "cs = [eval(c) for c in df_final.option]  # convert the \"quoted strings\" from csv back to object\n",
    "orders = [LimitOrder(action='SELL', totalQuantity=lot, lmtPrice=expPrice) for lot, expPrice in zip(df_final.lot, df_final.expPrice)]\n",
    "print('{:d} contracts from {:d} scrips, consuming {:,.0f} margin from full available funds of {:,.0f}, giving INR {:,.0f}'.format(len(cs), \\\n",
    "      len(df_final.symbol.unique()), sum(df_final.margin*df_final.qty), av_funds*max_nlvp, sum(df_final.expPrice*df_final.lot*df_final.qty)))"
   ]
  },
  {
   "cell_type": "code",
   "execution_count": null,
   "metadata": {},
   "outputs": [],
   "source": []
  }
 ],
 "metadata": {
  "kernelspec": {
   "display_name": "Python 3",
   "language": "python",
   "name": "python3"
  },
  "language_info": {
   "codemirror_mode": {
    "name": "ipython",
    "version": 3
   },
   "file_extension": ".py",
   "mimetype": "text/x-python",
   "name": "python",
   "nbconvert_exporter": "python",
   "pygments_lexer": "ipython3",
   "version": "3.7.1"
  }
 },
 "nbformat": 4,
 "nbformat_minor": 2
}
