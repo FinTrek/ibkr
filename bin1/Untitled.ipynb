{
 "cells": [
  {
   "cell_type": "code",
   "execution_count": 11,
   "metadata": {},
   "outputs": [],
   "source": [
    "import asyncio\n",
    "\n",
    "async def bar(i):\n",
    "  print('started', i)\n",
    "  await asyncio.sleep(1)\n",
    "  print('finished', i)\n",
    "\n",
    "async def main():\n",
    "  await asyncio.wait([bar(i) for i in range(10)])\n",
    "\n",
    "loop = asyncio.get_event_loop()\n",
    "# loop.run_until_complete(main())\n",
    "loop.create_task(main())\n",
    "loop.close"
   ]
  },
  {
   "cell_type": "code",
   "execution_count": 13,
   "metadata": {},
   "outputs": [
    {
     "data": {
      "text/plain": [
       "<bound method BaseSelectorEventLoop.close of <_WindowsSelectorEventLoop running=True closed=False debug=False>>"
      ]
     },
     "execution_count": 13,
     "metadata": {},
     "output_type": "execute_result"
    },
    {
     "name": "stdout",
     "output_type": "stream",
     "text": [
      "started 8\n",
      "started 5\n",
      "started 3\n",
      "started 9\n",
      "started 4\n",
      "started 7\n",
      "started 2\n",
      "started 1\n",
      "started 0\n",
      "started 6\n",
      "finished 8\n",
      "finished 3\n",
      "finished 2\n",
      "finished 6\n",
      "finished 0\n",
      "finished 7\n",
      "finished 1\n",
      "finished 4\n",
      "finished 5\n",
      "finished 9\n"
     ]
    }
   ],
   "source": [
    "loop."
   ]
  },
  {
   "cell_type": "code",
   "execution_count": 16,
   "metadata": {},
   "outputs": [
    {
     "data": {
      "text/plain": [
       "<bound method BaseSelectorEventLoop.close of <_WindowsSelectorEventLoop running=True closed=False debug=False>>"
      ]
     },
     "execution_count": 16,
     "metadata": {},
     "output_type": "execute_result"
    },
    {
     "name": "stdout",
     "output_type": "stream",
     "text": [
      "error: 915\n"
     ]
    }
   ],
   "source": [
    "import asyncio\n",
    "import random\n",
    "\n",
    "async def alpha(x):\n",
    "    await asyncio.sleep(0.2)\n",
    "    return x + 1 \n",
    "\n",
    "async def bravo(x):\n",
    "    await asyncio.sleep(0.2)\n",
    "    return random.randint(0, 1000) + x\n",
    "\n",
    "async def charlie(x):\n",
    "    if x % 2 == 0:\n",
    "        return x\n",
    "    raise ValueError(x, 'is odd')\n",
    "\n",
    "async def run():\n",
    "    try:\n",
    "        number = await charlie(await bravo(await alpha(42)))\n",
    "    except ValueError as exc:\n",
    "        print('error:', exc.args[0])\n",
    "    else:\n",
    "        print('success:', number)\n",
    "\n",
    "loop = asyncio.get_event_loop()\n",
    "loop.create_task(run())\n",
    "loop.close"
   ]
  },
  {
   "cell_type": "code",
   "execution_count": 18,
   "metadata": {},
   "outputs": [
    {
     "ename": "RuntimeError",
     "evalue": "Cannot close a running event loop",
     "output_type": "error",
     "traceback": [
      "\u001b[1;31m---------------------------------------------------------------------------\u001b[0m",
      "\u001b[1;31mRuntimeError\u001b[0m                              Traceback (most recent call last)",
      "\u001b[1;32m<ipython-input-18-d934373d7850>\u001b[0m in \u001b[0;36m<module>\u001b[1;34m\u001b[0m\n\u001b[0;32m     17\u001b[0m \u001b[0mloop\u001b[0m \u001b[1;33m=\u001b[0m \u001b[0masyncio\u001b[0m\u001b[1;33m.\u001b[0m\u001b[0mget_event_loop\u001b[0m\u001b[1;33m(\u001b[0m\u001b[1;33m)\u001b[0m\u001b[1;33m\u001b[0m\u001b[1;33m\u001b[0m\u001b[0m\n\u001b[0;32m     18\u001b[0m \u001b[0mloop\u001b[0m\u001b[1;33m.\u001b[0m\u001b[0mcreate_task\u001b[0m\u001b[1;33m(\u001b[0m\u001b[0mmain\u001b[0m\u001b[1;33m(\u001b[0m\u001b[1;33m)\u001b[0m\u001b[1;33m)\u001b[0m\u001b[1;33m\u001b[0m\u001b[1;33m\u001b[0m\u001b[0m\n\u001b[1;32m---> 19\u001b[1;33m \u001b[0mloop\u001b[0m\u001b[1;33m.\u001b[0m\u001b[0mclose\u001b[0m\u001b[1;33m(\u001b[0m\u001b[1;33m)\u001b[0m\u001b[1;33m\u001b[0m\u001b[1;33m\u001b[0m\u001b[0m\n\u001b[0m",
      "\u001b[1;32mc:\\users\\kashir\\appdata\\local\\programs\\python\\python37-32\\lib\\asyncio\\selector_events.py\u001b[0m in \u001b[0;36mclose\u001b[1;34m(self)\u001b[0m\n\u001b[0;32m     92\u001b[0m     \u001b[1;32mdef\u001b[0m \u001b[0mclose\u001b[0m\u001b[1;33m(\u001b[0m\u001b[0mself\u001b[0m\u001b[1;33m)\u001b[0m\u001b[1;33m:\u001b[0m\u001b[1;33m\u001b[0m\u001b[1;33m\u001b[0m\u001b[0m\n\u001b[0;32m     93\u001b[0m         \u001b[1;32mif\u001b[0m \u001b[0mself\u001b[0m\u001b[1;33m.\u001b[0m\u001b[0mis_running\u001b[0m\u001b[1;33m(\u001b[0m\u001b[1;33m)\u001b[0m\u001b[1;33m:\u001b[0m\u001b[1;33m\u001b[0m\u001b[1;33m\u001b[0m\u001b[0m\n\u001b[1;32m---> 94\u001b[1;33m             \u001b[1;32mraise\u001b[0m \u001b[0mRuntimeError\u001b[0m\u001b[1;33m(\u001b[0m\u001b[1;34m\"Cannot close a running event loop\"\u001b[0m\u001b[1;33m)\u001b[0m\u001b[1;33m\u001b[0m\u001b[1;33m\u001b[0m\u001b[0m\n\u001b[0m\u001b[0;32m     95\u001b[0m         \u001b[1;32mif\u001b[0m \u001b[0mself\u001b[0m\u001b[1;33m.\u001b[0m\u001b[0mis_closed\u001b[0m\u001b[1;33m(\u001b[0m\u001b[1;33m)\u001b[0m\u001b[1;33m:\u001b[0m\u001b[1;33m\u001b[0m\u001b[1;33m\u001b[0m\u001b[0m\n\u001b[0;32m     96\u001b[0m             \u001b[1;32mreturn\u001b[0m\u001b[1;33m\u001b[0m\u001b[1;33m\u001b[0m\u001b[0m\n",
      "\u001b[1;31mRuntimeError\u001b[0m: Cannot close a running event loop"
     ]
    },
    {
     "name": "stdout",
     "output_type": "stream",
     "text": [
      "11² + 13² =  290\n"
     ]
    }
   ],
   "source": [
    "import asyncio\n",
    "from aiostream import stream, pipe\n",
    "\n",
    "async def main():\n",
    "    # This stream computes 11² + 13² in 1.5 second\n",
    "    xs = (\n",
    "        stream.count(interval=0.1)      # Count from zero every 0.1 s\n",
    "        | pipe.skip(10)                 # Skip the first 10 numbers\n",
    "        | pipe.take(5)                  # Take the following 5\n",
    "        | pipe.filter(lambda x: x % 2)  # Keep odd numbers\n",
    "        | pipe.map(lambda x: x ** 2)    # Square the results\n",
    "        | pipe.accumulate()             # Add the numbers together\n",
    "    )\n",
    "    print('11² + 13² = ', await xs)\n",
    "\n",
    "\n",
    "loop = asyncio.get_event_loop()\n",
    "loop.create_task(main())\n",
    "loop.close()"
   ]
  },
  {
   "cell_type": "code",
   "execution_count": 26,
   "metadata": {},
   "outputs": [
    {
     "ename": "NameError",
     "evalue": "name 'task1' is not defined",
     "output_type": "error",
     "traceback": [
      "\u001b[1;31m---------------------------------------------------------------------------\u001b[0m",
      "\u001b[1;31mNameError\u001b[0m                                 Traceback (most recent call last)",
      "\u001b[1;32mcell_name\u001b[0m in \u001b[0;36masync-def-wrapper\u001b[1;34m()\u001b[0m\n",
      "\u001b[1;31mNameError\u001b[0m: name 'task1' is not defined"
     ]
    }
   ],
   "source": [
    "async def main():\n",
    "    # run them sequentially (but the loop can do other stuff in the meanwhile)\n",
    "    body1 = await get_body('http://httpbin.org/ip')\n",
    "    print(body1)\n",
    "    body2 = await get_body('http://httpbin.org/user-agent')\n",
    "    print(body2)\n",
    "\n",
    "\n",
    "    # run them in parallel\n",
    "    task1 = get_body('http://httpbin.org/ip')\n",
    "    task2 = get_body('http://httpbin.org/user-agent')\n",
    "    \n",
    "for body in await asyncio.gather(task1, task2):\n",
    "    print(body)"
   ]
  },
  {
   "cell_type": "code",
   "execution_count": 24,
   "metadata": {},
   "outputs": [
    {
     "ename": "NameError",
     "evalue": "name 'get_body' is not defined",
     "output_type": "error",
     "traceback": [
      "\u001b[1;31m---------------------------------------------------------------------------\u001b[0m",
      "\u001b[1;31mNameError\u001b[0m                                 Traceback (most recent call last)",
      "\u001b[1;32m<ipython-input-24-821596c43021>\u001b[0m in \u001b[0;36m<module>\u001b[1;34m\u001b[0m\n\u001b[1;32m----> 1\u001b[1;33m \u001b[0mget_body\u001b[0m\u001b[1;33m\u001b[0m\u001b[1;33m\u001b[0m\u001b[0m\n\u001b[0m",
      "\u001b[1;31mNameError\u001b[0m: name 'get_body' is not defined"
     ]
    }
   ],
   "source": []
  },
  {
   "cell_type": "code",
   "execution_count": null,
   "metadata": {},
   "outputs": [],
   "source": []
  }
 ],
 "metadata": {
  "kernelspec": {
   "display_name": "Python 3",
   "language": "python",
   "name": "python3"
  },
  "language_info": {
   "codemirror_mode": {
    "name": "ipython",
    "version": 3
   },
   "file_extension": ".py",
   "mimetype": "text/x-python",
   "name": "python",
   "nbconvert_exporter": "python",
   "pygments_lexer": "ipython3",
   "version": "3.7.1"
  }
 },
 "nbformat": 4,
 "nbformat_minor": 2
}
