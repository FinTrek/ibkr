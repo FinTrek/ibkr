{
 "cells": [
  {
   "cell_type": "code",
   "execution_count": 1,
   "metadata": {},
   "outputs": [],
   "source": [
    "# x.py\n",
    "from helper import *\n",
    "from nse_func import *\n",
    "\n",
    "import nest_asyncio\n",
    "nest_asyncio.apply()\n",
    "\n",
    "# Do assignments\n",
    "a = assign_var('nse')\n",
    "for v in a:\n",
    "    exec(v)\n",
    "\n",
    "from ib_insync import *\n",
    "util.startLoop()\n",
    "\n",
    "ib =  get_connected('nse', 'live')\n",
    "\n",
    "with open(logpath+'ztest.log', 'w'):\n",
    "    pass # clear the run log\n",
    "\n",
    "util.logToFile(logpath+'ztest.log')"
   ]
  },
  {
   "cell_type": "code",
   "execution_count": null,
   "metadata": {},
   "outputs": [],
   "source": [
    "from IPython.core.display import SVG\n",
    "SVG(filename='../pic/'+'nse_scrape.svg')"
   ]
  },
  {
   "cell_type": "code",
   "execution_count": 3,
   "metadata": {},
   "outputs": [
    {
     "data": {
      "application/vnd.jupyter.widget-view+json": {
       "model_id": "5e91dbfed9594a278a5e6fe4688d4033",
       "version_major": 2,
       "version_minor": 0
      },
      "text/plain": [
       "HBox(children=(IntProgress(value=0, description='Processing', max=462, style=ProgressStyle(description_width='…"
      ]
     },
     "metadata": {},
     "output_type": "display_data"
    },
    {
     "name": "stdout",
     "output_type": "stream",
     "text": [
      "\n",
      "Wall time: 15min 44s\n"
     ]
    }
   ],
   "source": [
    "%%time\n",
    "def get_lots():\n",
    "    '''Get the lots with expiry dates\n",
    "    Arg: None\n",
    "    Returns: lots dataframe with expiry as YYYYMM''' \n",
    "\n",
    "    url = 'https://www.nseindia.com/content/fo/fo_mktlots.csv'\n",
    "    req = requests.get(url)\n",
    "    data = StringIO(req.text)\n",
    "    lots_df = pd.read_csv(data)\n",
    "\n",
    "    lots_df = lots_df[list(lots_df)[1:5]]\n",
    "\n",
    "    # strip whitespace from columns and make it lower case\n",
    "    lots_df.columns = lots_df.columns.str.strip().str.lower() \n",
    "\n",
    "    # strip all string contents of whitespaces\n",
    "    lots_df = lots_df.applymap(lambda x: x.strip() if type(x) is str else x)\n",
    "\n",
    "    # remove 'Symbol' row\n",
    "    lots_df = lots_df[lots_df.symbol != 'Symbol']\n",
    "\n",
    "    # melt the expiries into rows\n",
    "    lots_df = lots_df.melt(id_vars=['symbol'], var_name='expiryM', value_name='lot').dropna()\n",
    "\n",
    "    # remove rows without lots\n",
    "    lots_df = lots_df[~(lots_df.lot == '')]\n",
    "\n",
    "    # convert expiry to period\n",
    "    lots_df = lots_df.assign(expiryM=pd.to_datetime(lots_df.expiryM, format='%b-%y').dt.to_period('M'))\n",
    "\n",
    "    # convert lots to integers\n",
    "    lots_df = lots_df.assign(lot=pd.to_numeric(lots_df.lot, errors='coerce'))\n",
    "    \n",
    "    # convert & to %26\n",
    "    lots_df = lots_df.assign(symbol=lots_df.symbol.str.replace('&', '%26'))\n",
    "\n",
    "    return lots_df.reset_index(drop=True)\n",
    "\n",
    "def get_xu(symbol: str) -> pd.DataFrame():\n",
    "    '''Gets the symbol, expiry, undPrice'''\n",
    "    # get expiries for the symbol\n",
    "    url = 'https://www.nseindia.com/live_market/dynaContent/live_watch/option_chain/optionKeys.jsp?symbol='\n",
    "    xpd = \"//*[@id='date']\" # xpath for date select options\n",
    "    xpu = \"//*[@id='wrapper_btm']/table[1]/tr/td[2]/div/span[1]/b\" # xpath for undPrice\n",
    "    \n",
    "    res = requests.get(url + symbol).text\n",
    "    htree = html.fromstring(res) #html is from lxml \n",
    "    expiries = [opt.text for e in htree.xpath(xpd) for opt in e if 'Select' not in opt.text.strip('')]\n",
    "    undPrice = [float(e.text.split(' ')[1]) for e in htree.xpath(xpu)][0]\n",
    "\n",
    "    # convert above to a DataFrame\n",
    "    df = pd.DataFrame(list(product([symbol], expiries, [str(undPrice)])), \n",
    "                      columns=['symbol', 'expiry', 'undPrice'])\n",
    "\n",
    "    return df.apply(pd.to_numeric, errors = 'ignore')\n",
    "\n",
    "def get_nse_chain(symbol: str, expiry: 'datetime64', undPrice: float, lot: int) -> pd.DataFrame:\n",
    "    '''gets option chain for nse'''\n",
    "    \n",
    "    url = 'https://www.nseindia.com/live_market/dynaContent/live_watch/option_chain/optionKeys.jsp?symbol='\n",
    "    \n",
    "    u = url+symbol+'&date='+expiry\n",
    "\n",
    "    chainhtml = requests.get(u, headers=headers).content\n",
    "    chain = pd.read_html(chainhtml)[1][:-1]  # read the first table and drop the total\n",
    "    chain.columns=chain.columns.droplevel(0) # drop the first row of the header\n",
    "    chain = chain.drop('Chart', 1)           # drop the charts\n",
    "    \n",
    "#     cols = {'OI': 'pOI', 'Chng in OI':'pOI_Chng', 'Volume': 'pVolume', 'IV': 'pIV', 'LTP': 'pLTP', 'Net Chng': 'pNetChng', 'BidQty': 'pBidQty', 'BidPrice': 'pBid', 'AskPrice': 'pAsk', 'AskQty': 'pAskQty',\n",
    "#              'Strike Price': 'strike', 'BidQty': 'cBidQty', 'BidPrice': 'cBid', 'AskPrice': 'cAsk', 'AskQty': 'cAskQty', 'Net Chng': 'cNetChng', 'LTP': 'cLTP', 'IV': 'cIV', 'Volume': 'cVolume', \n",
    "#             'Chng in OI': 'cOI_Chng', 'OI': 'cOI'}\n",
    "\n",
    "    cols = ['pOI', 'pOI_Chng', 'pVolume', 'pIV', 'pLTP', 'pNetChng', 'pBidQty', 'pBid', 'pAsk', 'pAskQty',\n",
    "             'strike', 'cBidQty', 'cBid', 'cAsk', 'cAskQty', 'cNetChng', 'cLTP', 'cIV', 'cVolume', 'cOI_Chng', 'cOI']\n",
    "\n",
    "    # rename the columns\n",
    "#     chain = chain.rename(columns=cols)\n",
    "    chain.columns = cols\n",
    "\n",
    "    chain = chain.iloc[2:] # remove the first two rows\n",
    "\n",
    "    # convert all to numeric\n",
    "    chain = chain.apply(pd.to_numeric, errors = 'coerce')\n",
    "    chain.insert(0, 'symbol', symbol)\n",
    "    chain.insert(1, 'expiry', datetime.datetime.strptime(expiry, '%d%b%Y').date())\n",
    "    chain.insert(2, 'undPrice', undPrice)\n",
    "    chain.insert(3, 'lot', lot)\n",
    "    \n",
    "    return chain\n",
    "\n",
    "# get the symbols and lots\n",
    "df_lots = get_lots()\n",
    "symbols = sorted(list(df_lots.symbol.unique()))\n",
    "\n",
    "# symbols = [s for s in nse_symbols if s in ['NIFTY', 'PNB']] # DATA LIMITER!!!\n",
    "# symbols = nse_symbols[:5] # DATA LIMITER!!!\n",
    "\n",
    "# get the strikes, expiry and undPrices\n",
    "df_sxu = pd.concat([get_xu(s) for s in symbols]).reset_index(drop=True)\n",
    "df_sxu = df_sxu.assign(expiry=pd.to_datetime(df_sxu.expiry))\n",
    "\n",
    "# get the lots\n",
    "df_sxul = df_sxu.assign(expiryM=df_sxu.expiry.dt.to_period('M')).merge(df_lots).drop('expiryM', 1)\n",
    "\n",
    "# convert expiry to nse friendly date\n",
    "df_sxul = df_sxul.assign(expiry=[f\"{dt.day}{calendar.month_abbr[dt.month].upper()}{dt.year}\" for dt in df_sxul.expiry])\n",
    "\n",
    "tqr = tnrange(len(df_sxul), desc='Processing', leave=True)\n",
    "chains = []\n",
    "for symbol, expiry, undPrice, lot in zip(*[df_sxul[col] for col in df_sxul.columns]):\n",
    "    tqr.set_description(f\"Processing [{symbol}]\")\n",
    "    tqr.refresh() # to show immediately the update\n",
    "    chains.append(catch(lambda: get_nse_chain(symbol, expiry, undPrice, lot)))\n",
    "    tqr.update(1)\n",
    "tqr.close()\n",
    "\n",
    "# remove empty elements in list of dfs and concatenate\n",
    "df_chains = pd.concat([x for x in chains if str(x) != 'nan'])\n",
    "\n",
    "# remove nan from prices\n",
    "df_chains = df_chains.dropna(subset=['cBid', 'cAsk', 'cLTP', 'pBid', 'pAsk', 'pLTP']).reset_index(drop=True)\n",
    "\n",
    "# convert symbols - friendly to IBKR\n",
    "df_chains = df_chains.assign(symbol=df_chains.symbol.str.slice(0,9))\n",
    "\n",
    "ntoi = {'M%26M': 'MM', 'M%26MFIN': 'MMFIN', 'L%26TFH': 'LTFH', 'NIFTY': 'NIFTY50', 'CHOLAFIN':'CIFC'}\n",
    "df_chains.symbol = df_chains.symbol.replace(ntoi)\n",
    "\n",
    "df_chains.to_pickle(fspath+'nse_chains.pkl')"
   ]
  },
  {
   "cell_type": "code",
   "execution_count": 85,
   "metadata": {},
   "outputs": [],
   "source": [
    "# do_hist.py\n",
    "def do_hist(ib, undId):\n",
    "    '''Historize ohlc\n",
    "    Args:\n",
    "        (ib) as connection object\n",
    "        (undId) as contractId for underlying symbol in int\n",
    "    Returns:\n",
    "        df_hist as dataframe\n",
    "        pickles the dataframe by symbol name\n",
    "    '''\n",
    "    qc = ib.qualifyContracts(Contract(conId=int(undId)))[0]\n",
    "    hist = ib.reqHistoricalData(contract=qc, endDateTime='', \n",
    "                                        durationStr='365 D', barSizeSetting='1 day',  \n",
    "                                                    whatToShow='Trades', useRTH=True)\n",
    "    df_hist = util.df(hist)\n",
    "    df_hist = df_hist.assign(date=pd.to_datetime(df_hist.date, format='%Y-%m-%d'))\n",
    "    df_hist.insert(loc=0, column='symbol', value=qc.symbol)\n",
    "    df_hist = df_hist.sort_values('date', ascending = False).reset_index(drop=True)\n",
    "    df_hist.to_pickle(fspath+'_'+qc.symbol+'_ohlc.pkl')\n",
    "    return None"
   ]
  },
  {
   "cell_type": "code",
   "execution_count": 66,
   "metadata": {},
   "outputs": [],
   "source": [
    "# set the types for indexes as IND\n",
    "ix_symbols = ['NIFTY50', 'BANKNIFTY', 'NIFTYIT']\n",
    "\n",
    "# build the underlying contracts\n",
    "scrips = list(df_chains.symbol.unique())\n",
    "und_contracts = [Index(symbol=s, exchange=exchange) if s in ix_symbols else Stock(symbol=s, exchange=exchange) for s in scrips]\n",
    "\n",
    "# get the underlying conIds\n",
    "qual_unds = ib.qualifyContracts(*und_contracts)\n",
    "df_chains = df_chains.assign(undId = df_chains.symbol.map({q.symbol: q.conId for q in qual_unds}))"
   ]
  },
  {
   "cell_type": "code",
   "execution_count": 87,
   "metadata": {},
   "outputs": [],
   "source": [
    "tot_chains = list(df_chains.symbol.unique())"
   ]
  },
  {
   "cell_type": "code",
   "execution_count": null,
   "metadata": {},
   "outputs": [],
   "source": []
  },
  {
   "cell_type": "code",
   "execution_count": 82,
   "metadata": {},
   "outputs": [
    {
     "data": {
      "text/plain": [
       "nan"
      ]
     },
     "execution_count": 82,
     "metadata": {},
     "output_type": "execute_result"
    }
   ],
   "source": [
    "catch(lambda: do_hist(ib, df_chains[df_chains.symbol=='LUPIN'].undId.iloc[0]))"
   ]
  },
  {
   "cell_type": "code",
   "execution_count": 74,
   "metadata": {},
   "outputs": [
    {
     "data": {
      "text/plain": [
       "78429379"
      ]
     },
     "execution_count": 74,
     "metadata": {},
     "output_type": "execute_result"
    }
   ],
   "source": []
  },
  {
   "cell_type": "code",
   "execution_count": null,
   "metadata": {},
   "outputs": [],
   "source": []
  }
 ],
 "metadata": {
  "kernelspec": {
   "display_name": "Python 3",
   "language": "python",
   "name": "python3"
  },
  "language_info": {
   "codemirror_mode": {
    "name": "ipython",
    "version": 3
   },
   "file_extension": ".py",
   "mimetype": "text/x-python",
   "name": "python",
   "nbconvert_exporter": "python",
   "pygments_lexer": "ipython3",
   "version": "3.7.1"
  }
 },
 "nbformat": 4,
 "nbformat_minor": 2
}
