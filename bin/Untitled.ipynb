{
 "cells": [
  {
   "cell_type": "code",
   "execution_count": 2,
   "metadata": {},
   "outputs": [],
   "source": [
    "from ib_insync import *\n",
    "util.startLoop()\n",
    "ib = IB().connect('127.0.0.1', 1300, clientId=4)"
   ]
  },
  {
   "cell_type": "code",
   "execution_count": 3,
   "metadata": {},
   "outputs": [],
   "source": [
    "import pandas as pd\n",
    "df = pd.read_pickle('../data/snp/AGN.pkl')"
   ]
  },
  {
   "cell_type": "code",
   "execution_count": 13,
   "metadata": {},
   "outputs": [
    {
     "ename": "NameError",
     "evalue": "name 'Stock' is not defined",
     "output_type": "error",
     "traceback": [
      "\u001b[1;31m---------------------------------------------------------------------------\u001b[0m",
      "\u001b[1;31mNameError\u001b[0m                                 Traceback (most recent call last)",
      "\u001b[1;32m<ipython-input-13-6a2d191d8611>\u001b[0m in \u001b[0;36m<module>\u001b[1;34m\u001b[0m\n\u001b[0;32m      1\u001b[0m \u001b[1;32mfrom\u001b[0m \u001b[0mhelper\u001b[0m \u001b[1;32mimport\u001b[0m \u001b[0mget_snp_remqty\u001b[0m\u001b[1;33m\u001b[0m\u001b[1;33m\u001b[0m\u001b[0m\n\u001b[1;32m----> 2\u001b[1;33m \u001b[0mremqty\u001b[0m \u001b[1;33m=\u001b[0m \u001b[0mget_snp_remqty\u001b[0m\u001b[1;33m(\u001b[0m\u001b[0mib\u001b[0m\u001b[1;33m=\u001b[0m\u001b[0mib\u001b[0m\u001b[1;33m)\u001b[0m\u001b[1;33m\u001b[0m\u001b[1;33m\u001b[0m\u001b[0m\n\u001b[0m",
      "\u001b[1;32m~\\Documents\\IBKR\\bin\\helper.py\u001b[0m in \u001b[0;36mget_snp_remqty\u001b[1;34m(ib)\u001b[0m\n\u001b[0;32m    275\u001b[0m \u001b[1;33m\u001b[0m\u001b[0m\n\u001b[0;32m    276\u001b[0m     \u001b[1;31m# get the list of underlying contracts\u001b[0m\u001b[1;33m\u001b[0m\u001b[1;33m\u001b[0m\u001b[1;33m\u001b[0m\u001b[0m\n\u001b[1;32m--> 277\u001b[1;33m     \u001b[0mundContracts\u001b[0m \u001b[1;33m=\u001b[0m \u001b[0mget_snps\u001b[0m\u001b[1;33m(\u001b[0m\u001b[0mib\u001b[0m\u001b[1;33m)\u001b[0m\u001b[1;33m\u001b[0m\u001b[1;33m\u001b[0m\u001b[0m\n\u001b[0m\u001b[0;32m    278\u001b[0m     \u001b[0mc_dict\u001b[0m \u001b[1;33m=\u001b[0m \u001b[1;33m{\u001b[0m\u001b[0mu\u001b[0m\u001b[1;33m.\u001b[0m\u001b[0msymbol\u001b[0m\u001b[1;33m:\u001b[0m \u001b[0mu\u001b[0m \u001b[1;32mfor\u001b[0m \u001b[0mu\u001b[0m \u001b[1;32min\u001b[0m \u001b[0mundContracts\u001b[0m\u001b[1;33m}\u001b[0m \u001b[1;31m# {symbol: contract}\u001b[0m\u001b[1;33m\u001b[0m\u001b[1;33m\u001b[0m\u001b[0m\n\u001b[0;32m    279\u001b[0m \u001b[1;33m\u001b[0m\u001b[0m\n",
      "\u001b[1;32m~\\Documents\\IBKR\\bin\\helper.py\u001b[0m in \u001b[0;36mget_snps\u001b[1;34m(ib)\u001b[0m\n\u001b[0;32m    102\u001b[0m     \u001b[1;31m# make symbols\u001b[0m\u001b[1;33m\u001b[0m\u001b[1;33m\u001b[0m\u001b[1;33m\u001b[0m\u001b[0m\n\u001b[0;32m    103\u001b[0m     \u001b[0msymbols\u001b[0m \u001b[1;33m=\u001b[0m \u001b[1;33m{\u001b[0m\u001b[0ms\u001b[0m \u001b[1;32mfor\u001b[0m \u001b[0ms\u001b[0m \u001b[1;32min\u001b[0m \u001b[0mdf_cboe\u001b[0m\u001b[1;33m.\u001b[0m\u001b[0mTicker\u001b[0m \u001b[1;32mif\u001b[0m \u001b[0ms\u001b[0m \u001b[1;32mnot\u001b[0m \u001b[1;32min\u001b[0m \u001b[0mexcl\u001b[0m \u001b[1;32mif\u001b[0m \u001b[0ms\u001b[0m \u001b[1;32min\u001b[0m \u001b[0msnp100\u001b[0m\u001b[1;33m}\u001b[0m\u001b[1;33m\u001b[0m\u001b[1;33m\u001b[0m\u001b[0m\n\u001b[1;32m--> 104\u001b[1;33m     \u001b[0mstocks\u001b[0m \u001b[1;33m=\u001b[0m \u001b[1;33m[\u001b[0m\u001b[0mStock\u001b[0m\u001b[1;33m(\u001b[0m\u001b[0msymbol\u001b[0m\u001b[1;33m=\u001b[0m\u001b[0ms\u001b[0m\u001b[1;33m,\u001b[0m \u001b[0mexchange\u001b[0m\u001b[1;33m=\u001b[0m\u001b[1;34m'SMART'\u001b[0m\u001b[1;33m,\u001b[0m \u001b[0mcurrency\u001b[0m\u001b[1;33m=\u001b[0m\u001b[1;34m'USD'\u001b[0m\u001b[1;33m)\u001b[0m \u001b[1;32mfor\u001b[0m \u001b[0ms\u001b[0m \u001b[1;32min\u001b[0m \u001b[0msymbols\u001b[0m\u001b[1;33m]\u001b[0m\u001b[1;33m\u001b[0m\u001b[1;33m\u001b[0m\u001b[0m\n\u001b[0m\u001b[0;32m    105\u001b[0m \u001b[1;33m\u001b[0m\u001b[0m\n\u001b[0;32m    106\u001b[0m     \u001b[0mstkblks\u001b[0m \u001b[1;33m=\u001b[0m \u001b[1;33m[\u001b[0m\u001b[0mstocks\u001b[0m\u001b[1;33m[\u001b[0m\u001b[0mi\u001b[0m\u001b[1;33m:\u001b[0m \u001b[0mi\u001b[0m\u001b[1;33m+\u001b[0m\u001b[0mblk\u001b[0m\u001b[1;33m]\u001b[0m \u001b[1;32mfor\u001b[0m \u001b[0mi\u001b[0m \u001b[1;32min\u001b[0m \u001b[0mrange\u001b[0m\u001b[1;33m(\u001b[0m\u001b[1;36m0\u001b[0m\u001b[1;33m,\u001b[0m \u001b[0mlen\u001b[0m\u001b[1;33m(\u001b[0m\u001b[0mstocks\u001b[0m\u001b[1;33m)\u001b[0m\u001b[1;33m,\u001b[0m \u001b[0mblk\u001b[0m\u001b[1;33m)\u001b[0m\u001b[1;33m]\u001b[0m \u001b[1;31m# blocks of stocks\u001b[0m\u001b[1;33m\u001b[0m\u001b[1;33m\u001b[0m\u001b[0m\n",
      "\u001b[1;32m~\\Documents\\IBKR\\bin\\helper.py\u001b[0m in \u001b[0;36m<listcomp>\u001b[1;34m(.0)\u001b[0m\n\u001b[0;32m    102\u001b[0m     \u001b[1;31m# make symbols\u001b[0m\u001b[1;33m\u001b[0m\u001b[1;33m\u001b[0m\u001b[1;33m\u001b[0m\u001b[0m\n\u001b[0;32m    103\u001b[0m     \u001b[0msymbols\u001b[0m \u001b[1;33m=\u001b[0m \u001b[1;33m{\u001b[0m\u001b[0ms\u001b[0m \u001b[1;32mfor\u001b[0m \u001b[0ms\u001b[0m \u001b[1;32min\u001b[0m \u001b[0mdf_cboe\u001b[0m\u001b[1;33m.\u001b[0m\u001b[0mTicker\u001b[0m \u001b[1;32mif\u001b[0m \u001b[0ms\u001b[0m \u001b[1;32mnot\u001b[0m \u001b[1;32min\u001b[0m \u001b[0mexcl\u001b[0m \u001b[1;32mif\u001b[0m \u001b[0ms\u001b[0m \u001b[1;32min\u001b[0m \u001b[0msnp100\u001b[0m\u001b[1;33m}\u001b[0m\u001b[1;33m\u001b[0m\u001b[1;33m\u001b[0m\u001b[0m\n\u001b[1;32m--> 104\u001b[1;33m     \u001b[0mstocks\u001b[0m \u001b[1;33m=\u001b[0m \u001b[1;33m[\u001b[0m\u001b[0mStock\u001b[0m\u001b[1;33m(\u001b[0m\u001b[0msymbol\u001b[0m\u001b[1;33m=\u001b[0m\u001b[0ms\u001b[0m\u001b[1;33m,\u001b[0m \u001b[0mexchange\u001b[0m\u001b[1;33m=\u001b[0m\u001b[1;34m'SMART'\u001b[0m\u001b[1;33m,\u001b[0m \u001b[0mcurrency\u001b[0m\u001b[1;33m=\u001b[0m\u001b[1;34m'USD'\u001b[0m\u001b[1;33m)\u001b[0m \u001b[1;32mfor\u001b[0m \u001b[0ms\u001b[0m \u001b[1;32min\u001b[0m \u001b[0msymbols\u001b[0m\u001b[1;33m]\u001b[0m\u001b[1;33m\u001b[0m\u001b[1;33m\u001b[0m\u001b[0m\n\u001b[0m\u001b[0;32m    105\u001b[0m \u001b[1;33m\u001b[0m\u001b[0m\n\u001b[0;32m    106\u001b[0m     \u001b[0mstkblks\u001b[0m \u001b[1;33m=\u001b[0m \u001b[1;33m[\u001b[0m\u001b[0mstocks\u001b[0m\u001b[1;33m[\u001b[0m\u001b[0mi\u001b[0m\u001b[1;33m:\u001b[0m \u001b[0mi\u001b[0m\u001b[1;33m+\u001b[0m\u001b[0mblk\u001b[0m\u001b[1;33m]\u001b[0m \u001b[1;32mfor\u001b[0m \u001b[0mi\u001b[0m \u001b[1;32min\u001b[0m \u001b[0mrange\u001b[0m\u001b[1;33m(\u001b[0m\u001b[1;36m0\u001b[0m\u001b[1;33m,\u001b[0m \u001b[0mlen\u001b[0m\u001b[1;33m(\u001b[0m\u001b[0mstocks\u001b[0m\u001b[1;33m)\u001b[0m\u001b[1;33m,\u001b[0m \u001b[0mblk\u001b[0m\u001b[1;33m)\u001b[0m\u001b[1;33m]\u001b[0m \u001b[1;31m# blocks of stocks\u001b[0m\u001b[1;33m\u001b[0m\u001b[1;33m\u001b[0m\u001b[0m\n",
      "\u001b[1;31mNameError\u001b[0m: name 'Stock' is not defined"
     ]
    }
   ],
   "source": [
    "from helper import get_snp_remqty\n",
    "remqty = get_snp_remqty(ib=ib)"
   ]
  },
  {
   "cell_type": "code",
   "execution_count": 7,
   "metadata": {},
   "outputs": [],
   "source": [
    "contracts = ib.qualifyContracts(*list(df.contract))"
   ]
  },
  {
   "cell_type": "code",
   "execution_count": 12,
   "metadata": {},
   "outputs": [],
   "source": [
    "orders = [LimitOrder(action, qty, price) for action, qty, price in zip(df.action, df.qty, df.lmtPrice)]"
   ]
  },
  {
   "cell_type": "code",
   "execution_count": null,
   "metadata": {},
   "outputs": [],
   "source": [
    "list(zip(contracts, orders))"
   ]
  },
  {
   "cell_type": "code",
   "execution_count": 14,
   "metadata": {},
   "outputs": [],
   "source": [
    "# limitTrade = [ib.placeOrder(c, o) for c, o in zip(contracts, orders)]"
   ]
  },
  {
   "cell_type": "code",
   "execution_count": 18,
   "metadata": {},
   "outputs": [
    {
     "data": {
      "text/plain": [
       "[LimitOrder(softDollarTier=SoftDollarTier(), orderId=27, clientId=4, permId=1276799329, action='BUY', totalQuantity=1.0, lmtPrice=0.03, auxPrice=0.0, tif='DAY', ocaType=3, trailStopPrice=1.03, volatilityType=0, deltaNeutralOrderType='None', referencePriceType=0, account='U8898867', clearingIntent='IB', adjustedOrderType='None', dontUseAutoPriceForHedge=True),\n",
       " LimitOrder(softDollarTier=SoftDollarTier(), orderId=28, clientId=4, permId=1276799330, action='BUY', totalQuantity=9.0, lmtPrice=0.08, auxPrice=0.0, tif='DAY', ocaType=3, trailStopPrice=1.08, volatilityType=0, deltaNeutralOrderType='None', referencePriceType=0, account='U8898867', clearingIntent='IB', adjustedOrderType='None', dontUseAutoPriceForHedge=True),\n",
       " LimitOrder(softDollarTier=SoftDollarTier(), orderId=29, clientId=4, permId=1276799331, action='BUY', totalQuantity=4.0, lmtPrice=0.02, auxPrice=0.0, tif='DAY', ocaType=3, trailStopPrice=1.02, volatilityType=0, deltaNeutralOrderType='None', referencePriceType=0, account='U8898867', clearingIntent='IB', adjustedOrderType='None', dontUseAutoPriceForHedge=True),\n",
       " LimitOrder(softDollarTier=SoftDollarTier(), orderId=30, clientId=4, permId=1276799332, action='BUY', totalQuantity=10.0, lmtPrice=0.03, auxPrice=0.0, tif='DAY', ocaType=3, trailStopPrice=1.03, volatilityType=0, deltaNeutralOrderType='None', referencePriceType=0, account='U8898867', clearingIntent='IB', adjustedOrderType='None', dontUseAutoPriceForHedge=True),\n",
       " LimitOrder(softDollarTier=SoftDollarTier(), orderId=31, clientId=4, permId=1276799333, action='BUY', totalQuantity=8.0, lmtPrice=0.03, auxPrice=0.0, tif='DAY', ocaType=3, trailStopPrice=1.03, volatilityType=0, deltaNeutralOrderType='None', referencePriceType=0, account='U8898867', clearingIntent='IB', adjustedOrderType='None', dontUseAutoPriceForHedge=True),\n",
       " LimitOrder(softDollarTier=SoftDollarTier(), orderId=32, clientId=4, permId=1276799334, action='BUY', totalQuantity=8.0, lmtPrice=0.32, auxPrice=0.0, tif='DAY', ocaType=3, trailStopPrice=1.32, volatilityType=0, deltaNeutralOrderType='None', referencePriceType=0, account='U8898867', clearingIntent='IB', adjustedOrderType='None', dontUseAutoPriceForHedge=True),\n",
       " LimitOrder(softDollarTier=SoftDollarTier(), orderId=33, clientId=4, permId=1276799335, action='BUY', totalQuantity=8.0, lmtPrice=0.18, auxPrice=0.0, tif='DAY', ocaType=3, trailStopPrice=1.18, volatilityType=0, deltaNeutralOrderType='None', referencePriceType=0, account='U8898867', clearingIntent='IB', adjustedOrderType='None', dontUseAutoPriceForHedge=True),\n",
       " LimitOrder(softDollarTier=SoftDollarTier(), orderId=35, clientId=4, permId=1276799337, action='BUY', totalQuantity=8.0, lmtPrice=0.05, auxPrice=0.0, tif='DAY', ocaType=3, trailStopPrice=1.05, volatilityType=0, deltaNeutralOrderType='None', referencePriceType=0, account='U8898867', clearingIntent='IB', adjustedOrderType='None', dontUseAutoPriceForHedge=True),\n",
       " LimitOrder(softDollarTier=SoftDollarTier(), orderId=36, clientId=4, permId=1276799338, action='BUY', totalQuantity=8.0, lmtPrice=0.11, auxPrice=0.0, tif='DAY', ocaType=3, trailStopPrice=1.11, volatilityType=0, deltaNeutralOrderType='None', referencePriceType=0, account='U8898867', clearingIntent='IB', adjustedOrderType='None', dontUseAutoPriceForHedge=True),\n",
       " LimitOrder(softDollarTier=SoftDollarTier(), orderId=37, clientId=4, permId=1276799339, action='BUY', totalQuantity=8.0, lmtPrice=0.25, auxPrice=0.0, tif='DAY', ocaType=3, trailStopPrice=1.25, volatilityType=0, deltaNeutralOrderType='None', referencePriceType=0, account='U8898867', clearingIntent='IB', adjustedOrderType='None', dontUseAutoPriceForHedge=True),\n",
       " LimitOrder(softDollarTier=SoftDollarTier(), orderId=38, clientId=4, permId=1276799340, action='BUY', totalQuantity=1.0, lmtPrice=0.03, auxPrice=0.0, tif='DAY', ocaType=3, trailStopPrice=1.03, volatilityType=0, deltaNeutralOrderType='None', referencePriceType=0, account='U8898867', clearingIntent='IB', adjustedOrderType='None', dontUseAutoPriceForHedge=True),\n",
       " LimitOrder(softDollarTier=SoftDollarTier(), orderId=39, clientId=4, permId=1276799341, action='BUY', totalQuantity=5.0, lmtPrice=0.35, auxPrice=0.0, tif='DAY', ocaType=3, trailStopPrice=1.35, volatilityType=0, deltaNeutralOrderType='None', referencePriceType=0, account='U8898867', clearingIntent='IB', adjustedOrderType='None', dontUseAutoPriceForHedge=True),\n",
       " LimitOrder(softDollarTier=SoftDollarTier(), orderId=40, clientId=4, permId=1276799342, action='BUY', totalQuantity=1.0, lmtPrice=0.08, auxPrice=0.0, tif='DAY', ocaType=3, trailStopPrice=1.08, volatilityType=0, deltaNeutralOrderType='None', referencePriceType=0, account='U8898867', clearingIntent='IB', adjustedOrderType='None', dontUseAutoPriceForHedge=True),\n",
       " LimitOrder(softDollarTier=SoftDollarTier(), orderId=41, clientId=4, permId=1276799343, action='BUY', totalQuantity=8.0, lmtPrice=0.55, auxPrice=0.0, tif='DAY', ocaType=3, trailStopPrice=1.55, volatilityType=0, deltaNeutralOrderType='None', referencePriceType=0, account='U8898867', clearingIntent='IB', adjustedOrderType='None', dontUseAutoPriceForHedge=True),\n",
       " LimitOrder(softDollarTier=SoftDollarTier(), orderId=44, clientId=4, permId=1276799346, action='BUY', totalQuantity=8.0, lmtPrice=0.03, auxPrice=0.0, tif='DAY', ocaType=3, trailStopPrice=1.03, volatilityType=0, deltaNeutralOrderType='None', referencePriceType=0, account='U8898867', clearingIntent='IB', adjustedOrderType='None', dontUseAutoPriceForHedge=True),\n",
       " LimitOrder(softDollarTier=SoftDollarTier(), orderId=45, clientId=4, permId=1276799347, action='BUY', totalQuantity=8.0, lmtPrice=0.38, auxPrice=0.0, tif='DAY', ocaType=3, trailStopPrice=1.38, volatilityType=0, deltaNeutralOrderType='None', referencePriceType=0, account='U8898867', clearingIntent='IB', adjustedOrderType='None', dontUseAutoPriceForHedge=True),\n",
       " LimitOrder(softDollarTier=SoftDollarTier(), orderId=46, clientId=4, permId=1276799348, action='BUY', totalQuantity=9.0, lmtPrice=0.1, auxPrice=0.0, tif='DAY', ocaType=3, trailStopPrice=1.1, volatilityType=0, deltaNeutralOrderType='None', referencePriceType=0, account='U8898867', clearingIntent='IB', adjustedOrderType='None', dontUseAutoPriceForHedge=True),\n",
       " LimitOrder(softDollarTier=SoftDollarTier(), orderId=47, clientId=4, permId=1276799349, action='BUY', totalQuantity=8.0, lmtPrice=0.27, auxPrice=0.0, tif='DAY', ocaType=3, trailStopPrice=1.27, volatilityType=0, deltaNeutralOrderType='None', referencePriceType=0, account='U8898867', clearingIntent='IB', adjustedOrderType='None', dontUseAutoPriceForHedge=True),\n",
       " LimitOrder(softDollarTier=SoftDollarTier(), orderId=48, clientId=4, permId=1276799350, action='BUY', totalQuantity=1.0, lmtPrice=0.08, auxPrice=0.0, tif='DAY', ocaType=3, trailStopPrice=1.08, volatilityType=0, deltaNeutralOrderType='None', referencePriceType=0, account='U8898867', clearingIntent='IB', adjustedOrderType='None', dontUseAutoPriceForHedge=True)]"
      ]
     },
     "execution_count": 18,
     "metadata": {},
     "output_type": "execute_result"
    },
    {
     "name": "stderr",
     "output_type": "stream",
     "text": [
      "Peer closed connection\n"
     ]
    }
   ],
   "source": [
    "ib.openOrders()"
   ]
  },
  {
   "cell_type": "code",
   "execution_count": null,
   "metadata": {},
   "outputs": [],
   "source": []
  }
 ],
 "metadata": {
  "kernelspec": {
   "display_name": "Python 3",
   "language": "python",
   "name": "python3"
  },
  "language_info": {
   "codemirror_mode": {
    "name": "ipython",
    "version": 3
   },
   "file_extension": ".py",
   "mimetype": "text/x-python",
   "name": "python",
   "nbconvert_exporter": "python",
   "pygments_lexer": "ipython3",
   "version": "3.7.1"
  }
 },
 "nbformat": 4,
 "nbformat_minor": 2
}
