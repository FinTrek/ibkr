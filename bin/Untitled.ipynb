{
 "cells": [
  {
   "cell_type": "code",
   "execution_count": 1,
   "metadata": {},
   "outputs": [],
   "source": [
    "from ib_insync import *\n",
    "util.startLoop()\n",
    "ib = IB().connect('127.0.0.1', 1300, clientId=4)"
   ]
  },
  {
   "cell_type": "code",
   "execution_count": 3,
   "metadata": {},
   "outputs": [],
   "source": [
    "import pandas as pd\n",
    "df = pd.read_pickle('../data/snp/_openorders1.pkl')"
   ]
  },
  {
   "cell_type": "code",
   "execution_count": 4,
   "metadata": {},
   "outputs": [
    {
     "data": {
      "text/html": [
       "<div>\n",
       "<style scoped>\n",
       "    .dataframe tbody tr th:only-of-type {\n",
       "        vertical-align: middle;\n",
       "    }\n",
       "\n",
       "    .dataframe tbody tr th {\n",
       "        vertical-align: top;\n",
       "    }\n",
       "\n",
       "    .dataframe thead th {\n",
       "        text-align: right;\n",
       "    }\n",
       "</style>\n",
       "<table border=\"1\" class=\"dataframe\">\n",
       "  <thead>\n",
       "    <tr style=\"text-align: right;\">\n",
       "      <th></th>\n",
       "      <th>conId</th>\n",
       "      <th>symbol</th>\n",
       "      <th>expiration</th>\n",
       "      <th>right</th>\n",
       "      <th>action</th>\n",
       "      <th>qty</th>\n",
       "      <th>orderType</th>\n",
       "      <th>lmtPrice</th>\n",
       "      <th>contract</th>\n",
       "      <th>order</th>\n",
       "    </tr>\n",
       "  </thead>\n",
       "  <tbody>\n",
       "    <tr>\n",
       "      <th>0</th>\n",
       "      <td>330192435</td>\n",
       "      <td>AMGN</td>\n",
       "      <td>20190418</td>\n",
       "      <td>P</td>\n",
       "      <td>BUY</td>\n",
       "      <td>1</td>\n",
       "      <td>LMT</td>\n",
       "      <td>0.03</td>\n",
       "      <td>Option(conId=330192435, symbol='AMGN', lastTra...</td>\n",
       "      <td>Order(softDollarTier=SoftDollarTier(), permId=...</td>\n",
       "    </tr>\n",
       "    <tr>\n",
       "      <th>1</th>\n",
       "      <td>358219127</td>\n",
       "      <td>BMY</td>\n",
       "      <td>20190426</td>\n",
       "      <td>P</td>\n",
       "      <td>BUY</td>\n",
       "      <td>9</td>\n",
       "      <td>LMT</td>\n",
       "      <td>0.08</td>\n",
       "      <td>Option(conId=358219127, symbol='BMY', lastTrad...</td>\n",
       "      <td>Order(softDollarTier=SoftDollarTier(), permId=...</td>\n",
       "    </tr>\n",
       "    <tr>\n",
       "      <th>2</th>\n",
       "      <td>353911867</td>\n",
       "      <td>DIS</td>\n",
       "      <td>20190517</td>\n",
       "      <td>P</td>\n",
       "      <td>BUY</td>\n",
       "      <td>4</td>\n",
       "      <td>LMT</td>\n",
       "      <td>0.02</td>\n",
       "      <td>Option(conId=353911867, symbol='DIS', lastTrad...</td>\n",
       "      <td>Order(softDollarTier=SoftDollarTier(), permId=...</td>\n",
       "    </tr>\n",
       "    <tr>\n",
       "      <th>3</th>\n",
       "      <td>358219107</td>\n",
       "      <td>BMY</td>\n",
       "      <td>20190426</td>\n",
       "      <td>P</td>\n",
       "      <td>BUY</td>\n",
       "      <td>10</td>\n",
       "      <td>LMT</td>\n",
       "      <td>0.03</td>\n",
       "      <td>Option(conId=358219107, symbol='BMY', lastTrad...</td>\n",
       "      <td>Order(softDollarTier=SoftDollarTier(), permId=...</td>\n",
       "    </tr>\n",
       "    <tr>\n",
       "      <th>4</th>\n",
       "      <td>356176232</td>\n",
       "      <td>CVS</td>\n",
       "      <td>20190426</td>\n",
       "      <td>P</td>\n",
       "      <td>BUY</td>\n",
       "      <td>8</td>\n",
       "      <td>LMT</td>\n",
       "      <td>0.03</td>\n",
       "      <td>Option(conId=356176232, symbol='CVS', lastTrad...</td>\n",
       "      <td>Order(softDollarTier=SoftDollarTier(), permId=...</td>\n",
       "    </tr>\n",
       "  </tbody>\n",
       "</table>\n",
       "</div>"
      ],
      "text/plain": [
       "       conId symbol expiration right action qty orderType lmtPrice  \\\n",
       "0  330192435   AMGN   20190418     P    BUY   1       LMT     0.03   \n",
       "1  358219127    BMY   20190426     P    BUY   9       LMT     0.08   \n",
       "2  353911867    DIS   20190517     P    BUY   4       LMT     0.02   \n",
       "3  358219107    BMY   20190426     P    BUY  10       LMT     0.03   \n",
       "4  356176232    CVS   20190426     P    BUY   8       LMT     0.03   \n",
       "\n",
       "                                            contract  \\\n",
       "0  Option(conId=330192435, symbol='AMGN', lastTra...   \n",
       "1  Option(conId=358219127, symbol='BMY', lastTrad...   \n",
       "2  Option(conId=353911867, symbol='DIS', lastTrad...   \n",
       "3  Option(conId=358219107, symbol='BMY', lastTrad...   \n",
       "4  Option(conId=356176232, symbol='CVS', lastTrad...   \n",
       "\n",
       "                                               order  \n",
       "0  Order(softDollarTier=SoftDollarTier(), permId=...  \n",
       "1  Order(softDollarTier=SoftDollarTier(), permId=...  \n",
       "2  Order(softDollarTier=SoftDollarTier(), permId=...  \n",
       "3  Order(softDollarTier=SoftDollarTier(), permId=...  \n",
       "4  Order(softDollarTier=SoftDollarTier(), permId=...  "
      ]
     },
     "execution_count": 4,
     "metadata": {},
     "output_type": "execute_result"
    }
   ],
   "source": [
    "df.head()"
   ]
  },
  {
   "cell_type": "code",
   "execution_count": 7,
   "metadata": {},
   "outputs": [],
   "source": [
    "contracts = ib.qualifyContracts(*list(df.contract))"
   ]
  },
  {
   "cell_type": "code",
   "execution_count": 12,
   "metadata": {},
   "outputs": [],
   "source": [
    "orders = [LimitOrder(action, qty, price) for action, qty, price in zip(df.action, df.qty, df.lmtPrice)]"
   ]
  },
  {
   "cell_type": "code",
   "execution_count": null,
   "metadata": {},
   "outputs": [],
   "source": [
    "list(zip(contracts, orders))"
   ]
  },
  {
   "cell_type": "code",
   "execution_count": 14,
   "metadata": {},
   "outputs": [],
   "source": [
    "# limitTrade = [ib.placeOrder(c, o) for c, o in zip(contracts, orders)]"
   ]
  },
  {
   "cell_type": "code",
   "execution_count": 18,
   "metadata": {},
   "outputs": [
    {
     "data": {
      "text/plain": [
       "[LimitOrder(softDollarTier=SoftDollarTier(), orderId=27, clientId=4, permId=1276799329, action='BUY', totalQuantity=1.0, lmtPrice=0.03, auxPrice=0.0, tif='DAY', ocaType=3, trailStopPrice=1.03, volatilityType=0, deltaNeutralOrderType='None', referencePriceType=0, account='U8898867', clearingIntent='IB', adjustedOrderType='None', dontUseAutoPriceForHedge=True),\n",
       " LimitOrder(softDollarTier=SoftDollarTier(), orderId=28, clientId=4, permId=1276799330, action='BUY', totalQuantity=9.0, lmtPrice=0.08, auxPrice=0.0, tif='DAY', ocaType=3, trailStopPrice=1.08, volatilityType=0, deltaNeutralOrderType='None', referencePriceType=0, account='U8898867', clearingIntent='IB', adjustedOrderType='None', dontUseAutoPriceForHedge=True),\n",
       " LimitOrder(softDollarTier=SoftDollarTier(), orderId=29, clientId=4, permId=1276799331, action='BUY', totalQuantity=4.0, lmtPrice=0.02, auxPrice=0.0, tif='DAY', ocaType=3, trailStopPrice=1.02, volatilityType=0, deltaNeutralOrderType='None', referencePriceType=0, account='U8898867', clearingIntent='IB', adjustedOrderType='None', dontUseAutoPriceForHedge=True),\n",
       " LimitOrder(softDollarTier=SoftDollarTier(), orderId=30, clientId=4, permId=1276799332, action='BUY', totalQuantity=10.0, lmtPrice=0.03, auxPrice=0.0, tif='DAY', ocaType=3, trailStopPrice=1.03, volatilityType=0, deltaNeutralOrderType='None', referencePriceType=0, account='U8898867', clearingIntent='IB', adjustedOrderType='None', dontUseAutoPriceForHedge=True),\n",
       " LimitOrder(softDollarTier=SoftDollarTier(), orderId=31, clientId=4, permId=1276799333, action='BUY', totalQuantity=8.0, lmtPrice=0.03, auxPrice=0.0, tif='DAY', ocaType=3, trailStopPrice=1.03, volatilityType=0, deltaNeutralOrderType='None', referencePriceType=0, account='U8898867', clearingIntent='IB', adjustedOrderType='None', dontUseAutoPriceForHedge=True),\n",
       " LimitOrder(softDollarTier=SoftDollarTier(), orderId=32, clientId=4, permId=1276799334, action='BUY', totalQuantity=8.0, lmtPrice=0.32, auxPrice=0.0, tif='DAY', ocaType=3, trailStopPrice=1.32, volatilityType=0, deltaNeutralOrderType='None', referencePriceType=0, account='U8898867', clearingIntent='IB', adjustedOrderType='None', dontUseAutoPriceForHedge=True),\n",
       " LimitOrder(softDollarTier=SoftDollarTier(), orderId=33, clientId=4, permId=1276799335, action='BUY', totalQuantity=8.0, lmtPrice=0.18, auxPrice=0.0, tif='DAY', ocaType=3, trailStopPrice=1.18, volatilityType=0, deltaNeutralOrderType='None', referencePriceType=0, account='U8898867', clearingIntent='IB', adjustedOrderType='None', dontUseAutoPriceForHedge=True),\n",
       " LimitOrder(softDollarTier=SoftDollarTier(), orderId=35, clientId=4, permId=1276799337, action='BUY', totalQuantity=8.0, lmtPrice=0.05, auxPrice=0.0, tif='DAY', ocaType=3, trailStopPrice=1.05, volatilityType=0, deltaNeutralOrderType='None', referencePriceType=0, account='U8898867', clearingIntent='IB', adjustedOrderType='None', dontUseAutoPriceForHedge=True),\n",
       " LimitOrder(softDollarTier=SoftDollarTier(), orderId=36, clientId=4, permId=1276799338, action='BUY', totalQuantity=8.0, lmtPrice=0.11, auxPrice=0.0, tif='DAY', ocaType=3, trailStopPrice=1.11, volatilityType=0, deltaNeutralOrderType='None', referencePriceType=0, account='U8898867', clearingIntent='IB', adjustedOrderType='None', dontUseAutoPriceForHedge=True),\n",
       " LimitOrder(softDollarTier=SoftDollarTier(), orderId=37, clientId=4, permId=1276799339, action='BUY', totalQuantity=8.0, lmtPrice=0.25, auxPrice=0.0, tif='DAY', ocaType=3, trailStopPrice=1.25, volatilityType=0, deltaNeutralOrderType='None', referencePriceType=0, account='U8898867', clearingIntent='IB', adjustedOrderType='None', dontUseAutoPriceForHedge=True),\n",
       " LimitOrder(softDollarTier=SoftDollarTier(), orderId=38, clientId=4, permId=1276799340, action='BUY', totalQuantity=1.0, lmtPrice=0.03, auxPrice=0.0, tif='DAY', ocaType=3, trailStopPrice=1.03, volatilityType=0, deltaNeutralOrderType='None', referencePriceType=0, account='U8898867', clearingIntent='IB', adjustedOrderType='None', dontUseAutoPriceForHedge=True),\n",
       " LimitOrder(softDollarTier=SoftDollarTier(), orderId=39, clientId=4, permId=1276799341, action='BUY', totalQuantity=5.0, lmtPrice=0.35, auxPrice=0.0, tif='DAY', ocaType=3, trailStopPrice=1.35, volatilityType=0, deltaNeutralOrderType='None', referencePriceType=0, account='U8898867', clearingIntent='IB', adjustedOrderType='None', dontUseAutoPriceForHedge=True),\n",
       " LimitOrder(softDollarTier=SoftDollarTier(), orderId=40, clientId=4, permId=1276799342, action='BUY', totalQuantity=1.0, lmtPrice=0.08, auxPrice=0.0, tif='DAY', ocaType=3, trailStopPrice=1.08, volatilityType=0, deltaNeutralOrderType='None', referencePriceType=0, account='U8898867', clearingIntent='IB', adjustedOrderType='None', dontUseAutoPriceForHedge=True),\n",
       " LimitOrder(softDollarTier=SoftDollarTier(), orderId=41, clientId=4, permId=1276799343, action='BUY', totalQuantity=8.0, lmtPrice=0.55, auxPrice=0.0, tif='DAY', ocaType=3, trailStopPrice=1.55, volatilityType=0, deltaNeutralOrderType='None', referencePriceType=0, account='U8898867', clearingIntent='IB', adjustedOrderType='None', dontUseAutoPriceForHedge=True),\n",
       " LimitOrder(softDollarTier=SoftDollarTier(), orderId=44, clientId=4, permId=1276799346, action='BUY', totalQuantity=8.0, lmtPrice=0.03, auxPrice=0.0, tif='DAY', ocaType=3, trailStopPrice=1.03, volatilityType=0, deltaNeutralOrderType='None', referencePriceType=0, account='U8898867', clearingIntent='IB', adjustedOrderType='None', dontUseAutoPriceForHedge=True),\n",
       " LimitOrder(softDollarTier=SoftDollarTier(), orderId=45, clientId=4, permId=1276799347, action='BUY', totalQuantity=8.0, lmtPrice=0.38, auxPrice=0.0, tif='DAY', ocaType=3, trailStopPrice=1.38, volatilityType=0, deltaNeutralOrderType='None', referencePriceType=0, account='U8898867', clearingIntent='IB', adjustedOrderType='None', dontUseAutoPriceForHedge=True),\n",
       " LimitOrder(softDollarTier=SoftDollarTier(), orderId=46, clientId=4, permId=1276799348, action='BUY', totalQuantity=9.0, lmtPrice=0.1, auxPrice=0.0, tif='DAY', ocaType=3, trailStopPrice=1.1, volatilityType=0, deltaNeutralOrderType='None', referencePriceType=0, account='U8898867', clearingIntent='IB', adjustedOrderType='None', dontUseAutoPriceForHedge=True),\n",
       " LimitOrder(softDollarTier=SoftDollarTier(), orderId=47, clientId=4, permId=1276799349, action='BUY', totalQuantity=8.0, lmtPrice=0.27, auxPrice=0.0, tif='DAY', ocaType=3, trailStopPrice=1.27, volatilityType=0, deltaNeutralOrderType='None', referencePriceType=0, account='U8898867', clearingIntent='IB', adjustedOrderType='None', dontUseAutoPriceForHedge=True),\n",
       " LimitOrder(softDollarTier=SoftDollarTier(), orderId=48, clientId=4, permId=1276799350, action='BUY', totalQuantity=1.0, lmtPrice=0.08, auxPrice=0.0, tif='DAY', ocaType=3, trailStopPrice=1.08, volatilityType=0, deltaNeutralOrderType='None', referencePriceType=0, account='U8898867', clearingIntent='IB', adjustedOrderType='None', dontUseAutoPriceForHedge=True)]"
      ]
     },
     "execution_count": 18,
     "metadata": {},
     "output_type": "execute_result"
    },
    {
     "name": "stderr",
     "output_type": "stream",
     "text": [
      "Peer closed connection\n"
     ]
    }
   ],
   "source": [
    "ib.openOrders()"
   ]
  },
  {
   "cell_type": "code",
   "execution_count": null,
   "metadata": {},
   "outputs": [],
   "source": []
  }
 ],
 "metadata": {
  "kernelspec": {
   "display_name": "Python 3",
   "language": "python",
   "name": "python3"
  },
  "language_info": {
   "codemirror_mode": {
    "name": "ipython",
    "version": 3
   },
   "file_extension": ".py",
   "mimetype": "text/x-python",
   "name": "python",
   "nbconvert_exporter": "python",
   "pygments_lexer": "ipython3",
   "version": "3.7.1"
  }
 },
 "nbformat": 4,
 "nbformat_minor": 2
}
