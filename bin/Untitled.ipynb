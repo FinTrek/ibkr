{
 "cells": [
  {
   "cell_type": "code",
   "execution_count": 1,
   "metadata": {},
   "outputs": [],
   "source": [
    "from ib_insync import *\n",
    "util.startLoop()"
   ]
  },
  {
   "cell_type": "code",
   "execution_count": 2,
   "metadata": {},
   "outputs": [],
   "source": [
    "ib = IB().connect(host='127.0.0.1', port=3000, clientId=1)"
   ]
  },
  {
   "cell_type": "code",
   "execution_count": 8,
   "metadata": {},
   "outputs": [
    {
     "data": {
      "text/plain": [
       "OrderState(status='PreSubmitted', initMarginBefore='2609602.83', maintMarginBefore='2087682.27', equityWithLoanBefore='2.32313991E7', initMarginChange='107584.83000000007', maintMarginChange='86067.85999999987', equityWithLoanChange='-27.33999999985099', initMarginAfter='2717187.66', maintMarginAfter='2173750.13', equityWithLoanAfter='2.323137176E7', commission=20.0, commissionCurrency='INR')"
      ]
     },
     "execution_count": 8,
     "metadata": {},
     "output_type": "execute_result"
    }
   ],
   "source": [
    "eq = ib.qualifyContracts(Stock(symbol='INFY', exchange='NSE'))[0]\n",
    "opt = ib.qualifyContracts(Option(symbol='BHEL', lastTradeDateOrContractMonth='20190425', strike=73.0, right='P', exchange='NSE'))[0]\n",
    "order = MarketOrder('SELL', 7500)\n",
    "ib.whatIfOrder(contract=opt, order=order)"
   ]
  },
  {
   "cell_type": "code",
   "execution_count": 10,
   "metadata": {},
   "outputs": [
    {
     "data": {
      "text/plain": [
       "Option(conId=352158784, symbol='BHEL', lastTradeDateOrContractMonth='20190425', strike=73.0, right='P', multiplier='1', exchange='NSE', currency='INR', localSymbol='BHEL19APR73PE', tradingClass='BHEL')"
      ]
     },
     "execution_count": 10,
     "metadata": {},
     "output_type": "execute_result"
    }
   ],
   "source": [
    "opt"
   ]
  },
  {
   "cell_type": "code",
   "execution_count": null,
   "metadata": {},
   "outputs": [],
   "source": []
  }
 ],
 "metadata": {
  "kernelspec": {
   "display_name": "Python 3",
   "language": "python",
   "name": "python3"
  },
  "language_info": {
   "codemirror_mode": {
    "name": "ipython",
    "version": 3
   },
   "file_extension": ".py",
   "mimetype": "text/x-python",
   "name": "python",
   "nbconvert_exporter": "python",
   "pygments_lexer": "ipython3",
   "version": "3.7.1"
  }
 },
 "nbformat": 4,
 "nbformat_minor": 2
}
