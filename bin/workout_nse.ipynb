{
 "cells": [
  {
   "cell_type": "code",
   "execution_count": null,
   "metadata": {},
   "outputs": [],
   "source": [
    "# workout_nse.py\n",
    "\n",
    "\"\"\"Program to prepare closing (BUY) trades\n",
    "Date: 23-July-2019\n",
    "Ver: 1.0\n",
    "Time taken: 1 min\n",
    "\"\"\"\n",
    "\n",
    "from z_helper import *\n",
    "util.startLoop()\n",
    "\n",
    "# from json\n",
    "a = assign_var('nse') + assign_var('common')\n",
    "for v in a:\n",
    "    exec(v)\n",
    "    \n",
    "def workout_nse(ib):\n",
    "    '''Program to dynamically prepare closing trades\n",
    "    Args:\n",
    "        (ib) as connection object\n",
    "    Returns:\n",
    "        tuple of buy contracts and orders'''\n",
    "    \n",
    "# with get_connected('nse', 'live') as ib:\n",
    "    pos = ib.positions()\n",
    "    trades = ib.trades()\n",
    "    pos_contracts = ib.qualifyContracts(*[Contract(conId=c) for c in [p.contract.conId for p in pos]])\n",
    "    pos_tickers = ib.reqTickers(*pos_contracts)\n",
    "    pos_prices = {t.contract.conId: t.marketPrice() for t in pos_tickers}    \n",
    "    \n",
    "    #... position dataframe\n",
    "    pos_cols = ['conId', 'symbol', 'localSymbol', 'secType', 'lastTradeDateOrContractMonth', 'strike', 'right']\n",
    "    pos_df = util.df(p.contract for p in pos)[pos_cols]\n",
    "    pos_df = pos_df.rename({'lastTradeDateOrContractMonth': 'expiry'}, axis='columns')\n",
    "    pos_df = pos_df.assign(dte=pos_df.expiry.apply(get_dte))\n",
    "    pos_df['position'] = [p.position for p in pos]\n",
    "    pos_df['avgCost'] = [p.avgCost for p in pos]\n",
    "    pos_df['close'] = pos_df.conId.map(pos_prices)\n",
    "\n",
    "    # take maximum of precision and minimum of hvstPrice, avgCost\n",
    "    pos_df = pos_df.assign(hvstPrice=np.maximum(np.minimum((pos_df.dte.apply(hvstPricePct)*pos_df.avgCost).apply(lambda x: get_prec(x, 0.05)), pos_df.close), prec))\n",
    "\n",
    "    if trades:\n",
    "        trades_df = util.df(t.contract for t in trades).join(util.df(t.order for t in trades)).join(util.df(t.orderStatus for t in trades), lsuffix='_')\n",
    "        trades_cols = ['conId', 'symbol', 'localSymbol', 'secType', 'expiry', 'strike', 'right', 'undPrice', 'sd', \n",
    "                       'rom', 'orderId', 'permId', 'action', 'totalQuantity', 'close', 'lmtPrice', 'status']\n",
    "    else:\n",
    "        trades_df = pos_df.assign(action = 'No action', status = 'No status')\n",
    "        trades_cols = ['conId', 'symbol', 'localSymbol', 'secType', 'expiry', 'strike', 'right', 'undPrice', 'sd', \n",
    "                       'rom', 'action', 'status']    \n",
    "\n",
    "    # join with other parameters in sized_nse.pkl\n",
    "    trades_df = trades_df.set_index('conId').join(pd.read_pickle(fspath+'sized_nse.pkl')[['optId', 'close', 'undPrice', 'rom', 'stDev']].set_index('optId'), lsuffix='_').rename_axis('conId').reset_index()\n",
    "    trades_df = trades_df.rename({'lastTradeDateOrContractMonth': 'expiry'}, axis=1)\n",
    "    trades_df = trades_df.assign(sd=abs(trades_df.strike-trades_df.undPrice)/trades_df.stDev)\n",
    "\n",
    "    trades_df = trades_df[trades_cols]\n",
    "    \n",
    "    #... check for margin breach\n",
    "    ac_df=util.df(ib.accountSummary())[['tag', 'value']]\n",
    "\n",
    "    if (float(ac_df[ac_df.tag == 'AvailableFunds'].value.values) /\n",
    "        float(ac_df[ac_df.tag == 'NetLiquidation'].value.values)) > (1-ovallmarginlmt):\n",
    "        marginBreached = True\n",
    "    else:\n",
    "        marginBreached = False\n",
    "        \n",
    "    if marginBreached:\n",
    "        cancel_sells(ib)\n",
    "\n",
    "    #... place BUY orders for positions without BUY orders\n",
    "\n",
    "    # get the pos conIds that have some trade (BUY or SELL)\n",
    "    pos_trade_cids = [tid for tid in trades_df.conId if tid in list(pos_df.conId)]\n",
    "\n",
    "    # remove pos conIds that have BUY trade action and which are active\n",
    "    pos_buy_cids = list(trades_df[trades_df.conId.isin(pos_trade_cids) & \n",
    "                                  (trades_df.action == 'BUY') & \n",
    "                                  ~(trades_df.status.isin(['Cancelled', 'PendingCancel' ]))].conId)\n",
    "    pos_buy_df = pos_df[~pos_df.conId.isin(pos_buy_cids)]\n",
    "\n",
    "    # make lot and qty for trade blocks and rename conId to optId\n",
    "    pos_buy_df = pos_buy_df.assign(lot=pos_buy_df.position.apply(abs), qty=1, expPrice=pos_buy_df.hvstPrice)\n",
    "    pos_buy_df.rename(columns={'conId': 'optId'}, inplace=True)\n",
    "\n",
    "    # make the buy back expPrice slightly lesser for those whose close price == buyback expPrice\n",
    "    mask = (pos_buy_df.expPrice == pos_buy_df.close) & (pos_buy_df.expPrice > 0.05)\n",
    "    pos_buy_df.loc[mask, 'expPrice'] = pos_buy_df[mask].expPrice-0.05\n",
    "\n",
    "    # Make the NaN's to 0.05 expPrice\n",
    "    pos_buy_df.loc[pos_buy_df.expPrice.isnull(), 'expPrice'] = 0.05\n",
    "\n",
    "    # make the expPrice to the correct precision - else trades will fail\n",
    "    pos_buy_df = pos_buy_df.assign(expPrice=pos_buy_df.expPrice.apply(lambda x: get_prec(x, prec)))\n",
    "    \n",
    "    return pos_buy_df"
   ]
  },
  {
   "cell_type": "code",
   "execution_count": null,
   "metadata": {},
   "outputs": [],
   "source": [
    "%%time\n",
    "\n",
    "##### script ignored by jup2py\n",
    "# Program for normalizing returns from existing orders\n",
    "\n",
    "from z_helper import *\n",
    "util.startLoop()\n",
    "\n",
    "# from json\n",
    "a = assign_var('nse') + assign_var('common')\n",
    "for v in a:\n",
    "    exec(v)"
   ]
  },
  {
   "cell_type": "code",
   "execution_count": null,
   "metadata": {
    "scrolled": true
   },
   "outputs": [],
   "source": [
    "with get_connected('nse', 'live') as ib:\n",
    "    pos = ib.positions()\n",
    "    trades = ib.trades()\n",
    "    pos_contracts = ib.qualifyContracts(*[Contract(conId=c) for c in [p.contract.conId for p in pos]])\n",
    "    pos_tickers = ib.reqTickers(*pos_contracts)\n",
    "    pos_prices = {t.contract.conId: t.marketPrice() for t in pos_tickers}\n",
    "\n",
    "# if not pos:  # There is no position!\n",
    "#     return None # Just exit the function\n",
    "\n",
    "#... position dataframe\n",
    "pos_cols = ['conId', 'symbol', 'localSymbol', 'secType', 'lastTradeDateOrContractMonth', 'strike', 'right']\n",
    "pos_df = util.df(p.contract for p in pos)[pos_cols]\n",
    "pos_df = pos_df.rename({'lastTradeDateOrContractMonth': 'expiry'}, axis='columns')\n",
    "pos_df = pos_df.assign(dte=pos_df.expiry.apply(get_dte))\n",
    "pos_df['position'] = [p.position for p in pos]\n",
    "pos_df['avgCost'] = [p.avgCost for p in pos]\n",
    "pos_df['close'] = pos_df.conId.map(pos_prices)\n",
    "\n",
    "# take maximum of precision and minimum of hvstPrice, avgCost\n",
    "pos_df = pos_df.assign(hvstPrice=np.maximum(np.minimum((pos_df.dte.apply(hvstPricePct)*pos_df.avgCost).apply(lambda x: get_prec(x, 0.05)), pos_df.close), prec))\n",
    "\n",
    "if trades:\n",
    "    trades_df = util.df(t.contract for t in trades).join(util.df(t.order for t in trades)).join(util.df(t.orderStatus for t in trades), lsuffix='_')\n",
    "    trades_cols = ['conId', 'symbol', 'localSymbol', 'secType', 'expiry', 'strike', 'right', 'undPrice', 'sd', \n",
    "                   'rom', 'orderId', 'permId', 'action', 'totalQuantity', 'close', 'lmtPrice', 'status']\n",
    "else:\n",
    "    trades_df = pos_df.assign(action = 'No action', status = 'No status')\n",
    "    trades_cols = ['conId', 'symbol', 'localSymbol', 'secType', 'expiry', 'strike', 'right', 'undPrice', 'sd', \n",
    "                   'rom', 'action', 'status']\n",
    "\n",
    "# join with other parameters in sized_nse.pkl\n",
    "trades_df = trades_df.set_index('conId').join(pd.read_pickle(fspath+'sized_nse.pkl')[['optId', 'close', 'undPrice', 'rom', 'stDev']].set_index('optId'), lsuffix='_').rename_axis('conId').reset_index()\n",
    "trades_df = trades_df.rename({'lastTradeDateOrContractMonth': 'expiry'}, axis=1)\n",
    "trades_df = trades_df.assign(sd=abs(trades_df.strike-trades_df.undPrice)/trades_df.stDev)\n",
    "\n",
    "trades_df = trades_df[trades_cols]\n",
    "\n",
    "#... prepare BUY orders for positions without BUY orders\n",
    "\n",
    "# get the pos conIds that have some trade (BUY or SELL)\n",
    "pos_trade_cids = [tid for tid in trades_df.conId if tid in list(pos_df.conId)]\n",
    "\n",
    "# remove pos conIds that have BUY trade action\n",
    "pos_buy_cids = list(trades_df[trades_df.conId.isin(pos_trade_cids) & \n",
    "                              (trades_df.action == 'BUY') & \n",
    "                              ~(trades_df.status.isin(['Cancelled', 'PendingCancel' ]))].conId)\n",
    "pos_buy_df = pos_df[~pos_df.conId.isin(pos_buy_cids)]"
   ]
  },
  {
   "cell_type": "code",
   "execution_count": null,
   "metadata": {},
   "outputs": [],
   "source": [
    "ib = IB().connect('127.0.0.1', 3000, clientId=0, timeout=4)"
   ]
  },
  {
   "cell_type": "code",
   "execution_count": null,
   "metadata": {},
   "outputs": [],
   "source": [
    "ib.reqGlobalCancel()"
   ]
  },
  {
   "cell_type": "code",
   "execution_count": null,
   "metadata": {},
   "outputs": [],
   "source": [
    "df = workout_nse(ib)"
   ]
  },
  {
   "cell_type": "code",
   "execution_count": null,
   "metadata": {},
   "outputs": [],
   "source": []
  },
  {
   "cell_type": "code",
   "execution_count": null,
   "metadata": {},
   "outputs": [],
   "source": [
    "trades_df = util.df(t.contract for t in trades).join(util.df(t.order for t in trades)).join(util.df(t.orderStatus for t in trades), lsuffix='_')\n",
    "trades_df"
   ]
  },
  {
   "cell_type": "code",
   "execution_count": null,
   "metadata": {},
   "outputs": [],
   "source": [
    "ib.isConnected()"
   ]
  },
  {
   "cell_type": "code",
   "execution_count": null,
   "metadata": {},
   "outputs": [],
   "source": [
    "cancel_sells(ib)"
   ]
  },
  {
   "cell_type": "code",
   "execution_count": null,
   "metadata": {},
   "outputs": [],
   "source": [
    "# make lot and qty for trade blocks and rename conId to optId\n",
    "pos_buy_df = pos_buy_df.assign(lot=pos_buy_df.position.apply(abs), qty=1, expPrice=pos_buy_df.hvstPrice)\n",
    "pos_buy_df.rename(columns={'conId': 'optId'}, inplace=True)\n",
    "\n",
    "# make the buy back expPrice slightly lesser for those whose close price == buyback expPrice\n",
    "mask = (pos_buy_df.expPrice == pos_buy_df.close) & (pos_buy_df.expPrice > 0.05)\n",
    "pos_buy_df.loc[mask, 'expPrice'] = pos_buy_df[mask].expPrice-0.05\n",
    "\n",
    "# Make the NaN's to 0.05 expPrice\n",
    "pos_buy_df.loc[pos_buy_df.expPrice.isnull(), 'expPrice'] = 0.05\n",
    "\n",
    "# make the expPrice to the correct precision - else trades will fail\n",
    "pos_buy_df = pos_buy_df.assign(expPrice=pos_buy_df.expPrice.apply(lambda x: get_prec(x, prec)))"
   ]
  },
  {
   "cell_type": "code",
   "execution_count": null,
   "metadata": {},
   "outputs": [],
   "source": []
  },
  {
   "cell_type": "code",
   "execution_count": null,
   "metadata": {},
   "outputs": [],
   "source": [
    "# test workout program\n",
    "with get_connected('nse', 'live') as ib:\n",
    "     df_buy = workout_nse(ib)"
   ]
  },
  {
   "cell_type": "code",
   "execution_count": null,
   "metadata": {},
   "outputs": [],
   "source": []
  }
 ],
 "metadata": {
  "kernelspec": {
   "display_name": "Python 3",
   "language": "python",
   "name": "python3"
  },
  "language_info": {
   "codemirror_mode": {
    "name": "ipython",
    "version": 3
   },
   "file_extension": ".py",
   "mimetype": "text/x-python",
   "name": "python",
   "nbconvert_exporter": "python",
   "pygments_lexer": "ipython3",
   "version": "3.7.1"
  }
 },
 "nbformat": 4,
 "nbformat_minor": 2
}
