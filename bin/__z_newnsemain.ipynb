{
 "cells": [
  {
   "cell_type": "code",
   "execution_count": null,
   "metadata": {},
   "outputs": [],
   "source": [
    "# header.py\n",
    "\n",
    "# imports\n",
    "from support import *\n",
    "\n",
    "import time\n",
    "from datetime import datetime\n",
    "from itertools import product\n",
    "from math import erf, sqrt\n",
    "import sys\n",
    "\n",
    "# start the ib loop\n",
    "util.startLoop()\n",
    "\n",
    "# connect to the market set in variables.json\n",
    "try:\n",
    "    if not ib.isConnected():\n",
    "        ib = get_connected(market, 'live')\n",
    "except Exception as e:\n",
    "    ib = get_connected(market, 'live')\n",
    "\n",
    "# from json\n",
    "a = assign_var(market) + assign_var('common')\n",
    "for v in a:\n",
    "    exec(v)\n",
    "\n",
    "# reset the log\n",
    "with open(logpath+'main.log', 'w'):\n",
    "    pass # clear the run log\n",
    "\n",
    "util.logToFile(logpath+'main.log')\n",
    "    \n",
    "jup_disp_adjust() # adjust jupyter's display"
   ]
  },
  {
   "cell_type": "code",
   "execution_count": null,
   "metadata": {},
   "outputs": [],
   "source": []
  },
  {
   "cell_type": "code",
   "execution_count": null,
   "metadata": {},
   "outputs": [],
   "source": []
  },
  {
   "cell_type": "code",
   "execution_count": null,
   "metadata": {},
   "outputs": [],
   "source": []
  }
 ],
 "metadata": {
  "kernelspec": {
   "display_name": "Python 3",
   "language": "python",
   "name": "python3"
  },
  "language_info": {
   "codemirror_mode": {
    "name": "ipython",
    "version": 3
   },
   "file_extension": ".py",
   "mimetype": "text/x-python",
   "name": "python",
   "nbconvert_exporter": "python",
   "pygments_lexer": "ipython3",
   "version": "3.7.1"
  }
 },
 "nbformat": 4,
 "nbformat_minor": 2
}
