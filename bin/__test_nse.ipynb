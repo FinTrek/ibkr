{
 "cells": [
  {
   "cell_type": "code",
   "execution_count": null,
   "metadata": {},
   "outputs": [],
   "source": [
    "# nse scratchpad initiation\n",
    "from helper import *\n",
    "from nse_func import *\n",
    "\n",
    "# Do assignments\n",
    "a = assign_var('nse')\n",
    "for v in a:\n",
    "    exec(v)\n",
    "\n",
    "from ib_insync import *\n",
    "util.startLoop()\n",
    "\n",
    "ib =  get_connected('nse', 'live')"
   ]
  },
  {
   "cell_type": "raw",
   "metadata": {},
   "source": [
    "%%time\n",
    "with open(logpath+'build.log', 'w'):\n",
    "    pass # clear the run log\n",
    "\n",
    "util.logToFile(logpath+'build.log')\n",
    "\n",
    "# get the rom and optPrice\n",
    "util.logging.info('***               NSE TARGETS BUILD STARTED                  ***')\n",
    "targets(ib)\n",
    "util.logging.info('__________________NSE TARGETS BUILD COMPLETE_____________________')"
   ]
  },
  {
   "cell_type": "code",
   "execution_count": null,
   "metadata": {},
   "outputs": [],
   "source": [
    "%%time\n",
    "with open(logpath+'build.log', 'w'):\n",
    "    pass # clear the run log\n",
    "\n",
    "util.logToFile(logpath+'build.log')\n",
    "base(ib)\n",
    "print('Base build completed')"
   ]
  },
  {
   "cell_type": "code",
   "execution_count": null,
   "metadata": {},
   "outputs": [],
   "source": [
    "# ... make the input dataframes\n",
    "#______________________________\n",
    "\n",
    "df_ac = util.df(ib.accountSummary()) # account summary\n",
    "\n",
    "# ..positions\n",
    "\n",
    "df_p = util.df(ib.positions())\n",
    "\n",
    "df_pc = util.df(list(df_p.contract))\n",
    "df_pc = df_pc[list(df_pc)[:6]]\n",
    "df_pc = df_pc.rename(columns={'lastTradeDateOrContractMonth': 'expiration'})\n",
    "\n",
    "df_pc = df_pc.join(df_p[['position', 'avgCost']]) # merge contract with postion and avgCost\n",
    "df_pos = df_pc.assign(avgCost=np.where(df_pc.secType == 'OPT', df_pc.avgCost, df_pc.avgCost))\n",
    "\n",
    "df_buy = df_pos[df_pos.secType == 'OPT'] # filter out any assigned stock\n",
    "\n",
    "# ..Get the buy option prices\n",
    "buy_opts = ib.qualifyContracts(*[Contract(conId=c) for c in df_buy.conId])\n",
    "buy_ticks = ib.reqTickers(*buy_opts)\n",
    "buyOptPrices = {t.contract.conId: t.marketPrice() for t in buy_ticks} # {symbol: undPrice}\n",
    "\n",
    "df_buy = df_buy.assign(optPrice = df_buy.conId.map(buyOptPrices))\n",
    "df_buy = df_buy.assign(optPrice = df_buy.optPrice.fillna(prec)) # make NaN to lowest price (prec)\n",
    "\n",
    "#..get harvest price\n",
    "\n",
    "# dte\n",
    "df_buy = df_buy.assign(dte=[get_dte(d) for d in df_buy.expiration])\n",
    "\n",
    "# first hvstPrice\n",
    "df_buy = df_buy.assign(hvstPrice=[get_prec(min(hvstPricePct(d)*c,mp*0.9),prec) \n",
    "                              for d, c, mp in zip(df_buy.dte, df_buy.avgCost, df_buy.optPrice)])\n",
    "\n",
    "# adjust to lower hvstPrice for hvstPrice = optPrice\n",
    "df_buy = df_buy.assign(hvstPrice=np.where((df_buy.optPrice == df_buy.hvstPrice) &\n",
    "             (df_buy.hvstPrice > prec), df_buy.optPrice - prec, df_buy.hvstPrice))\n",
    "\n",
    "# reduce the buy price to even lesser for hvstPrice > 0.05\n",
    "mask = (df_buy.hvstPrice > df_buy.optPrice*0.7) & (df_buy.hvstPrice != 0.05)\n",
    "df_buy.loc[mask, 'hvstPrice'] = get_prec(df_buy[mask].hvstPrice*0.5, prec)\n",
    "\n",
    "#...prepare to place the orders\n",
    "buy_orders = [LimitOrder(action='BUY', totalQuantity=-position, lmtPrice=hvstPrice) \n",
    "                      for position, hvstPrice in zip(df_buy.position, df_buy.hvstPrice)]\n",
    "\n",
    "#...prepare to place the orders\n",
    "buy_orders = [LimitOrder(action='BUY', totalQuantity=-position, lmtPrice=hvstPrice) \n",
    "                      for position, hvstPrice in zip(df_buy.position, df_buy.hvstPrice)]\n",
    "\n",
    "hco = list(zip(buy_opts, buy_orders))"
   ]
  },
  {
   "cell_type": "raw",
   "metadata": {},
   "source": [
    "hvstTrades = [ib.placeOrder(c, o) for c, o in hco]"
   ]
  },
  {
   "cell_type": "code",
   "execution_count": null,
   "metadata": {},
   "outputs": [],
   "source": []
  }
 ],
 "metadata": {
  "kernelspec": {
   "display_name": "Python 3",
   "language": "python",
   "name": "python3"
  },
  "language_info": {
   "codemirror_mode": {
    "name": "ipython",
    "version": 3
   },
   "file_extension": ".py",
   "mimetype": "text/x-python",
   "name": "python",
   "nbconvert_exporter": "python",
   "pygments_lexer": "ipython3",
   "version": "3.7.1"
  }
 },
 "nbformat": 4,
 "nbformat_minor": 2
}
