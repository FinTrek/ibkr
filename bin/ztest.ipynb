{
 "cells": [
  {
   "cell_type": "code",
   "execution_count": null,
   "metadata": {},
   "outputs": [],
   "source": [
    "# Following to be uncommented on first run ...\n",
    "\n",
    "from helper import get_connected\n",
    "from ib_insync import *\n",
    "util.startLoop()\n",
    "ib = get_connected('nse', 'live') # close the connection and delete it final function"
   ]
  },
  {
   "cell_type": "code",
   "execution_count": null,
   "metadata": {},
   "outputs": [],
   "source": [
    "%%time\n",
    "# WEEKEND GENERATION PROCESS - UNDERLYINGS FIRST\n",
    "# ______________________________________________\n",
    "\n",
    "# testing pickle nses function\n",
    "\n",
    "from nse_func import p_nses\n",
    "df = p_nses(ib)\n",
    "df"
   ]
  },
  {
   "cell_type": "code",
   "execution_count": null,
   "metadata": {},
   "outputs": [],
   "source": [
    "%%time\n",
    "# WEEKEND GENERATION PROCESS - OPTIONS SECOND\n",
    "# ______________________________________________\n",
    "\n",
    "# testing pickle nse options function\n",
    "\n",
    "import pandas as pd\n",
    "from nse_func import p_nseopts\n",
    "\n",
    "fspath = '../data/nse/'\n",
    "df = pd.read_pickle(fspath+'_lot_margin.pickle')\n",
    "[p_nseopts(ib=ib,undContract=u, undPrice=p, lotsize=z, margin=m) for u, p, z, m in zip(df.contract, df.undPrice, df.lot, df.margin)]"
   ]
  },
  {
   "cell_type": "code",
   "execution_count": null,
   "metadata": {},
   "outputs": [],
   "source": []
  },
  {
   "cell_type": "code",
   "execution_count": null,
   "metadata": {},
   "outputs": [],
   "source": [
    "# EVERYDAY UPDATE PROCESS (FIRST PART)\n",
    "# ___________________________________\n",
    "\n",
    "# testing nse underlying update function\n",
    "\n",
    "import pandas as pd\n",
    "fspath = '../data/nse/'\n",
    "dfu = pd.read_pickle(fspath+'_lot_margin.pickle')\n",
    "dfu"
   ]
  },
  {
   "cell_type": "code",
   "execution_count": null,
   "metadata": {},
   "outputs": [],
   "source": [
    "dfu.loc[:, ['margin', 'undPrice']] = 0 # zerorize margin and undPrice to test\n",
    "dfu"
   ]
  },
  {
   "cell_type": "code",
   "execution_count": null,
   "metadata": {},
   "outputs": [],
   "source": [
    "%%time\n",
    "\n",
    "from nse_func import upd_nses\n",
    "upd_nses(ib, dfu)"
   ]
  },
  {
   "cell_type": "code",
   "execution_count": null,
   "metadata": {},
   "outputs": [],
   "source": []
  },
  {
   "cell_type": "code",
   "execution_count": null,
   "metadata": {},
   "outputs": [],
   "source": [
    "%%time\n",
    "\n",
    "# EVERYDAY UPDATE PROCESS (SECOND PART - OPT PRICE)\n",
    "# ________________________________________________\n",
    "\n",
    "# Option price update\n",
    "# Note: If the DataFrame given is a 'target' one, it will be every minute\n",
    "\n",
    "import pandas as pd\n",
    "fspath = '../data/nse/'\n",
    "\n",
    "from os import listdir\n",
    "\n",
    "from helper import upd_opt\n",
    "\n",
    "blk = 50\n",
    "fs = listdir(fspath)\n",
    "\n",
    "# collect the options\n",
    "optsList = [f for f in fs if f[-3:] == 'pkl']\n",
    "dfopts = pd.concat([pd.read_pickle(fspath+f) \n",
    "                 for f in optsList], axis=0, sort=True).reset_index(drop=True)\n",
    "\n",
    "# all options with price updated\n",
    "df = upd_opt(ib, dfopts)"
   ]
  },
  {
   "cell_type": "code",
   "execution_count": null,
   "metadata": {},
   "outputs": [],
   "source": [
    "df.head()"
   ]
  },
  {
   "cell_type": "code",
   "execution_count": null,
   "metadata": {},
   "outputs": [],
   "source": [
    "# EVERYDAY UPDATE PROCESS (THIRD PART - REMAINING QUANTITIES PRICE)\n",
    "# _________________________________________________________________\n",
    "\n",
    "exchange = 'NSE'\n",
    "nse_assignment_limit = 1500000\n",
    "\n",
    "# get the list of underlying contracts and dictionary of lots\n",
    "qlm = get_nses(ib)\n",
    "c_dict = qlm[0]       # {symbol: contract}\n",
    "lots_dict = qlm[1]    # {symbol: lotsize}\n",
    "margin_dict = qlm[2]  # {symbol: margin}\n",
    "\n",
    "undContracts = [v for k, v in c_dict.items()]\n",
    "\n",
    "tickers = ib.reqTickers(*undContracts)\n",
    "undPrices = {t.contract.symbol: t.marketPrice() for t in tickers} # {symbol: undPrice}\n",
    "\n",
    "df_und = \\\n",
    "    pd.DataFrame.from_dict(lots_dict, orient='index', columns=['lotsize']).\\\n",
    "    join(pd.DataFrame.from_dict(undPrices, orient='index', columns=['undPrice'])).\\\n",
    "    join(pd.DataFrame.from_dict(c_dict, orient='index', columns=['undContract'])).dropna()\n",
    "\n",
    "df_und = df_und.assign(remq=(nse_assignment_limit/(df_und.lotsize*df_und.undPrice)).astype('int')) # remaining quantities in entire nse\n",
    "\n",
    "# from portfolio\n",
    "#_______________\n",
    "\n",
    "p = util.df(ib.portfolio()) # portfolio table\n",
    "\n",
    "# extract option contract info from portfolio table\n",
    "dfp = pd.concat([p, util.df([c for c in p.contract])[util.df([c for c in p.contract]).columns[:7]]], axis=1).iloc[:, 1:]\n",
    "dfp = dfp.rename(columns={'lastTradeDateOrContractMonth': 'expiration'})\n",
    "\n",
    "# get the underlying's margins, lots, prices and positions\n",
    "pos_dict = dfp.groupby('symbol')['position'].sum().to_dict()\n",
    "p_syms = {s for s in dfp.symbol}\n",
    "p_undc = {s: ib.qualifyContracts(Stock(s, exchange)) for s in p_syms}   # {symbol: contracts} dictionary\n",
    "p_undMargins = {u: margin_dict[u] for u in p_syms} # {symbol: undMargin} dictionary\n",
    "p_undLots = {u: lots_dict[u] for u in p_syms}      # {symbol: lots} dictionary\n",
    "p_undPrices = {u: undPrices[u] for u in p_syms}    #{symbol: undPrice} dictionary\n",
    "\n",
    "dfp1 = pd.DataFrame.from_dict(p_undc, orient='index', columns=['contract']). \\\n",
    "    join(pd.DataFrame.from_dict(p_undMargins, orient='index', columns=['undmargin'])). \\\n",
    "    join(pd.DataFrame.from_dict(p_undLots, orient = 'index', columns=['undLot'])). \\\n",
    "    join(pd.DataFrame.from_dict(p_undPrices, orient='index', columns=['undPrice'])). \\\n",
    "    join(pd.DataFrame.from_dict(pos_dict, orient='index', columns=['position']))\n",
    "\n",
    "dfp1 = dfp1.assign(qty=(dfp1.position/dfp1.undLot).astype('int'))\n",
    "\n",
    "# make the blacklist\n",
    "#___________________\n",
    "remqty_dict = pd.DataFrame(df_und.loc[dfp1.index].remq + dfp1.qty).to_dict()[0] # remq from portfolio\n",
    "remqty_dict = {k:(v if v > 0 else 0) for k, v in remqty_dict.items()} # portfolio's remq with negative values removed\n",
    "blacklist = [k for k, v in remqty_dict.items() if v <=0] # the blacklist\n",
    "df_und.remq.update(pd.Series(remqty_dict)) # replace all underlying with remq of portfolio\n",
    "remqty = df_und.remq.to_dict() # dictionary\n",
    "return remqty"
   ]
  }
 ],
 "metadata": {
  "kernelspec": {
   "display_name": "Python 3",
   "language": "python",
   "name": "python3"
  },
  "language_info": {
   "codemirror_mode": {
    "name": "ipython",
    "version": 3
   },
   "file_extension": ".py",
   "mimetype": "text/x-python",
   "name": "python",
   "nbconvert_exporter": "python",
   "pygments_lexer": "ipython3",
   "version": "3.7.1"
  }
 },
 "nbformat": 4,
 "nbformat_minor": 2
}
