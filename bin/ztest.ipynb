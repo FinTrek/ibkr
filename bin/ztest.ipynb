{
 "cells": [
  {
   "cell_type": "code",
   "execution_count": 1,
   "metadata": {},
   "outputs": [],
   "source": [
    "# imports.py\n",
    "from support import *\n",
    "\n",
    "import time\n",
    "from datetime import datetime\n",
    "from itertools import product\n",
    "from math import erf, sqrt\n",
    "import sys\n",
    "\n",
    "# start the ib loop\n",
    "util.startLoop()\n",
    "\n",
    "# connect to the market set in variables.json\n",
    "try:\n",
    "    if not ib.isConnected():\n",
    "        ib = get_connected(market, 'live')\n",
    "except Exception as e:\n",
    "    ib = get_connected(market, 'live')\n",
    "\n",
    "# from json\n",
    "a = assign_var(market) + assign_var('common')\n",
    "for v in a:\n",
    "    exec(v)\n",
    "\n",
    "# reset the log\n",
    "with open(logpath+'test.log', 'w'):\n",
    "    pass # clear the run log\n",
    "\n",
    "util.logToFile(logpath+'test.log')\n",
    "    \n",
    "jup_disp_adjust() # adjust jupyter's display"
   ]
  },
  {
   "cell_type": "code",
   "execution_count": 8,
   "metadata": {},
   "outputs": [],
   "source": [
    "# get pnl data (asyncio)\n",
    "async def pnlcoro(ib):\n",
    "    '''Gets the pnl object'''\n",
    "    acct = ib.managedAccounts()[0]\n",
    "    pnl = ib.reqPnL(acct)\n",
    "    await ib.pnlEvent\n",
    "    return pnl\n",
    "\n",
    "# pnl object raises AssertionError if run the second time!!\n",
    "try:\n",
    "    pnl = ib.run(pnlcoro(ib))\n",
    "except AssertionError:\n",
    "    pass\n",
    "\n",
    "# convert to dictionary and remove modelcode\n",
    "pnldict = pnl.dict()\n",
    "del pnldict['modelCode']\n",
    "\n",
    "acsum = get_acc_summary(ib)\n",
    "\n",
    "# merge the dictionaries\n",
    "keydata = {**pnldict, **acsum}"
   ]
  },
  {
   "cell_type": "code",
   "execution_count": 9,
   "metadata": {},
   "outputs": [
    {
     "data": {
      "text/plain": "{'account': 'U9329809',\n 'dailyPnL': 97646.23421355347,\n 'unrealizedPnL': -130695.89232714652,\n 'realizedPnL': 25298.084858000002,\n 'NLV': 24382604.79,\n 'initmargin': 8687979.69,\n 'unrealzPnL': -133641.8,\n 'realzPnL': 27893.82,\n 'avFunds': 15694625.09}"
     },
     "execution_count": 9,
     "metadata": {},
     "output_type": "execute_result"
    }
   ],
   "source": [
    "keydata"
   ]
  },
  {
   "cell_type": "code",
   "execution_count": 7,
   "metadata": {},
   "outputs": [
    {
     "data": {
      "text/plain": "{'NLV': 24379764.37,\n 'initmargin': 8786946.09,\n 'unrealzPnL': -133886.49,\n 'realzPnL': 25298.08,\n 'avFunds': 15592818.28}"
     },
     "execution_count": 7,
     "metadata": {},
     "output_type": "execute_result"
    }
   ],
   "source": [
    "get_acc_summary(ib)"
   ]
  },
  {
   "cell_type": "code",
   "execution_count": null,
   "metadata": {},
   "outputs": [],
   "source": [
    "get_df_buys(ib, market, prec)"
   ]
  },
  {
   "cell_type": "code",
   "execution_count": null,
   "metadata": {},
   "outputs": [],
   "source": [
    "trades = ib.trades()\n",
    "all_trades_df = util.df(t.contract for t in trades).join(util.df(t.orderStatus for t in trades)).join(util.df(t.order for t in trades), lsuffix='_')\n",
    "all_trades_df.rename({'lastTradeDateOrContractMonth': 'expiry'}, axis='columns', inplace=True)\n",
    "trades_cols = ['conId', 'symbol', 'localSymbol', 'secType', 'expiry', 'strike', 'right', \n",
    "               'orderId', 'permId', 'action', 'totalQuantity', 'lmtPrice', 'status']\n",
    "trades_df = all_trades_df[trades_cols]\n",
    "fills_df = trades_df[trades_df.status == 'Filled']"
   ]
  },
  {
   "cell_type": "code",
   "execution_count": null,
   "metadata": {},
   "outputs": [],
   "source": []
  }
 ],
 "metadata": {
  "file_extension": ".py",
  "kernelspec": {
   "display_name": "Python 3",
   "language": "python",
   "name": "python3"
  },
  "language_info": {
   "codemirror_mode": {
    "name": "ipython",
    "version": 3
   },
   "file_extension": ".py",
   "mimetype": "text/x-python",
   "name": "python",
   "nbconvert_exporter": "python",
   "pygments_lexer": "ipython3",
   "version": "3.8.0"
  },
  "mimetype": "text/x-python",
  "name": "python",
  "npconvert_exporter": "python",
  "pygments_lexer": "ipython3",
  "version": 3
 },
 "nbformat": 4,
 "nbformat_minor": 2
}