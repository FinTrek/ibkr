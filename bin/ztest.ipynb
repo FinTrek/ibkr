{
 "cells": [
  {
   "cell_type": "code",
   "execution_count": 1,
   "metadata": {},
   "outputs": [],
   "source": [
    "# imports.py\n",
    "from support import *\n",
    "\n",
    "import time\n",
    "from datetime import datetime\n",
    "from itertools import product\n",
    "from math import erf, sqrt\n",
    "import sys\n",
    "\n",
    "# start the ib loop\n",
    "util.startLoop()\n",
    "\n",
    "# connect to the market set in variables.json\n",
    "try:\n",
    "    if not ib.isConnected():\n",
    "        ib = get_connected(market, 'live')\n",
    "except Exception as e:\n",
    "    ib = get_connected(market, 'live')\n",
    "\n",
    "# from json\n",
    "a = assign_var(market) + assign_var('common')\n",
    "for v in a:\n",
    "    exec(v)\n",
    "\n",
    "# reset the log\n",
    "with open(logpath+'test.log', 'w'):\n",
    "    pass # clear the run log\n",
    "\n",
    "util.logToFile(logpath+'test.log')\n",
    "    \n",
    "jup_disp_adjust() # adjust jupyter's display"
   ]
  },
  {
   "cell_type": "code",
   "execution_count": 2,
   "metadata": {},
   "outputs": [],
   "source": [
    "# get pnl data (asyncio)\n",
    "async def pnlcoro(ib):\n",
    "    '''Gets the pnl object'''\n",
    "    acct = ib.managedAccounts()[0]\n",
    "    pnl = ib.reqPnL(acct)\n",
    "    await ib.pnlEvent\n",
    "    return pnl\n",
    "\n",
    "# pnl object raises AssertionError if run the second time!!\n",
    "try:\n",
    "    pnl = ib.run(pnlcoro(ib))\n",
    "except AssertionError:\n",
    "    pass\n",
    "\n",
    "# convert to dictionary and remove modelcode\n",
    "pnldict = pnl.dict()\n",
    "del pnldict['modelCode']\n",
    "\n",
    "acsum = get_acc_summary(ib)\n",
    "\n",
    "# merge the dictionaries\n",
    "keydata = {**pnldict, **acsum}"
   ]
  },
  {
   "cell_type": "code",
   "execution_count": 3,
   "metadata": {},
   "outputs": [
    {
     "data": {
      "text/plain": [
       "{'account': 'U8898867',\n",
       " 'dailyPnL': -15379.198610000009,\n",
       " 'unrealizedPnL': -31036.951556499982,\n",
       " 'realizedPnL': 34.5495,\n",
       " 'NLV': 607800.34,\n",
       " 'initmargin': 498420.49,\n",
       " 'unrealzPnL': 0.0,\n",
       " 'realzPnL': 0.0,\n",
       " 'avFunds': 109379.85}"
      ]
     },
     "execution_count": 3,
     "metadata": {},
     "output_type": "execute_result"
    }
   ],
   "source": [
    "keydata"
   ]
  },
  {
   "cell_type": "code",
   "execution_count": 4,
   "metadata": {},
   "outputs": [
    {
     "data": {
      "text/plain": [
       "{'NLV': 607800.34,\n",
       " 'initmargin': 498420.49,\n",
       " 'unrealzPnL': 0.0,\n",
       " 'realzPnL': 0.0,\n",
       " 'avFunds': 109379.85}"
      ]
     },
     "execution_count": 4,
     "metadata": {},
     "output_type": "execute_result"
    }
   ],
   "source": [
    "get_acc_summary(ib)"
   ]
  },
  {
   "cell_type": "code",
   "execution_count": null,
   "metadata": {},
   "outputs": [],
   "source": [
    "get_df_buys(ib, market, prec)"
   ]
  },
  {
   "cell_type": "code",
   "execution_count": null,
   "metadata": {},
   "outputs": [],
   "source": [
    "trades = ib.trades()\n",
    "all_trades_df = util.df(t.contract for t in trades).join(util.df(t.orderStatus for t in trades)).join(util.df(t.order for t in trades), lsuffix='_')\n",
    "all_trades_df.rename({'lastTradeDateOrContractMonth': 'expiry'}, axis='columns', inplace=True)\n",
    "trades_cols = ['conId', 'symbol', 'localSymbol', 'secType', 'expiry', 'strike', 'right', \n",
    "               'orderId', 'permId', 'action', 'totalQuantity', 'lmtPrice', 'status']\n",
    "trades_df = all_trades_df[trades_cols]\n",
    "fills_df = trades_df[trades_df.status == 'Filled']"
   ]
  },
  {
   "cell_type": "code",
   "execution_count": null,
   "metadata": {},
   "outputs": [],
   "source": [
    "# get the template\n",
    "    df_opentrades = pd.read_pickle('./templates/df_opentrades.pkl')\n",
    "    df_opentrades.drop(df_opentrades.index, inplace=True) # empty it!\n",
    "\n",
    "    # get the trades\n",
    "    trades = ib.openTrades()\n",
    "    trade_cols = ['secType', 'conId', 'symbol', 'lastTradeDateOrContractMonth', 'strike', 'right', 'action', \n",
    "                  'status', 'orderId', 'permId', 'lmtPrice', 'filled', 'remaining']\n",
    "\n",
    "    # append it, if available\n",
    "    if trades:\n",
    "        df_ot = df_opentrades.append(util.df(t.contract for t in trades).join(util.df(t.order for t in trades)).join(util.df(t.orderStatus for t in trades), lsuffix='_'))\n",
    "        df_ot = df_ot[trade_cols].rename(columns={'lastTradeDateOrContractMonth': 'expiry'})\n",
    "#         active_status = {'ApiPending', 'PendingSubmit', 'PreSubmitted', 'Submitted'}\n",
    "        df_activebuys = df_ot[(df_ot.action == 'BUY') & (df_ot.status.isin(active_status))]\n",
    "        df_activesells = df_ot[(df_ot.action == 'SELL') & (df_ot.status.isin(active_status))]\n",
    "    else:\n",
    "        df_activebuys = df_opentrades[trade_cols].rename(columns={'lastTradeDateOrContractMonth': 'expiry'})\n",
    "        df_activesells = df_opentrades[trade_cols].rename(columns={'lastTradeDateOrContractMonth': 'expiry'})\n",
    "\n",
    "    #... get the portfolio\n",
    "    df_pfolio = portf(ib)\n",
    "\n",
    "    # remove from portfolio options with active buys\n",
    "    df_buys = df_pfolio[~df_pfolio.conId.isin(df_activebuys.conId)]\n",
    "\n",
    "    # remove stocks, keep only options\n",
    "    df_buys = df_buys[df_buys.secType == 'OPT'] \n",
    "\n",
    "    # Remove the opts with position > 0. These are errors / longs that should not be re-bought automatically!\n",
    "    df_buys = df_buys[df_buys.position < 0]\n",
    "\n",
    "    # Rename the column conId to optId\n",
    "    df_buys = df_buys.rename(columns={'conId': 'optId'})\n",
    "\n",
    "    # get the dte\n",
    "    df_buys = df_buys.assign(dte=df_buys.expiry.apply(get_dte))\n",
    "\n",
    "    df_buys = df_buys[df_buys.dte > 1] # spare the last day!\n",
    "\n",
    "    #... get the expected price to sell.\n",
    "    df_buys = df_buys.assign(expPrice = np.maximum( \\\n",
    "                                            np.minimum(df_buys.dte.apply(hvstPricePct)*df_buys.averageCost, (df_buys.marketPrice-2*prec)), \\\n",
    "                                            prec) \\\n",
    "                                            .apply(lambda x: get_prec(x, prec)))\n",
    "\n",
    "    # set the quantity\n",
    "    df_buys = df_buys.assign(qty = df_buys.position.apply(abs))\n",
    "    df_buys = df_buys.assign(lot=1) # doesn't need to be lotsize for NSE"
   ]
  },
  {
   "cell_type": "code",
   "execution_count": null,
   "metadata": {},
   "outputs": [],
   "source": []
  },
  {
   "cell_type": "code",
   "execution_count": null,
   "metadata": {},
   "outputs": [],
   "source": [
    "class GlobalWealth(object):\n",
    "    def __init__(self):\n",
    "        self._global_wealth = 10.0\n",
    "        self._observers = []\n",
    "\n",
    "    @property\n",
    "    def global_wealth(self):\n",
    "        return self._global_wealth\n",
    "\n",
    "    @global_wealth.setter\n",
    "    def global_wealth(self, value):\n",
    "        self._global_wealth = value\n",
    "        for callback in self._observers:\n",
    "            print('announcing change')\n",
    "            callback(self._global_wealth)\n",
    "\n",
    "    def bind_to(self, callback):\n",
    "        print('bound')\n",
    "        self._observers.append(callback)\n",
    "\n",
    "\n",
    "class Person(object):\n",
    "    def __init__(self, data):\n",
    "        self.wealth = 1.0\n",
    "        self.data = data\n",
    "        self.data.bind_to(self.update_how_happy)\n",
    "        self.happiness = self.wealth / self.data.global_wealth\n",
    "\n",
    "    def update_how_happy(self, global_wealth):\n",
    "        self.happiness = self.wealth / global_wealth\n",
    "\n",
    "\n",
    "if __name__ == '__main__':\n",
    "    data = GlobalWealth()\n",
    "    p = Person(data)\n",
    "    print(p.happiness)\n",
    "    data.global_wealth = 1.0\n",
    "    print(p.happiness)\n"
   ]
  },
  {
   "cell_type": "code",
   "execution_count": null,
   "metadata": {},
   "outputs": [],
   "source": []
  },
  {
   "cell_type": "code",
   "execution_count": null,
   "metadata": {},
   "outputs": [],
   "source": [
    "len(df_ot)"
   ]
  },
  {
   "cell_type": "code",
   "execution_count": null,
   "metadata": {},
   "outputs": [],
   "source": [
    "len(df_activebuys)"
   ]
  },
  {
   "cell_type": "code",
   "execution_count": null,
   "metadata": {},
   "outputs": [],
   "source": [
    "len(df_activesells)"
   ]
  },
  {
   "cell_type": "code",
   "execution_count": null,
   "metadata": {},
   "outputs": [],
   "source": [
    "import wx\n",
    "\n",
    "class MyFrame(wx.Frame):\n",
    "    def __init__(self, parent, id, title):\n",
    "        wx.Frame.__init__(self, parent, id, title, size=(300,300))\n",
    "\n",
    "        panel = wx.Panel(self, -1)\n",
    "        wx.Button(panel, 1, 'Show Custom Dialog', (100,100))\n",
    "        self.Bind (wx.EVT_BUTTON, self.OnShowCustomDialog, id=1)\n",
    "\n",
    "        wx.CallLater(1000, self.OnShowCustomDialog)\n",
    "\n",
    "    def OnShowCustomDialog(self, event=None):\n",
    "        dia = MyDialog(self, -1, 'buttons')\n",
    "        dia.Show()\n",
    "        wx.CallLater(4000, dia.Destroy)\n",
    "\n",
    "class MyApp(wx.App):\n",
    "    def OnInit(self):\n",
    "        frame = MyFrame(None, -1, 'customdialog1.py')\n",
    "        frame.Show(True)\n",
    "        frame.Centre()\n",
    "        return True\n",
    "\n",
    "app = MyApp(0)\n",
    "app.MainLoop()"
   ]
  },
  {
   "cell_type": "code",
   "execution_count": null,
   "metadata": {},
   "outputs": [],
   "source": []
  }
 ],
 "metadata": {
  "file_extension": ".py",
  "kernelspec": {
   "display_name": "Python 3",
   "language": "python",
   "name": "python3"
  },
  "language_info": {
   "codemirror_mode": {
    "name": "ipython",
    "version": 3
   },
   "file_extension": ".py",
   "mimetype": "text/x-python",
   "name": "python",
   "nbconvert_exporter": "python",
   "pygments_lexer": "ipython3",
   "version": "3.7.1"
  },
  "mimetype": "text/x-python",
  "name": "python",
  "npconvert_exporter": "python",
  "pygments_lexer": "ipython3",
  "version": 3
 },
 "nbformat": 4,
 "nbformat_minor": 2
}
