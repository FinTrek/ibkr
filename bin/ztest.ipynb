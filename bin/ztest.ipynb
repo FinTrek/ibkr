{
 "cells": [
  {
   "cell_type": "code",
   "execution_count": 1,
   "metadata": {},
   "outputs": [],
   "source": [
    "# TESTING FOR NSE\n",
    "# ***************\n",
    "\n",
    "# Following to be uncommented on first run ...\n",
    "\n",
    "from helper import get_connected\n",
    "from ib_insync import *\n",
    "util.startLoop()\n",
    "ib = get_connected('nse', 'live') # close the connection and delete it final function\n",
    "\n",
    "fspath = '../data/nse/'\n",
    "\n",
    "util.logToFile(fspath+'_errors.log')  # create log file\n",
    "with open(fspath+'_errors.log', 'w'): # clear the previous log\n",
    "    pass"
   ]
  },
  {
   "cell_type": "code",
   "execution_count": null,
   "metadata": {},
   "outputs": [],
   "source": [
    "%%time\n",
    "# WEEKEND GENERATION PROCESS - UNDERLYINGS FIRST\n",
    "# ______________________________________________\n",
    "\n",
    "# testing pickle nses function\n",
    "\n",
    "from nse_func import p_nses\n",
    "df = p_nses(ib)\n",
    "df"
   ]
  },
  {
   "cell_type": "code",
   "execution_count": null,
   "metadata": {},
   "outputs": [],
   "source": [
    "%%time\n",
    "# WEEKEND GENERATION PROCESS - OPTIONS SECOND\n",
    "# ______________________________________________\n",
    "\n",
    "# testing pickle nse options function\n",
    "\n",
    "import pandas as pd\n",
    "from os import listdir\n",
    "\n",
    "from nse_func import p_nseopts\n",
    "\n",
    "keep_pickles = True   # keep already pickled symbols\n",
    "\n",
    "fspath = '../data/nse/'\n",
    "\n",
    "df = pd.read_pickle(fspath+'_lot_margin.pickle').dropna()\n",
    "\n",
    "if keep_pickles:\n",
    "    fs = listdir(fspath)\n",
    "    optsList = [f[:-4] for f in fs if f[-3:] == 'pkl']\n",
    "    dfr = df[~df.index.isin(optsList)] # remaining dfs (without existing pickles)\n",
    "    [p_nseopts(ib=ib,undContract=u, undPrice=p, lotsize=z, margin=m) for u, p, z, m in zip(dfr.contract, dfr.undPrice, dfr.lot, dfr.margin)]\n",
    "else:\n",
    "    [p_nseopts(ib=ib,undContract=u, undPrice=p, lotsize=z, margin=m) for u, p, z, m in zip(df.contract, df.undPrice, df.lot, df.margin)]"
   ]
  },
  {
   "cell_type": "code",
   "execution_count": null,
   "metadata": {},
   "outputs": [],
   "source": []
  },
  {
   "cell_type": "code",
   "execution_count": null,
   "metadata": {},
   "outputs": [],
   "source": [
    "# EVERYDAY UPDATE PROCESS (FIRST PART)\n",
    "# ___________________________________\n",
    "\n",
    "# testing nse underlying update function\n",
    "\n",
    "import pandas as pd\n",
    "fspath = '../data/nse/'\n",
    "dfu = pd.read_pickle(fspath+'_lot_margin.pickle').dropna()\n",
    "dfu"
   ]
  },
  {
   "cell_type": "code",
   "execution_count": null,
   "metadata": {},
   "outputs": [],
   "source": [
    "dfu.loc[:, ['margin', 'undPrice']] = 0 # zerorize margin and undPrice to test\n",
    "dfu"
   ]
  },
  {
   "cell_type": "code",
   "execution_count": null,
   "metadata": {},
   "outputs": [],
   "source": [
    "%%time\n",
    "\n",
    "from nse_func import upd_nses\n",
    "upd_nses(ib, dfu)"
   ]
  },
  {
   "cell_type": "code",
   "execution_count": null,
   "metadata": {},
   "outputs": [],
   "source": []
  },
  {
   "cell_type": "code",
   "execution_count": null,
   "metadata": {},
   "outputs": [],
   "source": [
    "%%time\n",
    "\n",
    "# EVERYDAY UPDATE PROCESS (SECOND PART - OPT PRICE)\n",
    "# ________________________________________________\n",
    "\n",
    "# Option price update\n",
    "# Note: If the DataFrame given is a 'target' one, it will be every minute\n",
    "\n",
    "import pandas as pd\n",
    "fspath = '../data/nse/'\n",
    "\n",
    "from os import listdir\n",
    "\n",
    "from helper import upd_opt\n",
    "\n",
    "blk = 50\n",
    "fs = listdir(fspath)\n",
    "\n",
    "# collect the options\n",
    "optsList = [f for f in fs if f[-3:] == 'pkl']\n",
    "dfopts = pd.concat([pd.read_pickle(fspath+f) \n",
    "                 for f in optsList], axis=0, sort=True).reset_index(drop=True)\n",
    "\n",
    "# all options with price updated\n",
    "df = upd_opt(ib, dfopts)"
   ]
  },
  {
   "cell_type": "code",
   "execution_count": null,
   "metadata": {},
   "outputs": [],
   "source": [
    "df.head()"
   ]
  },
  {
   "cell_type": "code",
   "execution_count": null,
   "metadata": {},
   "outputs": [],
   "source": []
  },
  {
   "cell_type": "code",
   "execution_count": null,
   "metadata": {},
   "outputs": [],
   "source": [
    "%%time\n",
    "# EVERYDAY UPDATE PROCESS (THIRD PART - REMAINING QUANTITIES PRICE)\n",
    "# _________________________________________________________________\n",
    "\n",
    "from nse_func import remqty_nse\n",
    "dfrq = remqty_nse(ib) # remaining quantities df"
   ]
  },
  {
   "cell_type": "code",
   "execution_count": null,
   "metadata": {},
   "outputs": [],
   "source": []
  },
  {
   "cell_type": "code",
   "execution_count": null,
   "metadata": {},
   "outputs": [],
   "source": [
    "# MANAGE NSE (FIRST PART - GENERATE TARGETS WITH expPrice and pickle)\n",
    "# ___________________________________________________________________\n",
    "\n",
    "from nse_func import target_nse\n",
    "dft = target_nse(ib)"
   ]
  },
  {
   "cell_type": "code",
   "execution_count": null,
   "metadata": {},
   "outputs": [],
   "source": [
    "# MANAGE NSE (SECOND PART - GENERATE expPrice FOR TARGETS AND PICKLE)\n",
    "# ___________________________________________________________________\n",
    "\n",
    "# TO COMPLETE...\n",
    "#   - cancel all openOrders\n",
    "#   - prepare and place harvestOrders - based on option return curve\n",
    "#   - refreshes the prices of the target_nse\n",
    "#   - places the new orders"
   ]
  },
  {
   "cell_type": "raw",
   "metadata": {},
   "source": [
    "%%time\n",
    "# @@@@@@@@@@@@@@@@@@@@@@@@@@@@@@@@@@@@@@@@@@@@@@@\n",
    "# WARNING: THE FOLLOWING CODE PLACES 'SOW' ORDERS\n",
    "# _______________________________________________\n",
    "\n",
    "# qualify contracts and prepare to order\n",
    "blk=50\n",
    "contracts = [Contract(conId=c) for c in dft.optId]\n",
    "cblks = [contracts[i: i+blk] for i in range(0, len(contracts), blk)]\n",
    "qc = [c for q in [ib.qualifyContracts(*c) for c in cblks] for c in q]\n",
    "\n",
    "sell_order = [LimitOrder(action='SELL', totalQuantity=q, lmtPrice=expPrice) for q, expPrice in zip(dft.lotsize, dft.expPrice)]\n",
    "\n",
    "co = list(zip(qc, sell_order))\n",
    "coblks = [co[i: i+blk] for i in range(0, len(co), blk)]\n",
    "\n",
    "util.logToConsole()\n",
    "\n",
    "trades = []\n",
    "for coblk in coblks:\n",
    "    for co in coblk:\n",
    "        trades.append(ib.placeOrder(co[0], co[1]))\n",
    "    ib.sleep(1)"
   ]
  },
  {
   "cell_type": "code",
   "execution_count": null,
   "metadata": {},
   "outputs": [],
   "source": [
    "import pandas as pd\n",
    "fspath = '../data/nse/'\n",
    "df_trades = pd.concat([pd.DataFrame(trades), util.df(trades)], axis=1)\n",
    "df_trades.columns=[['trade']+list(df_trades)[1:]]\n",
    "df_trades.to_pickle(fspath+'_tradesDone.pickle')"
   ]
  },
  {
   "cell_type": "code",
   "execution_count": null,
   "metadata": {},
   "outputs": [],
   "source": [
    "# update the option prices\n",
    "df3 = upd_opt(ib, df2)\n",
    "df3 = grp_opts(df3) # group the options"
   ]
  },
  {
   "cell_type": "code",
   "execution_count": 2,
   "metadata": {},
   "outputs": [],
   "source": [
    "import pandas as pd\n",
    "fspath = '../data/nse/'\n",
    "\n",
    "dftrades = pd.read_pickle(fspath+'_tradesDone.pickle')"
   ]
  },
  {
   "cell_type": "code",
   "execution_count": 17,
   "metadata": {},
   "outputs": [
    {
     "data": {
      "text/plain": [
       "Contract(secType='OPT', conId=352132756, symbol='ACC', lastTradeDateOrContractMonth='20190425', strike=1200.0, right='P', multiplier='1', exchange='NSE', currency='INR', localSymbol='ACC19APR1200PE', tradingClass='ACC')"
      ]
     },
     "execution_count": 17,
     "metadata": {},
     "output_type": "execute_result"
    }
   ],
   "source": [
    "dftrades.contract.iloc[0][0]"
   ]
  },
  {
   "cell_type": "code",
   "execution_count": 19,
   "metadata": {},
   "outputs": [],
   "source": [
    "dft = pd.read_pickle(fspath+'_targetopts.pickle')"
   ]
  },
  {
   "cell_type": "code",
   "execution_count": 3,
   "metadata": {},
   "outputs": [
    {
     "name": "stderr",
     "output_type": "stream",
     "text": [
      "Peer closed connection\n",
      "clientId 1 already in use?\n",
      "API connection failed: TimeoutError()\n"
     ]
    },
    {
     "name": "stdout",
     "output_type": "stream",
     "text": [
      "\n"
     ]
    },
    {
     "data": {
      "text/plain": [
       "[AccountValue(account='U9329809', tag='AccountType', value='INDIVIDUAL', currency='', modelCode=''),\n",
       " AccountValue(account='U9329809', tag='Cushion', value='0.983012', currency='', modelCode=''),\n",
       " AccountValue(account='U9329809', tag='LookAheadNextChange', value='1556682300', currency='', modelCode=''),\n",
       " AccountValue(account='U9329809', tag='AccruedCash', value='0.00', currency='INR', modelCode=''),\n",
       " AccountValue(account='U9329809', tag='AvailableFunds', value='22749860.65', currency='INR', modelCode=''),\n",
       " AccountValue(account='U9329809', tag='BuyingPower', value='45499721.31', currency='INR', modelCode=''),\n",
       " AccountValue(account='U9329809', tag='EquityWithLoanValue', value='23243436.60', currency='INR', modelCode=''),\n",
       " AccountValue(account='U9329809', tag='ExcessLiquidity', value='22848755.34', currency='INR', modelCode=''),\n",
       " AccountValue(account='U9329809', tag='FullAvailableFunds', value='22749860.65', currency='INR', modelCode=''),\n",
       " AccountValue(account='U9329809', tag='FullExcessLiquidity', value='22848755.34', currency='INR', modelCode=''),\n",
       " AccountValue(account='U9329809', tag='FullInitMarginReq', value='493575.94', currency='INR', modelCode=''),\n",
       " AccountValue(account='U9329809', tag='FullMaintMarginReq', value='394860.75', currency='INR', modelCode=''),\n",
       " AccountValue(account='U9329809', tag='GrossPositionValue', value='37995.58', currency='INR', modelCode=''),\n",
       " AccountValue(account='U9329809', tag='InitMarginReq', value='493575.94', currency='INR', modelCode=''),\n",
       " AccountValue(account='U9329809', tag='LookAheadAvailableFunds', value='22749860.65', currency='INR', modelCode=''),\n",
       " AccountValue(account='U9329809', tag='LookAheadExcessLiquidity', value='22848755.34', currency='INR', modelCode=''),\n",
       " AccountValue(account='U9329809', tag='LookAheadInitMarginReq', value='493575.94', currency='INR', modelCode=''),\n",
       " AccountValue(account='U9329809', tag='LookAheadMaintMarginReq', value='394860.75', currency='INR', modelCode=''),\n",
       " AccountValue(account='U9329809', tag='MaintMarginReq', value='394860.75', currency='INR', modelCode=''),\n",
       " AccountValue(account='U9329809', tag='NetLiquidation', value='23243616.09', currency='INR', modelCode=''),\n",
       " AccountValue(account='U9329809', tag='TotalCashValue', value='23281611.67', currency='INR', modelCode=''),\n",
       " AccountValue(account='All', tag='Currency', value='INR', currency='INR', modelCode=''),\n",
       " AccountValue(account='All', tag='CashBalance', value='23281611.6655', currency='INR', modelCode=''),\n",
       " AccountValue(account='All', tag='TotalCashBalance', value='23281611.6655', currency='INR', modelCode=''),\n",
       " AccountValue(account='All', tag='AccruedCash', value='0.00', currency='INR', modelCode=''),\n",
       " AccountValue(account='All', tag='StockMarketValue', value='0.00', currency='INR', modelCode=''),\n",
       " AccountValue(account='All', tag='OptionMarketValue', value='-37995.58', currency='INR', modelCode=''),\n",
       " AccountValue(account='All', tag='FutureOptionValue', value='0.00', currency='INR', modelCode=''),\n",
       " AccountValue(account='All', tag='FuturesPNL', value='0.00', currency='INR', modelCode=''),\n",
       " AccountValue(account='All', tag='NetLiquidationByCurrency', value='23243616.0903', currency='INR', modelCode=''),\n",
       " AccountValue(account='All', tag='UnrealizedPnL', value='2582.46', currency='INR', modelCode=''),\n",
       " AccountValue(account='All', tag='RealizedPnL', value='0.00', currency='INR', modelCode=''),\n",
       " AccountValue(account='All', tag='ExchangeRate', value='1.00', currency='INR', modelCode=''),\n",
       " AccountValue(account='All', tag='FundValue', value='0.00', currency='INR', modelCode=''),\n",
       " AccountValue(account='All', tag='NetDividend', value='0.00', currency='INR', modelCode=''),\n",
       " AccountValue(account='All', tag='MutualFundValue', value='0.00', currency='INR', modelCode=''),\n",
       " AccountValue(account='All', tag='MoneyMarketFundValue', value='0.00', currency='INR', modelCode=''),\n",
       " AccountValue(account='All', tag='CorporateBondValue', value='0.00', currency='INR', modelCode=''),\n",
       " AccountValue(account='All', tag='TBondValue', value='0.00', currency='INR', modelCode=''),\n",
       " AccountValue(account='All', tag='TBillValue', value='0.00', currency='INR', modelCode=''),\n",
       " AccountValue(account='All', tag='WarrantValue', value='0.00', currency='INR', modelCode=''),\n",
       " AccountValue(account='All', tag='FxCashBalance', value='0.00', currency='INR', modelCode=''),\n",
       " AccountValue(account='All', tag='AccountOrGroup', value='All', currency='INR', modelCode=''),\n",
       " AccountValue(account='All', tag='RealCurrency', value='INR', currency='INR', modelCode=''),\n",
       " AccountValue(account='All', tag='IssuerOptionValue', value='0.00', currency='INR', modelCode=''),\n",
       " AccountValue(account='All', tag='Currency', value='BASE', currency='BASE', modelCode=''),\n",
       " AccountValue(account='All', tag='CashBalance', value='23281611.6655', currency='BASE', modelCode=''),\n",
       " AccountValue(account='All', tag='TotalCashBalance', value='23281611.6655', currency='BASE', modelCode=''),\n",
       " AccountValue(account='All', tag='AccruedCash', value='0.00', currency='BASE', modelCode=''),\n",
       " AccountValue(account='All', tag='StockMarketValue', value='0.00', currency='BASE', modelCode=''),\n",
       " AccountValue(account='All', tag='OptionMarketValue', value='-37995.58', currency='BASE', modelCode=''),\n",
       " AccountValue(account='All', tag='FutureOptionValue', value='0.00', currency='BASE', modelCode=''),\n",
       " AccountValue(account='All', tag='FuturesPNL', value='0.00', currency='BASE', modelCode=''),\n",
       " AccountValue(account='All', tag='NetLiquidationByCurrency', value='23243616.0903', currency='BASE', modelCode=''),\n",
       " AccountValue(account='All', tag='UnrealizedPnL', value='2582.46', currency='BASE', modelCode=''),\n",
       " AccountValue(account='All', tag='RealizedPnL', value='0.00', currency='BASE', modelCode=''),\n",
       " AccountValue(account='All', tag='ExchangeRate', value='1.00', currency='BASE', modelCode=''),\n",
       " AccountValue(account='All', tag='FundValue', value='0.00', currency='BASE', modelCode=''),\n",
       " AccountValue(account='All', tag='NetDividend', value='0.00', currency='BASE', modelCode=''),\n",
       " AccountValue(account='All', tag='MutualFundValue', value='0.00', currency='BASE', modelCode=''),\n",
       " AccountValue(account='All', tag='MoneyMarketFundValue', value='0.00', currency='BASE', modelCode=''),\n",
       " AccountValue(account='All', tag='CorporateBondValue', value='0.00', currency='BASE', modelCode=''),\n",
       " AccountValue(account='All', tag='TBondValue', value='0.00', currency='BASE', modelCode=''),\n",
       " AccountValue(account='All', tag='TBillValue', value='0.00', currency='BASE', modelCode=''),\n",
       " AccountValue(account='All', tag='WarrantValue', value='0.00', currency='BASE', modelCode=''),\n",
       " AccountValue(account='All', tag='FxCashBalance', value='0.00', currency='BASE', modelCode=''),\n",
       " AccountValue(account='All', tag='AccountOrGroup', value='All', currency='BASE', modelCode=''),\n",
       " AccountValue(account='All', tag='RealCurrency', value='BASE', currency='BASE', modelCode=''),\n",
       " AccountValue(account='All', tag='IssuerOptionValue', value='0.00', currency='BASE', modelCode='')]"
      ]
     },
     "execution_count": 3,
     "metadata": {},
     "output_type": "execute_result"
    }
   ],
   "source": [
    "from ib_insync import *\n",
    "util.startLoop()\n",
    "\n",
    "from helper import *\n",
    "from nse_func import *\n",
    "\n",
    "if __name__ == '__main__':\n",
    "    with get_connected('nse', 'live') as ib:\n",
    "        x = ib.accountSummary()\n",
    "\n",
    "x"
   ]
  },
  {
   "cell_type": "code",
   "execution_count": null,
   "metadata": {},
   "outputs": [],
   "source": []
  }
 ],
 "metadata": {
  "kernelspec": {
   "display_name": "Python 3",
   "language": "python",
   "name": "python3"
  },
  "language_info": {
   "codemirror_mode": {
    "name": "ipython",
    "version": 3
   },
   "file_extension": ".py",
   "mimetype": "text/x-python",
   "name": "python",
   "nbconvert_exporter": "python",
   "pygments_lexer": "ipython3",
   "version": "3.7.1"
  }
 },
 "nbformat": 4,
 "nbformat_minor": 2
}
