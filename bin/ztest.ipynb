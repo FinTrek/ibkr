{
 "cells": [
  {
   "cell_type": "code",
   "execution_count": 1,
   "metadata": {},
   "outputs": [],
   "source": [
    "# TESTING FOR NSE\n",
    "# ***************\n",
    "\n",
    "# Following to be uncommented on first run ...\n",
    "\n",
    "from helper import get_connected\n",
    "from ib_insync import *\n",
    "util.startLoop()\n",
    "ib = get_connected('nse', 'live') # close the connection and delete it final function\n",
    "\n",
    "fspath = '../data/nse/'\n",
    "\n",
    "util.logToFile(fspath+'_errors.log')  # create log file\n",
    "with open(fspath+'_errors.log', 'w'): # clear the previous log\n",
    "    pass"
   ]
  },
  {
   "cell_type": "code",
   "execution_count": null,
   "metadata": {},
   "outputs": [],
   "source": [
    "%%time\n",
    "# WEEKEND GENERATION PROCESS - UNDERLYINGS FIRST\n",
    "# ______________________________________________\n",
    "\n",
    "# testing pickle nses function\n",
    "\n",
    "from nse_func import p_nses\n",
    "df = p_nses(ib)\n",
    "df"
   ]
  },
  {
   "cell_type": "code",
   "execution_count": null,
   "metadata": {},
   "outputs": [],
   "source": [
    "%%time\n",
    "# WEEKEND GENERATION PROCESS - OPTIONS SECOND\n",
    "# ______________________________________________\n",
    "\n",
    "# testing pickle nse options function\n",
    "\n",
    "import pandas as pd\n",
    "from os import listdir\n",
    "\n",
    "from nse_func import p_nseopts\n",
    "\n",
    "keep_pickles = True   # keep already pickled symbols\n",
    "\n",
    "fspath = '../data/nse/'\n",
    "\n",
    "df = pd.read_pickle(fspath+'_lot_margin.pickle').dropna()\n",
    "\n",
    "if keep_pickles:\n",
    "    fs = listdir(fspath)\n",
    "    optsList = [f[:-4] for f in fs if f[-3:] == 'pkl']\n",
    "    dfr = df[~df.index.isin(optsList)] # remaining dfs (without existing pickles)\n",
    "    [p_nseopts(ib=ib,undContract=u, undPrice=p, lotsize=z, margin=m) for u, p, z, m in zip(dfr.contract, dfr.undPrice, dfr.lot, dfr.margin)]\n",
    "else:\n",
    "    [p_nseopts(ib=ib,undContract=u, undPrice=p, lotsize=z, margin=m) for u, p, z, m in zip(df.contract, df.undPrice, df.lot, df.margin)]"
   ]
  },
  {
   "cell_type": "code",
   "execution_count": null,
   "metadata": {},
   "outputs": [],
   "source": []
  },
  {
   "cell_type": "code",
   "execution_count": null,
   "metadata": {},
   "outputs": [],
   "source": [
    "# EVERYDAY UPDATE PROCESS (FIRST PART)\n",
    "# ___________________________________\n",
    "\n",
    "# testing nse underlying update function\n",
    "\n",
    "import pandas as pd\n",
    "fspath = '../data/nse/'\n",
    "dfu = pd.read_pickle(fspath+'_lot_margin.pickle').dropna()\n",
    "dfu"
   ]
  },
  {
   "cell_type": "code",
   "execution_count": null,
   "metadata": {},
   "outputs": [],
   "source": [
    "dfu.loc[:, ['margin', 'undPrice']] = 0 # zerorize margin and undPrice to test\n",
    "dfu"
   ]
  },
  {
   "cell_type": "code",
   "execution_count": null,
   "metadata": {},
   "outputs": [],
   "source": [
    "%%time\n",
    "\n",
    "from nse_func import upd_nses\n",
    "upd_nses(ib, dfu)"
   ]
  },
  {
   "cell_type": "code",
   "execution_count": null,
   "metadata": {},
   "outputs": [],
   "source": []
  },
  {
   "cell_type": "code",
   "execution_count": null,
   "metadata": {},
   "outputs": [],
   "source": [
    "%%time\n",
    "\n",
    "# EVERYDAY UPDATE PROCESS (SECOND PART - OPT PRICE)\n",
    "# ________________________________________________\n",
    "\n",
    "# Option price update\n",
    "# Note: If the DataFrame given is a 'target' one, it will be every minute\n",
    "\n",
    "import pandas as pd\n",
    "fspath = '../data/nse/'\n",
    "\n",
    "from os import listdir\n",
    "\n",
    "from helper import upd_opt\n",
    "\n",
    "blk = 50\n",
    "fs = listdir(fspath)\n",
    "\n",
    "# collect the options\n",
    "optsList = [f for f in fs if f[-3:] == 'pkl']\n",
    "dfopts = pd.concat([pd.read_pickle(fspath+f) \n",
    "                 for f in optsList], axis=0, sort=True).reset_index(drop=True)\n",
    "\n",
    "# all options with price updated\n",
    "df = upd_opt(ib, dfopts)"
   ]
  },
  {
   "cell_type": "code",
   "execution_count": null,
   "metadata": {},
   "outputs": [],
   "source": [
    "df.head()"
   ]
  },
  {
   "cell_type": "code",
   "execution_count": null,
   "metadata": {},
   "outputs": [],
   "source": []
  },
  {
   "cell_type": "code",
   "execution_count": null,
   "metadata": {},
   "outputs": [],
   "source": [
    "%%time\n",
    "# EVERYDAY UPDATE PROCESS (THIRD PART - REMAINING QUANTITIES PRICE)\n",
    "# _________________________________________________________________\n",
    "\n",
    "from nse_func import remqty_nse\n",
    "dfrq = remqty_nse(ib) # remaining quantities df"
   ]
  },
  {
   "cell_type": "code",
   "execution_count": null,
   "metadata": {},
   "outputs": [],
   "source": []
  },
  {
   "cell_type": "code",
   "execution_count": null,
   "metadata": {},
   "outputs": [],
   "source": [
    "# MANAGE NSE (FIRST PART - GENERATE TARGETS WITH expPrice and pickle)\n",
    "# ___________________________________________________________________\n",
    "\n",
    "from nse_func import target_nse\n",
    "dft = target_nse(ib)"
   ]
  },
  {
   "cell_type": "code",
   "execution_count": null,
   "metadata": {},
   "outputs": [],
   "source": [
    "# MANAGE NSE (SECOND PART - GENERATE expPrice FOR TARGETS AND PICKLE)\n",
    "# ___________________________________________________________________\n",
    "\n",
    "# TO COMPLETE...\n",
    "#   - cancel all openOrders\n",
    "#   - prepare and place harvestOrders - based on option return curve\n",
    "#   - refreshes the prices of the target_nse\n",
    "#   - places the new orders"
   ]
  },
  {
   "cell_type": "raw",
   "metadata": {},
   "source": [
    "%%time\n",
    "# @@@@@@@@@@@@@@@@@@@@@@@@@@@@@@@@@@@@@@@@@@@@@@@\n",
    "# WARNING: THE FOLLOWING CODE PLACES 'SOW' ORDERS\n",
    "# _______________________________________________\n",
    "\n",
    "# qualify contracts and prepare to order\n",
    "blk=50\n",
    "contracts = [Contract(conId=c) for c in dft.optId]\n",
    "cblks = [contracts[i: i+blk] for i in range(0, len(contracts), blk)]\n",
    "qc = [c for q in [ib.qualifyContracts(*c) for c in cblks] for c in q]\n",
    "\n",
    "sell_order = [LimitOrder(action='SELL', totalQuantity=q, lmtPrice=expPrice) for q, expPrice in zip(dft.lotsize, dft.expPrice)]\n",
    "\n",
    "co = list(zip(qc, sell_order))\n",
    "coblks = [co[i: i+blk] for i in range(0, len(co), blk)]\n",
    "\n",
    "util.logToConsole()\n",
    "\n",
    "trades = []\n",
    "for coblk in coblks:\n",
    "    for co in coblk:\n",
    "        trades.append(ib.placeOrder(co[0], co[1]))\n",
    "    ib.sleep(1)"
   ]
  },
  {
   "cell_type": "code",
   "execution_count": null,
   "metadata": {},
   "outputs": [],
   "source": [
    "import pandas as pd\n",
    "fspath = '../data/nse/'\n",
    "df_trades = pd.concat([pd.DataFrame(trades), util.df(trades)], axis=1)\n",
    "df_trades.columns=[['trade']+list(df_trades)[1:]]\n",
    "df_trades.to_pickle(fspath+'_tradesDone.pickle')"
   ]
  },
  {
   "cell_type": "code",
   "execution_count": null,
   "metadata": {},
   "outputs": [],
   "source": [
    "# update the option prices\n",
    "df3 = upd_opt(ib, df2)\n",
    "df3 = grp_opts(df3) # group the options"
   ]
  },
  {
   "cell_type": "code",
   "execution_count": 2,
   "metadata": {},
   "outputs": [],
   "source": [
    "import pandas as pd\n",
    "fspath = '../data/nse/'\n",
    "\n",
    "dftrades = pd.read_pickle(fspath+'_tradesDone.pickle')"
   ]
  },
  {
   "cell_type": "code",
   "execution_count": 17,
   "metadata": {},
   "outputs": [
    {
     "data": {
      "text/plain": [
       "Contract(secType='OPT', conId=352132756, symbol='ACC', lastTradeDateOrContractMonth='20190425', strike=1200.0, right='P', multiplier='1', exchange='NSE', currency='INR', localSymbol='ACC19APR1200PE', tradingClass='ACC')"
      ]
     },
     "execution_count": 17,
     "metadata": {},
     "output_type": "execute_result"
    }
   ],
   "source": [
    "dftrades.contract.iloc[0][0]"
   ]
  },
  {
   "cell_type": "code",
   "execution_count": 19,
   "metadata": {},
   "outputs": [],
   "source": [
    "dft = pd.read_pickle(fspath+'_targetopts.pickle')"
   ]
  },
  {
   "cell_type": "code",
   "execution_count": null,
   "metadata": {},
   "outputs": [],
   "source": []
  }
 ],
 "metadata": {
  "kernelspec": {
   "display_name": "Python 3",
   "language": "python",
   "name": "python3"
  },
  "language_info": {
   "codemirror_mode": {
    "name": "ipython",
    "version": 3
   },
   "file_extension": ".py",
   "mimetype": "text/x-python",
   "name": "python",
   "nbconvert_exporter": "python",
   "pygments_lexer": "ipython3",
   "version": "3.7.1"
  }
 },
 "nbformat": 4,
 "nbformat_minor": 2
}
