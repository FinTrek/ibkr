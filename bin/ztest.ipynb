{
 "cells": [
  {
   "cell_type": "code",
   "execution_count": null,
   "metadata": {},
   "outputs": [],
   "source": [
    "\n",
    "from ib_insync import *\n",
    "import asyncio\n",
    "\n",
    "util.startLoop()\n",
    "util.patchAsyncio()\n",
    "\n",
    "ib = IB().connect('127.0.0.1', 1300, 0)\n",
    "symbols = ['INTC', 'V', 'NFLX', 'SBUX', 'ADBE']\n",
    "unquals = [Stock(symbol=s, exchange='CBOE') for s in symbols]\n",
    "\n",
    "q = []\n",
    "\n",
    "async def qual_coro(unquals):\n",
    "    for s in unquals:\n",
    "        q.append(ib.qualifyContractsAsync(s))\n",
    "    return await asyncio.gather(*q)\n",
    "\n",
    "cts = asyncio.run(qual_coro(unquals))\n",
    "print(cts)\n",
    "ib.disconnect()"
   ]
  },
  {
   "cell_type": "code",
   "execution_count": null,
   "metadata": {},
   "outputs": [],
   "source": [
    "ib = IB().connect('127.0.0.1', 1300, 0)"
   ]
  },
  {
   "cell_type": "code",
   "execution_count": null,
   "metadata": {},
   "outputs": [],
   "source": [
    "ib.accountSummary()\n",
    "ib.disconnect()"
   ]
  },
  {
   "cell_type": "code",
   "execution_count": null,
   "metadata": {},
   "outputs": [],
   "source": [
    "# ztest.py\n",
    "import asyncio\n",
    "from ib_insync import *\n",
    "util.patchAsyncio()\n",
    "\n",
    "import flask\n",
    "import dash\n",
    "import dash_core_components as dcc\n",
    "import dash_html_components as html\n",
    "from dash.dependencies import Input, Output\n",
    "from tornado.wsgi import WSGIContainer\n",
    "from tornado.httpserver import HTTPServer\n",
    "from tornado.platform.asyncio import AsyncIOMainLoop\n",
    "\n",
    "server = flask.Flask(__name__)\n",
    "app = dash.Dash(__name__, server=server)\n",
    "\n",
    "ib = IB()\n",
    "ib.connect('127.0.0.1', 3000, clientId=0)\n",
    "\n",
    "app.layout = html.Div([\n",
    "    dcc.Dropdown(\n",
    "        id='my-dropdown',\n",
    "        options=[\n",
    "            {'label': 'Coke', 'value': 'COKE'},\n",
    "            {'label': 'Tesla', 'value': 'TSLA'},\n",
    "            {'label': 'Apple', 'value': 'AAPL'}\n",
    "        ],\n",
    "        value='COKE'\n",
    "    ),\n",
    "    dcc.Graph(id='my-graph')\n",
    "], style={'width': '500'})\n",
    "\n",
    "@app.callback(Output('my-graph', 'figure'), [Input('my-dropdown', 'value')])\n",
    "def update_graph(selected_dropdown_value):\n",
    "    contract = Stock(selected_dropdown_value, 'SMART', 'USD')\n",
    "    ib.qualifyContracts(contract)\n",
    "    bars = ib.reqHistoricalData(contract, endDateTime='', durationStr='365 D',\n",
    "            barSizeSetting='1 day', whatToShow='TRADES', useRTH=False,\n",
    "            formatDate=1, keepUpToDate=False)\n",
    "    df = util.df(bars)\n",
    "    return {\n",
    "        'data': [{\n",
    "            'x': df.date,\n",
    "            'y': df.close\n",
    "        }],\n",
    "        'layout': {'margin': {'l': 40, 'r': 0, 't': 20, 'b': 30}}\n",
    "    }\n",
    "\n",
    "\n",
    "if __name__ == \"__main__\":\n",
    "    AsyncIOMainLoop().install()\n",
    "    http_server = HTTPServer(WSGIContainer(server))\n",
    "    http_server.listen(8000)\n",
    "    asyncio.get_event_loop().run_forever()"
   ]
  },
  {
   "cell_type": "code",
   "execution_count": null,
   "metadata": {},
   "outputs": [],
   "source": [
    "from flask import Flask, escape, request\n",
    "\n",
    "app = Flask(__name__)\n",
    "\n",
    "@app.route('/')\n",
    "def hello():\n",
    "    name = request.args.get(\"name\", \"World\")\n",
    "    return f'Hello, {escape(name)}!'"
   ]
  },
  {
   "cell_type": "code",
   "execution_count": null,
   "metadata": {},
   "outputs": [],
   "source": []
  }
 ],
 "metadata": {
  "kernelspec": {
   "display_name": "Python 3",
   "language": "python",
   "name": "python3"
  },
  "language_info": {
   "codemirror_mode": {
    "name": "ipython",
    "version": 3
   },
   "file_extension": ".py",
   "mimetype": "text/x-python",
   "name": "python",
   "nbconvert_exporter": "python",
   "pygments_lexer": "ipython3",
   "version": "3.7.1"
  }
 },
 "nbformat": 4,
 "nbformat_minor": 2
}
