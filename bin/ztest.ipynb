{
 "cells": [
  {
   "cell_type": "code",
   "execution_count": 7,
   "metadata": {},
   "outputs": [],
   "source": [
    "# TESTING FOR NSE\n",
    "# ***************\n",
    "\n",
    "# Following to be uncommented on first run ...\n",
    "\n",
    "from helper import get_connected\n",
    "from ib_insync import *\n",
    "util.startLoop()\n",
    "ib = get_connected('nse', 'live') # close the connection and delete it final function\n",
    "\n",
    "fspath = '../data/nse/'\n",
    "\n",
    "util.logToFile(fspath+'_errors.log')  # create log file\n",
    "with open(fspath+'_errors.log', 'w'): # clear the previous log\n",
    "    pass"
   ]
  },
  {
   "cell_type": "code",
   "execution_count": null,
   "metadata": {},
   "outputs": [],
   "source": [
    "%%time\n",
    "# WEEKEND GENERATION PROCESS - UNDERLYINGS FIRST\n",
    "# ______________________________________________\n",
    "\n",
    "# testing pickle nses function\n",
    "\n",
    "from nse_func import p_nses\n",
    "df = p_nses(ib)\n",
    "df"
   ]
  },
  {
   "cell_type": "code",
   "execution_count": null,
   "metadata": {},
   "outputs": [],
   "source": [
    "%%time\n",
    "# WEEKEND GENERATION PROCESS - OPTIONS SECOND\n",
    "# ______________________________________________\n",
    "\n",
    "# testing pickle nse options function\n",
    "\n",
    "import pandas as pd\n",
    "from os import listdir\n",
    "\n",
    "from nse_func import p_nseopts\n",
    "\n",
    "keep_pickles = True   # keep already pickled symbols\n",
    "\n",
    "fspath = '../data/nse/'\n",
    "\n",
    "df = pd.read_pickle(fspath+'_lot_margin.pickle').dropna()\n",
    "\n",
    "if keep_pickles:\n",
    "    fs = listdir(fspath)\n",
    "    optsList = [f[:-4] for f in fs if f[-3:] == 'pkl']\n",
    "    dfr = df[~df.index.isin(optsList)] # remaining dfs (without existing pickles)\n",
    "    [p_nseopts(ib=ib,undContract=u, undPrice=p, lotsize=z, margin=m) for u, p, z, m in zip(dfr.contract, dfr.undPrice, dfr.lot, dfr.margin)]\n",
    "else:\n",
    "    [p_nseopts(ib=ib,undContract=u, undPrice=p, lotsize=z, margin=m) for u, p, z, m in zip(df.contract, df.undPrice, df.lot, df.margin)]"
   ]
  },
  {
   "cell_type": "code",
   "execution_count": null,
   "metadata": {},
   "outputs": [],
   "source": []
  },
  {
   "cell_type": "code",
   "execution_count": null,
   "metadata": {},
   "outputs": [],
   "source": [
    "# EVERYDAY UPDATE PROCESS (FIRST PART)\n",
    "# ___________________________________\n",
    "\n",
    "# testing nse underlying update function\n",
    "\n",
    "import pandas as pd\n",
    "fspath = '../data/nse/'\n",
    "dfu = pd.read_pickle(fspath+'_lot_margin.pickle').dropna()\n",
    "dfu"
   ]
  },
  {
   "cell_type": "code",
   "execution_count": null,
   "metadata": {},
   "outputs": [],
   "source": [
    "dfu.loc[:, ['margin', 'undPrice']] = 0 # zerorize margin and undPrice to test\n",
    "dfu"
   ]
  },
  {
   "cell_type": "code",
   "execution_count": null,
   "metadata": {},
   "outputs": [],
   "source": [
    "%%time\n",
    "\n",
    "from nse_func import upd_nses\n",
    "upd_nses(ib, dfu)"
   ]
  },
  {
   "cell_type": "code",
   "execution_count": null,
   "metadata": {},
   "outputs": [],
   "source": []
  },
  {
   "cell_type": "code",
   "execution_count": null,
   "metadata": {},
   "outputs": [],
   "source": [
    "%%time\n",
    "\n",
    "# EVERYDAY UPDATE PROCESS (SECOND PART - OPT PRICE)\n",
    "# ________________________________________________\n",
    "\n",
    "# Option price update\n",
    "# Note: If the DataFrame given is a 'target' one, it will be every minute\n",
    "\n",
    "import pandas as pd\n",
    "fspath = '../data/nse/'\n",
    "\n",
    "from os import listdir\n",
    "\n",
    "from helper import upd_opt\n",
    "\n",
    "blk = 50\n",
    "fs = listdir(fspath)\n",
    "\n",
    "# collect the options\n",
    "optsList = [f for f in fs if f[-3:] == 'pkl']\n",
    "dfopts = pd.concat([pd.read_pickle(fspath+f) \n",
    "                 for f in optsList], axis=0, sort=True).reset_index(drop=True)\n",
    "\n",
    "# all options with price updated\n",
    "df = upd_opt(ib, dfopts)"
   ]
  },
  {
   "cell_type": "code",
   "execution_count": null,
   "metadata": {},
   "outputs": [],
   "source": [
    "df.head()"
   ]
  },
  {
   "cell_type": "code",
   "execution_count": null,
   "metadata": {},
   "outputs": [],
   "source": []
  },
  {
   "cell_type": "code",
   "execution_count": null,
   "metadata": {},
   "outputs": [],
   "source": [
    "%%time\n",
    "# EVERYDAY UPDATE PROCESS (THIRD PART - REMAINING QUANTITIES PRICE)\n",
    "# _________________________________________________________________\n",
    "\n",
    "from nse_func import remqty_nse\n",
    "dfrq = remqty_nse(ib) # remaining quantities df"
   ]
  },
  {
   "cell_type": "code",
   "execution_count": 19,
   "metadata": {},
   "outputs": [],
   "source": [
    "# MANAGE NSE\n",
    "# __________\n",
    "import pandas as pd\n",
    "\n",
    "from os import listdir\n",
    "\n",
    "from nse_func import remqty_nse\n",
    "from helper import grp_opts\n",
    "\n",
    "# get remaining quantities\n",
    "dfrq = remqty_nse(ib) # remaining quantities df\n",
    "\n",
    "fspath = '../data/nse/'\n",
    "minOptPrice = 0.15\n",
    "minRom = 0.5\n",
    "nLargest = 5\n",
    "\n",
    "cols = ['optId', 'symbol', 'right', 'expiration', 'dte', 'strike', 'undPrice', \n",
    "'lo52', 'hi52', 'Fall', 'Rise', 'loFall', 'hiRise', 'std3', 'loStd3', 'hiStd3', \n",
    "'lotsize', 'optPrice', 'optMargin', 'rom']\n",
    "\n",
    "fs = listdir(fspath)\n",
    "\n",
    "optsList = [f for f in fs if f[-3:] == 'pkl']\n",
    "\n",
    "df1 = pd.concat([pd.read_pickle(fspath+f) \n",
    "                 for f in optsList], axis=0, sort=True).reset_index(drop=True)[cols]\n",
    "\n",
    "# filter for high probability and margin\n",
    "df2 = df1[((df1.strike > df1.hi52) | \n",
    "           (df1.strike < df1.lo52)) & \n",
    "          (df1.optPrice > minOptPrice) & \n",
    "          (df1.rom > minRom)]\n",
    "\n",
    "df2 = grp_opts(df2) # group the options\n",
    "df2 = df2.assign(remqty=df2.symbol.map(dfrq.remqty.to_dict()))   # remaining quantities\n",
    "df2 = df2[df2.remqty > 0].reset_index(drop=True) # remove blacklisted (remqty = 0)"
   ]
  },
  {
   "cell_type": "code",
   "execution_count": 32,
   "metadata": {},
   "outputs": [],
   "source": [
    "premium = sum(df2.optPrice*df2.lotsize)"
   ]
  },
  {
   "cell_type": "code",
   "execution_count": 33,
   "metadata": {},
   "outputs": [],
   "source": [
    "margin = sum(df2.optMargin)"
   ]
  },
  {
   "cell_type": "code",
   "execution_count": 34,
   "metadata": {},
   "outputs": [
    {
     "data": {
      "text/plain": [
       "1.3507433562308306"
      ]
     },
     "execution_count": 34,
     "metadata": {},
     "output_type": "execute_result"
    }
   ],
   "source": [
    "premium/margin*365/4"
   ]
  },
  {
   "cell_type": "code",
   "execution_count": null,
   "metadata": {},
   "outputs": [],
   "source": []
  }
 ],
 "metadata": {
  "kernelspec": {
   "display_name": "Python 3",
   "language": "python",
   "name": "python3"
  },
  "language_info": {
   "codemirror_mode": {
    "name": "ipython",
    "version": 3
   },
   "file_extension": ".py",
   "mimetype": "text/x-python",
   "name": "python",
   "nbconvert_exporter": "python",
   "pygments_lexer": "ipython3",
   "version": "3.7.1"
  }
 },
 "nbformat": 4,
 "nbformat_minor": 2
}
