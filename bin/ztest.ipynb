{
 "cells": [
  {
   "cell_type": "code",
   "execution_count": 1,
   "metadata": {},
   "outputs": [],
   "source": [
    "# imports.py\n",
    "from support import *\n",
    "\n",
    "import time\n",
    "from datetime import datetime\n",
    "from itertools import product\n",
    "from math import erf, sqrt\n",
    "import sys\n",
    "\n",
    "# start the ib loop\n",
    "util.startLoop()\n",
    "\n",
    "# connect to the market set in variables.json\n",
    "try:\n",
    "    if not ib.isConnected():\n",
    "        ib = get_connected(market, 'live')\n",
    "except Exception as e:\n",
    "    ib = get_connected(market, 'live')\n",
    "\n",
    "# from json\n",
    "a = assign_var(market) + assign_var('common')\n",
    "for v in a:\n",
    "    exec(v)\n",
    "\n",
    "# reset the log\n",
    "with open(logpath+'test.log', 'w'):\n",
    "    pass # clear the run log\n",
    "\n",
    "util.logToFile(logpath+'test.log')\n",
    "    \n",
    "jup_disp_adjust() # adjust jupyter's display"
   ]
  },
  {
   "cell_type": "code",
   "execution_count": 27,
   "metadata": {},
   "outputs": [],
   "source": [
    "# get pnl data (asyncio)\n",
    "async def pnlcoro(ib):\n",
    "    '''Gets the pnl object'''\n",
    "    acct = ib.managedAccounts()[0]\n",
    "    pnl = ib.reqPnL(acct)\n",
    "    await ib.pnlEvent\n",
    "    return pnl\n",
    "\n",
    "# pnl object raises AssertionError if run the second time!!\n",
    "try:\n",
    "    pnl = ib.run(pnlcoro(ib))\n",
    "except AssertionError:\n",
    "    pass\n",
    "\n",
    "# convert to dictionary and remove modelcode\n",
    "pnldict = pnl.dict()\n",
    "del pnldict['modelCode']\n",
    "\n",
    "acsum = get_acc_summary(ib)\n",
    "\n",
    "# merge the dictionaries\n",
    "keydata = {**pnldict, **acsum}"
   ]
  },
  {
   "cell_type": "code",
   "execution_count": 28,
   "metadata": {},
   "outputs": [
    {
     "data": {
      "text/plain": [
       "{'account': 'U9329809',\n",
       " 'dailyPnL': 70678.10368705439,\n",
       " 'unrealizedPnL': -63493.37163247062,\n",
       " 'realizedPnL': 19259.80465,\n",
       " 'NLV': 24290341.24,\n",
       " 'initmargin': 6714501.62,\n",
       " 'unrealzPnL': -71782.28,\n",
       " 'realzPnL': 19259.8,\n",
       " 'avFunds': 17575811.17}"
      ]
     },
     "execution_count": 28,
     "metadata": {},
     "output_type": "execute_result"
    }
   ],
   "source": [
    "keydata"
   ]
  },
  {
   "cell_type": "code",
   "execution_count": 30,
   "metadata": {},
   "outputs": [
    {
     "data": {
      "text/plain": [
       "{'NLV': 24290341.24,\n",
       " 'initmargin': 6714501.62,\n",
       " 'unrealzPnL': -71782.28,\n",
       " 'realzPnL': 19259.8,\n",
       " 'avFunds': 17575811.17}"
      ]
     },
     "execution_count": 30,
     "metadata": {},
     "output_type": "execute_result"
    }
   ],
   "source": [
    "get_acc_summary(ib)"
   ]
  },
  {
   "cell_type": "code",
   "execution_count": 20,
   "metadata": {},
   "outputs": [
    {
     "data": {
      "text/html": [
       "<div>\n",
       "<style scoped>\n",
       "    .dataframe tbody tr th:only-of-type {\n",
       "        vertical-align: middle;\n",
       "    }\n",
       "\n",
       "    .dataframe tbody tr th {\n",
       "        vertical-align: top;\n",
       "    }\n",
       "\n",
       "    .dataframe thead th {\n",
       "        text-align: right;\n",
       "    }\n",
       "</style>\n",
       "<table border=\"1\" class=\"dataframe\">\n",
       "  <thead>\n",
       "    <tr style=\"text-align: right;\">\n",
       "      <th></th>\n",
       "      <th>secType</th>\n",
       "      <th>optId</th>\n",
       "      <th>symbol</th>\n",
       "      <th>expiry</th>\n",
       "      <th>strike</th>\n",
       "      <th>right</th>\n",
       "      <th>position</th>\n",
       "      <th>marketPrice</th>\n",
       "      <th>marketValue</th>\n",
       "      <th>averageCost</th>\n",
       "      <th>unrealizedPNL</th>\n",
       "      <th>realizedPNL</th>\n",
       "      <th>dte</th>\n",
       "      <th>expPrice</th>\n",
       "      <th>qty</th>\n",
       "      <th>lot</th>\n",
       "    </tr>\n",
       "  </thead>\n",
       "  <tbody>\n",
       "    <tr>\n",
       "      <th>42</th>\n",
       "      <td>OPT</td>\n",
       "      <td>376093070</td>\n",
       "      <td>MINDTREE</td>\n",
       "      <td>20191031</td>\n",
       "      <td>680.00</td>\n",
       "      <td>P</td>\n",
       "      <td>-1200.00</td>\n",
       "      <td>12.11</td>\n",
       "      <td>-14527.58</td>\n",
       "      <td>10.98</td>\n",
       "      <td>-1352.27</td>\n",
       "      <td>0.00</td>\n",
       "      <td>15</td>\n",
       "      <td>4.75</td>\n",
       "      <td>1200.00</td>\n",
       "      <td>1</td>\n",
       "    </tr>\n",
       "  </tbody>\n",
       "</table>\n",
       "</div>"
      ],
      "text/plain": [
       "   secType      optId    symbol    expiry  strike right  position  \\\n",
       "42     OPT  376093070  MINDTREE  20191031  680.00     P  -1200.00   \n",
       "\n",
       "    marketPrice  marketValue  averageCost  unrealizedPNL  realizedPNL  dte  \\\n",
       "42        12.11    -14527.58        10.98       -1352.27         0.00   15   \n",
       "\n",
       "    expPrice     qty  lot  \n",
       "42      4.75 1200.00    1  "
      ]
     },
     "execution_count": 20,
     "metadata": {},
     "output_type": "execute_result"
    }
   ],
   "source": [
    "get_df_buys(ib, market, prec)"
   ]
  },
  {
   "cell_type": "code",
   "execution_count": null,
   "metadata": {},
   "outputs": [],
   "source": [
    "trades = ib.trades()\n",
    "all_trades_df = util.df(t.contract for t in trades).join(util.df(t.orderStatus for t in trades)).join(util.df(t.order for t in trades), lsuffix='_')\n",
    "all_trades_df.rename({'lastTradeDateOrContractMonth': 'expiry'}, axis='columns', inplace=True)\n",
    "trades_cols = ['conId', 'symbol', 'localSymbol', 'secType', 'expiry', 'strike', 'right', \n",
    "               'orderId', 'permId', 'action', 'totalQuantity', 'lmtPrice', 'status']\n",
    "trades_df = all_trades_df[trades_cols]\n",
    "fills_df = trades_df[trades_df.status == 'Filled']"
   ]
  },
  {
   "cell_type": "code",
   "execution_count": null,
   "metadata": {},
   "outputs": [],
   "source": [
    "    # get the template\n",
    "    df_opentrades = pd.read_pickle('./templates/df_opentrades.pkl')\n",
    "    df_opentrades.drop(df_opentrades.index, inplace=True) # empty it!\n",
    "\n",
    "    # get the trades\n",
    "    trades = ib.openTrades()\n",
    "    trade_cols = ['secType', 'conId', 'symbol', 'lastTradeDateOrContractMonth', 'strike', 'right', 'action', \n",
    "                  'status', 'orderId', 'permId', 'lmtPrice', 'filled', 'remaining']\n",
    "\n",
    "    # append it, if available\n",
    "    if trades:\n",
    "        df_ot = df_opentrades.append(util.df(t.contract for t in trades).join(util.df(t.order for t in trades)).join(util.df(t.orderStatus for t in trades), lsuffix='_'))\n",
    "        df_ot = df_ot[trade_cols].rename(columns={'lastTradeDateOrContractMonth': 'expiry'})\n",
    "#         active_status = {'ApiPending', 'PendingSubmit', 'PreSubmitted', 'Submitted'}\n",
    "        df_activebuys = df_ot[(df_ot.action == 'BUY') & (df_ot.status.isin(active_status))]\n",
    "        df_activesells = df_ot[(df_ot.action == 'SELL') & (df_ot.status.isin(active_status))]\n",
    "    else:\n",
    "        df_activebuys = df_opentrades[trade_cols].rename(columns={'lastTradeDateOrContractMonth': 'expiry'})\n",
    "        df_activesells = df_opentrades[trade_cols].rename(columns={'lastTradeDateOrContractMonth': 'expiry'})\n",
    "\n",
    "    #... get the portfolio\n",
    "    df_pfolio = portf(ib)\n",
    "\n",
    "    # remove from portfolio options with active buys\n",
    "    df_buys = df_pfolio[~df_pfolio.conId.isin(df_activebuys.conId)]\n",
    "\n",
    "    # remove stocks, keep only options\n",
    "    df_buys = df_buys[df_buys.secType == 'OPT'] \n",
    "\n",
    "    # Remove the opts with position > 0. These are errors / longs that should not be re-bought automatically!\n",
    "    df_buys = df_buys[df_buys.position < 0]\n",
    "\n",
    "    # Rename the column conId to optId\n",
    "    df_buys = df_buys.rename(columns={'conId': 'optId'})\n",
    "\n",
    "    # get the dte\n",
    "    df_buys = df_buys.assign(dte=df_buys.expiry.apply(get_dte))\n",
    "\n",
    "    df_buys = df_buys[df_buys.dte > 1] # spare the last day!\n",
    "\n",
    "    #... get the expected price to sell.\n",
    "    df_buys = df_buys.assign(expPrice = np.maximum( \\\n",
    "                                            np.minimum(df_buys.dte.apply(hvstPricePct)*df_buys.averageCost, (df_buys.marketPrice-2*prec)), \\\n",
    "                                            prec) \\\n",
    "                                            .apply(lambda x: get_prec(x, prec)))\n",
    "\n",
    "    # set the quantity\n",
    "    df_buys = df_buys.assign(qty = df_buys.position.apply(abs))\n",
    "    df_buys = df_buys.assign(lot=1) # doesn't need to be lotsize for NSE"
   ]
  },
  {
   "cell_type": "code",
   "execution_count": null,
   "metadata": {},
   "outputs": [],
   "source": []
  },
  {
   "cell_type": "code",
   "execution_count": null,
   "metadata": {},
   "outputs": [],
   "source": [
    "class GlobalWealth(object):\n",
    "    def __init__(self):\n",
    "        self._global_wealth = 10.0\n",
    "        self._observers = []\n",
    "\n",
    "    @property\n",
    "    def global_wealth(self):\n",
    "        return self._global_wealth\n",
    "\n",
    "    @global_wealth.setter\n",
    "    def global_wealth(self, value):\n",
    "        self._global_wealth = value\n",
    "        for callback in self._observers:\n",
    "            print('announcing change')\n",
    "            callback(self._global_wealth)\n",
    "\n",
    "    def bind_to(self, callback):\n",
    "        print('bound')\n",
    "        self._observers.append(callback)\n",
    "\n",
    "\n",
    "class Person(object):\n",
    "    def __init__(self, data):\n",
    "        self.wealth = 1.0\n",
    "        self.data = data\n",
    "        self.data.bind_to(self.update_how_happy)\n",
    "        self.happiness = self.wealth / self.data.global_wealth\n",
    "\n",
    "    def update_how_happy(self, global_wealth):\n",
    "        self.happiness = self.wealth / global_wealth\n",
    "\n",
    "\n",
    "if __name__ == '__main__':\n",
    "    data = GlobalWealth()\n",
    "    p = Person(data)\n",
    "    print(p.happiness)\n",
    "    data.global_wealth = 1.0\n",
    "    print(p.happiness)\n"
   ]
  },
  {
   "cell_type": "code",
   "execution_count": null,
   "metadata": {},
   "outputs": [],
   "source": []
  },
  {
   "cell_type": "code",
   "execution_count": null,
   "metadata": {},
   "outputs": [],
   "source": [
    "len(df_ot)"
   ]
  },
  {
   "cell_type": "code",
   "execution_count": null,
   "metadata": {},
   "outputs": [],
   "source": [
    "len(df_activebuys)"
   ]
  },
  {
   "cell_type": "code",
   "execution_count": null,
   "metadata": {},
   "outputs": [],
   "source": [
    "len(df_activesells)"
   ]
  },
  {
   "cell_type": "code",
   "execution_count": null,
   "metadata": {},
   "outputs": [],
   "source": [
    "import wx\n",
    "\n",
    "class MyFrame(wx.Frame):\n",
    "    def __init__(self, parent, id, title):\n",
    "        wx.Frame.__init__(self, parent, id, title, size=(300,300))\n",
    "\n",
    "        panel = wx.Panel(self, -1)\n",
    "        wx.Button(panel, 1, 'Show Custom Dialog', (100,100))\n",
    "        self.Bind (wx.EVT_BUTTON, self.OnShowCustomDialog, id=1)\n",
    "\n",
    "        wx.CallLater(1000, self.OnShowCustomDialog)\n",
    "\n",
    "    def OnShowCustomDialog(self, event=None):\n",
    "        dia = MyDialog(self, -1, 'buttons')\n",
    "        dia.Show()\n",
    "        wx.CallLater(4000, dia.Destroy)\n",
    "\n",
    "class MyApp(wx.App):\n",
    "    def OnInit(self):\n",
    "        frame = MyFrame(None, -1, 'customdialog1.py')\n",
    "        frame.Show(True)\n",
    "        frame.Centre()\n",
    "        return True\n",
    "\n",
    "app = MyApp(0)\n",
    "app.MainLoop()"
   ]
  },
  {
   "cell_type": "code",
   "execution_count": null,
   "metadata": {},
   "outputs": [],
   "source": []
  }
 ],
 "metadata": {
  "kernelspec": {
   "display_name": "Python 3",
   "language": "python",
   "name": "python3"
  },
  "language_info": {
   "codemirror_mode": {
    "name": "ipython",
    "version": 3
   },
   "file_extension": ".py",
   "mimetype": "text/x-python",
   "name": "python",
   "nbconvert_exporter": "python",
   "pygments_lexer": "ipython3",
   "version": "3.7.1"
  }
 },
 "nbformat": 4,
 "nbformat_minor": 2
}
