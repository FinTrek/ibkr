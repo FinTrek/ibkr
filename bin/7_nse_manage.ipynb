{
 "cells": [
  {
   "cell_type": "code",
   "execution_count": null,
   "metadata": {},
   "outputs": [],
   "source": [
    "# recalc_opts.py\n",
    "def recalc_opts(ib, df):\n",
    "    '''Recalculates option prices and margins\n",
    "    Arg:\n",
    "       (ib) as connection object\n",
    "       (df) as the dataframe of options\n",
    "    Returns: dataframe with updated OptPrices and OptMargins\n",
    "    '''\n",
    "    opt_contracts = [Contract(conId=c) for c in df.optId]\n",
    "    qopts = ib.qualifyContracts(*opt_contracts)\n",
    "    tickers = ib.reqTickers(*qopts)\n",
    "    optPrices = {t.contract.conId: t.marketPrice() for t in tickers} # {symbol: undPrice}\n",
    "    optMargins = {c.conId: ib.whatIfOrder(c,Order(action='SELL', orderType='MKT', totalQuantity=abs(ls), whatIf=True)).initMarginChange \n",
    "        for c, ls in (zip(qopts, df.lotsize))}\n",
    "    \n",
    "    # update prices and margins\n",
    "    df = df.set_index('optId')\n",
    "    df.optPrice.update(pd.Series(optPrices))\n",
    "    df.optMargin.update(pd.Series(optMargins))\n",
    "    df.optMargin = df.optMargin.astype('float')\n",
    "    df = df.assign(rom=df.optPrice*df.lotsize/df.optMargin*252/df.dte)\n",
    "    \n",
    "    return df.reset_index()"
   ]
  },
  {
   "cell_type": "code",
   "execution_count": 1,
   "metadata": {},
   "outputs": [
    {
     "name": "stderr",
     "output_type": "stream",
     "text": [
      "Started to throttle requests\n",
      "Stopped to throttle requests\n",
      "Started to throttle requests\n",
      "Stopped to throttle requests\n"
     ]
    }
   ],
   "source": [
    "# get the remaining quantities\n",
    "from ib_insync import *\n",
    "util.startLoop()\n",
    "from helper import get_nse_remqty, get_connected\n",
    "with get_connected('nse', 'live') as ib:\n",
    "    remqty = get_nse_remqty(ib)"
   ]
  },
  {
   "cell_type": "code",
   "execution_count": 2,
   "metadata": {},
   "outputs": [
    {
     "name": "stderr",
     "output_type": "stream",
     "text": [
      "Started to throttle requests\n",
      "Error 0, reqId -1: Warning: Approaching max rate of 50 messages per second (44)\n",
      "Stopped to throttle requests\n",
      "Started to throttle requests\n",
      "Stopped to throttle requests\n",
      "Error 461, reqId 59849: SELL 2,200 BHARATFIN APR 25 '19 1240 Call (BHARATFIN19APR1240CE) :\n",
      "Order size 2,200 is not correct; it should be a multiple of 500, contract: Contract(secType='OPT', conId=359225632, symbol='BHARATFIN', lastTradeDateOrContractMonth='20190425', strike=1240.0, right='C', multiplier='1', exchange='NSE', currency='INR', localSymbol='BHARATFIN19APR1240CE', tradingClass='BHARATFIN')\n"
     ]
    },
    {
     "ename": "AttributeError",
     "evalue": "'list' object has no attribute 'initMarginChange'",
     "output_type": "error",
     "traceback": [
      "\u001b[1;31m---------------------------------------------------------------------------\u001b[0m",
      "\u001b[1;31mAttributeError\u001b[0m                            Traceback (most recent call last)",
      "\u001b[1;32m<ipython-input-2-15a1bbf6c5b6>\u001b[0m in \u001b[0;36m<module>\u001b[1;34m\u001b[0m\n\u001b[0;32m     30\u001b[0m \u001b[1;31m# recalculated the prices and margins\u001b[0m\u001b[1;33m\u001b[0m\u001b[1;33m\u001b[0m\u001b[1;33m\u001b[0m\u001b[0m\n\u001b[0;32m     31\u001b[0m \u001b[1;32mwith\u001b[0m \u001b[0mget_connected\u001b[0m\u001b[1;33m(\u001b[0m\u001b[1;34m'nse'\u001b[0m\u001b[1;33m,\u001b[0m \u001b[1;34m'live'\u001b[0m\u001b[1;33m)\u001b[0m \u001b[1;32mas\u001b[0m \u001b[0mib\u001b[0m\u001b[1;33m:\u001b[0m\u001b[1;33m\u001b[0m\u001b[1;33m\u001b[0m\u001b[0m\n\u001b[1;32m---> 32\u001b[1;33m     \u001b[0mdf2\u001b[0m \u001b[1;33m=\u001b[0m \u001b[0mrecalc_opts\u001b[0m\u001b[1;33m(\u001b[0m\u001b[0mib\u001b[0m\u001b[1;33m,\u001b[0m \u001b[0mdf2\u001b[0m\u001b[1;33m)\u001b[0m\u001b[1;33m\u001b[0m\u001b[1;33m\u001b[0m\u001b[0m\n\u001b[0m\u001b[0;32m     33\u001b[0m \u001b[1;33m\u001b[0m\u001b[0m\n\u001b[0;32m     34\u001b[0m \u001b[1;31m# group by the largest N return on margin\u001b[0m\u001b[1;33m\u001b[0m\u001b[1;33m\u001b[0m\u001b[1;33m\u001b[0m\u001b[0m\n",
      "\u001b[1;32m~\\Documents\\IBKR\\bin\\helper.py\u001b[0m in \u001b[0;36mrecalc_opts\u001b[1;34m(ib, df)\u001b[0m\n\u001b[0;32m    716\u001b[0m     \u001b[0moptPrices\u001b[0m \u001b[1;33m=\u001b[0m \u001b[1;33m{\u001b[0m\u001b[0mt\u001b[0m\u001b[1;33m.\u001b[0m\u001b[0mcontract\u001b[0m\u001b[1;33m.\u001b[0m\u001b[0mconId\u001b[0m\u001b[1;33m:\u001b[0m \u001b[0mt\u001b[0m\u001b[1;33m.\u001b[0m\u001b[0mmarketPrice\u001b[0m\u001b[1;33m(\u001b[0m\u001b[1;33m)\u001b[0m \u001b[1;32mfor\u001b[0m \u001b[0mt\u001b[0m \u001b[1;32min\u001b[0m \u001b[0mtickers\u001b[0m\u001b[1;33m}\u001b[0m \u001b[1;31m# {symbol: undPrice}\u001b[0m\u001b[1;33m\u001b[0m\u001b[1;33m\u001b[0m\u001b[0m\n\u001b[0;32m    717\u001b[0m     optMargins = {c.conId: ib.whatIfOrder(c,Order(action='SELL', orderType='MKT', totalQuantity=abs(ls), whatIf=True)).initMarginChange \n\u001b[1;32m--> 718\u001b[1;33m         for c, ls in (zip(qopts, df.lotsize))}\n\u001b[0m\u001b[0;32m    719\u001b[0m \u001b[1;33m\u001b[0m\u001b[0m\n\u001b[0;32m    720\u001b[0m     \u001b[1;31m# update prices and margins\u001b[0m\u001b[1;33m\u001b[0m\u001b[1;33m\u001b[0m\u001b[1;33m\u001b[0m\u001b[0m\n",
      "\u001b[1;32m~\\Documents\\IBKR\\bin\\helper.py\u001b[0m in \u001b[0;36m<dictcomp>\u001b[1;34m(.0)\u001b[0m\n\u001b[0;32m    716\u001b[0m     \u001b[0moptPrices\u001b[0m \u001b[1;33m=\u001b[0m \u001b[1;33m{\u001b[0m\u001b[0mt\u001b[0m\u001b[1;33m.\u001b[0m\u001b[0mcontract\u001b[0m\u001b[1;33m.\u001b[0m\u001b[0mconId\u001b[0m\u001b[1;33m:\u001b[0m \u001b[0mt\u001b[0m\u001b[1;33m.\u001b[0m\u001b[0mmarketPrice\u001b[0m\u001b[1;33m(\u001b[0m\u001b[1;33m)\u001b[0m \u001b[1;32mfor\u001b[0m \u001b[0mt\u001b[0m \u001b[1;32min\u001b[0m \u001b[0mtickers\u001b[0m\u001b[1;33m}\u001b[0m \u001b[1;31m# {symbol: undPrice}\u001b[0m\u001b[1;33m\u001b[0m\u001b[1;33m\u001b[0m\u001b[0m\n\u001b[0;32m    717\u001b[0m     optMargins = {c.conId: ib.whatIfOrder(c,Order(action='SELL', orderType='MKT', totalQuantity=abs(ls), whatIf=True)).initMarginChange \n\u001b[1;32m--> 718\u001b[1;33m         for c, ls in (zip(qopts, df.lotsize))}\n\u001b[0m\u001b[0;32m    719\u001b[0m \u001b[1;33m\u001b[0m\u001b[0m\n\u001b[0;32m    720\u001b[0m     \u001b[1;31m# update prices and margins\u001b[0m\u001b[1;33m\u001b[0m\u001b[1;33m\u001b[0m\u001b[1;33m\u001b[0m\u001b[0m\n",
      "\u001b[1;31mAttributeError\u001b[0m: 'list' object has no attribute 'initMarginChange'"
     ]
    }
   ],
   "source": [
    "from os import listdir\n",
    "import pandas as pd\n",
    "\n",
    "from helper import get_connected, grp_opts, get_prec, recalc_opts\n",
    "\n",
    "fspath = '../data/nse/'  # path for nse pickles\n",
    "\n",
    "minOptPrice = 0.15\n",
    "minRom = 0.1\n",
    "\n",
    "nLargest = 5\n",
    "\n",
    "fs = listdir(fspath)\n",
    "\n",
    "cols = ['optId', 'symbol', 'right', 'expiration', 'dte', 'strike', 'undPrice', \n",
    "'lo52', 'hi52', 'Fall', 'Rise', 'loFall', 'hiRise', 'std3', 'loStd3', 'hiStd3', \n",
    "'lotsize', 'optPrice', 'optMargin', 'rom']\n",
    "\n",
    "optsList = [f for f in fs if f[-3:] == 'pkl']\n",
    "\n",
    "df1 = pd.concat([pd.read_pickle(fspath+f) \n",
    "                 for f in optsList], axis=0, sort=True).reset_index(drop=True)[cols]\n",
    "\n",
    "# filter for high probability\n",
    "df2 = df1[((df1.strike > df1.hi52) | \n",
    "           (df1.strike < df1.lo52)) & \n",
    "          (df1.optPrice > minOptPrice) & \n",
    "          (df1.rom > minRom)]\n",
    "\n",
    "# recalculated the prices and margins\n",
    "with get_connected('nse', 'live') as ib:\n",
    "    df2 = recalc_opts(ib, df2)\n",
    "\n",
    "# group by the largest N return on margin\n",
    "df2 = grp_opts(df2)\n",
    "df3 = df2.groupby('symbol').apply(lambda x: x.nlargest(nLargest, 'rom'))\n",
    "\n",
    "df4 = df3.assign(expPrice=[get_prec(p*1.1, 0.05) for p in df3.optPrice])\n",
    "# df4 = df4.assign(remqty=[remqty[u] for u in df4.symbol])\n",
    "# df4 = df4.assign(expQty=df4.remqty)\n",
    "\n",
    "df5 = df4[df4.rom>0.15]"
   ]
  },
  {
   "cell_type": "code",
   "execution_count": null,
   "metadata": {},
   "outputs": [],
   "source": [
    "df2.sort_values('rom', ascending=False)[df2.rom > 0.5]"
   ]
  },
  {
   "cell_type": "code",
   "execution_count": 6,
   "metadata": {},
   "outputs": [
    {
     "data": {
      "text/html": [
       "<div>\n",
       "<style scoped>\n",
       "    .dataframe tbody tr th:only-of-type {\n",
       "        vertical-align: middle;\n",
       "    }\n",
       "\n",
       "    .dataframe tbody tr th {\n",
       "        vertical-align: top;\n",
       "    }\n",
       "\n",
       "    .dataframe thead th {\n",
       "        text-align: right;\n",
       "    }\n",
       "</style>\n",
       "<table border=\"1\" class=\"dataframe\">\n",
       "  <thead>\n",
       "    <tr style=\"text-align: right;\">\n",
       "      <th></th>\n",
       "      <th>optId</th>\n",
       "      <th>symbol</th>\n",
       "      <th>right</th>\n",
       "      <th>expiration</th>\n",
       "      <th>dte</th>\n",
       "      <th>strike</th>\n",
       "      <th>undPrice</th>\n",
       "      <th>lo52</th>\n",
       "      <th>hi52</th>\n",
       "      <th>Fall</th>\n",
       "      <th>Rise</th>\n",
       "      <th>loFall</th>\n",
       "      <th>hiRise</th>\n",
       "      <th>std3</th>\n",
       "      <th>loStd3</th>\n",
       "      <th>hiStd3</th>\n",
       "      <th>lotsize</th>\n",
       "      <th>optPrice</th>\n",
       "      <th>optMargin</th>\n",
       "      <th>rom</th>\n",
       "    </tr>\n",
       "  </thead>\n",
       "  <tbody>\n",
       "    <tr>\n",
       "      <th>731</th>\n",
       "      <td>359225632</td>\n",
       "      <td>BHARATFIN</td>\n",
       "      <td>C</td>\n",
       "      <td>20190425</td>\n",
       "      <td>7</td>\n",
       "      <td>1240.0</td>\n",
       "      <td>1138.35</td>\n",
       "      <td>824.2</td>\n",
       "      <td>1233.95</td>\n",
       "      <td>167.5</td>\n",
       "      <td>145.7</td>\n",
       "      <td>970.85</td>\n",
       "      <td>1284.05</td>\n",
       "      <td>56.84628</td>\n",
       "      <td>1081.50372</td>\n",
       "      <td>1195.19628</td>\n",
       "      <td>2200</td>\n",
       "      <td>1.20</td>\n",
       "      <td>130542</td>\n",
       "      <td>0.728042</td>\n",
       "    </tr>\n",
       "    <tr>\n",
       "      <th>732</th>\n",
       "      <td>359225642</td>\n",
       "      <td>BHARATFIN</td>\n",
       "      <td>C</td>\n",
       "      <td>20190425</td>\n",
       "      <td>7</td>\n",
       "      <td>1260.0</td>\n",
       "      <td>1138.35</td>\n",
       "      <td>824.2</td>\n",
       "      <td>1233.95</td>\n",
       "      <td>167.5</td>\n",
       "      <td>145.7</td>\n",
       "      <td>970.85</td>\n",
       "      <td>1284.05</td>\n",
       "      <td>56.84628</td>\n",
       "      <td>1081.50372</td>\n",
       "      <td>1195.19628</td>\n",
       "      <td>2200</td>\n",
       "      <td>0.55</td>\n",
       "      <td>130542</td>\n",
       "      <td>0.333686</td>\n",
       "    </tr>\n",
       "    <tr>\n",
       "      <th>737</th>\n",
       "      <td>359225649</td>\n",
       "      <td>BHARATFIN</td>\n",
       "      <td>C</td>\n",
       "      <td>20190425</td>\n",
       "      <td>7</td>\n",
       "      <td>1280.0</td>\n",
       "      <td>1138.35</td>\n",
       "      <td>824.2</td>\n",
       "      <td>1233.95</td>\n",
       "      <td>167.5</td>\n",
       "      <td>145.7</td>\n",
       "      <td>970.85</td>\n",
       "      <td>1284.05</td>\n",
       "      <td>56.84628</td>\n",
       "      <td>1081.50372</td>\n",
       "      <td>1195.19628</td>\n",
       "      <td>2200</td>\n",
       "      <td>0.25</td>\n",
       "      <td>130542</td>\n",
       "      <td>0.151675</td>\n",
       "    </tr>\n",
       "  </tbody>\n",
       "</table>\n",
       "</div>"
      ],
      "text/plain": [
       "         optId     symbol right expiration  dte  strike  undPrice   lo52  \\\n",
       "731  359225632  BHARATFIN     C   20190425    7  1240.0   1138.35  824.2   \n",
       "732  359225642  BHARATFIN     C   20190425    7  1260.0   1138.35  824.2   \n",
       "737  359225649  BHARATFIN     C   20190425    7  1280.0   1138.35  824.2   \n",
       "\n",
       "        hi52   Fall   Rise  loFall   hiRise      std3      loStd3      hiStd3  \\\n",
       "731  1233.95  167.5  145.7  970.85  1284.05  56.84628  1081.50372  1195.19628   \n",
       "732  1233.95  167.5  145.7  970.85  1284.05  56.84628  1081.50372  1195.19628   \n",
       "737  1233.95  167.5  145.7  970.85  1284.05  56.84628  1081.50372  1195.19628   \n",
       "\n",
       "     lotsize  optPrice  optMargin       rom  \n",
       "731     2200      1.20     130542  0.728042  \n",
       "732     2200      0.55     130542  0.333686  \n",
       "737     2200      0.25     130542  0.151675  "
      ]
     },
     "execution_count": 6,
     "metadata": {},
     "output_type": "execute_result"
    }
   ],
   "source": [
    "df2[df2.symbol == 'BHARATFIN']"
   ]
  },
  {
   "cell_type": "code",
   "execution_count": null,
   "metadata": {},
   "outputs": [],
   "source": [
    "# make calls and puts watch - to quickly weed out risky options\n",
    "gb = df5.groupby('right')\n",
    "\n",
    "if 'C' in [k for k in gb.indices]:\n",
    "#     df5_calls = gb.get_group('C').reset_index(drop=True).sort_values(['symbol', 'strike'], ascending=[True, True])\n",
    "    df5_calls = gb.get_group('C').reset_index(drop=True)\n",
    "    \n",
    "    df5_callsymbols = df5_calls.symbol.unique()\n",
    "    watchcalls = [('DES', s, 'STK', 'NSE') if s not in ['NIFTY50', 'BANKNIFTY'] else ('DES', s, 'IND', 'NSE') for s in df5_callsymbols]\n",
    "    df5_wp = util.df(watchcalls)\n",
    "    df5_wp.to_csv(fspath+'callswatch.csv', index=None, header=False)\n",
    "    \n",
    "else:\n",
    "    df5_calls = pd.DataFrame([]) # empty dataframe\n",
    "\n",
    "if 'P' in [k for k in gb.indices]:\n",
    "#     df5_puts = gb.get_group('P').reset_index(drop=True).sort_values(['symbol', 'strike'], ascending=[True, False])\n",
    "    df5_puts = gb.get_group('P').reset_index(drop=True)\n",
    "    \n",
    "    # make watchlist\n",
    "    df5_putssymbols = df5_puts.symbol.unique()\n",
    "    watchputs = [('DES', s, 'STK', 'NSE') if s not in ['NIFTY50', 'BANKNIFTY'] else ('DES', s, 'IND', 'NSE') for s in df5_putssymbols]\n",
    "    df5_wp = util.df(watchputs)\n",
    "    df5_wp.to_csv(fspath+'putswatch.csv', index=None, header=False)\n",
    "else:\n",
    "    df5_puts = pd.DataFrame([]) # empty dataframe\n",
    "\n",
    "# output the consolidated puts and calls dataframe\n",
    "df5 = pd.concat([df5_puts, df5_calls]).reset_index(drop=True)\n",
    "df5.to_csv(fspath+'check.csv', index=None, header=True)"
   ]
  },
  {
   "cell_type": "code",
   "execution_count": null,
   "metadata": {},
   "outputs": [],
   "source": [
    "df5 = df5.assign(expQty=3)"
   ]
  },
  {
   "cell_type": "code",
   "execution_count": null,
   "metadata": {},
   "outputs": [],
   "source": [
    "df5.loc[df5.symbol == 'BSOFT', 'expPrice'] = 0.55"
   ]
  },
  {
   "cell_type": "code",
   "execution_count": null,
   "metadata": {},
   "outputs": [],
   "source": [
    "df5"
   ]
  },
  {
   "cell_type": "code",
   "execution_count": null,
   "metadata": {},
   "outputs": [],
   "source": [
    "sum(df5.expQty*df5.expPrice*df5.lotsize)"
   ]
  },
  {
   "cell_type": "code",
   "execution_count": null,
   "metadata": {},
   "outputs": [],
   "source": [
    "opt_contracts = [Contract(conId=c) for c in df5.optId]\n",
    "with get_connected('nse', 'live') as ib:\n",
    "    qopts = ib.qualifyContracts(*opt_contracts)"
   ]
  },
  {
   "cell_type": "code",
   "execution_count": null,
   "metadata": {},
   "outputs": [],
   "source": [
    "orders = [LimitOrder('SELL', qty*lotsize, price) for qty, lotsize, price in zip(df5.expQty, df5.lotsize, df5.expPrice)]"
   ]
  },
  {
   "cell_type": "code",
   "execution_count": null,
   "metadata": {},
   "outputs": [],
   "source": [
    "with get_connected('nse', 'live') as ib:\n",
    "    limitTrade = [ib.placeOrder(c, o) for c, o in zip(qopts,  orders)]"
   ]
  },
  {
   "cell_type": "code",
   "execution_count": null,
   "metadata": {},
   "outputs": [],
   "source": [
    "# ib = get_connected('nse', 'live')"
   ]
  },
  {
   "cell_type": "code",
   "execution_count": null,
   "metadata": {},
   "outputs": [],
   "source": [
    "[ib.placeOrder(c, o) for c, o in zip(qopts,  orders)]"
   ]
  },
  {
   "cell_type": "code",
   "execution_count": null,
   "metadata": {},
   "outputs": [],
   "source": [
    "ib.reqGlobalCancel()"
   ]
  },
  {
   "cell_type": "code",
   "execution_count": null,
   "metadata": {},
   "outputs": [],
   "source": []
  }
 ],
 "metadata": {
  "kernelspec": {
   "display_name": "Python 3",
   "language": "python",
   "name": "python3"
  },
  "language_info": {
   "codemirror_mode": {
    "name": "ipython",
    "version": 3
   },
   "file_extension": ".py",
   "mimetype": "text/x-python",
   "name": "python",
   "nbconvert_exporter": "python",
   "pygments_lexer": "ipython3",
   "version": "3.7.1"
  }
 },
 "nbformat": 4,
 "nbformat_minor": 2
}
