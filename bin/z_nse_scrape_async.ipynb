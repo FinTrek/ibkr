{
 "cells": [
  {
   "cell_type": "code",
   "execution_count": 1,
   "metadata": {},
   "outputs": [],
   "source": [
    "# x.py\n",
    "from helper import *\n",
    "from nse_func import *\n",
    "\n",
    "import nest_asyncio\n",
    "nest_asyncio.apply()\n",
    "\n",
    "# Do assignments\n",
    "a = assign_var('nse')\n",
    "for v in a:\n",
    "    exec(v)\n",
    "\n",
    "from ib_insync import *\n",
    "util.startLoop()\n",
    "\n",
    "# ib =  get_connected('nse', 'live')\n",
    "\n",
    "with open(logpath+'ztest.log', 'w'):\n",
    "    pass # clear the run log\n",
    "\n",
    "util.logToFile(logpath+'ztest.log')"
   ]
  },
  {
   "cell_type": "raw",
   "metadata": {},
   "source": [
    "from IPython.core.display import SVG\n",
    "SVG(filename='../pic/'+'nse_scrape_async.svg')"
   ]
  },
  {
   "cell_type": "code",
   "execution_count": 2,
   "metadata": {},
   "outputs": [],
   "source": [
    "# get_lots.py\n",
    "def get_lots():\n",
    "    '''Get the lots with expiry dates\n",
    "    Arg: None\n",
    "    Returns: lots dataframe with expiry as YYYYMM''' \n",
    "\n",
    "    url = 'https://www.nseindia.com/content/fo/fo_mktlots.csv'\n",
    "    req = requests.get(url)\n",
    "    data = StringIO(req.text)\n",
    "    lots_df = pd.read_csv(data)\n",
    "\n",
    "    lots_df = lots_df[list(lots_df)[1:5]]\n",
    "\n",
    "    # strip whitespace from columns and make it lower case\n",
    "    lots_df.columns = lots_df.columns.str.strip().str.lower() \n",
    "\n",
    "    # strip all string contents of whitespaces\n",
    "    lots_df = lots_df.applymap(lambda x: x.strip() if type(x) is str else x)\n",
    "\n",
    "    # remove 'Symbol' row\n",
    "    lots_df = lots_df[lots_df.symbol != 'Symbol']\n",
    "\n",
    "    # melt the expiries into rows\n",
    "    lots_df = lots_df.melt(id_vars=['symbol'], var_name='expiryM', value_name='lot').dropna()\n",
    "\n",
    "    # remove rows without lots\n",
    "    lots_df = lots_df[~(lots_df.lot == '')]\n",
    "\n",
    "    # convert expiry to period\n",
    "    lots_df = lots_df.assign(expiryM=pd.to_datetime(lots_df.expiryM, format='%b-%y').dt.to_period('M'))\n",
    "\n",
    "    # convert lots to integers\n",
    "    lots_df = lots_df.assign(lot=pd.to_numeric(lots_df.lot, errors='coerce'))\n",
    "    \n",
    "    # convert & to %26\n",
    "    lots_df = lots_df.assign(symbol=lots_df.symbol.str.replace('&', '%26'))\n",
    "\n",
    "    return lots_df.reset_index(drop=True)"
   ]
  },
  {
   "cell_type": "code",
   "execution_count": 3,
   "metadata": {},
   "outputs": [
    {
     "name": "stdout",
     "output_type": "stream",
     "text": [
      "Wall time: 1.24 s\n"
     ]
    }
   ],
   "source": [
    "%%time\n",
    "# symbols_and_lots.py\n",
    "# get the symbols and lots\n",
    "df_lots = get_lots()\n",
    "symbols = sorted(list(df_lots.symbol.unique()))"
   ]
  },
  {
   "cell_type": "code",
   "execution_count": null,
   "metadata": {},
   "outputs": [],
   "source": []
  },
  {
   "cell_type": "code",
   "execution_count": 5,
   "metadata": {},
   "outputs": [],
   "source": [
    "url = 'https://www.nseindia.com/live_market/dynaContent/live_watch/option_chain/optionKeys.jsp?symbol='\n",
    "url_list = [url+symbol for symbol in symbols]"
   ]
  },
  {
   "cell_type": "code",
   "execution_count": 10,
   "metadata": {},
   "outputs": [
    {
     "name": "stderr",
     "output_type": "stream",
     "text": [
      "IOPub data rate exceeded.\n",
      "The notebook server will temporarily stop sending output\n",
      "to the client in order to avoid crashing it.\n",
      "To change this limit, set the config variable\n",
      "`--NotebookApp.iopub_data_rate_limit`.\n",
      "\n",
      "Current values:\n",
      "NotebookApp.iopub_data_rate_limit=1000000.0 (bytes/sec)\n",
      "NotebookApp.rate_limit_window=3.0 (secs)\n",
      "\n"
     ]
    },
    {
     "name": "stdout",
     "output_type": "stream",
     "text": [
      "\n"
     ]
    }
   ],
   "source": [
    "import ssl\n",
    "async def fetch(session, url):\n",
    "    async with session.get(url, ssl=ssl.SSLContext()) as response:\n",
    "        await asyncio.sleep(0.1)\n",
    "        return await response.text()\n",
    "\n",
    "\n",
    "async def fetch_all(urls, loop):\n",
    "    async with aiohttp.ClientSession(loop=loop) as session:\n",
    "        results = await asyncio.gather(*[fetch(session, url) for url in urls], return_exceptions=True)\n",
    "        return results\n",
    "\n",
    "\n",
    "if __name__ == '__main__':\n",
    "    loop = asyncio.get_event_loop()\n",
    "    urls = url_list\n",
    "    htmls = loop.run_until_complete(fetch_all(urls, loop))\n",
    "    print(htmls)"
   ]
  },
  {
   "cell_type": "code",
   "execution_count": null,
   "metadata": {},
   "outputs": [],
   "source": []
  },
  {
   "cell_type": "code",
   "execution_count": null,
   "metadata": {},
   "outputs": [],
   "source": [
    "# generates the coroutines\n",
    "tasks = [asyncio.create_task(get_xu_async(s)) \n",
    "         for s in symbols]\n",
    "\n",
    "# run the coroutines\n",
    "dfs = asyncio.run(df_when_done(tasks))"
   ]
  },
  {
   "cell_type": "code",
   "execution_count": 2,
   "metadata": {},
   "outputs": [],
   "source": [
    "# get_xu_async.py\n",
    "async def get_xu_async(symbol: str) -> pd.DataFrame():\n",
    "    '''Gets the symbol, expiry, undPrice'''\n",
    "    # get expiries for the symbol\n",
    "    url = 'https://www.nseindia.com/live_market/dynaContent/live_watch/option_chain/optionKeys.jsp?symbol='\n",
    "    xpd = \"//*[@id='date']\" # xpath for date select options\n",
    "    xpu = \"//*[@id='whttp://localhost:8888/notebooks/bin/z_nse_scrape_async.ipynb#rapper_btm']/table[1]/tr/td[2]/div/span[1]/b\" # xpath for undPrice\n",
    "\n",
    "    print(f'Started aiohttp for {symbol}')\n",
    "    \n",
    "    async with aiohttp.ClientSession(headers=headers) as session:\n",
    "        async with session.get(url+symbol) as resp:\n",
    "            assert resp.status == 200\n",
    "            res = await resp.text()\n",
    "            print(f'Completed aiohttp for {symbol}')\n",
    "            \n",
    "            return res\n",
    "\n",
    "async def df_when_done(tasks):\n",
    "    from lxml import html\n",
    "    dfs = []\n",
    "    for res in limited_as_completed(tasks, 20):\n",
    "        htree = await html.fromstring(res) #html is from lxml \n",
    "        expiries = [opt.text for e in htree.xpath(xpd) for opt in e if 'Select' not in opt.text.strip('')]\n",
    "        undPrice = [float(e.text.split(' ')[1]) for e in htree.xpath(xpu)][0]\n",
    "\n",
    "        # convert above to a DataFrame\n",
    "        df = pd.DataFrame(list(product([symbol], expiries, [str(undPrice)])), \n",
    "                          columns=['symbol', 'expiry', 'undPrice'])\n",
    "        df = df.apply(pd.to_numeric, errors = 'ignore')\n",
    "        print('df done!')\n",
    "        dfs.append(df)\n",
    "    return dfs\n",
    "\n",
    "import asyncio\n",
    "from itertools import islice\n",
    "\n",
    "def limited_as_completed(coros, limit):\n",
    "    \"\"\"\n",
    "    Run the coroutines (or futures) supplied in the\n",
    "    iterable coros, ensuring that there are at most\n",
    "    limit coroutines running at any time.\n",
    "    Return an iterator whose values, when waited for,\n",
    "    are Future instances containing the results of\n",
    "    the coroutines.\n",
    "    Results may be provided in any order, as they\n",
    "    become available.\n",
    "    \"\"\"\n",
    "    futures = [\n",
    "        asyncio.ensure_future(c)\n",
    "        for c in islice(coros, 0, limit)\n",
    "    ]\n",
    "    async def first_to_finish():\n",
    "        while True:\n",
    "            await asyncio.sleep(0)\n",
    "            for f in futures:\n",
    "                if f.done():\n",
    "                    futures.remove(f)\n",
    "                    try:\n",
    "                        newf = next(coros)\n",
    "                        futures.append(\n",
    "                            asyncio.ensure_future(newf))\n",
    "                    except StopIteration as e:\n",
    "                        pass\n",
    "                    return f.result()\n",
    "    while len(futures) > 0:\n",
    "        yield first_to_finish()"
   ]
  },
  {
   "cell_type": "code",
   "execution_count": null,
   "metadata": {},
   "outputs": [],
   "source": [
    "dfs"
   ]
  },
  {
   "cell_type": "code",
   "execution_count": null,
   "metadata": {},
   "outputs": [],
   "source": [
    "%%time\n",
    "# run just one get_xu_async - with run_until_complete\n",
    "loop = asyncio.get_event_loop()\n",
    "htmls=loop.run_until_complete(get_xu_async('ACC'))"
   ]
  },
  {
   "cell_type": "code",
   "execution_count": null,
   "metadata": {},
   "outputs": [],
   "source": []
  },
  {
   "cell_type": "code",
   "execution_count": null,
   "metadata": {},
   "outputs": [],
   "source": [
    "%%time\n",
    "# run all scrips - with gather\n",
    "tasks = [asyncio.create_task(get_xu_async(s)) for s in symbols]\n",
    "g = asyncio.gather(*tasks)\n",
    "\n",
    "htmls = asyncio.run(g)"
   ]
  },
  {
   "cell_type": "code",
   "execution_count": null,
   "metadata": {},
   "outputs": [],
   "source": [
    "len(htmls)"
   ]
  },
  {
   "cell_type": "code",
   "execution_count": null,
   "metadata": {},
   "outputs": [],
   "source": [
    "%%time\n",
    "# run two scrips - with gather\n",
    "sym2 = ['ACC', 'PNB']\n",
    "tasks = [asyncio.create_task(get_xu_async(s)) for s in sym2]\n",
    "g = asyncio.gather(*tasks)\n",
    "\n",
    "htmls = asyncio.run(g)"
   ]
  },
  {
   "cell_type": "code",
   "execution_count": null,
   "metadata": {},
   "outputs": [],
   "source": []
  },
  {
   "cell_type": "code",
   "execution_count": null,
   "metadata": {},
   "outputs": [],
   "source": [
    "async def main():\n",
    "#     tasks = [asyncio.create_task(get_xu_async(s)) for s in symbols]\n",
    "\n",
    "    # Schedule all the tasks *concurrently*\n",
    "    await asyncio.gather(*[asyncio.create_task(get_xu_async(s)) for s in symbols])\n",
    "    print(f\"started at {time.strftime('%X')}\")\n",
    "\n",
    "dfs = asyncio.run(main())"
   ]
  },
  {
   "cell_type": "code",
   "execution_count": null,
   "metadata": {},
   "outputs": [],
   "source": [
    "async def fetch(client, url):\n",
    "    async with client.get(url) as resp:\n",
    "        assert resp.status == 200\n",
    "        return await resp.text()\n",
    "\n",
    "async def main(urls):\n",
    "    async with aiohttp.ClientSession(headers=headers) as client:\n",
    "        tasks = await [fetch(client, u) for u in urls]\n",
    "        return html\n",
    "        \n",
    "loop = asyncio.get_event_loop()\n",
    "loop.run_until_complete(main())"
   ]
  },
  {
   "cell_type": "code",
   "execution_count": null,
   "metadata": {},
   "outputs": [],
   "source": []
  },
  {
   "cell_type": "code",
   "execution_count": 6,
   "metadata": {},
   "outputs": [
    {
     "name": "stderr",
     "output_type": "stream",
     "text": [
      "IOPub data rate exceeded.\n",
      "The notebook server will temporarily stop sending output\n",
      "to the client in order to avoid crashing it.\n",
      "To change this limit, set the config variable\n",
      "`--NotebookApp.iopub_data_rate_limit`.\n",
      "\n",
      "Current values:\n",
      "NotebookApp.iopub_data_rate_limit=1000000.0 (bytes/sec)\n",
      "NotebookApp.rate_limit_window=3.0 (secs)\n",
      "\n"
     ]
    },
    {
     "name": "stdout",
     "output_type": "stream",
     "text": [
      "\n"
     ]
    }
   ],
   "source": [
    "#!/usr/local/bin/python3.5\n",
    "import asyncio\n",
    "from aiohttp import ClientSession\n",
    "\n",
    "async def fetch(url, session):\n",
    "    async with session.get(url) as response:\n",
    "        return await response.read()\n",
    "\n",
    "async def run(r):\n",
    "    url = 'https://www.nseindia.com/live_market/dynaContent/live_watch/option_chain/optionKeys.jsp?symbol={}'\n",
    "    tasks = []\n",
    "\n",
    "    # Fetch all responses within one Client session,\n",
    "    # keep connection alive for all requests.\n",
    "    async with ClientSession() as session:\n",
    "        for i in symbols[:10]:\n",
    "            task = asyncio.ensure_future(fetch(url.format(i), session))\n",
    "            tasks.append(task)\n",
    "\n",
    "        responses = await asyncio.gather(*tasks)\n",
    "        # you now have all response bodies in this variable\n",
    "        return responses\n",
    "#         print(responses)\n",
    "\n",
    "def print_responses(result):\n",
    "    print(result)\n",
    "\n",
    "loop = asyncio.get_event_loop()\n",
    "future = asyncio.ensure_future(run(4))\n",
    "loop.run_until_complete(future)"
   ]
  },
  {
   "cell_type": "code",
   "execution_count": null,
   "metadata": {},
   "outputs": [],
   "source": []
  }
 ],
 "metadata": {
  "kernelspec": {
   "display_name": "Python 3",
   "language": "python",
   "name": "python3"
  },
  "language_info": {
   "codemirror_mode": {
    "name": "ipython",
    "version": 3
   },
   "file_extension": ".py",
   "mimetype": "text/x-python",
   "name": "python",
   "nbconvert_exporter": "python",
   "pygments_lexer": "ipython3",
   "version": "3.7.1"
  }
 },
 "nbformat": 4,
 "nbformat_minor": 2
}
