{
 "cells": [
  {
   "cell_type": "code",
   "execution_count": 30,
   "metadata": {},
   "outputs": [],
   "source": [
    "# workout_snp.py\n",
    "# Program for normalizing returns from existing orders\n",
    "\n",
    "from z_helper import *\n",
    "util.startLoop()\n",
    "\n",
    "# from json\n",
    "a = assign_var('snp') + assign_var('common')\n",
    "for v in a:\n",
    "    exec(v)\n",
    "\n",
    "with get_connected('snp', 'live') as ib:\n",
    "    pos = ib.positions()\n",
    "    trades = ib.trades()\n",
    "    pos_contracts = ib.qualifyContracts(*[Contract(conId=c) for c in [p.contract.conId for p in pos]])\n",
    "    pos_tickers = ib.reqTickers(*pos_contracts)\n",
    "    pos_prices = {t.contract.conId: t.marketPrice() for t in pos_tickers}\n",
    "    \n",
    "#... position dataframe\n",
    "pos_cols = ['conId', 'symbol', 'localSymbol', 'secType', 'lastTradeDateOrContractMonth', 'strike', 'right']\n",
    "pos_df = util.df(p.contract for p in pos)[pos_cols]\n",
    "pos_df = pos_df.rename({'lastTradeDateOrContractMonth': 'expiry'}, axis='columns')\n",
    "pos_df['position'] = [p.position for p in pos]\n",
    "pos_df['avgCost'] = [p.avgCost for p in pos]\n",
    "pos_df['close'] = pos_df.conId.map(pos_prices)\n",
    "\n",
    "pos_opt_df = pos_df[pos_df.secType == 'OPT']\n",
    "\n",
    "pos_opt_df = pos_opt_df.assign(dte=pos_opt_df.expiry.apply(get_dte))\n",
    "\n",
    "# take maximum of precision and minimum of hvstPrice, avgCost\n",
    "pos_opt_df = pos_opt_df.assign(hvstPrice=np.maximum(np.minimum((pos_opt_df.dte.apply(hvstPricePct)*pos_opt_df.avgCost).apply(lambda x: get_prec(x, 0.05)), pos_opt_df.close), prec))\n",
    "\n",
    "#... trades dataframe\n",
    "trades_df = util.df(t.contract for t in trades).join(util.df(t.order for t in trades)).join(util.df(t.orderStatus for t in trades), lsuffix='_')\n",
    "\n",
    "# join with other parameters in sized.pkl\n",
    "trades_df = trades_df.set_index('conId').join(pd.read_pickle(fspath+'sized.pkl')[['optId', 'close', 'undPrice', 'rom', 'stDev']].set_index('optId')).rename_axis('conId').reset_index()\n",
    "trades_df = trades_df.rename({'lastTradeDateOrContractMonth': 'expiry'}, axis=1)\n",
    "trades_df = trades_df.assign(sd=abs(trades_df.strike-trades_df.undPrice)/trades_df.stDev)\n",
    "\n",
    "trades_cols = ['conId', 'symbol', 'localSymbol', 'secType', 'expiry', 'strike', 'right', 'undPrice', 'sd', 'rom', 'orderId', 'permId', 'action', 'totalQuantity', 'close', 'lmtPrice', 'status']\n",
    "trades_df = trades_df[trades_cols]\n",
    "\n",
    "#... place BUY orders for positions without BUY orders\n",
    "\n",
    "# get the pos conIds that have some trade (BUY or SELL)\n",
    "pos_trade_cids = [tid for tid in trades_df.conId if tid in list(pos_opt_df.conId)]\n",
    "\n",
    "# remove pos conIds that have BUY trade action\n",
    "pos_buy_cids = list(trades_df[trades_df.conId.isin(pos_trade_cids) & (trades_df.action == 'BUY') & (trades_df.status != 'Cancelled')].conId)\n",
    "\n",
    "pos_buy_df = pos_opt_df[~pos_opt_df.conId.isin(pos_buy_cids)]\n",
    "\n",
    "# prepare to place orders\n",
    "buy_orders = [LimitOrder(action='BUY', totalQuantity=-position, lmtPrice=hvstPrice) \n",
    "                          for position, hvstPrice in zip(pos_buy_df.position, pos_buy_df.hvstPrice)]\n",
    "buy_contracts = [{p.conId:p for p in pos_contracts}[pid] for pid in pos_buy_df.conId]"
   ]
  },
  {
   "cell_type": "raw",
   "metadata": {},
   "source": [
    "# @@@@@@@@@@@@@@@@@@@@@@@@@@@@@@@@@@@@@@@@@\n",
    "# WARNING: THE FOLLOWING CODE PLACES TRADES\n",
    "# _________________________________________\n",
    "if buy_contracts:\n",
    "    with get_connected('snp', 'live') as ib:\n",
    "        hvstTrades = [ib.placeOrder(c, o) for c, o in zip(buy_contracts, buy_orders)]"
   ]
  },
  {
   "cell_type": "code",
   "execution_count": null,
   "metadata": {},
   "outputs": [],
   "source": []
  }
 ],
 "metadata": {
  "kernelspec": {
   "display_name": "Python 3",
   "language": "python",
   "name": "python3"
  },
  "language_info": {
   "codemirror_mode": {
    "name": "ipython",
    "version": 3
   },
   "file_extension": ".py",
   "mimetype": "text/x-python",
   "name": "python",
   "nbconvert_exporter": "python",
   "pygments_lexer": "ipython3",
   "version": "3.7.1"
  }
 },
 "nbformat": 4,
 "nbformat_minor": 2
}
