{
 "cells": [
  {
   "cell_type": "code",
   "execution_count": null,
   "metadata": {},
   "outputs": [],
   "source": [
    "# nse scratchpad initiation\n",
    "from helper import *\n",
    "from nse_func import *\n",
    "\n",
    "# Do assignments\n",
    "a = assign_var('nse')\n",
    "for v in a:\n",
    "    exec(v)\n",
    "\n",
    "from ib_insync import *\n",
    "util.startLoop()"
   ]
  },
  {
   "cell_type": "code",
   "execution_count": null,
   "metadata": {},
   "outputs": [],
   "source": [
    "ib =  get_connected('nse', 'live')"
   ]
  },
  {
   "cell_type": "code",
   "execution_count": null,
   "metadata": {},
   "outputs": [],
   "source": [
    "# get the remaining quantities\n",
    "dfrq = remqty_nse(ib)\n",
    "\n",
    "dft = pd.read_pickle(fspath+'targets.pickle')\n",
    "\n",
    "dft = dft.assign(remqty=dft.symbol.map(dfrq.remqty.to_dict()))   # remaining quantities\n",
    "dft = dft[dft.remqty > 0].reset_index(drop=True) # remove blacklisted (remqty <= 0)"
   ]
  },
  {
   "cell_type": "code",
   "execution_count": null,
   "metadata": {},
   "outputs": [],
   "source": [
    "pmask = (dft.right == 'P') & (dft.undPrice-dft.strike-dft.expPrice > dft.Fall)\n",
    "\n",
    "df_prisky = pd.merge(dft[pmask][['symbol', 'strike', 'right', 'dte', 'undPrice', 'optPrice', 'expPrice', 'Fall', 'Rise', 'expRom']], \n",
    "         pd.DataFrame((dft[pmask].undPrice-dft[pmask].strike-dft[pmask].expPrice)), on=dft[pmask].index).drop('key_0', 1)\n",
    "\n",
    "cmask = (dft.right == 'C') & (dft.strike-dft.undPrice-dft.expPrice > dft.Rise)\n",
    "df_crisky = pd.merge(dft[cmask][['symbol', 'strike', 'right', 'dte', 'undPrice', 'optPrice', 'expPrice', 'Fall', 'Rise', 'expRom']], \n",
    "         pd.DataFrame((dft[cmask].strike-dft[cmask].undPrice-dft[cmask].expPrice)), on=dft[cmask].index).drop('key_0', 1)\n",
    "\n",
    "df_risky = pd.concat([df_prisky, df_crisky]).reset_index(drop=True)\n",
    "\n",
    "df_risky = df_risky.rename(columns={0: 'FallRise'})"
   ]
  },
  {
   "cell_type": "code",
   "execution_count": null,
   "metadata": {},
   "outputs": [],
   "source": [
    "df_risky"
   ]
  },
  {
   "cell_type": "code",
   "execution_count": null,
   "metadata": {},
   "outputs": [],
   "source": [
    "dynamic(ib)"
   ]
  },
  {
   "cell_type": "code",
   "execution_count": null,
   "metadata": {},
   "outputs": [],
   "source": []
  }
 ],
 "metadata": {
  "kernelspec": {
   "display_name": "Python 3",
   "language": "python",
   "name": "python3"
  },
  "language_info": {
   "codemirror_mode": {
    "name": "ipython",
    "version": 3
   },
   "file_extension": ".py",
   "mimetype": "text/x-python",
   "name": "python",
   "nbconvert_exporter": "python",
   "pygments_lexer": "ipython3",
   "version": "3.7.1"
  }
 },
 "nbformat": 4,
 "nbformat_minor": 2
}
