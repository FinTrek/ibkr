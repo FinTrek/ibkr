{
 "cells": [
  {
   "cell_type": "code",
   "execution_count": 3,
   "metadata": {},
   "outputs": [],
   "source": [
    "# program to convert functions in cells to indivdiual .py files\n",
    "# the first line of the cell containing function to be converted should have\n",
    "# filename.py\n",
    "\n",
    "import json\n",
    "from os import listdir\n",
    "\n",
    "import re\n",
    "from collections import Counter\n",
    "\n",
    "fs = listdir() # get the filenames\n",
    "\n",
    "# make an exclusion list\n",
    "magics = %lsmagic\n",
    "magic_words = [s for s in str(magics).split(' ') if s not in '' if '%' in s[0]]\n",
    "magic_words = [s for s in magic_words if s != '%']\n",
    "\n",
    "exclude = ['util.startLoop()', 'import nest_asyncio', 'nest_asyncio.apply()'] + magic_words\n",
    "\n",
    "# searchfor = ['helper.ipynb', 'nse_func.ipynb', 'snp_func.ipynb', 'nse_main.ipynb', 'snp_main.ipynb']  # list of files to be converted into\n",
    "# ipfilelist = [f for f in fs if any(word in f for word in searchfor)]\n",
    "\n",
    "ipfilelist = [f for f in fs if f[-5:] == 'ipynb' if f[:1] not in ['_']]\n",
    "\n",
    "for file in ipfilelist:\n",
    "    code_cells = []  #initialize code_cells\n",
    "    with open(file) as datafile:\n",
    "        code = json.load(datafile)\n",
    "        code_cells.append([cell['source'] for cell in code['cells'] if cell['cell_type'] == 'code'])\n",
    "        codes = [cell for cells in code_cells for cell in cells if cell]\n",
    "        code_dict = {pycode[0][2:-1]:pycode for pycode in codes if pycode[0][-4:] == '.py\\n'}\n",
    "        with open(file[:-6]+'.py', 'w') as f:\n",
    "            for k, v in code_dict.items():\n",
    "                for line in v:\n",
    "                    if not any(word in line for word in exclude):\n",
    "                        f.write(line)        \n",
    "                f.write('\\n\\n#_____________________________________\\n\\n')\n",
    "        "
   ]
  },
  {
   "cell_type": "code",
   "execution_count": null,
   "metadata": {},
   "outputs": [],
   "source": []
  },
  {
   "cell_type": "code",
   "execution_count": null,
   "metadata": {},
   "outputs": [],
   "source": [
    "# check for redundant headers\n",
    "code_cells = []\n",
    "for file in ipfilelist:\n",
    "    with open(file) as datafile:\n",
    "        code = json.load(datafile)\n",
    "        code_cells.append([cell['source'] for cell in code['cells'] if cell['cell_type'] == 'code'])\n",
    "\n",
    "one_code = [code_cells[i][0] for i in range(len(code_cells))] # remove unncessary []\n",
    "\n",
    "one_list = [item for sublist in one_code for item in sublist] # concatenate to one list\n",
    "\n",
    "one_list = [line.split('\\n')[0] for line in one_list] # remove '\\n'\n",
    "\n",
    "# make a unique search word for imports and from as headers\n",
    "headlist = ['import', 'from']\n",
    "head_search = [line for line in one_list if any(word in line for word in headlist)] # take only lines having headlist\n",
    "head_search = [line for line in head_search if not any(word in line for word in [\"# \"])] # remove commented code\n",
    "head_search = [line.split(' *')[0] for line in head_search] # remove * after import\n",
    "head_search = [line.split(' ') for line in head_search] # split by spaces\n",
    "head_search = [element[element.index('import')+1:] for element in head_search] # remove anything before 'import'\n",
    "head_search = [line for line in head_search if line] # remove the blank []\n",
    "head_search = {word for element in head_search for word in element if word != 'as'} # remove as and concatenate + remove duplicates\n",
    "\n",
    "search_on = [line.split(' ') for line in one_list] # remove spaces\n",
    "search_on = [t.split('.') for s in search_on for t in s] # remove the dots\n",
    "\n",
    "search_on = [word for sublist in search_on for word in sublist]\n",
    "\n",
    "# search_on = [word for line in search_on for word in line if word not in [\"\", \"*\", \"'''\", \"=\"]]\n",
    "search_on_dict = Counter(search_on)\n",
    "search_on_dict = dict(search_on_dict)\n",
    "\n",
    "{k: v for k, v in search_on_dict.items() if k in list(head_search)}\n",
    "\n",
    "{k: v for k, v in search_on_dict.items() if k in head_search}\n",
    "\n",
    "search_on = [re.split('; |, |\\*|\\n| ', word) for word in one_list]"
   ]
  },
  {
   "cell_type": "code",
   "execution_count": null,
   "metadata": {},
   "outputs": [],
   "source": []
  },
  {
   "cell_type": "code",
   "execution_count": null,
   "metadata": {},
   "outputs": [],
   "source": []
  }
 ],
 "metadata": {
  "kernelspec": {
   "display_name": "Python 3",
   "language": "python",
   "name": "python3"
  },
  "language_info": {
   "codemirror_mode": {
    "name": "ipython",
    "version": 3
   },
   "file_extension": ".py",
   "mimetype": "text/x-python",
   "name": "python",
   "nbconvert_exporter": "python",
   "pygments_lexer": "ipython3",
   "version": "3.7.1"
  }
 },
 "nbformat": 4,
 "nbformat_minor": 2
}
