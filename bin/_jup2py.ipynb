{
 "cells": [
  {
   "cell_type": "code",
   "execution_count": 34,
   "metadata": {},
   "outputs": [],
   "source": [
    "# program to convert functions in cells to indivdiual .py files\n",
    "# the first line of the cell containing function to be converted should have\n",
    "# filename.py\n",
    "\n",
    "import json\n",
    "from os import listdir\n",
    "\n",
    "# pypath = r'./py/'\n",
    "pypath = ''\n",
    "pyfilename = 'helper.py'\n",
    "mainfilename = 'main.py'\n",
    "\n",
    "fs = listdir() # get the filenames\n",
    "\n",
    "# make an exclusion list\n",
    "magics = %lsmagic\n",
    "magic_words = [s for s in str(magics).split(' ') if s not in '' if '%' in s[0]]\n",
    "magic_words = [s for s in magic_words if s != '%']\n",
    "exclude = ['util.startLoop()'] + magic_words\n",
    "\n",
    "# Ignore ipynb files beginning with '_'\n",
    "ipyfilelist = [f for f in fs if f[-6:].upper() == '.IPYNB' if f[0] != '_']\n",
    "\n",
    "code_cells = []\n",
    "for file in ipyfilelist:\n",
    "    with open(file) as datafile:\n",
    "        code = json.load(datafile)\n",
    "        code_cells.append([cell['source'] for cell in code['cells'] if cell['cell_type'] == 'code'])\n",
    "\n",
    "codes = [cell for cells in code_cells for cell in cells if cell]\n",
    "\n",
    "code_dict = {pycode[0][2:-1]:pycode for pycode in codes if pycode[0][-4:] == '.py\\n' if pycode[0][-8:] != 'main.py\\n'}\n",
    "\n",
    "# the helper.py file\n",
    "with open(pypath+pyfilename, 'w') as f:\n",
    "    for k, v in code_dict.items():\n",
    "        for line in v:\n",
    "            if not any(word in line for word in exclude):\n",
    "                f.write(line)        \n",
    "        f.write('\\n\\n#_____________________________________\\n\\n')\n",
    "\n",
    "# the main.py file\n",
    "main_dict = {pycode[0][2:-1]:pycode for pycode in codes if pycode[0][-8:] == 'main.py\\n' }\n",
    "with open(pypath+list(main_dict)[0], 'w') as f:\n",
    "    for k, v in main_dict.items():\n",
    "        for line in v:\n",
    "             if not any(word in line for word in exclude):\n",
    "                f.write(line)"
   ]
  }
 ],
 "metadata": {
  "kernelspec": {
   "display_name": "Python 3",
   "language": "python",
   "name": "python3"
  },
  "language_info": {
   "codemirror_mode": {
    "name": "ipython",
    "version": 3
   },
   "file_extension": ".py",
   "mimetype": "text/x-python",
   "name": "python",
   "nbconvert_exporter": "python",
   "pygments_lexer": "ipython3",
   "version": "3.7.1"
  }
 },
 "nbformat": 4,
 "nbformat_minor": 2
}
