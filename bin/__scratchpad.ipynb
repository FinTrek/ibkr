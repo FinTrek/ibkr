{
 "cells": [
  {
   "cell_type": "code",
   "execution_count": null,
   "metadata": {},
   "outputs": [],
   "source": [
    "# SNP scratchpad initiation\n",
    "import pandas as pd\n",
    "\n",
    "from helper import *\n",
    "from snp_func import *\n",
    "\n",
    "# Do assignments\n",
    "a = assign_var('snp')\n",
    "for v in a:\n",
    "    exec(v)\n",
    "\n",
    "from ib_insync import *\n",
    "util.startLoop()\n",
    "\n",
    "with get_connected('snp', 'live') as ib:\n",
    "    pass\n",
    "\n",
    "# ib = get_connected('snp', 'live')"
   ]
  },
  {
   "cell_type": "code",
   "execution_count": null,
   "metadata": {},
   "outputs": [],
   "source": []
  },
  {
   "cell_type": "code",
   "execution_count": null,
   "metadata": {},
   "outputs": [],
   "source": [
    "# NSE scratchpad initiation\n",
    "from helper import *\n",
    "from nse_func import *\n",
    "\n",
    "# Do assignments\n",
    "a = assign_var('nse')\n",
    "for v in a:\n",
    "    exec(v)\n",
    "\n",
    "from ib_insync import *\n",
    "util.startLoop()"
   ]
  },
  {
   "cell_type": "code",
   "execution_count": null,
   "metadata": {},
   "outputs": [],
   "source": [
    "%%time\n",
    "\n",
    "# clear the logs\n",
    "with open(logpath+'run.log', 'w'):\n",
    "    pass"
   ]
  },
  {
   "cell_type": "code",
   "execution_count": null,
   "metadata": {},
   "outputs": [],
   "source": [
    "# build the opts\n",
    "with get_connected('nse', 'live') as ib:\n",
    "    util.logToFile(logpath+'run.log')\n",
    "    base(ib)\n",
    "    util.logging.info('BASE BUILD COMPLETED !!!')\n",
    "    \n",
    "    opts(ib)\n",
    "    util.logging.info('OPTIONS BUILD COMPLETED !!!')\n",
    "    \n",
    "    targets(ib)\n",
    "    util.logging.info('TARGETS BUILD COMPLETED !!!')\n",
    "    "
   ]
  },
  {
   "cell_type": "code",
   "execution_count": null,
   "metadata": {},
   "outputs": [],
   "source": []
  },
  {
   "cell_type": "code",
   "execution_count": null,
   "metadata": {},
   "outputs": [],
   "source": [
    "df = pd.read_pickle(fspath+'targets.pickle')"
   ]
  },
  {
   "cell_type": "code",
   "execution_count": null,
   "metadata": {},
   "outputs": [],
   "source": [
    "with get_connected('nse', 'live') as ib:\n",
    "    gen_expPrice(ib, df)"
   ]
  },
  {
   "cell_type": "code",
   "execution_count": null,
   "metadata": {},
   "outputs": [],
   "source": [
    "df = pd.read_pickle(fspath+'targets.pickle')"
   ]
  },
  {
   "cell_type": "code",
   "execution_count": null,
   "metadata": {},
   "outputs": [],
   "source": [
    "df"
   ]
  },
  {
   "cell_type": "code",
   "execution_count": null,
   "metadata": {},
   "outputs": [],
   "source": [
    "ib =  get_connected('nse', 'live')"
   ]
  },
  {
   "cell_type": "code",
   "execution_count": null,
   "metadata": {},
   "outputs": [],
   "source": [
    "#... make watchlist\n",
    "\n",
    "# get the portfolio\n",
    "p = ib.portfolio()\n",
    "\n",
    "# get the targets\n",
    "df = pd.read_pickle(fspath+'targets.pickle')\n",
    "\n",
    "# make the symbol list\n",
    "sy = list(util.df(list(util.df(p)['contract'])).symbol.unique()) + \\\n",
    "     list(df.symbol.unique())\n",
    "\n",
    "# make and pickle the watchlist\n",
    "watch = [('DES', s, 'STK', 'NSE') if s not in ['NIFTY50', 'BANKNIFTY', 'NIFTYIT'] \n",
    "         else ('DES', s, 'IND', 'NSE') for s in sy]\n",
    "\n",
    "# write to watch.csv\n",
    "util.df(watch).to_csv(fspath+'watch.csv', header=None, index=None)"
   ]
  },
  {
   "cell_type": "code",
   "execution_count": null,
   "metadata": {},
   "outputs": [],
   "source": []
  },
  {
   "cell_type": "code",
   "execution_count": null,
   "metadata": {},
   "outputs": [],
   "source": [
    "# write targets to csv\n",
    "df.to_csv(fspath+'targets.csv', index=None, header=True)"
   ]
  },
  {
   "cell_type": "code",
   "execution_count": null,
   "metadata": {},
   "outputs": [],
   "source": [
    "df[['symbol', 'strike', 'dte', 'right', 'undPrice', 'Fall', 'Rise']].tail()"
   ]
  },
  {
   "cell_type": "code",
   "execution_count": null,
   "metadata": {},
   "outputs": [],
   "source": [
    "# Establish sowing quantities\n",
    "putFall = (df.right == 'P') & ((df.undPrice - df.strike) > df.Fall)\n",
    "callRise = (df.right == 'C') & ((df.strike - df.undPrice) > df.Rise)\n",
    "\n",
    "df = df.assign(qty=np.where(callRise | putFall, df.remqty, 1))"
   ]
  },
  {
   "cell_type": "code",
   "execution_count": null,
   "metadata": {},
   "outputs": [],
   "source": [
    "list(df)"
   ]
  },
  {
   "cell_type": "code",
   "execution_count": null,
   "metadata": {},
   "outputs": [],
   "source": []
  }
 ],
 "metadata": {
  "kernelspec": {
   "display_name": "Python 3",
   "language": "python",
   "name": "python3"
  },
  "language_info": {
   "codemirror_mode": {
    "name": "ipython",
    "version": 3
   },
   "file_extension": ".py",
   "mimetype": "text/x-python",
   "name": "python",
   "nbconvert_exporter": "python",
   "pygments_lexer": "ipython3",
   "version": "3.7.1"
  }
 },
 "nbformat": 4,
 "nbformat_minor": 2
}
