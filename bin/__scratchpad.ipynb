{
 "cells": [
  {
   "cell_type": "code",
   "execution_count": null,
   "metadata": {},
   "outputs": [],
   "source": [
    "# nse scratchpad initiation\n",
    "from helper import *\n",
    "from nse_func import *\n",
    "\n",
    "# Do assignments\n",
    "a = assign_var('nse')\n",
    "for v in a:\n",
    "    exec(v)\n",
    "\n",
    "from ib_insync import *\n",
    "util.startLoop()\n",
    "\n",
    "ib =  get_connected('nse', 'live')\n",
    "\n",
    "with open(logpath+'spad.log', 'w'):\n",
    "    pass # clear the run log\n",
    "\n",
    "util.logToFile(logpath+'spad.log')"
   ]
  },
  {
   "cell_type": "code",
   "execution_count": null,
   "metadata": {},
   "outputs": [],
   "source": []
  },
  {
   "cell_type": "code",
   "execution_count": null,
   "metadata": {},
   "outputs": [],
   "source": [
    "# nse_main.py\n",
    "# Main program for nse\n",
    "\n",
    "from helper import *\n",
    "from nse_func import *\n",
    "\n",
    "# Do assignments\n",
    "a = assign_var('nse')\n",
    "for v in a:\n",
    "    exec(v)\n",
    "\n",
    "from ib_insync import *\n",
    "    \n",
    "ip = 1\n",
    "\n",
    "# do the appropriate function\n",
    "if ip in [1, 2]:    #  build ALL the options\n",
    "    \n",
    "    with get_connected('nse', 'live') as ib:\n",
    "        \n",
    "        with open(logpath+'build.log', 'w'):\n",
    "            pass # clear the run log\n",
    "        \n",
    "        util.logToFile(logpath+'build.log')\n",
    "        \n",
    "        util.logging.info('####                     NSE BUILD STARTED                  ####')\n",
    "        print(f'NSE options build started at {datetime.datetime.now()}...')\n",
    "        s = time.perf_counter()\n",
    "        \n",
    "        # generate the symexplots\n",
    "        # df_l = symexplots(ib)\n",
    "        df_l = pd.read_pickle(fspath+\"symexplots.pickle\")\n",
    "        \n",
    "        # get the series of rows for options\n",
    "        rows = [s for i, s in df_l.iterrows()]\n",
    "        \n",
    "        if ip is 2:\n",
    "            # remove rows already pickled\n",
    "            pkl_done = pd.read_pickle(fspath+'opts.pickle').symbol.unique()\n",
    "            rows = [row for row in rows if row.symbol not in pkl_done]\n",
    "\n",
    "        # get the options\n",
    "        from tqdm import trange\n",
    "        tqr = trange(len(rows), desc='Processing', leave=True) # Initializing tqdm\n",
    "        opts = [] # initializing list of opts\n",
    "        \n",
    "        async def opt_gen(ib, row, df_l):\n",
    "            return await asyncio.gather(do_an_opt(ib, row, df_l))\n",
    "\n",
    "        for row in rows:\n",
    "            tqr.set_description(f\"Processing [{row.symbol}]\")\n",
    "            tqr.refresh() # to show immediately the update    \n",
    "            #loop = asyncio.get_event_loop()\n",
    "            #loop.run_until_complete(opt_gen(ib, row, df_l))\n",
    "            opt_gen(ib, row, df_l)\n",
    "        tqr.close()"
   ]
  },
  {
   "cell_type": "code",
   "execution_count": null,
   "metadata": {},
   "outputs": [],
   "source": []
  }
 ],
 "metadata": {
  "kernelspec": {
   "display_name": "Python 3",
   "language": "python",
   "name": "python3"
  },
  "language_info": {
   "codemirror_mode": {
    "name": "ipython",
    "version": 3
   },
   "file_extension": ".py",
   "mimetype": "text/x-python",
   "name": "python",
   "nbconvert_exporter": "python",
   "pygments_lexer": "ipython3",
   "version": "3.7.1"
  }
 },
 "nbformat": 4,
 "nbformat_minor": 2
}
