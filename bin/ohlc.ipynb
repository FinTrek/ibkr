{
 "cells": [
  {
   "cell_type": "code",
   "execution_count": null,
   "metadata": {},
   "outputs": [],
   "source": [
    "from ib_insync import *\n",
    "util.startLoop()\n",
    "ib = IB().connect('127.0.0.1', 3000, clientId=6) # For nse - Kavi\n",
    "# ib = IB().connect('127.0.0.1', 1300, clientId=5) # For snp - Kashi"
   ]
  },
  {
   "cell_type": "code",
   "execution_count": null,
   "metadata": {},
   "outputs": [],
   "source": [
    "import pandas as pd\n",
    "\n",
    "from helper import get_hist\n",
    "from math import sqrt\n",
    "\n",
    "tradingdays = 252\n",
    "\n",
    "def get_ohlc(ib, contract, fspath):\n",
    "    '''Gets the ohlc\n",
    "    Args: \n",
    "       (ib) as ib object\n",
    "       (contract) as contract object\n",
    "       (fspath) as string containing zdata path\n",
    "    Returns:\n",
    "       None. But pickles ohlc'''\n",
    "    \n",
    "    df_ohlc = get_hist(ib, contract, 365).set_index('date').sort_index(ascending = False)\n",
    "    \n",
    "    # get cumulative standard deviation\n",
    "    df_stdev = pd.DataFrame(df_ohlc['close'].expanding(1).std(ddof=0))\n",
    "    df_stdev.columns = ['stdev']\n",
    "\n",
    "    # get cumulative volatility\n",
    "    df_vol = pd.DataFrame(df_ohlc['close'].pct_change().expanding(1).std(ddof=0)*sqrt(tradingdays))\n",
    "    df_vol.columns = ['volatility']\n",
    "\n",
    "    df_ohlc1 = df_ohlc.join(df_vol)\n",
    "\n",
    "    df_ohlc2 = df_ohlc1.join(df_stdev)\n",
    "\n",
    "    #pickle the ohlc\n",
    "    df_ohlc2.to_pickle(fspath+contract.symbol+'_ohlc.pkl')\n",
    "    \n",
    "    return df_ohlc2"
   ]
  },
  {
   "cell_type": "code",
   "execution_count": null,
   "metadata": {},
   "outputs": [],
   "source": [
    "# test ohlc\n",
    "contract = ib.qualifyContracts(Stock('INFY', exchange='NSE'))[0]\n",
    "get_ohlc(ib, contract, '../data/nse/')"
   ]
  },
  {
   "cell_type": "code",
   "execution_count": null,
   "metadata": {},
   "outputs": [],
   "source": []
  }
 ],
 "metadata": {
  "kernelspec": {
   "display_name": "Python 3",
   "language": "python",
   "name": "python3"
  },
  "language_info": {
   "codemirror_mode": {
    "name": "ipython",
    "version": 3
   },
   "file_extension": ".py",
   "mimetype": "text/x-python",
   "name": "python",
   "nbconvert_exporter": "python",
   "pygments_lexer": "ipython3",
   "version": "3.7.1"
  }
 },
 "nbformat": 4,
 "nbformat_minor": 2
}
