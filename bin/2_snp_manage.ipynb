{
 "cells": [
  {
   "cell_type": "code",
   "execution_count": null,
   "metadata": {},
   "outputs": [],
   "source": [
    "# grp_opts.py\n",
    "# group options based on right, symbol and strike.\n",
    "# this makes it easy to delete unwanted ones on inspection.\n",
    "import pandas as pd\n",
    "\n",
    "def grp_opts(df):\n",
    "    '''Groups options and sorts strikes by puts and calls\n",
    "    Arg: \n",
    "       df as dataframe. Requires 'symbol', 'strike' and 'dte' fields in the df\n",
    "    Returns: sorted dataframe'''\n",
    "    \n",
    "    gb = df.groupby('right')\n",
    "\n",
    "    if 'C' in [k for k in gb.indices]:\n",
    "        df_calls = gb.get_group('C').reset_index(drop=True).sort_values(['symbol', 'dte', 'strike'], ascending=[True, False, True])\n",
    "    else:\n",
    "        df_calls =  pd.DataFrame([])\n",
    "\n",
    "    if 'P' in [k for k in gb.indices]:\n",
    "        df_puts = gb.get_group('P').reset_index(drop=True).sort_values(['symbol', 'dte', 'strike'], ascending=[True, False, False])\n",
    "    else:\n",
    "        df_puts =  pd.DataFrame([])\n",
    "\n",
    "    df = pd.concat([df_puts, df_calls]).reset_index(drop=True)\n",
    "    \n",
    "    return df"
   ]
  },
  {
   "cell_type": "code",
   "execution_count": null,
   "metadata": {},
   "outputs": [],
   "source": [
    "# get_prec.py\n",
    "# get precision, based on the base\n",
    "from math import floor, log10\n",
    "\n",
    "def get_prec(v, base):\n",
    "    '''gives the precision value\n",
    "    args:\n",
    "       (v) as value needing precision in float\n",
    "       (base) as the base value e.g. 0.05'''\n",
    "    \n",
    "    return round(round((v)/ base) * base, -int(floor(log10(base))))"
   ]
  },
  {
   "cell_type": "code",
   "execution_count": null,
   "metadata": {},
   "outputs": [],
   "source": []
  },
  {
   "cell_type": "code",
   "execution_count": 1,
   "metadata": {},
   "outputs": [],
   "source": [
    "# get the remaining quantities\n",
    "from ib_insync import *\n",
    "util.startLoop()"
   ]
  },
  {
   "cell_type": "code",
   "execution_count": 2,
   "metadata": {},
   "outputs": [],
   "source": [
    "from helper import get_connected, get_snp_remqty, get_prec"
   ]
  },
  {
   "cell_type": "code",
   "execution_count": 3,
   "metadata": {},
   "outputs": [
    {
     "name": "stdout",
     "output_type": "stream",
     "text": [
      "name 'IB' is not defined\n",
      "name 'IB' is not defined\n",
      "name 'IB' is not defined\n",
      "name 'IB' is not defined\n"
     ]
    },
    {
     "ename": "UnboundLocalError",
     "evalue": "local variable 'ib' referenced before assignment",
     "output_type": "error",
     "traceback": [
      "\u001b[1;31m---------------------------------------------------------------------------\u001b[0m",
      "\u001b[1;31mUnboundLocalError\u001b[0m                         Traceback (most recent call last)",
      "\u001b[1;32m<ipython-input-3-36073ea9f36c>\u001b[0m in \u001b[0;36m<module>\u001b[1;34m\u001b[0m\n\u001b[1;32m----> 1\u001b[1;33m \u001b[0mib\u001b[0m \u001b[1;33m=\u001b[0m \u001b[0mget_connected\u001b[0m\u001b[1;33m(\u001b[0m\u001b[1;34m'snp'\u001b[0m\u001b[1;33m,\u001b[0m \u001b[1;34m'live'\u001b[0m\u001b[1;33m)\u001b[0m\u001b[1;33m\u001b[0m\u001b[1;33m\u001b[0m\u001b[0m\n\u001b[0m",
      "\u001b[1;32m~\\Documents\\IBKR\\bin\\helper.py\u001b[0m in \u001b[0;36mget_connected\u001b[1;34m(market, trade_type)\u001b[0m\n\u001b[0;32m     32\u001b[0m         \u001b[1;32mbreak\u001b[0m \u001b[1;31m# successful try\u001b[0m\u001b[1;33m\u001b[0m\u001b[1;33m\u001b[0m\u001b[0m\n\u001b[0;32m     33\u001b[0m \u001b[1;33m\u001b[0m\u001b[0m\n\u001b[1;32m---> 34\u001b[1;33m     \u001b[1;32mreturn\u001b[0m \u001b[0mib\u001b[0m\u001b[1;33m\u001b[0m\u001b[1;33m\u001b[0m\u001b[0m\n\u001b[0m\u001b[0;32m     35\u001b[0m \u001b[1;33m\u001b[0m\u001b[0m\n\u001b[0;32m     36\u001b[0m \u001b[1;31m#_____________________________________\u001b[0m\u001b[1;33m\u001b[0m\u001b[1;33m\u001b[0m\u001b[1;33m\u001b[0m\u001b[0m\n",
      "\u001b[1;31mUnboundLocalError\u001b[0m: local variable 'ib' referenced before assignment"
     ]
    }
   ],
   "source": [
    "ib = get_connected('snp', 'live')"
   ]
  },
  {
   "cell_type": "code",
   "execution_count": null,
   "metadata": {},
   "outputs": [],
   "source": [
    "with get_connected('snp', 'live') as ib:\n",
    "    remqty = get_snp_remqty(ib)"
   ]
  },
  {
   "cell_type": "code",
   "execution_count": null,
   "metadata": {},
   "outputs": [],
   "source": [
    "from os import listdir\n",
    "import pandas as pd\n",
    "\n",
    "from helper import grp_opts, get_prec\n",
    "\n",
    "fspath = '../data/snp/' # path for snp pickles\n",
    "\n",
    "minOptPrice = 0.1\n",
    "minRom = 0.85\n",
    "\n",
    "fs = listdir(fspath)\n",
    "\n",
    "cols = ['optId', 'symbol', 'right', 'expiration', 'dte', 'strike', 'undPrice', \n",
    "'lo52', 'hi52', 'Fall', 'Rise', 'loFall', 'hiRise', 'std3', 'loStd3', 'hiStd3', \n",
    "'lotsize', 'optPrice', 'optMargin', 'rom']\n",
    "\n",
    "optsList = [f for f in fs if f[-3:] == 'pkl']\n",
    "\n",
    "df1 = pd.concat([pd.read_pickle(fspath+f) for f in optsList], axis=0, sort=True).reset_index(drop=True)[cols]\n",
    "\n",
    "df2 = df1[((df1.strike > df1.hi52) | (df1.strike < df1.lo52)) & (df1.optPrice > minOptPrice) & (df1.rom > minRom)]\n",
    "\n",
    "df2 = grp_opts(df2)\n",
    "\n",
    "df2 = df2.assign(remqty=[remqty[u] for u in df2.symbol])\n",
    "\n",
    "df3 = df2.groupby('symbol').apply(lambda x: x.nlargest(3, 'rom'))\n",
    "\n",
    "df4 = df3.assign(expPrice=[get_prec(p*1.1, 0.05) for p in df3.optPrice])\n",
    "df4 = df4.assign(expQty=(df4.remqty/3).astype('int'))\n",
    "\n",
    "# high cost options\n",
    "df_single = df4[df4.expQty == 0].set_index('optId').groupby('symbol').head(1)\n",
    "df_single.loc[:, 'expQty'] = 1    # set quantity to 1\n",
    "\n",
    "# remove high cost options\n",
    "df_multiple = df4[df4.expQty != 0].set_index('optId')\n",
    "\n",
    "# final set of options\n",
    "df = pd.concat([df_single, df_multiple], axis=0).reset_index()"
   ]
  },
  {
   "cell_type": "code",
   "execution_count": null,
   "metadata": {},
   "outputs": [],
   "source": [
    "df"
   ]
  },
  {
   "cell_type": "code",
   "execution_count": null,
   "metadata": {},
   "outputs": [],
   "source": [
    "with IB().connect('127.0.0.1', 1300, clientId=2) as ib:\n",
    "    contracts = [Contract(conId=i) for i in df.optId]\n",
    "    qcs = ib.qualifyContracts(*contracts)\n",
    "#     tickers = ib.reqTickers(*qcs)\n",
    "    orders = [LimitOrder(action='SELL', totalQuantity=qty, lmtPrice=tgtPrice) for qty, tgtPrice in zip(df.expQty, df.expPrice)]"
   ]
  },
  {
   "cell_type": "raw",
   "metadata": {},
   "source": [
    "#-------------------------------------------------------------------\n",
    "# WARNING: THIS SECTION PLACES OPENING (SOW) TRADES\n",
    "#___________________________________________________________________\n",
    "with IB().connect('127.0.0.1', 1300, clientId=2) as ib:\n",
    "    openingTrades = [ib.placeOrder(contract, order) for contract, order in zip(contracts, orders)]"
   ]
  },
  {
   "cell_type": "code",
   "execution_count": null,
   "metadata": {},
   "outputs": [],
   "source": []
  }
 ],
 "metadata": {
  "kernelspec": {
   "display_name": "Python 3",
   "language": "python",
   "name": "python3"
  },
  "language_info": {
   "codemirror_mode": {
    "name": "ipython",
    "version": 3
   },
   "file_extension": ".py",
   "mimetype": "text/x-python",
   "name": "python",
   "nbconvert_exporter": "python",
   "pygments_lexer": "ipython3",
   "version": "3.7.1"
  }
 },
 "nbformat": 4,
 "nbformat_minor": 2
}
