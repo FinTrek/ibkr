{
 "cells": [
  {
   "cell_type": "code",
   "execution_count": null,
   "metadata": {},
   "outputs": [],
   "source": [
    "import pandas as pd\n",
    "\n",
    "from helper import *\n",
    "from nse_func import *\n",
    "\n",
    "# Do assignments\n",
    "a = assign_var('nse')\n",
    "for v in a:\n",
    "    exec(v)\n",
    "\n",
    "from ib_insync import *\n",
    "util.startLoop()\n",
    "ib = get_connected('nse', 'live')"
   ]
  },
  {
   "cell_type": "code",
   "execution_count": null,
   "metadata": {},
   "outputs": [],
   "source": []
  },
  {
   "cell_type": "code",
   "execution_count": null,
   "metadata": {},
   "outputs": [],
   "source": [
    "# Code to set up harvest quotes\n",
    "# ______________________________\n",
    "p = util.df(ib.portfolio()) # portfolio table\n",
    "\n",
    "# extract option contract info from portfolio table\n",
    "dfp = pd.concat([p, util.df([c for c in p.contract])[util.df([c for c in p.contract]).columns[:7]]], axis=1).iloc[:, 1:]\n",
    "dfp = dfp.rename(columns={'lastTradeDateOrContractMonth': 'expiration'})\n",
    "\n",
    "dfp = dfp.assign(dte=[get_dte(d) for d in dfp.expiration])\n",
    "\n",
    "# get the latest prices\n",
    "contracts = ib.qualifyContracts(*[Contract(conId=c) for c in dfp.conId])\n",
    "\n",
    "tickers = ib.reqTickers(*contracts)\n",
    "optPrices = {t.contract.conId: t.marketPrice() for t in tickers} # {conId: optPrice}"
   ]
  },
  {
   "cell_type": "code",
   "execution_count": null,
   "metadata": {},
   "outputs": [],
   "source": [
    "# make the expPrice to be the price minimum of df.marketPrice*0.9 and hvstPrice()\n",
    "dfp1 = dfp.assign(hvstPrice=[get_prec(min(hvstPricePct(d)*c,mp*0.9),0.05) for d, c, mp in zip(dfp.dte, dfp.averageCost, dfp.marketPrice)])\n",
    "dfp1 = dfp1.loc[:, ['position', 'marketPrice', 'averageCost', 'secType', 'conId', 'symbol', 'expiration', 'strike', 'right', 'dte', 'hvstPrice']]\n",
    "\n",
    "dfp1 = dfp1.assign(order=[LimitOrder(action='BUY', \n",
    "                                     totalQuantity=-position, lmtPrice=hvstPrice) \n",
    "                          for position, hvstPrice in zip(dfp1.position, dfp1.hvstPrice)])"
   ]
  },
  {
   "cell_type": "code",
   "execution_count": null,
   "metadata": {},
   "outputs": [],
   "source": [
    "dfp1"
   ]
  },
  {
   "cell_type": "raw",
   "metadata": {},
   "source": [
    "# @@@@@@@@@@@@@@@@@@@@@@@@@@@@@@@@@@@@@@@@@@@@@@@@@@@\n",
    "# WARNING: THE FOLLOWING CODE PLACES 'HARVEST' ORDERS\n",
    "# ___________________________________________________\n",
    "hvstContracts = ib.qualifyContracts(*[Contract(conId=c) for c in dfp1.conId])\n",
    "orders = [LimitOrder(action='BUY', \n",
    "                                     totalQuantity=-position, lmtPrice=hvstPrice) \n",
    "                          for position, hvstPrice in zip(dfp1.position, dfp1.hvstPrice)]\n",
    "hco = zip(hvstContracts, orders)\n",
    "\n",
    "harvestTrades = [ib.placeOrder(c, o) for c, o in hco]"
   ]
  },
  {
   "cell_type": "code",
   "execution_count": null,
   "metadata": {},
   "outputs": [],
   "source": [
    "df_hvstTrades = pd.concat([pd.DataFrame(harvestTrades), util.df(harvestTrades)], axis=1)\n",
    "df_hvstTrades.columns=[['trade']+list(df_hvstTrades)[1:]]\n",
    "df_hvstTrades.to_pickle(fspath+'_hvstTradesDone.pickle')"
   ]
  },
  {
   "cell_type": "code",
   "execution_count": null,
   "metadata": {},
   "outputs": [],
   "source": [
    "df_hvstTrades"
   ]
  },
  {
   "cell_type": "code",
   "execution_count": null,
   "metadata": {},
   "outputs": [],
   "source": [
    "# Code to set up sowing orders\n",
    "# ____________________________\n",
    "dft = pd.read_pickle(fspath+'targets.pickle')\n",
    "\n",
    "# qualify contracts and prepare to order\n",
    "contracts = [Contract(conId=c) for c in dft.optId]\n",
    "cblks = [contracts[i: i+blk] for i in range(0, len(contracts), blk)]\n",
    "qc = [c for q in [ib.qualifyContracts(*c) for c in cblks] for c in q]\n",
    "\n",
    "sell_order = [LimitOrder(action='SELL', totalQuantity=q*l, lmtPrice=expPrice) for q, l, expPrice in zip(dft.qty, dft.lot, dft.expPrice)]\n",
    "\n",
    "co = list(zip(qc, sell_order))\n",
    "coblks = [co[i: i+blk] for i in range(0, len(co), blk)]"
   ]
  },
  {
   "cell_type": "raw",
   "metadata": {},
   "source": [
    "%%time\n",
    "# @@@@@@@@@@@@@@@@@@@@@@@@@@@@@@@@@@@@@@@@@@@@@@@\n",
    "# WARNING: THE FOLLOWING CODE PLACES 'SOW' ORDERS\n",
    "# _______________________________________________\n",
    "util.logToConsole()\n",
    "trades = []\n",
    "for coblk in coblks:\n",
    "    for co in coblk:\n",
    "        trades.append(ib.placeOrder(co[0], co[1]))\n",
    "    ib.sleep(1)"
   ]
  },
  {
   "cell_type": "code",
   "execution_count": null,
   "metadata": {},
   "outputs": [],
   "source": [
    "df_trades = pd.concat([pd.DataFrame(trades), util.df(trades)], axis=1)\n",
    "df_trades.columns=[['trade']+list(df_trades)[1:]]\n",
    "df_trades.to_pickle(fspath+'_tradesDone.pickle')"
   ]
  },
  {
   "cell_type": "code",
   "execution_count": null,
   "metadata": {},
   "outputs": [],
   "source": [
    "df_trades"
   ]
  },
  {
   "cell_type": "code",
   "execution_count": null,
   "metadata": {},
   "outputs": [],
   "source": [
    "# Execute the trades\n",
    "def xcute(ib, fspath):\n",
    "    '''Executes trades\n",
    "    Args:\n",
    "       (ib) as connection object\n",
    "       (fspath) as string with path to pickles\n",
    "    Returns:\n",
    "       None. But pickles _tradesdone.pickle'''\n",
    "    \n",
    "    # read from the targets\n",
    "    dft = pd.read_pickle(fspath+'_targetopts.pickle')"
   ]
  }
 ],
 "metadata": {
  "kernelspec": {
   "display_name": "Python 3",
   "language": "python",
   "name": "python3"
  },
  "language_info": {
   "codemirror_mode": {
    "name": "ipython",
    "version": 3
   },
   "file_extension": ".py",
   "mimetype": "text/x-python",
   "name": "python",
   "nbconvert_exporter": "python",
   "pygments_lexer": "ipython3",
   "version": "3.7.1"
  }
 },
 "nbformat": 4,
 "nbformat_minor": 2
}
