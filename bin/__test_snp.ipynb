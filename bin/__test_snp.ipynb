{
 "cells": [
  {
   "cell_type": "code",
   "execution_count": 1,
   "metadata": {},
   "outputs": [],
   "source": [
    "# snp scratchpad initiation\n",
    "from helper import *\n",
    "from snp_func import *\n",
    "\n",
    "# Do assignments\n",
    "a = assign_var('snp')\n",
    "for v in a:\n",
    "    exec(v)\n",
    "\n",
    "from ib_insync import *\n",
    "util.startLoop()\n",
    "\n",
    "ib =  get_connected('snp', 'live')"
   ]
  },
  {
   "cell_type": "code",
   "execution_count": null,
   "metadata": {},
   "outputs": [
    {
     "name": "stderr",
     "output_type": "stream",
     "text": [
      "Started to throttle requests\n",
      "Stopped to throttle requests\n",
      "Started to throttle requests\n",
      "Stopped to throttle requests\n"
     ]
    }
   ],
   "source": [
    "opts(ib)"
   ]
  },
  {
   "cell_type": "code",
   "execution_count": null,
   "metadata": {},
   "outputs": [],
   "source": []
  },
  {
   "cell_type": "code",
   "execution_count": 2,
   "metadata": {},
   "outputs": [],
   "source": [
    "import pandas as pd\n",
    "dft = pd.read_pickle('../data/snp/base.pickle')"
   ]
  },
  {
   "cell_type": "code",
   "execution_count": 3,
   "metadata": {},
   "outputs": [],
   "source": [
    "util.logToFile(logpath+'test.log')"
   ]
  },
  {
   "cell_type": "code",
   "execution_count": 5,
   "metadata": {},
   "outputs": [],
   "source": [
    "syms = ['VXX','P', 'TSRO', 'GOOGL'] + list({p.contract.symbol for p in ib.positions()})"
   ]
  },
  {
   "cell_type": "code",
   "execution_count": 7,
   "metadata": {},
   "outputs": [],
   "source": [
    "df_mega=dft.sort_values('symbol').reset_index(drop=True)\n",
    "df_mega = df_mega[~df_mega.symbol.isin(syms)].reset_index(drop=True)"
   ]
  },
  {
   "cell_type": "code",
   "execution_count": null,
   "metadata": {},
   "outputs": [],
   "source": []
  },
  {
   "cell_type": "code",
   "execution_count": null,
   "metadata": {},
   "outputs": [],
   "source": [
    "# get the max fall and rise\n",
    "df_frs = df_mega.drop('strike', 1).drop_duplicates() # for fall rise std\n",
    "\n",
    "mfrs = [((s, d) + get_maxfallrisestd(ib=ib, c=c, dte=d, tradingdays=tradingdays, durmult=durmult)) for s, c, d in zip(df_frs.symbol, df_frs.contract, df_frs.dte)]\n",
    "\n",
    "df_mfrs = pd.DataFrame(mfrs, columns=['symbol', 'dte', 'lo52', 'hi52', 'Fall', 'Rise', 'Std'])\n",
    "\n",
    "df_mega = df_mega.set_index(['symbol', 'dte']).join(df_mfrs.set_index(['symbol', 'dte'])).reset_index()\n",
    "df_mega['loStd'] = df_mega.undPrice - df_mega['Std'].multiply(putstdmult)\n",
    "df_mega['hiStd'] = df_mega.undPrice + df_mega['Std'].multiply(callstdmult)\n",
    "\n",
    "# flter puts and calls by standard deviation\n",
    "df_puts = df_mega[df_mega.strike < df_mega.loStd]\n",
    "df_calls = df_mega[df_mega.strike > df_mega.hiStd]\n",
    "\n",
    "df_puts = df_puts.assign(right='P')\n",
    "df_calls = df_calls.assign(right='C')\n",
    "\n",
    "# qualify the options\n",
    "df = pd.concat([df_puts, df_calls]).reset_index(drop=True).drop('contract', axis=1)\n",
    "\n",
    "# qualify the option contracts\n",
    "optipl = [Option(s, e, k, r, exchange) for s, e, k, r in zip(df.symbol, df.expiration, df.strike, df.right)]\n",
    "optblks = [optipl[i: i+blk] for i in range(0, len(optipl), blk)] # blocks of optipl\n",
    "cblks = [ib.qualifyContracts(*s) for s in optblks]\n",
    "contracts = [z for x in cblks for z in x]\n",
    "\n",
    "# prepare the qualified options dataframe\n",
    "dfq = util.df(contracts).iloc[:, 1:6]\n",
    "dfq.columns=['optId', 'symbol', 'expiration', 'strike', 'right'] # rename columns\n",
    "dfq = dfq.set_index(['symbol', 'expiration', 'strike', 'right']) # set index\n",
    "\n",
    "# join the qualified options with main dataframe. Remove those without conId\n",
    "df_opt = df.set_index(['symbol', 'expiration', 'strike', 'right']).join(dfq).dropna()\n",
    "\n",
    "# convert optId to int for price and margin\n",
    "df_opt = df_opt.assign(optId=df_opt.optId.astype('int32'))\n",
    "\n",
    "# get the prices\n",
    "opt_tickers = ib.reqTickers(*contracts)\n",
    "optPrices = {t.contract.conId: t.marketPrice() for t in opt_tickers}\n",
    "\n",
    "df_opt = df_opt.assign(optPrice=df_opt.optId.map(optPrices))\n",
    "df_opt = df_opt[~(df_opt.optPrice <= 0)].reset_index() # remove options without a price\n",
    "\n",
    "#... get the margins\n",
    "# {conId: contract} dictionary\n",
    "c_dict = {c.conId: c for c in contracts if c.conId in list(df_opt.optId)}\n",
    "orders = [Order(action='SELL', orderType='MKT', totalQuantity=1, whatIf=True)]*len(c_dict)\n",
    "\n",
    "# get the margins\n",
    "margins = [ib.whatIfOrder(c, o).initMarginChange for c, o in zip(c_dict.values(), orders)]\n",
    "\n",
    "df_opt = df_opt.assign(optMargin = margins)\n",
    "df_opt = df_opt.assign(optMargin = abs(pd.to_numeric(df_opt.optMargin).astype('float'))) # convert to float\n",
    "df_opt = df_opt[df_opt.optMargin < 1e7] # remove options with very large margins\n",
    "\n",
    "# get the rom\n",
    "df_opt = df_opt.assign(rom=df_opt.optPrice/df_opt.optMargin*365/df_opt.dte).sort_values('rom', ascending=False)\n",
    "\n",
    "df_opt.to_pickle(fspath+'opts.pickle')"
   ]
  },
  {
   "cell_type": "code",
   "execution_count": null,
   "metadata": {},
   "outputs": [],
   "source": []
  }
 ],
 "metadata": {
  "kernelspec": {
   "display_name": "Python 3",
   "language": "python",
   "name": "python3"
  },
  "language_info": {
   "codemirror_mode": {
    "name": "ipython",
    "version": 3
   },
   "file_extension": ".py",
   "mimetype": "text/x-python",
   "name": "python",
   "nbconvert_exporter": "python",
   "pygments_lexer": "ipython3",
   "version": "3.7.1"
  }
 },
 "nbformat": 4,
 "nbformat_minor": 2
}
