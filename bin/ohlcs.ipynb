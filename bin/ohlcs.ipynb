{
 "cells": [
  {
   "cell_type": "code",
   "execution_count": 1,
   "metadata": {},
   "outputs": [],
   "source": [
    "# ohlcs.py\n",
    "\"\"\"Program that generates ohlcs\n",
    "Date: 23-June-2019\n",
    "Ver: 1.0\n",
    "\"\"\"\n",
    "\n",
    "from z_helper import *\n",
    "util.startLoop()\n",
    "\n",
    "def ohlcs(ib, id_sym):\n",
    "    '''Get ohlcs with stDev\n",
    "    Args:\n",
    "        (ib) as connection object\n",
    "        (id_sym) as {undId: 'symbol'} dictionary\n",
    "    Returns:\n",
    "        ohlcs dataframe with stDev'''\n",
    "\n",
    "    #... get the ohlcs\n",
    "    ohlcs = []\n",
    "    \n",
    "    with tqdm(total= len(id_sym), file=sys.stdout, unit= 'symbol') as tqh:\n",
    "        for k, v in id_sym.items():\n",
    "            tqh.set_description(f\"Getting OHLC hist frm IBKR for {v.ljust(9)}\")\n",
    "            ohlcs.append(catch(lambda:do_hist(ib, k)))\n",
    "            tqh.update(1)\n",
    "\n",
    "    df_ohlcs = pd.concat(ohlcs)\n",
    "    \n",
    "    return df_ohlcs"
   ]
  },
  {
   "cell_type": "code",
   "execution_count": null,
   "metadata": {},
   "outputs": [],
   "source": [
    "# test code\n",
    "if __name__ == '__main__':\n",
    "    \n",
    "    #... check for nse_chains.pkl\n",
    "    if path.isfile(fspath+'nse_chains.pkl'):\n",
    "        df_chains = pd.read_pickle(fspath+'nse_chains.pkl')\n",
    "    else:\n",
    "        df_chains = nse_chains()\n",
    "\n",
    "#     df_chains = df_chains[df_chains.symbol.isin(['BANKNIFTY', 'PNB'])]  # DATA LIMITER!!!\n",
    "\n",
    "    id_sym = df_chains.set_index('undId').symbol.to_dict()\n",
    "    \n",
    "    with get_connected('nse', 'live') as ib:\n",
    "        df_ohlcs = ohlcs(ib, id_sym)\n"
   ]
  },
  {
   "cell_type": "code",
   "execution_count": null,
   "metadata": {},
   "outputs": [],
   "source": []
  }
 ],
 "metadata": {
  "kernelspec": {
   "display_name": "Python 3",
   "language": "python",
   "name": "python3"
  },
  "language_info": {
   "codemirror_mode": {
    "name": "ipython",
    "version": 3
   },
   "file_extension": ".py",
   "mimetype": "text/x-python",
   "name": "python",
   "nbconvert_exporter": "python",
   "pygments_lexer": "ipython3",
   "version": "3.7.1"
  }
 },
 "nbformat": 4,
 "nbformat_minor": 2
}
