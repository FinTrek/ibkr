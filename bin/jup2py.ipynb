{
 "cells": [
  {
   "cell_type": "code",
   "execution_count": 1,
   "metadata": {},
   "outputs": [],
   "source": [
    "# program to convert functions in cells to indivdiual .py files\n",
    "# the first line of the cell containing function to be converted should have\n",
    "# filename.py\n",
    "\n",
    "\"\"\"Program to convert ipynb to py\n",
    "Date: 23-July-2019\n",
    "Ver: 1.0\n",
    "Time taken: milliseconds\n",
    "\"\"\"\n",
    "\n",
    "import json\n",
    "from os import listdir, path\n",
    "\n",
    "import re\n",
    "from collections import Counter\n",
    "\n",
    "fs = listdir() # get the filenames\n",
    "\n",
    "# make an exclusion list\n",
    "magics = %lsmagic\n",
    "magic_words = [s for s in str(magics).split(' ') if s not in '' if '%' in s[0]]\n",
    "magic_words = [s for s in magic_words if s != '%']\n",
    "\n",
    "exclude = ['util.startLoop()', 'import nest_asyncio', 'nest_asyncio.apply()'] + magic_words\n",
    "\n",
    "# searchfor = ['helper.ipynb', 'nse_func.ipynb', 'snp_func.ipynb', 'nse_main.ipynb', 'snp_main.ipynb']  # list of files to be converted into\n",
    "# ipfilelist = [f for f in fs if any(word in f for word in searchfor)]\n",
    "\n",
    "# remove unwanted file extensions, prepends and this file itself!\n",
    "ipfilelist = [f for f in fs if f[-5:] == 'ipynb' if f[:1] not in ['_'] if f[:-6] not in ['jup2py', '___test', 'ta']]\n",
    "\n",
    "for file in ipfilelist:\n",
    "    code_cells = []  #initialize code_cells\n",
    "    with open(file) as datafile:\n",
    "        code = json.load(datafile)\n",
    "        code_cells.append([cell['source'] for cell in code['cells'] if cell['cell_type'] == 'code'])\n",
    "        codes = [cell for cells in code_cells for cell in cells if cell]\n",
    "        code_dict = {pycode[0][2:-1]:pycode for pycode in codes if pycode[0][-4:] == '.py\\n'}\n",
    "        with open(file[:-6]+'.py', 'w') as f:\n",
    "            for k, v in code_dict.items():\n",
    "                for line in v:\n",
    "                    if not any(word in line for word in exclude):\n",
    "                        f.write(line)        \n",
    "                f.write('\\n\\n#_____________________________________\\n\\n')\n",
    "        "
   ]
  },
  {
   "cell_type": "code",
   "execution_count": null,
   "metadata": {},
   "outputs": [],
   "source": [
    "ipfilelist"
   ]
  },
  {
   "cell_type": "code",
   "execution_count": null,
   "metadata": {},
   "outputs": [],
   "source": []
  }
 ],
 "metadata": {
  "kernelspec": {
   "display_name": "Python 3",
   "language": "python",
   "name": "python3"
  },
  "language_info": {
   "codemirror_mode": {
    "name": "ipython",
    "version": 3
   },
   "file_extension": ".py",
   "mimetype": "text/x-python",
   "name": "python",
   "nbconvert_exporter": "python",
   "pygments_lexer": "ipython3",
   "version": "3.7.1"
  }
 },
 "nbformat": 4,
 "nbformat_minor": 2
}
