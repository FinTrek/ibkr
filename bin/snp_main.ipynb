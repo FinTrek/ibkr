{
 "cells": [
  {
   "cell_type": "code",
   "execution_count": 1,
   "metadata": {},
   "outputs": [
    {
     "name": "stderr",
     "output_type": "stream",
     "text": [
      "Peer closed connection\n",
      "clientId 1 already in use?\n",
      "API connection failed: TimeoutError()\n"
     ]
    },
    {
     "name": "stdout",
     "output_type": "stream",
     "text": [
      "\n"
     ]
    }
   ],
   "source": [
    "# Main program for snp\n",
    "\n",
    "from ib_insync import *\n",
    "\n",
    "import logging\n",
    "import pandas as pd\n",
    "from os import listdir\n",
    "\n",
    "from helper import get_connected, grp_opts, get_prec, catch\n",
    "from snp_func import p_snps, p_snpopts\n",
    "\n",
    "from snp_variables import *\n",
    "\n",
    "util.startLoop()  # should not be there in py file\n",
    "\n",
    "keep_pickles = True   # keep already pickled symbols\n",
    "\n",
    "ib = get_connected('snp', 'live') # close the connection and delete it final function"
   ]
  },
  {
   "cell_type": "code",
   "execution_count": 2,
   "metadata": {},
   "outputs": [],
   "source": [
    "# Weekend update functions\n",
    "# __________________________\n",
    "\n",
    "def weekend_process(ib):\n",
    "    '''Weekend process to generate underlyings (lot+margin) and optio pickles\n",
    "    Arg: (ib) as connection\n",
    "    Returns: \n",
    "        None\n",
    "        But pickles to _lot_margin.pickle & (SYMBOL).pkl'''\n",
    "    \n",
    "    util.logToFile(fspath+'_errors.log')  # create log file\n",
    "    with open(fspath+'_errors.log', 'w'): # clear the previous log\n",
    "        pass\n",
    "    \n",
    "    # Step # 1: generate the underlyings\n",
    "    dfu = p_snps(ib).dropna()\n",
    "\n",
    "    # Step # 2: generate the option pickles\n",
    "    [p_snpopts(ib=ib,undContract=u, undPrice=p, lotsize=z, margin=m) \n",
    "     for u, p, z, m in zip(dfu.contract, dfu.undPrice, dfu.lot, dfu.margin)]\n",
    "    \n",
    "    return None\n",
    "\n",
    "def pickle_remaining_opts(ib, keep_pickles = True):\n",
    "    '''Upon any failure, pickle remaining options upon failure\n",
    "    Arg: \n",
    "        (ib) as connection\n",
    "        <keep_pickles> as True / False for keeping existing pickles\n",
    "    Returns:\n",
    "       None'''\n",
    "    \n",
    "    util.logToFile(fspath+'_errors.log')  # create log file\n",
    "    \n",
    "    # get the underlying dataframe\n",
    "    dfu = pd.read_pickle(fspath+'_lot_margin.pickle')\n",
    "    \n",
    "    if keep_pickles:\n",
    "        fs = listdir(fspath)\n",
    "        optsList = [f[:-4] for f in fs if f[-3:] == 'pkl']\n",
    "        dfr = dfu[~dfu.index.isin(optsList)] # remaining dfs (without existing pickles)\n",
    "        [p_snpopts(ib=ib,undContract=u, undPrice=p, lotsize=z, margin=m)\n",
    "         for u, p, z, m in zip(dfr.contract, dfr.undPrice, dfr.lot, dfr.margin)]\n",
    "    else:\n",
    "        [p_snpopts(ib=ib,undContract=u, undPrice=p, lotsize=z, margin=m)\n",
    "         for u, p, z, m in zip(dfu.contract, dfu.undPrice, dfu.lot, dfu.margin)]\n",
    "        \n",
    "    return None"
   ]
  },
  {
   "cell_type": "code",
   "execution_count": 6,
   "metadata": {},
   "outputs": [
    {
     "name": "stdout",
     "output_type": "stream",
     "text": [
      "Wall time: 55.2 s\n"
     ]
    }
   ],
   "source": [
    "%%time\n",
    "# Run the weekend process\n",
    "weekend_process(ib)"
   ]
  },
  {
   "cell_type": "code",
   "execution_count": 3,
   "metadata": {},
   "outputs": [
    {
     "name": "stdout",
     "output_type": "stream",
     "text": [
      "Wall time: 1h 1min 23s\n"
     ]
    }
   ],
   "source": [
    "%%time\n",
    "pickle_remaining_opts(ib)"
   ]
  },
  {
   "cell_type": "code",
   "execution_count": 7,
   "metadata": {},
   "outputs": [],
   "source": [
    "dfu = pd.read_pickle(fspath+'_lot_margin.pickle')"
   ]
  },
  {
   "cell_type": "code",
   "execution_count": null,
   "metadata": {},
   "outputs": [],
   "source": []
  }
 ],
 "metadata": {
  "kernelspec": {
   "display_name": "Python 3",
   "language": "python",
   "name": "python3"
  },
  "language_info": {
   "codemirror_mode": {
    "name": "ipython",
    "version": 3
   },
   "file_extension": ".py",
   "mimetype": "text/x-python",
   "name": "python",
   "nbconvert_exporter": "python",
   "pygments_lexer": "ipython3",
   "version": "3.7.1"
  }
 },
 "nbformat": 4,
 "nbformat_minor": 2
}
