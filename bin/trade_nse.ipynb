{
 "cells": [
  {
   "cell_type": "code",
   "execution_count": 1,
   "metadata": {},
   "outputs": [],
   "source": [
    "from z_helper import *\n",
    "util.startLoop()\n",
    "\n",
    "# from json\n",
    "a = assign_var('nse') + assign_var('common')\n",
    "for v in a:\n",
    "    exec(v)"
   ]
  },
  {
   "cell_type": "code",
   "execution_count": 2,
   "metadata": {},
   "outputs": [],
   "source": [
    "# extract from the pickle\n",
    "df_opt = pd.read_pickle(fspath+'sized.pkl')\n",
    "\n",
    "# remove nan in margins and close prices. These could be dead ones.\n",
    "df_opt = df_opt[~df_opt.margin.isnull()].reset_index(drop=True)\n",
    "df_opt = df_opt[~df_opt.close.isnull()].reset_index(drop=True)\n",
    "\n",
    "# remove margins with 1e7\n",
    "df_opt = df_opt[df_opt.margin < 1e7]\n",
    "\n",
    "# establish quantity and minimum expected price and sdmult\n",
    "df_opt = df_opt.assign(qty=1, expPrice = df_opt.close+0.1, sd=abs(df_opt.strike-df_opt.undPrice)/df_opt.stDev)\n",
    "\n",
    "# recacluate rom based on expPrice upgrade\n",
    "df_opt = df_opt.assign(rom=df_opt.expPrice/df_opt.margin*365/df_opt.dte*df_opt.lot)\n",
    "\n",
    "# calculate the standard deviation change (lowest is most risky)\n",
    "df_opt = df_opt.sort_values('sd', ascending=True)\n",
    "\n",
    "# for those not meeting minimum expected ROM, up the expected price\n",
    "rom_mask = (df_opt.rom < minexpRom)\n",
    "df_opt.loc[rom_mask, 'expPrice'] = ((df_opt[rom_mask].expPrice * minexpRom )/ df_opt[rom_mask].rom).apply(lambda x: get_prec(x, prec))"
   ]
  },
  {
   "cell_type": "code",
   "execution_count": 4,
   "metadata": {},
   "outputs": [
    {
     "name": "stderr",
     "output_type": "stream",
     "text": [
      "Peer closed connection\n",
      "clientId 1 already in use?\n",
      "API connection failed: CancelledError()\n"
     ]
    },
    {
     "name": "stdout",
     "output_type": "stream",
     "text": [
      "\n"
     ]
    },
    {
     "name": "stderr",
     "output_type": "stream",
     "text": [
      "Peer closed connection\n",
      "clientId 2 already in use?\n",
      "API connection failed: CancelledError()\n"
     ]
    },
    {
     "name": "stdout",
     "output_type": "stream",
     "text": [
      "\n"
     ]
    },
    {
     "name": "stderr",
     "output_type": "stream",
     "text": [
      "Started to throttle requests\n",
      "Stopped to throttle requests\n",
      "Started to throttle requests\n",
      "Stopped to throttle requests\n",
      "Started to throttle requests\n",
      "Stopped to throttle requests\n",
      "Started to throttle requests\n",
      "Stopped to throttle requests\n",
      "Started to throttle requests\n",
      "Stopped to throttle requests\n",
      "Started to throttle requests\n",
      "Stopped to throttle requests\n",
      "Started to throttle requests\n",
      "Stopped to throttle requests\n",
      "Started to throttle requests\n",
      "Stopped to throttle requests\n",
      "Started to throttle requests\n",
      "Error 0, reqId -1: Warning: Approaching max rate of 50 messages per second (44)\n",
      "Stopped to throttle requests\n"
     ]
    }
   ],
   "source": [
    "with get_connected('nse', 'live') as ib:\n",
    "    tb = trade_blocks(ib, df_opt, exchange)"
   ]
  },
  {
   "cell_type": "raw",
   "metadata": {},
   "source": [
    "with get_connected('nse', 'live') as ib:\n",
    "    doTrades(ib, tb)"
   ]
  },
  {
   "cell_type": "code",
   "execution_count": null,
   "metadata": {},
   "outputs": [],
   "source": [
    "pd.options.display.float_format = '{:,.2f}'.format\n",
    "cols = ['symbol', 'dte', 'lot', 'right', 'undPrice', 'strike', 'stDev', 'lo52', 'hi52', 'margin', 'close', 'rom','sd','expPrice']\n",
    "df_opt[cols]"
   ]
  },
  {
   "cell_type": "code",
   "execution_count": null,
   "metadata": {},
   "outputs": [],
   "source": []
  }
 ],
 "metadata": {
  "kernelspec": {
   "display_name": "Python 3",
   "language": "python",
   "name": "python3"
  },
  "language_info": {
   "codemirror_mode": {
    "name": "ipython",
    "version": 3
   },
   "file_extension": ".py",
   "mimetype": "text/x-python",
   "name": "python",
   "nbconvert_exporter": "python",
   "pygments_lexer": "ipython3",
   "version": "3.7.1"
  }
 },
 "nbformat": 4,
 "nbformat_minor": 2
}
