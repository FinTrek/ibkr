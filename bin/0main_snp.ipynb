{
 "cells": [
  {
   "cell_type": "code",
   "execution_count": 1,
   "metadata": {},
   "outputs": [],
   "source": [
    "# main_snp.py\n",
    "\"\"\"Main program for snp\n",
    "Date: 23-July-2019\n",
    "Ver: 1.0\n",
    "\"\"\"\n",
    "\n",
    "##### Main Program for snp\n",
    "from z_helper import *\n",
    "util.startLoop()\n",
    "\n",
    "from chains_snp import *\n",
    "from ohlcs import *\n",
    "from sized_snp import *\n",
    "from target_snp import *\n",
    "from workout_snp import *\n",
    "\n",
    "# from json\n",
    "a = assign_var('snp') + assign_var('common')\n",
    "for v in a:\n",
    "    exec(v)\n",
    "\n",
    "def ask_user():\n",
    "    '''Asks the user for what needs to be done\n",
    "    Arg: None\n",
    "    Returns: 0 to 6 int'''\n",
    "    # Get user input\n",
    "    askmsg = \"\\nChoose from the following numbers:\\n\" + \\\n",
    "            \"0) Prepare for morning trades\\n\" + \\\n",
    "            \"1) Chain Generation\\n\" + \\\n",
    "            \"2) OHLCs Generation\\n\" + \\\n",
    "            \"3) Size the options\\n\" + \\\n",
    "            \"4) Target preparation\\n\"+ \\\n",
    "            \"5) Place morning trades\\n\" + \\\n",
    "            \"6) Workout closing trades (DYNAMIC)\\n\" + \\\n",
    "            \"...Or close window to abort\\n\\n\"\n",
    "    \n",
    "    while True:\n",
    "        try:\n",
    "            ip = int(input(askmsg+'\\n'))\n",
    "        except ValueError:\n",
    "            print(\"\\nSorry, I didn't understand what you entered. Try again!\\n\")\n",
    "            continue # Loop again\n",
    "        if not ip in [0, 1, 2, 3, 4, 5, 6]:\n",
    "            print(f\"\\n{ip} is a wrong number! Choose any number from 0 to 7 and press <Enter>\\n\")\n",
    "        else:\n",
    "            break # success and exit loop\n",
    "    \n",
    "    return ip\n",
    "\n",
    "# delete data and log files\n",
    "def delete_all_data():\n",
    "    '''Deletes all data and log files\n",
    "    Arg: None Return: None'''\n",
    "    folderpaths = [\"../data/snp/\", \"../data/log/\"]\n",
    "\n",
    "    for folder in folderpaths:\n",
    "        for files in listdir(folder):\n",
    "            file_path = path.join(folder, files)\n",
    "            try:\n",
    "                if path.isfile(file_path):\n",
    "                    unlink(file_path)\n",
    "            except Exception as e:\n",
    "                print(e)\n",
    "                \n",
    "    return None\n",
    "\n",
    "# generate ohlcs\n",
    "def make_ohlcs(ib, df_chains):\n",
    "    '''Makes OHLCs for the underlying symbols\n",
    "    Args:\n",
    "        (ib) as connection object\n",
    "        (df_chains) as DataFrame chain\n",
    "    Returns: df_ohlcs as DataFrame of ohlcs and pickles them'''\n",
    "    id_sym = df_chains.set_index('undId').symbol.to_dict()\n",
    "\n",
    "    df_ohlcs = ohlcs(ib, id_sym, fspath, logpath)\n",
    "\n",
    "    df_ohlcs.to_pickle(fspath+'ohlcs.pkl')\n",
    "    \n",
    "    return df_ohlcs\n",
    "\n",
    "# do all the functions\n",
    "def do_all(ib):\n",
    "    '''Does all the functions outlined\n",
    "    Args: None\n",
    "    Returns: None'''\n",
    "    \n",
    "    # delete all data and log files\n",
    "    delete_all_data()\n",
    "    print(\"Deleted all data and log files\\n\")\n",
    "    \n",
    "    # do all the functions\n",
    "    df_chains=get_chains(ib)\n",
    "    print(\"Got the chains\\n\")\n",
    "    \n",
    "    df_ohlcs=make_ohlcs(ib, df_chains)\n",
    "    print(\"Made the OHLCs\\n\")\n",
    "    \n",
    "    df_sized=sized_snp(ib, df_chains, df_ohlcs)\n",
    "    print(\"Sized the options\\n\")\n",
    "    \n",
    "    # Error in margins\n",
    "    if len(df_sized[df_sized.margin.isnull()]) == len(df_sized):\n",
    "        print(\"\\nERROR: Margins unavailable. Please run sizing again!\\n\")\n",
    "        return None\n",
    "    \n",
    "    df_targets = target_snp(ib, df_sized, blacklist, snp_assignment_limit)\n",
    "    print(\"Build the targets\\n\")\n",
    "    \n",
    "    df_sell = df_targets\n",
    "    df_buy = workout_snp(ib)\n",
    "\n",
    "    return df_buy, df_sell"
   ]
  },
  {
   "cell_type": "code",
   "execution_count": 6,
   "metadata": {},
   "outputs": [
    {
     "name": "stdout",
     "output_type": "stream",
     "text": [
      "\n",
      "Choose from the following numbers:\n",
      "0) Prepare for morning trades\n",
      "1) Chain Generation\n",
      "2) OHLCs Generation\n",
      "3) Size the options\n",
      "4) Target preparation\n",
      "5) Place morning trades\n",
      "6) Workout closing trades (DYNAMIC)\n",
      "...Or close window to abort\n",
      "\n",
      "\n",
      "6\n"
     ]
    },
    {
     "name": "stderr",
     "output_type": "stream",
     "text": [
      "Peer closed connection\n",
      "clientId 0 already in use?\n",
      "API connection failed: CancelledError()\n"
     ]
    },
    {
     "name": "stdout",
     "output_type": "stream",
     "text": [
      "\n",
      "Closing new fills\n",
      "\n"
     ]
    },
    {
     "name": "stderr",
     "output_type": "stream",
     "text": [
      "Started to throttle requests\n",
      "Stopped to throttle requests\n",
      "Started to throttle requests\n",
      "Stopped to throttle requests\n"
     ]
    },
    {
     "ename": "KeyError",
     "evalue": "\"['optId' 'close' 'rom' 'stDev'] not in index\"",
     "output_type": "error",
     "traceback": [
      "\u001b[1;31m---------------------------------------------------------------------------\u001b[0m",
      "\u001b[1;31mKeyError\u001b[0m                                  Traceback (most recent call last)",
      "\u001b[1;32m<ipython-input-6-1ea5cdf7bd94>\u001b[0m in \u001b[0;36m<module>\u001b[1;34m\u001b[0m\n\u001b[0;32m     64\u001b[0m             \u001b[0mstart\u001b[0m \u001b[1;33m=\u001b[0m \u001b[0mtime\u001b[0m\u001b[1;33m.\u001b[0m\u001b[0mtime\u001b[0m\u001b[1;33m(\u001b[0m\u001b[1;33m)\u001b[0m\u001b[1;33m\u001b[0m\u001b[1;33m\u001b[0m\u001b[0m\n\u001b[0;32m     65\u001b[0m             \u001b[0mprint\u001b[0m\u001b[1;33m(\u001b[0m\u001b[1;34m\"Closing new fills\\n\"\u001b[0m\u001b[1;33m)\u001b[0m\u001b[1;33m\u001b[0m\u001b[1;33m\u001b[0m\u001b[0m\n\u001b[1;32m---> 66\u001b[1;33m             \u001b[0mdf_buy\u001b[0m \u001b[1;33m=\u001b[0m \u001b[0mworkout_snp\u001b[0m\u001b[1;33m(\u001b[0m\u001b[0mib\u001b[0m\u001b[1;33m)\u001b[0m\u001b[1;33m\u001b[0m\u001b[1;33m\u001b[0m\u001b[0m\n\u001b[0m\u001b[0;32m     67\u001b[0m \u001b[1;33m\u001b[0m\u001b[0m\n\u001b[0;32m     68\u001b[0m             \u001b[1;32mif\u001b[0m \u001b[0mdf_buy\u001b[0m\u001b[1;33m.\u001b[0m\u001b[0mempty\u001b[0m\u001b[1;33m:\u001b[0m\u001b[1;33m\u001b[0m\u001b[1;33m\u001b[0m\u001b[0m\n",
      "\u001b[1;32m~\\Documents\\IBKR\\bin\\workout_snp.py\u001b[0m in \u001b[0;36mworkout_snp\u001b[1;34m(ib)\u001b[0m\n\u001b[0;32m     54\u001b[0m \u001b[1;33m\u001b[0m\u001b[0m\n\u001b[0;32m     55\u001b[0m     \u001b[1;31m# join with other parameters in sized_snp.pkl\u001b[0m\u001b[1;33m\u001b[0m\u001b[1;33m\u001b[0m\u001b[1;33m\u001b[0m\u001b[0m\n\u001b[1;32m---> 56\u001b[1;33m     \u001b[0mtrades_df\u001b[0m \u001b[1;33m=\u001b[0m \u001b[0mtrades_df\u001b[0m\u001b[1;33m.\u001b[0m\u001b[0mset_index\u001b[0m\u001b[1;33m(\u001b[0m\u001b[1;34m'conId'\u001b[0m\u001b[1;33m)\u001b[0m\u001b[1;33m.\u001b[0m\u001b[0mjoin\u001b[0m\u001b[1;33m(\u001b[0m\u001b[0mpd\u001b[0m\u001b[1;33m.\u001b[0m\u001b[0mread_pickle\u001b[0m\u001b[1;33m(\u001b[0m\u001b[0mfspath\u001b[0m\u001b[1;33m+\u001b[0m\u001b[1;34m'sized_snp.pkl'\u001b[0m\u001b[1;33m)\u001b[0m\u001b[1;33m[\u001b[0m\u001b[1;33m[\u001b[0m\u001b[1;34m'optId'\u001b[0m\u001b[1;33m,\u001b[0m \u001b[1;34m'close'\u001b[0m\u001b[1;33m,\u001b[0m \u001b[1;34m'undPrice'\u001b[0m\u001b[1;33m,\u001b[0m \u001b[1;34m'rom'\u001b[0m\u001b[1;33m,\u001b[0m \u001b[1;34m'stDev'\u001b[0m\u001b[1;33m]\u001b[0m\u001b[1;33m]\u001b[0m\u001b[1;33m.\u001b[0m\u001b[0mset_index\u001b[0m\u001b[1;33m(\u001b[0m\u001b[1;34m'optId'\u001b[0m\u001b[1;33m)\u001b[0m\u001b[1;33m,\u001b[0m \u001b[0mlsuffix\u001b[0m\u001b[1;33m=\u001b[0m\u001b[1;34m'_'\u001b[0m\u001b[1;33m)\u001b[0m\u001b[1;33m.\u001b[0m\u001b[0mrename_axis\u001b[0m\u001b[1;33m(\u001b[0m\u001b[1;34m'conId'\u001b[0m\u001b[1;33m)\u001b[0m\u001b[1;33m.\u001b[0m\u001b[0mreset_index\u001b[0m\u001b[1;33m(\u001b[0m\u001b[1;33m)\u001b[0m\u001b[1;33m\u001b[0m\u001b[1;33m\u001b[0m\u001b[0m\n\u001b[0m\u001b[0;32m     57\u001b[0m     \u001b[0mtrades_df\u001b[0m \u001b[1;33m=\u001b[0m \u001b[0mtrades_df\u001b[0m\u001b[1;33m.\u001b[0m\u001b[0mrename\u001b[0m\u001b[1;33m(\u001b[0m\u001b[1;33m{\u001b[0m\u001b[1;34m'lastTradeDateOrContractMonth'\u001b[0m\u001b[1;33m:\u001b[0m \u001b[1;34m'expiry'\u001b[0m\u001b[1;33m}\u001b[0m\u001b[1;33m,\u001b[0m \u001b[0maxis\u001b[0m\u001b[1;33m=\u001b[0m\u001b[1;36m1\u001b[0m\u001b[1;33m)\u001b[0m\u001b[1;33m\u001b[0m\u001b[1;33m\u001b[0m\u001b[0m\n\u001b[0;32m     58\u001b[0m     \u001b[0mtrades_df\u001b[0m \u001b[1;33m=\u001b[0m \u001b[0mtrades_df\u001b[0m\u001b[1;33m.\u001b[0m\u001b[0massign\u001b[0m\u001b[1;33m(\u001b[0m\u001b[0msd\u001b[0m\u001b[1;33m=\u001b[0m\u001b[0mabs\u001b[0m\u001b[1;33m(\u001b[0m\u001b[0mtrades_df\u001b[0m\u001b[1;33m.\u001b[0m\u001b[0mstrike\u001b[0m\u001b[1;33m-\u001b[0m\u001b[0mtrades_df\u001b[0m\u001b[1;33m.\u001b[0m\u001b[0mundPrice\u001b[0m\u001b[1;33m)\u001b[0m\u001b[1;33m/\u001b[0m\u001b[0mtrades_df\u001b[0m\u001b[1;33m.\u001b[0m\u001b[0mstDev\u001b[0m\u001b[1;33m)\u001b[0m\u001b[1;33m\u001b[0m\u001b[1;33m\u001b[0m\u001b[0m\n",
      "\u001b[1;32mc:\\users\\kashir\\appdata\\local\\programs\\python\\python37-32\\lib\\site-packages\\pandas\\core\\frame.py\u001b[0m in \u001b[0;36m__getitem__\u001b[1;34m(self, key)\u001b[0m\n\u001b[0;32m   2680\u001b[0m         \u001b[1;32mif\u001b[0m \u001b[0misinstance\u001b[0m\u001b[1;33m(\u001b[0m\u001b[0mkey\u001b[0m\u001b[1;33m,\u001b[0m \u001b[1;33m(\u001b[0m\u001b[0mSeries\u001b[0m\u001b[1;33m,\u001b[0m \u001b[0mnp\u001b[0m\u001b[1;33m.\u001b[0m\u001b[0mndarray\u001b[0m\u001b[1;33m,\u001b[0m \u001b[0mIndex\u001b[0m\u001b[1;33m,\u001b[0m \u001b[0mlist\u001b[0m\u001b[1;33m)\u001b[0m\u001b[1;33m)\u001b[0m\u001b[1;33m:\u001b[0m\u001b[1;33m\u001b[0m\u001b[1;33m\u001b[0m\u001b[0m\n\u001b[0;32m   2681\u001b[0m             \u001b[1;31m# either boolean or fancy integer index\u001b[0m\u001b[1;33m\u001b[0m\u001b[1;33m\u001b[0m\u001b[1;33m\u001b[0m\u001b[0m\n\u001b[1;32m-> 2682\u001b[1;33m             \u001b[1;32mreturn\u001b[0m \u001b[0mself\u001b[0m\u001b[1;33m.\u001b[0m\u001b[0m_getitem_array\u001b[0m\u001b[1;33m(\u001b[0m\u001b[0mkey\u001b[0m\u001b[1;33m)\u001b[0m\u001b[1;33m\u001b[0m\u001b[1;33m\u001b[0m\u001b[0m\n\u001b[0m\u001b[0;32m   2683\u001b[0m         \u001b[1;32melif\u001b[0m \u001b[0misinstance\u001b[0m\u001b[1;33m(\u001b[0m\u001b[0mkey\u001b[0m\u001b[1;33m,\u001b[0m \u001b[0mDataFrame\u001b[0m\u001b[1;33m)\u001b[0m\u001b[1;33m:\u001b[0m\u001b[1;33m\u001b[0m\u001b[1;33m\u001b[0m\u001b[0m\n\u001b[0;32m   2684\u001b[0m             \u001b[1;32mreturn\u001b[0m \u001b[0mself\u001b[0m\u001b[1;33m.\u001b[0m\u001b[0m_getitem_frame\u001b[0m\u001b[1;33m(\u001b[0m\u001b[0mkey\u001b[0m\u001b[1;33m)\u001b[0m\u001b[1;33m\u001b[0m\u001b[1;33m\u001b[0m\u001b[0m\n",
      "\u001b[1;32mc:\\users\\kashir\\appdata\\local\\programs\\python\\python37-32\\lib\\site-packages\\pandas\\core\\frame.py\u001b[0m in \u001b[0;36m_getitem_array\u001b[1;34m(self, key)\u001b[0m\n\u001b[0;32m   2724\u001b[0m             \u001b[1;32mreturn\u001b[0m \u001b[0mself\u001b[0m\u001b[1;33m.\u001b[0m\u001b[0m_take\u001b[0m\u001b[1;33m(\u001b[0m\u001b[0mindexer\u001b[0m\u001b[1;33m,\u001b[0m \u001b[0maxis\u001b[0m\u001b[1;33m=\u001b[0m\u001b[1;36m0\u001b[0m\u001b[1;33m)\u001b[0m\u001b[1;33m\u001b[0m\u001b[1;33m\u001b[0m\u001b[0m\n\u001b[0;32m   2725\u001b[0m         \u001b[1;32melse\u001b[0m\u001b[1;33m:\u001b[0m\u001b[1;33m\u001b[0m\u001b[1;33m\u001b[0m\u001b[0m\n\u001b[1;32m-> 2726\u001b[1;33m             \u001b[0mindexer\u001b[0m \u001b[1;33m=\u001b[0m \u001b[0mself\u001b[0m\u001b[1;33m.\u001b[0m\u001b[0mloc\u001b[0m\u001b[1;33m.\u001b[0m\u001b[0m_convert_to_indexer\u001b[0m\u001b[1;33m(\u001b[0m\u001b[0mkey\u001b[0m\u001b[1;33m,\u001b[0m \u001b[0maxis\u001b[0m\u001b[1;33m=\u001b[0m\u001b[1;36m1\u001b[0m\u001b[1;33m)\u001b[0m\u001b[1;33m\u001b[0m\u001b[1;33m\u001b[0m\u001b[0m\n\u001b[0m\u001b[0;32m   2727\u001b[0m             \u001b[1;32mreturn\u001b[0m \u001b[0mself\u001b[0m\u001b[1;33m.\u001b[0m\u001b[0m_take\u001b[0m\u001b[1;33m(\u001b[0m\u001b[0mindexer\u001b[0m\u001b[1;33m,\u001b[0m \u001b[0maxis\u001b[0m\u001b[1;33m=\u001b[0m\u001b[1;36m1\u001b[0m\u001b[1;33m)\u001b[0m\u001b[1;33m\u001b[0m\u001b[1;33m\u001b[0m\u001b[0m\n\u001b[0;32m   2728\u001b[0m \u001b[1;33m\u001b[0m\u001b[0m\n",
      "\u001b[1;32mc:\\users\\kashir\\appdata\\local\\programs\\python\\python37-32\\lib\\site-packages\\pandas\\core\\indexing.py\u001b[0m in \u001b[0;36m_convert_to_indexer\u001b[1;34m(self, obj, axis, is_setter)\u001b[0m\n\u001b[0;32m   1325\u001b[0m                 \u001b[1;32mif\u001b[0m \u001b[0mmask\u001b[0m\u001b[1;33m.\u001b[0m\u001b[0many\u001b[0m\u001b[1;33m(\u001b[0m\u001b[1;33m)\u001b[0m\u001b[1;33m:\u001b[0m\u001b[1;33m\u001b[0m\u001b[1;33m\u001b[0m\u001b[0m\n\u001b[0;32m   1326\u001b[0m                     raise KeyError('{mask} not in index'\n\u001b[1;32m-> 1327\u001b[1;33m                                    .format(mask=objarr[mask]))\n\u001b[0m\u001b[0;32m   1328\u001b[0m \u001b[1;33m\u001b[0m\u001b[0m\n\u001b[0;32m   1329\u001b[0m                 \u001b[1;32mreturn\u001b[0m \u001b[0mcom\u001b[0m\u001b[1;33m.\u001b[0m\u001b[0m_values_from_object\u001b[0m\u001b[1;33m(\u001b[0m\u001b[0mindexer\u001b[0m\u001b[1;33m)\u001b[0m\u001b[1;33m\u001b[0m\u001b[1;33m\u001b[0m\u001b[0m\n",
      "\u001b[1;31mKeyError\u001b[0m: \"['optId' 'close' 'rom' 'stDev'] not in index\""
     ]
    }
   ],
   "source": [
    "# userip.py\n",
    "# the selecting user inputs\n",
    "if __name__=='__main__':\n",
    "    userip = ask_user()\n",
    "    \n",
    "    with get_connected('snp', 'live') as ib:\n",
    "        if userip == 0: # Run all\n",
    "            start = time.time()\n",
    "            print(\"\\nRunning ALL\\n\")\n",
    "            do_all(ib)\n",
    "            print(f\"\\nTook {codetime(time.time()-start)} to complete do_all\\n\")\n",
    "            \n",
    "        elif userip == 1: # Chain Generation\n",
    "            start = time.time()\n",
    "            print(\"\\nGetting Chains\\n\")\n",
    "            df_chains=get_chains(ib)\n",
    "            print(f\"\\nGot option chains in {codetime(time.time()-start)}\\n\")\n",
    "            \n",
    "        elif userip == 2: # OHLC Generation\n",
    "            start = time.time()\n",
    "            print(\"\\nGenerating OHLCs\\n\")\n",
    "            df_chains = pd.read_pickle(fspath+'chains.pkl')\n",
    "            df_ohlcs=make_ohlcs(ib, df_chains)\n",
    "            print(f\"\\nOHLCs generated in {codetime(time.time()-start)}\\n\")\n",
    "            \n",
    "        elif userip == 3: # Size the options\n",
    "            start = time.time()\n",
    "            print(\"Sizing the options\\n\")\n",
    "            df_chains = pd.read_pickle(fspath+'chains.pkl')\n",
    "            df_ohlcs = pd.read_pickle(fspath+'ohlcs.pkl')\n",
    "            df_sized=sized_snp(ib, df_chains, df_ohlcs)\n",
    "            print(f\"\\nOptions sized in {codetime(time.time()-start)}\\n\")\n",
    "            \n",
    "        elif userip == 4: # Target prepration\n",
    "            start = time.time()\n",
    "            print(\"Preparing targets\\n\")\n",
    "            df_chains = pd.read_pickle(fspath+'chains.pkl')\n",
    "            df_ohlcs = pd.read_pickle(fspath+'ohlcs.pkl')\n",
    "            df_sized = pd.read_pickle(fspath+'sized_snp.pkl')\n",
    "            df_targets = target_snp(ib, df_sized, blacklist, snp_assignment_limit)\n",
    "            print(f\"\\nMade SELL targets in {codetime(time.time()-start)}\\n\")\n",
    "            \n",
    "        elif userip == 5: # Place the morning trades\n",
    "            start = time.time()\n",
    "            print(\"Trading in the morning\\n\")\n",
    "            df_chains = pd.read_pickle(fspath+'chains.pkl')\n",
    "            df_ohlcs = pd.read_pickle(fspath+'ohlcs.pkl')\n",
    "            df_sized = pd.read_pickle(fspath+'sized_snp.pkl')            \n",
    "            df_targets = pd.read_pickle(fspath+'targets.pkl')\n",
    "            \n",
    "            # cancel all existing trades\n",
    "            ib.reqGlobalCancel()\n",
    "            \n",
    "            df_buy = workout_snp(ib)\n",
    "            \n",
    "            buy_tb = buys(ib, df_buy, exchange)\n",
    "            sell_tb = sells(ib, df_targets, exchange)\n",
    "            \n",
    "            # place the morning trades\n",
    "            morning_trades = place_morning_trades(ib, sell_tb=sell_tb, buy_tb=buy_tb)\n",
    "            print(f\"\\nCompleted morning trades in {codetime(time.time()-start)}\\n\")\n",
    "            \n",
    "        elif userip == 6: # Workout closing trades for new fills\n",
    "            start = time.time()\n",
    "            print(\"Closing new fills\\n\")\n",
    "            df_buy = workout_snp(ib)\n",
    "            \n",
    "            if df_buy.empty:\n",
    "                print(\"\\nNothing to buy!\\n\")\n",
    "            else:\n",
    "                buy_tb = buys(ib, df_buy, exchange)\n",
    "                doTrades(ib, buy_tb)\n",
    "                print(f\"\\nFilled close BUY orders in {codetime(time.time()-start)}\\n\")"
   ]
  },
  {
   "cell_type": "code",
   "execution_count": 5,
   "metadata": {},
   "outputs": [],
   "source": [
    "df_sized = pd.read_pickle(fspath+'sized_snp.pkl')\n",
    "df_sized.assign(optId = np.nan, close = np.nan, rom=np.nan, stDev = np.nan)\n",
    "df_sized.to_pickle(fspath+'sized_snp.pkl')"
   ]
  },
  {
   "cell_type": "code",
   "execution_count": null,
   "metadata": {},
   "outputs": [],
   "source": [
    "df_targets = pd.read_pickle(fspath+'targets.pkl')"
   ]
  },
  {
   "cell_type": "code",
   "execution_count": null,
   "metadata": {},
   "outputs": [],
   "source": [
    "with get_connected('snp', 'live') as ib:\n",
    "    co_blks = trade_blocks(ib, df_targets, 'SELL', exchange)\n",
    "    trades = doTrades(ib, co_blks)"
   ]
  },
  {
   "cell_type": "code",
   "execution_count": null,
   "metadata": {},
   "outputs": [],
   "source": []
  },
  {
   "cell_type": "code",
   "execution_count": null,
   "metadata": {},
   "outputs": [],
   "source": [
    "with get_connected('snp', 'live') as ib:\n",
    "    buy_df = workout_snp(ib)"
   ]
  },
  {
   "cell_type": "code",
   "execution_count": null,
   "metadata": {},
   "outputs": [],
   "source": [
    "with get_connected('snp', 'live') as ib:\n",
    "    \n",
    "    # get all the trades\n",
    "    trades = ib.trades()\n",
    "\n",
    "    if trades: # there is something in trades\n",
    "        all_trades_df = util.df(t.contract for t in trades).join(util.df(t.orderStatus for t in trades)).join(util.df(t.order for t in trades), lsuffix='_')\n",
    "        all_trades_df.rename({'lastTradeDateOrContractMonth': 'expiry'}, axis='columns', inplace=True)\n",
    "        trades_cols = ['conId', 'symbol', 'localSymbol', 'secType', 'expiry', 'strike', 'right', \n",
    "                       'orderId', 'permId', 'action', 'totalQuantity', 'lmtPrice', 'status']\n",
    "        trades_df = all_trades_df[trades_cols]\n",
    "\n",
    "        # get the sell option trades which are open (SUBMITTED)\n",
    "        df_open_sells = trades_df[(trades_df.action == 'SELL') & \n",
    "                  (trades_df.secType == 'OPT') &\n",
    "                  (trades_df.status == 'Submitted')]\n",
    "\n",
    "        # cancel the sell open orders\n",
    "        sell_openords = [t.order for t in trades if t.order.orderId in list(df_open_sells.orderId)]\n",
    "    #         canceld_sells = [ib.cancelOrder(order) for order in sell_openords]\n"
   ]
  },
  {
   "cell_type": "code",
   "execution_count": null,
   "metadata": {},
   "outputs": [],
   "source": [
    "df_open_sells"
   ]
  },
  {
   "cell_type": "code",
   "execution_count": null,
   "metadata": {},
   "outputs": [],
   "source": []
  },
  {
   "cell_type": "code",
   "execution_count": null,
   "metadata": {},
   "outputs": [],
   "source": [
    "with get_connected('snp', 'live') as ib:\n",
    "    ib.reqGlobalCancel()"
   ]
  },
  {
   "cell_type": "code",
   "execution_count": null,
   "metadata": {},
   "outputs": [],
   "source": [
    "df_targets = pd.read_pickle(fspath+'targets.pkl')"
   ]
  },
  {
   "cell_type": "code",
   "execution_count": null,
   "metadata": {},
   "outputs": [],
   "source": [
    "df_targets"
   ]
  },
  {
   "cell_type": "code",
   "execution_count": null,
   "metadata": {},
   "outputs": [],
   "source": []
  }
 ],
 "metadata": {
  "kernelspec": {
   "display_name": "Python 3",
   "language": "python",
   "name": "python3"
  },
  "language_info": {
   "codemirror_mode": {
    "name": "ipython",
    "version": 3
   },
   "file_extension": ".py",
   "mimetype": "text/x-python",
   "name": "python",
   "nbconvert_exporter": "python",
   "pygments_lexer": "ipython3",
   "version": "3.7.1"
  }
 },
 "nbformat": 4,
 "nbformat_minor": 2
}
