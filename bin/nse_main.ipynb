{
 "cells": [
  {
   "cell_type": "code",
   "execution_count": null,
   "metadata": {},
   "outputs": [],
   "source": [
    "# Main program for nse\n",
    "\n",
    "from ib_insync import *\n",
    "\n",
    "import logging\n",
    "import pandas as pd\n",
    "from os import listdir\n",
    "\n",
    "from helper import get_connected, grp_opts, get_prec, catch\n",
    "from nse_func import p_nses, p_nseopts, upd_nses, upd_opt, remqty_nse, target_nse, nse_tgt_update\n",
    "\n",
    "from nse_variables import *\n",
    "\n",
    "util.startLoop()  # should not be there in py file\n",
    "\n",
    "keep_pickles = True   # keep already pickled symbols\n",
    "\n",
    "ib = get_connected('nse', 'live') # close the connection and delete it final function\n",
    "\n",
    "# Weekend update functions\n",
    "# __________________________\n",
    "\n",
    "def weekend_process(ib):\n",
    "    '''Weekend process to generate underlyings (lot+margin) and optio pickles\n",
    "    Arg: (ib) as connection\n",
    "    Returns: \n",
    "        None\n",
    "        But pickles to _lot_margin.pickle & (SYMBOL).pkl'''\n",
    "    \n",
    "    util.logToFile(fspath+'_errors.log')  # create log file\n",
    "    with open(fspath+'_errors.log', 'w'): # clear the previous log\n",
    "        pass\n",
    "    \n",
    "    # Step # 1: generate the underlyings\n",
    "    dfu = p_nses(ib).dropna()\n",
    "\n",
    "    # Step # 2: generate the option pickles\n",
    "    [catch(lambda: p_nseopts(ib=ib,undContract=u, undPrice=p, lotsize=z, margin=m) \n",
    "     for u, p, z, m in zip(dfu.contract, dfu.undPrice, dfu.lot, dfu.margin))]\n",
    "    \n",
    "    return None\n",
    "    \n",
    "def pickle_remaining_opts(ib, keep_pickles = True):\n",
    "    '''Upon any failure, pickle remaining options upon failure\n",
    "    Arg: \n",
    "        (ib) as connection\n",
    "        <keep_pickles> as True / False for keeping existing pickles\n",
    "    Returns:\n",
    "       None'''\n",
    "    \n",
    "    util.logToFile(fspath+'_errors.log')  # create log file\n",
    "    \n",
    "    # get the underlying dataframe\n",
    "    dfu = pd.read_pickle(fspath+'_lot_margin.pickle')\n",
    "    \n",
    "    if keep_pickles:\n",
    "        fs = listdir(fspath)\n",
    "        optsList = [f[:-4] for f in fs if f[-3:] == 'pkl']\n",
    "        dfr = dfu[~dfu.index.isin(optsList)] # remaining dfs (without existing pickles)\n",
    "        [p_nseopts(ib=ib,undContract=u, undPrice=p, lotsize=z, margin=m)\n",
    "         for u, p, z, m in zip(dfr.contract, dfr.undPrice, dfr.lot, dfr.margin)]\n",
    "    else:\n",
    "        [p_nseopts(ib=ib,undContract=u, undPrice=p, lotsize=z, margin=m)\n",
    "         for u, p, z, m in zip(dfu.contract, dfu.undPrice, dfu.lot, dfu.margin)]\n",
    "        \n",
    "    return None\n",
    "\n",
    "# Everyday update function\n",
    "# ________________________\n",
    "\n",
    "def everyday_process(ib):\n",
    "    '''everyday process to update update underlyings, option prices and generate targets\n",
    "    (takes about 40 mins)\n",
    "    Arg: (ib) as connection\n",
    "    Returns:\n",
    "       None\n",
    "       But pickles lot and margin updates to underlyings\n",
    "    '''\n",
    "    util.logToFile(fspath+'_errors.log')  # create log file\n",
    "    \n",
    "    # ...update underlyings\n",
    "    dfu = pd.read_pickle(fspath+'_lot_margin.pickle').dropna()\n",
    "    upd_nses(ib, dfu)\n",
    "    \n",
    "    # ...update option prices\n",
    "    from helper import upd_opt\n",
    "    fs = listdir(fspath)\n",
    "    \n",
    "    # collect the options\n",
    "    optsList = [f for f in fs if f[-3:] == 'pkl']\n",
    "    dfopts = pd.concat([pd.read_pickle(fspath+f+'.pkl')\n",
    "                     for f in optsList], axis=0, sort=True).reset_index(drop=True)\n",
    "\n",
    "    # update the option prices\n",
    "    df = upd_opt(ib, dfopts)\n",
    "    \n",
    "    # ...generate targets and pickle, with new remaining quantities\n",
    "    dft = target_nse(ib)\n",
    "    \n",
    "    return None\n",
    "\n",
    "# Dynamic update function\n",
    "# _______________________\n",
    "\n",
    "def dynamic_update(ib):\n",
    "    '''dynamically update the target with price and remaining quantities\n",
    "    Arg: (ib) as connection object\n",
    "    Returns: dft as DataFrame and re-pickles it\n",
    "       '''\n",
    "    \n",
    "    return nse_tgt_update(ib)"
   ]
  },
  {
   "cell_type": "code",
   "execution_count": null,
   "metadata": {},
   "outputs": [],
   "source": []
  },
  {
   "cell_type": "code",
   "execution_count": null,
   "metadata": {},
   "outputs": [],
   "source": [
    "%%time\n",
    "# Run the weekend process\n",
    "weekend_process(ib)"
   ]
  },
  {
   "cell_type": "code",
   "execution_count": null,
   "metadata": {},
   "outputs": [],
   "source": [
    "%%time\n",
    "# Run everyday_process\n",
    "everyday_process(ib)"
   ]
  },
  {
   "cell_type": "code",
   "execution_count": null,
   "metadata": {},
   "outputs": [],
   "source": [
    "%%time\n",
    "# Run dynamic pricess\n",
    "dft = dynamic_update(ib).reset_index()"
   ]
  },
  {
   "cell_type": "code",
   "execution_count": null,
   "metadata": {},
   "outputs": [],
   "source": [
    "%%time\n",
    "ib.openOrders()"
   ]
  },
  {
   "cell_type": "code",
   "execution_count": null,
   "metadata": {},
   "outputs": [],
   "source": []
  },
  {
   "cell_type": "code",
   "execution_count": null,
   "metadata": {},
   "outputs": [],
   "source": [
    "dft = pd.read_pickle(fspath+'_targetopts.pickle')"
   ]
  },
  {
   "cell_type": "raw",
   "metadata": {},
   "source": [
    "%%time\n",
    "# @@@@@@@@@@@@@@@@@@@@@@@@@@@@@@@@@@@@@@@@@@@@@@@\n",
    "# WARNING: THE FOLLOWING CODE PLACES 'SOW' ORDERS\n",
    "# _______________________________________________\n",
    "\n",
    "# qualify contracts and prepare to order\n",
    "blk=50\n",
    "contracts = [Contract(conId=c) for c in dft.optId]\n",
    "cblks = [contracts[i: i+blk] for i in range(0, len(contracts), blk)]\n",
    "qc = [c for q in [ib.qualifyContracts(*c) for c in cblks] for c in q]\n",
    "\n",
    "sell_order = [LimitOrder(action='SELL', totalQuantity=q, lmtPrice=expPrice) for q, expPrice in zip(dft.lotsize, dft.expPrice)]\n",
    "\n",
    "co = list(zip(qc, sell_order))\n",
    "coblks = [co[i: i+blk] for i in range(0, len(co), blk)]\n",
    "\n",
    "util.logToConsole()\n",
    "\n",
    "trades = []\n",
    "for coblk in coblks:\n",
    "    for co in coblk:\n",
    "        trades.append(ib.placeOrder(co[0], co[1]))\n",
    "    ib.sleep(1)"
   ]
  },
  {
   "cell_type": "code",
   "execution_count": null,
   "metadata": {},
   "outputs": [],
   "source": [
    "df_trades = pd.concat([pd.DataFrame(trades), util.df(trades)], axis=1)\n",
    "df_trades.columns=[['trade']+list(df_trades)[1:]]\n",
    "df_trades.to_pickle(fspath+'_tradesDone.pickle')"
   ]
  },
  {
   "cell_type": "code",
   "execution_count": null,
   "metadata": {},
   "outputs": [],
   "source": []
  },
  {
   "cell_type": "code",
   "execution_count": null,
   "metadata": {},
   "outputs": [],
   "source": [
    "# One scrip check (TEST MODULE)\n",
    "\n",
    "dfu = pd.read_pickle(fspath+'_lot_margin.pickle').dropna()\n",
    "\n",
    "fs = listdir(fspath)\n",
    "optsList = [f[:-4] for f in fs if f[-3:] == 'pkl']\n",
    "dfr = dfu[~dfu.index.isin(optsList)] # remaining dfs (without existing pickles)"
   ]
  }
 ],
 "metadata": {
  "kernelspec": {
   "display_name": "Python 3",
   "language": "python",
   "name": "python3"
  },
  "language_info": {
   "codemirror_mode": {
    "name": "ipython",
    "version": 3
   },
   "file_extension": ".py",
   "mimetype": "text/x-python",
   "name": "python",
   "nbconvert_exporter": "python",
   "pygments_lexer": "ipython3",
   "version": "3.7.1"
  }
 },
 "nbformat": 4,
 "nbformat_minor": 2
}
