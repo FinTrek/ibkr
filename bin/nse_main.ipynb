{
 "cells": [
  {
   "cell_type": "code",
   "execution_count": null,
   "metadata": {},
   "outputs": [],
   "source": [
    "# recalc_opts.py\n",
    "def recalc_opts(ib, df):\n",
    "    '''Recalculates option prices and margins\n",
    "    Arg:\n",
    "       (ib) as connection object\n",
    "       (df) as the dataframe of options\n",
    "    Returns: dataframe with updated OptPrices and OptMargins\n",
    "    '''\n",
    "    opt_contracts = [Contract(conId=c) for c in df.optId]\n",
    "    qopts = ib.qualifyContracts(*opt_contracts)\n",
    "    tickers = ib.reqTickers(*qopts)\n",
    "    optPrices = {t.contract.conId: t.marketPrice() for t in tickers} # {symbol: undPrice}\n",
    "    optMargins = {c.conId: ib.whatIfOrder(c,Order(action='SELL', orderType='MKT', totalQuantity=abs(ls), whatIf=True)).initMarginChange \n",
    "        for c, ls in (zip(qopts, df.lotsize))}\n",
    "    \n",
    "    # update prices and margins\n",
    "    df = df.set_index('optId')\n",
    "    df.optPrice.update(pd.Series(optPrices))\n",
    "    df.optMargin.update(pd.Series(optMargins))\n",
    "    df.optMargin = df.optMargin.astype('float')\n",
    "    df = df.assign(rom=df.optPrice*df.lotsize/df.optMargin*252/df.dte)\n",
    "    \n",
    "    return df.reset_index()"
   ]
  },
  {
   "cell_type": "code",
   "execution_count": null,
   "metadata": {},
   "outputs": [],
   "source": [
    "import pandas as pd\n",
    "\n",
    "from os import listdir\n",
    "from ib_insync import *\n",
    "util.startLoop()\n",
    "\n",
    "from helper import get_nse_remqty, get_connected, grp_opts, get_prec, recalc_opts\n",
    "\n",
    "fspath = '../data/nse/'  # path for nse pickles\n",
    "\n",
    "minOptPrice = 0.15\n",
    "minRom = 0.25\n",
    "nLargest = 5\n",
    "\n",
    "fs = listdir(fspath)\n",
    "\n",
    "# get the remaining quantities\n",
    "with get_connected('nse', 'live') as ib:\n",
    "    remqty = get_nse_remqty(ib)\n",
    "\n",
    "optsList = [f for f in fs if f[-3:] == 'pkl']\n",
    "\n",
    "cols = ['optId', 'symbol', 'right', 'expiration', 'dte', 'strike', 'undPrice', \n",
    "'lo52', 'hi52', 'Fall', 'Rise', 'loFall', 'hiRise', 'std3', 'loStd3', 'hiStd3', \n",
    "'lotsize', 'optPrice', 'optMargin', 'rom']\n",
    "\n",
    "df1 = pd.concat([pd.read_pickle(fspath+f) \n",
    "                 for f in optsList], axis=0, sort=True).reset_index(drop=True)[cols]\n",
    "\n",
    "# filter for high probability\n",
    "df2 = df1[((df1.strike > df1.hi52) | \n",
    "           (df1.strike < df1.lo52)) & \n",
    "          (df1.optPrice > minOptPrice) & \n",
    "          (df1.rom > minRom)]\n",
    "\n",
    "df2 = df2.sort_values('rom', ascending=False)\n",
    "df2[df2.rom > minRom].reset_index(drop=True)"
   ]
  },
  {
   "cell_type": "code",
   "execution_count": null,
   "metadata": {},
   "outputs": [],
   "source": [
    "# recalculated the prices and margins\n",
    "with get_connected('nse', 'live') as ib:\n",
    "    df2 = recalc_opts(ib, df2)"
   ]
  },
  {
   "cell_type": "code",
   "execution_count": null,
   "metadata": {},
   "outputs": [],
   "source": [
    "# group by the largest N return on margin\n",
    "df2 = grp_opts(df2)\n",
    "df3 = df2.groupby('symbol').apply(lambda x: x.nlargest(nLargest, 'rom'))\n",
    "\n",
    "df4 = df3.assign(expPrice=[get_prec(p*1.1, 0.05) for p in df3.optPrice])\n",
    "df4 = df4.assign(remqty=[remqty[u] for u in df4.symbol])\n",
    "df4 = df4.assign(expQty=df4.remqty)"
   ]
  },
  {
   "cell_type": "code",
   "execution_count": null,
   "metadata": {},
   "outputs": [],
   "source": [
    "df4 = df4[df4.remqty != 0] # remove zero remaining quantities (blacklisted)"
   ]
  },
  {
   "cell_type": "code",
   "execution_count": null,
   "metadata": {},
   "outputs": [],
   "source": [
    "df4"
   ]
  },
  {
   "cell_type": "code",
   "execution_count": null,
   "metadata": {},
   "outputs": [],
   "source": [
    "# make calls and puts watch - to quickly weed out risky options\n",
    "gb = df5.groupby('right')\n",
    "\n",
    "if 'C' in [k for k in gb.indices]:\n",
    "#     df5_calls = gb.get_group('C').reset_index(drop=True).sort_values(['symbol', 'strike'], ascending=[True, True])\n",
    "    df5_calls = gb.get_group('C').reset_index(drop=True)\n",
    "    \n",
    "    df5_callsymbols = df5_calls.symbol.unique()\n",
    "    watchcalls = [('DES', s, 'STK', 'NSE') if s not in ['NIFTY50', 'BANKNIFTY'] else ('DES', s, 'IND', 'NSE') for s in df5_callsymbols]\n",
    "    df5_wp = util.df(watchcalls)\n",
    "    df5_wp.to_csv(fspath+'callswatch.csv', index=None, header=False)\n",
    "    \n",
    "else:\n",
    "    df5_calls = pd.DataFrame([]) # empty dataframe\n",
    "\n",
    "if 'P' in [k for k in gb.indices]:\n",
    "#     df5_puts = gb.get_group('P').reset_index(drop=True).sort_values(['symbol', 'strike'], ascending=[True, False])\n",
    "    df5_puts = gb.get_group('P').reset_index(drop=True)\n",
    "    \n",
    "    # make watchlist\n",
    "    df5_putssymbols = df5_puts.symbol.unique()\n",
    "    watchputs = [('DES', s, 'STK', 'NSE') if s not in ['NIFTY50', 'BANKNIFTY'] else ('DES', s, 'IND', 'NSE') for s in df5_putssymbols]\n",
    "    df5_wp = util.df(watchputs)\n",
    "    df5_wp.to_csv(fspath+'putswatch.csv', index=None, header=False)\n",
    "else:\n",
    "    df5_puts = pd.DataFrame([]) # empty dataframe\n",
    "\n",
    "# output the consolidated puts and calls dataframe\n",
    "df5 = pd.concat([df5_puts, df5_calls]).reset_index(drop=True)\n",
    "df5.to_csv(fspath+'check.csv', index=None, header=True)"
   ]
  },
  {
   "cell_type": "code",
   "execution_count": null,
   "metadata": {},
   "outputs": [],
   "source": [
    "df5 = df5.assign(expQty=3)"
   ]
  },
  {
   "cell_type": "code",
   "execution_count": null,
   "metadata": {},
   "outputs": [],
   "source": [
    "df5.loc[df5.symbol == 'BSOFT', 'expPrice'] = 0.55"
   ]
  },
  {
   "cell_type": "code",
   "execution_count": null,
   "metadata": {},
   "outputs": [],
   "source": [
    "df5"
   ]
  },
  {
   "cell_type": "code",
   "execution_count": null,
   "metadata": {},
   "outputs": [],
   "source": [
    "sum(df5.expQty*df5.expPrice*df5.lotsize)"
   ]
  },
  {
   "cell_type": "code",
   "execution_count": null,
   "metadata": {},
   "outputs": [],
   "source": [
    "opt_contracts = [Contract(conId=c) for c in df5.optId]\n",
    "with get_connected('nse', 'live') as ib:\n",
    "    qopts = ib.qualifyContracts(*opt_contracts)"
   ]
  },
  {
   "cell_type": "code",
   "execution_count": null,
   "metadata": {},
   "outputs": [],
   "source": [
    "orders = [LimitOrder('SELL', qty*lotsize, price) for qty, lotsize, price in zip(df5.expQty, df5.lotsize, df5.expPrice)]"
   ]
  },
  {
   "cell_type": "code",
   "execution_count": null,
   "metadata": {},
   "outputs": [],
   "source": [
    "with get_connected('nse', 'live') as ib:\n",
    "    limitTrade = [ib.placeOrder(c, o) for c, o in zip(qopts,  orders)]"
   ]
  },
  {
   "cell_type": "code",
   "execution_count": null,
   "metadata": {},
   "outputs": [],
   "source": [
    "# ib = get_connected('nse', 'live')"
   ]
  },
  {
   "cell_type": "code",
   "execution_count": null,
   "metadata": {},
   "outputs": [],
   "source": [
    "[ib.placeOrder(c, o) for c, o in zip(qopts,  orders)]"
   ]
  },
  {
   "cell_type": "code",
   "execution_count": null,
   "metadata": {},
   "outputs": [],
   "source": [
    "ib.reqGlobalCancel()"
   ]
  },
  {
   "cell_type": "code",
   "execution_count": null,
   "metadata": {},
   "outputs": [],
   "source": []
  },
  {
   "cell_type": "code",
   "execution_count": null,
   "metadata": {},
   "outputs": [],
   "source": [
    "import pandas as pd\n",
    "df_temp = pd.read_pickle('../data/nse/BHARATFIN.pkl')"
   ]
  },
  {
   "cell_type": "code",
   "execution_count": null,
   "metadata": {},
   "outputs": [],
   "source": [
    "df_temp"
   ]
  },
  {
   "cell_type": "code",
   "execution_count": null,
   "metadata": {},
   "outputs": [],
   "source": [
    "df_temp.loc[:, 'lotsize'] = 500\n",
    "\n",
    "df_temp.to_pickle('../data/nse/BHARATFIN.pkl')"
   ]
  }
 ],
 "metadata": {
  "kernelspec": {
   "display_name": "Python 3",
   "language": "python",
   "name": "python3"
  },
  "language_info": {
   "codemirror_mode": {
    "name": "ipython",
    "version": 3
   },
   "file_extension": ".py",
   "mimetype": "text/x-python",
   "name": "python",
   "nbconvert_exporter": "python",
   "pygments_lexer": "ipython3",
   "version": "3.7.1"
  }
 },
 "nbformat": 4,
 "nbformat_minor": 2
}
