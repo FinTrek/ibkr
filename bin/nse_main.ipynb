{
 "cells": [
  {
   "cell_type": "code",
   "execution_count": null,
   "metadata": {},
   "outputs": [],
   "source": [
    "# nse_main.py\n",
    "# Main program for nse\n",
    "\n",
    "from ib_insync import *\n",
    "util.startLoop()\n",
    "\n",
    "from helper import *\n",
    "from nse_func import *\n",
    "\n",
    "if __name__ == '__main__':\n",
    "    with get_connected('nse', 'live') as ib:\n",
    "        nse_weekend_process(ib) # generates lot margin and option pickles\n",
    "    with get_connected('nse', 'live') as ib:\n",
    "        nse_everyday_process(ib) # generates target list after evlaluation"
   ]
  },
  {
   "cell_type": "code",
   "execution_count": null,
   "metadata": {},
   "outputs": [],
   "source": [
    "from ib_insync import *\n",
    "util.startLoop()\n",
    "\n",
    "from helper import *\n",
    "from nse_func import *\n",
    "ib =  get_connected('nse', 'live')\n",
    "\n",
    "# ...update underlyings\n",
    "dfu = pd.read_pickle(fspath+'_lot_margin.pickle').dropna()"
   ]
  },
  {
   "cell_type": "code",
   "execution_count": null,
   "metadata": {},
   "outputs": [],
   "source": [
    "# ...update option prices\n",
    "fs = listdir(fspath)\n",
    "\n",
    "# collect the options\n",
    "optsList = [f for f in fs if f[-3:] == 'pkl']\n",
    "dfopts = pd.concat([pd.read_pickle(fspath+f)\n",
    "                 for f in optsList], axis=0, sort=True).reset_index(drop=True)"
   ]
  },
  {
   "cell_type": "code",
   "execution_count": null,
   "metadata": {},
   "outputs": [],
   "source": [
    "dfopts"
   ]
  },
  {
   "cell_type": "code",
   "execution_count": null,
   "metadata": {},
   "outputs": [],
   "source": []
  }
 ],
 "metadata": {
  "kernelspec": {
   "display_name": "Python 3",
   "language": "python",
   "name": "python3"
  },
  "language_info": {
   "codemirror_mode": {
    "name": "ipython",
    "version": 3
   },
   "file_extension": ".py",
   "mimetype": "text/x-python",
   "name": "python",
   "nbconvert_exporter": "python",
   "pygments_lexer": "ipython3",
   "version": "3.7.1"
  }
 },
 "nbformat": 4,
 "nbformat_minor": 2
}
