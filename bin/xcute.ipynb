{
 "cells": [
  {
   "cell_type": "code",
   "execution_count": null,
   "metadata": {},
   "outputs": [],
   "source": [
    "dft = pd.read_pickle(fspath+'_targetopts.pickle')\n",
    "dft"
   ]
  },
  {
   "cell_type": "raw",
   "metadata": {},
   "source": [
    "%%time\n",
    "# @@@@@@@@@@@@@@@@@@@@@@@@@@@@@@@@@@@@@@@@@@@@@@@\n",
    "# WARNING: THE FOLLOWING CODE PLACES 'SOW' ORDERS\n",
    "# _______________________________________________\n",
    "\n",
    "# qualify contracts and prepare to order\n",
    "blk=50\n",
    "contracts = [Contract(conId=c) for c in dft.optId]\n",
    "cblks = [contracts[i: i+blk] for i in range(0, len(contracts), blk)]\n",
    "qc = [c for q in [ib.qualifyContracts(*c) for c in cblks] for c in q]\n",
    "\n",
    "sell_order = [LimitOrder(action='SELL', totalQuantity=q, lmtPrice=expPrice) for q, expPrice in zip(dft.lotsize, dft.expPrice)]\n",
    "\n",
    "co = list(zip(qc, sell_order))\n",
    "coblks = [co[i: i+blk] for i in range(0, len(co), blk)]\n",
    "\n",
    "util.logToConsole()\n",
    "\n",
    "trades = []\n",
    "for coblk in coblks:\n",
    "    for co in coblk:\n",
    "        trades.append(ib.placeOrder(co[0], co[1]))\n",
    "    ib.sleep(1)"
   ]
  },
  {
   "cell_type": "code",
   "execution_count": null,
   "metadata": {},
   "outputs": [],
   "source": [
    "df_trades = pd.concat([pd.DataFrame(trades), util.df(trades)], axis=1)\n",
    "df_trades.columns=[['trade']+list(df_trades)[1:]]\n",
    "df_trades.to_pickle(fspath+'_tradesDone.pickle')"
   ]
  }
 ],
 "metadata": {
  "kernelspec": {
   "display_name": "Python 3",
   "language": "python",
   "name": "python3"
  },
  "language_info": {
   "codemirror_mode": {
    "name": "ipython",
    "version": 3
   },
   "file_extension": ".py",
   "mimetype": "text/x-python",
   "name": "python",
   "nbconvert_exporter": "python",
   "pygments_lexer": "ipython3",
   "version": "3.7.1"
  }
 },
 "nbformat": 4,
 "nbformat_minor": 2
}
