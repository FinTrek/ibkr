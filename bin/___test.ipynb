{
 "cells": [
  {
   "cell_type": "markdown",
   "metadata": {},
   "source": [
    "# To do functions:\n",
    "* Check margin limit breach: margin_breached() -> (breached, breached_value) \n",
    "* Make underlying contracts: make_und_contracts(chains_nse.pkl)\n",
    "* Get the latest prices: get_prices(contracts) -> {conId: price}\n",
    "* Get uncovered calls: cancel_nakeds()\n",
    "* Get current positions (df_position) {get_positions}\n",
    "* Filter functions {maskFR, mask52, maskPutsOnly, masksd_LoHi}\n",
    "* Check uncovered shorts and longs (df_uncovered) {shorts_longs}"
   ]
  },
  {
   "cell_type": "code",
   "execution_count": 1,
   "metadata": {},
   "outputs": [],
   "source": [
    "# imports\n",
    "from z_helper import *\n",
    "util.startLoop()\n",
    "\n",
    "ib = get_connected('snp', 'live')\n",
    "\n",
    "# from json\n",
    "a = assign_var('snp') + assign_var('common')\n",
    "for v in a:\n",
    "    exec(v)\n",
    "    \n",
    "jup_disp_adjust() # adjust jupyter's display\n",
    "\n",
    "with open(logpath+'test.log', 'w'):\n",
    "    pass # clear the run log\n",
    "\n",
    "util.logToFile(logpath+'test.log')"
   ]
  },
  {
   "cell_type": "code",
   "execution_count": 2,
   "metadata": {},
   "outputs": [
    {
     "data": {
      "text/plain": [
       "[AccountValue(account='U8898867', tag='AccountType', value='INDIVIDUAL', currency='', modelCode=''),\n",
       " AccountValue(account='U8898867', tag='Cushion', value='0.590368', currency='', modelCode=''),\n",
       " AccountValue(account='U8898867', tag='DayTradesRemaining', value='-1', currency='', modelCode=''),\n",
       " AccountValue(account='U8898867', tag='LookAheadNextChange', value='1567603800', currency='', modelCode=''),\n",
       " AccountValue(account='U8898867', tag='AccruedCash', value='218.88', currency='USD', modelCode=''),\n",
       " AccountValue(account='U8898867', tag='AvailableFunds', value='310427.21', currency='USD', modelCode=''),\n",
       " AccountValue(account='U8898867', tag='BuyingPower', value='2069514.76', currency='USD', modelCode=''),\n",
       " AccountValue(account='U8898867', tag='EquityWithLoanValue', value='565024.95', currency='USD', modelCode=''),\n",
       " AccountValue(account='U8898867', tag='ExcessLiquidity', value='333572.46', currency='USD', modelCode=''),\n",
       " AccountValue(account='U8898867', tag='FullAvailableFunds', value='310427.21', currency='USD', modelCode=''),\n",
       " AccountValue(account='U8898867', tag='FullExcessLiquidity', value='333572.46', currency='USD', modelCode=''),\n",
       " AccountValue(account='U8898867', tag='FullInitMarginReq', value='254597.74', currency='USD', modelCode=''),\n",
       " AccountValue(account='U8898867', tag='FullMaintMarginReq', value='231452.49', currency='USD', modelCode=''),\n",
       " AccountValue(account='U8898867', tag='GrossPositionValue', value='68868.19', currency='USD', modelCode=''),\n",
       " AccountValue(account='U8898867', tag='InitMarginReq', value='254597.74', currency='USD', modelCode=''),\n",
       " AccountValue(account='U8898867', tag='LookAheadAvailableFunds', value='310427.21', currency='USD', modelCode=''),\n",
       " AccountValue(account='U8898867', tag='LookAheadExcessLiquidity', value='333572.46', currency='USD', modelCode=''),\n",
       " AccountValue(account='U8898867', tag='LookAheadInitMarginReq', value='254597.74', currency='USD', modelCode=''),\n",
       " AccountValue(account='U8898867', tag='LookAheadMaintMarginReq', value='231452.49', currency='USD', modelCode=''),\n",
       " AccountValue(account='U8898867', tag='MaintMarginReq', value='231452.49', currency='USD', modelCode=''),\n",
       " AccountValue(account='U8898867', tag='NetLiquidation', value='565024.95', currency='USD', modelCode=''),\n",
       " AccountValue(account='U8898867', tag='TotalCashValue', value='633674.27', currency='USD', modelCode=''),\n",
       " AccountValue(account='All', tag='Currency', value='SGD', currency='SGD', modelCode=''),\n",
       " AccountValue(account='All', tag='CashBalance', value='327171.10', currency='SGD', modelCode=''),\n",
       " AccountValue(account='All', tag='TotalCashBalance', value='327171.10', currency='SGD', modelCode=''),\n",
       " AccountValue(account='All', tag='AccruedCash', value='209.38', currency='SGD', modelCode=''),\n",
       " AccountValue(account='All', tag='StockMarketValue', value='0.00', currency='SGD', modelCode=''),\n",
       " AccountValue(account='All', tag='OptionMarketValue', value='0.00', currency='SGD', modelCode=''),\n",
       " AccountValue(account='All', tag='FutureOptionValue', value='0.00', currency='SGD', modelCode=''),\n",
       " AccountValue(account='All', tag='FuturesPNL', value='0.00', currency='SGD', modelCode=''),\n",
       " AccountValue(account='All', tag='NetLiquidationByCurrency', value='327380.48', currency='SGD', modelCode=''),\n",
       " AccountValue(account='All', tag='UnrealizedPnL', value='0.00', currency='SGD', modelCode=''),\n",
       " AccountValue(account='All', tag='RealizedPnL', value='0.00', currency='SGD', modelCode=''),\n",
       " AccountValue(account='All', tag='ExchangeRate', value='0.717821', currency='SGD', modelCode=''),\n",
       " AccountValue(account='All', tag='FundValue', value='0.00', currency='SGD', modelCode=''),\n",
       " AccountValue(account='All', tag='NetDividend', value='0.00', currency='SGD', modelCode=''),\n",
       " AccountValue(account='All', tag='MutualFundValue', value='0.00', currency='SGD', modelCode=''),\n",
       " AccountValue(account='All', tag='MoneyMarketFundValue', value='0.00', currency='SGD', modelCode=''),\n",
       " AccountValue(account='All', tag='CorporateBondValue', value='0.00', currency='SGD', modelCode=''),\n",
       " AccountValue(account='All', tag='TBondValue', value='0.00', currency='SGD', modelCode=''),\n",
       " AccountValue(account='All', tag='TBillValue', value='0.00', currency='SGD', modelCode=''),\n",
       " AccountValue(account='All', tag='WarrantValue', value='0.00', currency='SGD', modelCode=''),\n",
       " AccountValue(account='All', tag='FxCashBalance', value='0.00', currency='SGD', modelCode=''),\n",
       " AccountValue(account='All', tag='AccountOrGroup', value='All', currency='SGD', modelCode=''),\n",
       " AccountValue(account='All', tag='RealCurrency', value='SGD', currency='SGD', modelCode=''),\n",
       " AccountValue(account='All', tag='IssuerOptionValue', value='0.00', currency='SGD', modelCode=''),\n",
       " AccountValue(account='All', tag='Currency', value='USD', currency='USD', modelCode=''),\n",
       " AccountValue(account='All', tag='CashBalance', value='524360.7388', currency='USD', modelCode=''),\n",
       " AccountValue(account='All', tag='TotalCashBalance', value='398212.9888', currency='USD', modelCode=''),\n",
       " AccountValue(account='All', tag='AccruedCash', value='68.18', currency='USD', modelCode=''),\n",
       " AccountValue(account='All', tag='StockMarketValue', value='-61944.00', currency='USD', modelCode=''),\n",
       " AccountValue(account='All', tag='OptionMarketValue', value='-6924.19', currency='USD', modelCode=''),\n",
       " AccountValue(account='All', tag='FutureOptionValue', value='0.00', currency='USD', modelCode=''),\n",
       " AccountValue(account='All', tag='FuturesPNL', value='0.00', currency='USD', modelCode=''),\n",
       " AccountValue(account='All', tag='NetLiquidationByCurrency', value='329412.9815', currency='USD', modelCode=''),\n",
       " AccountValue(account='All', tag='UnrealizedPnL', value='-1634.84', currency='USD', modelCode=''),\n",
       " AccountValue(account='All', tag='RealizedPnL', value='170.14', currency='USD', modelCode=''),\n",
       " AccountValue(account='All', tag='ExchangeRate', value='1.00', currency='USD', modelCode=''),\n",
       " AccountValue(account='All', tag='FundValue', value='0.00', currency='USD', modelCode=''),\n",
       " AccountValue(account='All', tag='NetDividend', value='0.00', currency='USD', modelCode=''),\n",
       " AccountValue(account='All', tag='MutualFundValue', value='0.00', currency='USD', modelCode=''),\n",
       " AccountValue(account='All', tag='MoneyMarketFundValue', value='0.00', currency='USD', modelCode=''),\n",
       " AccountValue(account='All', tag='CorporateBondValue', value='0.00', currency='USD', modelCode=''),\n",
       " AccountValue(account='All', tag='TBondValue', value='0.00', currency='USD', modelCode=''),\n",
       " AccountValue(account='All', tag='TBillValue', value='0.00', currency='USD', modelCode=''),\n",
       " AccountValue(account='All', tag='WarrantValue', value='0.00', currency='USD', modelCode=''),\n",
       " AccountValue(account='All', tag='FxCashBalance', value='0.00', currency='USD', modelCode=''),\n",
       " AccountValue(account='All', tag='AccountOrGroup', value='All', currency='USD', modelCode=''),\n",
       " AccountValue(account='All', tag='RealCurrency', value='USD', currency='USD', modelCode=''),\n",
       " AccountValue(account='All', tag='IssuerOptionValue', value='0.00', currency='USD', modelCode=''),\n",
       " AccountValue(account='All', tag='Currency', value='BASE', currency='BASE', modelCode=''),\n",
       " AccountValue(account='All', tag='CashBalance', value='759822.0217', currency='BASE', modelCode=''),\n",
       " AccountValue(account='All', tag='TotalCashBalance', value='633674.2717', currency='BASE', modelCode=''),\n",
       " AccountValue(account='All', tag='AccruedCash', value='218.8683812', currency='BASE', modelCode=''),\n",
       " AccountValue(account='All', tag='StockMarketValue', value='-61944.00', currency='BASE', modelCode=''),\n",
       " AccountValue(account='All', tag='OptionMarketValue', value='-6924.19', currency='BASE', modelCode=''),\n",
       " AccountValue(account='All', tag='FutureOptionValue', value='0.00', currency='BASE', modelCode=''),\n",
       " AccountValue(account='All', tag='FuturesPNL', value='0.00', currency='BASE', modelCode=''),\n",
       " AccountValue(account='All', tag='NetLiquidationByCurrency', value='565024.9528', currency='BASE', modelCode=''),\n",
       " AccountValue(account='All', tag='UnrealizedPnL', value='-1634.84', currency='BASE', modelCode=''),\n",
       " AccountValue(account='All', tag='RealizedPnL', value='170.14', currency='BASE', modelCode=''),\n",
       " AccountValue(account='All', tag='ExchangeRate', value='1.00', currency='BASE', modelCode=''),\n",
       " AccountValue(account='All', tag='FundValue', value='0.00', currency='BASE', modelCode=''),\n",
       " AccountValue(account='All', tag='NetDividend', value='0.00', currency='BASE', modelCode=''),\n",
       " AccountValue(account='All', tag='MutualFundValue', value='0.00', currency='BASE', modelCode=''),\n",
       " AccountValue(account='All', tag='MoneyMarketFundValue', value='0.00', currency='BASE', modelCode=''),\n",
       " AccountValue(account='All', tag='CorporateBondValue', value='0.00', currency='BASE', modelCode=''),\n",
       " AccountValue(account='All', tag='TBondValue', value='0.00', currency='BASE', modelCode=''),\n",
       " AccountValue(account='All', tag='TBillValue', value='0.00', currency='BASE', modelCode=''),\n",
       " AccountValue(account='All', tag='WarrantValue', value='0.00', currency='BASE', modelCode=''),\n",
       " AccountValue(account='All', tag='FxCashBalance', value='0.00', currency='BASE', modelCode=''),\n",
       " AccountValue(account='All', tag='AccountOrGroup', value='All', currency='BASE', modelCode=''),\n",
       " AccountValue(account='All', tag='RealCurrency', value='BASE', currency='BASE', modelCode=''),\n",
       " AccountValue(account='All', tag='IssuerOptionValue', value='0.00', currency='BASE', modelCode='')]"
      ]
     },
     "execution_count": 2,
     "metadata": {},
     "output_type": "execute_result"
    }
   ],
   "source": [
    "ib.accountSummary()"
   ]
  },
  {
   "cell_type": "code",
   "execution_count": null,
   "metadata": {},
   "outputs": [],
   "source": [
    "df_sized = pd.read_pickle(fspath+'sized_snp.pkl')\n",
    "assignment_limit = snp_assignment_limit"
   ]
  },
  {
   "cell_type": "code",
   "execution_count": null,
   "metadata": {},
   "outputs": [],
   "source": [
    "p = util.df(ib.portfolio()) # portfolio table\n",
    "\n",
    "# extract option contract info from portfolio table\n",
    "if p is not None:  # there are some contracts in the portfolio\n",
    "    dfp = pd.concat([p, util.df([c for c in p.contract])[util.df([c for c in p.contract]).columns[:7]]], axis=1).iloc[:, 1:]\n",
    "    dfp = dfp.rename(columns={'lastTradeDateOrContractMonth': 'expiration'})\n",
    "\n",
    "    # extract the options\n",
    "    dfpo = dfp[dfp.secType == 'OPT']\n",
    "\n",
    "    # get unique symbol, lot and underlying\n",
    "    df_lu = df_sized[['symbol', 'lot', 'undId', 'undPrice']].groupby('symbol').first()\n",
    "\n",
    "    # integrate the options with lot and underlying\n",
    "    dfp1 = dfpo.set_index('symbol').join(df_lu).reset_index()\n",
    "\n",
    "    # correct the positions for nse\n",
    "    if exchange == 'NSE':\n",
    "        dfp1 = dfp1.assign(position=dfp1.position/dfp1.lot)\n",
    "\n",
    "    # get the total position for options\n",
    "    dfp1 = dfp1[['symbol', 'position']].groupby('symbol').sum()\n",
    "\n",
    "    # ... integrate postion and lots and underlyings\n",
    "    # _______________________________________________\n",
    "    dfrq1 = df_lu.join(dfp1)\n",
    "else:\n",
    "    print('There is nothing in the portfolio')\n",
    "    dfrq1 = df_lu\n",
    "    dfrq1['position'] = 0"
   ]
  },
  {
   "cell_type": "code",
   "execution_count": null,
   "metadata": {},
   "outputs": [],
   "source": []
  },
  {
   "cell_type": "code",
   "execution_count": null,
   "metadata": {},
   "outputs": [],
   "source": [
    "# fill in the other columns\n",
    "dfrq1 = dfrq1.assign(assVal=dfrq1.position*dfrq1.lot*dfrq1.undPrice)\n",
    "dfrq1 = dfrq1.assign(assQty=-(assignment_limit/dfrq1.lot/dfrq1.undPrice).astype('int32'))\n",
    "dfrq1 = dfrq1.assign(mgnQty=-(assignment_limit/dfrq1.lot/dfrq1.undPrice/.225).astype('int32'))\n",
    "dfrq1 = dfrq1.assign(remq=(dfrq1.position-dfrq1.mgnQty))\n",
    "dfrq1 = dfrq1.assign(remq=dfrq1.remq.fillna(0))"
   ]
  },
  {
   "cell_type": "code",
   "execution_count": null,
   "metadata": {},
   "outputs": [],
   "source": [
    "dfrq1"
   ]
  },
  {
   "cell_type": "code",
   "execution_count": null,
   "metadata": {},
   "outputs": [],
   "source": []
  },
  {
   "cell_type": "code",
   "execution_count": null,
   "metadata": {},
   "outputs": [],
   "source": []
  },
  {
   "cell_type": "code",
   "execution_count": null,
   "metadata": {},
   "outputs": [],
   "source": [
    "def print_something():\n",
    "    print('This is just something')"
   ]
  },
  {
   "cell_type": "code",
   "execution_count": null,
   "metadata": {},
   "outputs": [],
   "source": [
    "ib.orderStatusEvent -= print_something"
   ]
  },
  {
   "cell_type": "code",
   "execution_count": null,
   "metadata": {},
   "outputs": [],
   "source": []
  },
  {
   "cell_type": "code",
   "execution_count": null,
   "metadata": {},
   "outputs": [],
   "source": [
    "ib.disconnectedEvent += print_something"
   ]
  },
  {
   "cell_type": "code",
   "execution_count": null,
   "metadata": {},
   "outputs": [],
   "source": [
    "ib.disconnect()"
   ]
  },
  {
   "cell_type": "code",
   "execution_count": null,
   "metadata": {},
   "outputs": [],
   "source": [
    "ib.disconnectedEvent -= print_something"
   ]
  },
  {
   "cell_type": "code",
   "execution_count": null,
   "metadata": {},
   "outputs": [],
   "source": [
    "# input files for the functions\n",
    "df_chains = pd.read_pickle(fspath+'chains.pkl')\n",
    "df_sized = pd.read_pickle(fspath+'sized_nse.pkl')\n",
    "assignment_limit = nse_assignment_limit"
   ]
  },
  {
   "cell_type": "code",
   "execution_count": null,
   "metadata": {},
   "outputs": [],
   "source": []
  },
  {
   "cell_type": "code",
   "execution_count": null,
   "metadata": {},
   "outputs": [],
   "source": []
  },
  {
   "cell_type": "code",
   "execution_count": null,
   "metadata": {},
   "outputs": [],
   "source": []
  },
  {
   "cell_type": "code",
   "execution_count": null,
   "metadata": {},
   "outputs": [],
   "source": []
  },
  {
   "cell_type": "code",
   "execution_count": null,
   "metadata": {},
   "outputs": [],
   "source": [
    "# Preparatory inputs for df_sized\n",
    "df_chains = pd.read_pickle(fspath+'chains.pkl')\n",
    "df_ohlcs = pd.read_pickle(fspath+'ohlcs.pkl')\n",
    "\n",
    "\n",
    "\n",
    "filt1 = \"sdmult\" # fr=fallrise*, sdmult=standard deviation, , hilo52 = hilo52\n",
    "filt2 = \"all\" # all=all options*, putsonly = puts only"
   ]
  },
  {
   "cell_type": "code",
   "execution_count": null,
   "metadata": {},
   "outputs": [],
   "source": [
    "%%time\n",
    "#... Remove chains not meeting put and call std filter\n",
    "\n",
    "# get dte and remove those greater than maxdte\n",
    "df_chains = df_chains.assign(dte=df_chains.expiry.apply(get_dte))                    \n",
    "df_chains = df_chains[df_chains.dte <= maxdte]\n",
    "\n",
    "# replace dte with 1 for dte <= 0\n",
    "df_chains.loc[df_chains.dte <=0,  'dte'] = 1\n",
    "\n",
    "# generate std dataframe\n",
    "df = df_ohlcs[['symbol', 'stDev']]  # lookup dataframe\n",
    "df = df.assign(dte=df.groupby('symbol').cumcount()) # get the cumulative count for location as dte\n",
    "df.set_index(['symbol', 'dte'])\n",
    "\n",
    "df1 = df_chains[['symbol', 'dte']]  # data to be looked at\n",
    "df2 = df1.drop_duplicates()  # remove duplicates\n",
    "\n",
    "df_std = df2.set_index(['symbol', 'dte']).join(df.set_index(['symbol', 'dte']))\n",
    "\n",
    "# join to get std in chains\n",
    "df_chainstd = df_chains.set_index(['symbol', 'dte']).join(df_std).reset_index()\n",
    "\n",
    "# first stocks\n",
    "und_contracts = [Stock(symbol, exchange=exchange) for symbol in df_chainstd.symbol.unique()]\n",
    "und_quals = ib.qualifyContracts(*und_contracts)\n",
    "\n",
    "# then indexes\n",
    "idxs = set(df_chainstd.symbol.unique())-{u.symbol for u in und_quals}\n",
    "und_idxs = [Index(symbol, exchange=exchange) for symbol in idxs]\n",
    "und_idx_quals = ib.qualifyContracts(*und_idxs)\n",
    "\n",
    "und_quals = und_idx_quals+und_quals\n",
    "\n",
    "tickers = ib.reqTickers(*und_quals)\n",
    "\n",
    "uprice_dict = {u.contract.conId: u.marketPrice() for u in tickers}\n",
    "\n",
    "df_chainstd = df_chainstd.assign(undPrice=df_chainstd.undId.astype('int').map(uprice_dict))\n",
    "\n",
    "# make puts and calls dataframe with std filter\n",
    "df_puts = df_chainstd[df_chainstd.strike < (df_chainstd.undPrice-(df_chainstd.stDev*putstdmult))]\n",
    "df_puts = df_puts.assign(right = 'P')\n",
    "\n",
    "df_calls = df_chainstd[df_chainstd.strike > (df_chainstd.undPrice+(df_chainstd.stDev*callstdmult))]\n",
    "df_calls = df_calls.assign(right = 'C')\n",
    "\n",
    "df_opt = pd.concat([df_puts, df_calls], sort=False).reset_index(drop=True)\n",
    "\n",
    "# get lo52 and hi52\n",
    "df_opt = df_opt.set_index('symbol').join(df_ohlcs.groupby('symbol')\n",
    "                                         .close.agg(['min', 'max'])\n",
    "                                         .rename(columns={'min': 'lo52', 'max': 'hi52'})).reset_index()\n",
    "\n",
    "# make (df and dte) tuple for fallrise\n",
    "tup4fr = [(df_ohlcs[df_ohlcs.symbol == s.symbol], s.dte) \n",
    "          for s in df_opt[['symbol', 'dte']].drop_duplicates().itertuples()]\n",
    "\n",
    "# get the fallrise and put it into a dataframe\n",
    "fr = [fallrise(*t) for t in tup4fr]\n",
    "df_fr = pd.DataFrame(fr, columns=['symbol', 'dte', 'fall', 'rise' ])\n",
    "\n",
    "# merge with df_opt\n",
    "df_opt = pd.merge(df_opt, df_fr, on=['symbol', 'dte'])\n",
    "\n",
    "# make reference strikes from filter\n",
    "if filt1 == 'sdmult':\n",
    "    df_opt = df_opt.assign(strikeRef = np.where(df_opt.right == 'P', \n",
    "                                            df_opt.undPrice-putstdmult*df_opt.stDev, \n",
    "                                            df_opt.undPrice+callstdmult*df_opt.stDev))\n",
    "elif filt1 == 'hilo52':\n",
    "    df_opt = df_opt.assign(strikeRef = np.where(df_opt.right == 'P', \n",
    "                                            df_opt.lo52 - df_opt.stDev, \n",
    "                                            df_opt.hi52 + df_opt.stDev))    \n",
    "else: # default (fallrise)\n",
    "    df_opt = df_opt.assign(strikeRef = np.where(df_opt.right == 'P', \n",
    "                                                df_opt.undPrice-df_opt.fall, \n",
    "                                                df_opt.undPrice+df_opt.rise))    "
   ]
  },
  {
   "cell_type": "code",
   "execution_count": null,
   "metadata": {},
   "outputs": [],
   "source": [
    "df_opt[(df_opt.symbol == 'APOLLOTYR') & (df_opt.dte == 20) & (df_opt.right == 'C')].head()"
   ]
  },
  {
   "cell_type": "code",
   "execution_count": null,
   "metadata": {},
   "outputs": [],
   "source": [
    "df_ohlcs[df_ohlcs.symbol=='NIFTY50'].close.rolling(20).mean().iloc[20]"
   ]
  },
  {
   "cell_type": "code",
   "execution_count": null,
   "metadata": {},
   "outputs": [],
   "source": [
    "df_acc=df_ohlcs[df_ohlcs.symbol=='ACC'].loc[:252/2]"
   ]
  },
  {
   "cell_type": "code",
   "execution_count": null,
   "metadata": {},
   "outputs": [],
   "source": [
    "df_acc.close.rolling(20).mean()"
   ]
  },
  {
   "cell_type": "code",
   "execution_count": null,
   "metadata": {},
   "outputs": [],
   "source": [
    "66.4+27.10"
   ]
  },
  {
   "cell_type": "code",
   "execution_count": null,
   "metadata": {},
   "outputs": [],
   "source": [
    "df_chains = pd.read_pickle(fspath+'chains_nse.pkl')\n",
    "\n",
    "#...undprice refresh\n",
    "syms = list(df_chains.symbol.unique())\n",
    "\n",
    "# get the contracts and undprice\n",
    "qual_stks = ib.qualifyContracts(*[Stock(s, exchange=exchange) for s in syms])\n",
    "idxs = {s for s in syms if s not in {q.symbol for q in qual_stks}}\n",
    "qual_idxs = ib.qualifyContracts(*[Index(s, exchange=exchange) for s in idxs])\n",
    "qual_unds = qual_stks+qual_idxs\n",
    "undtickers = ib.reqTickers(*qual_unds)\n",
    "uprice_dict = {u.contract.conId: u.marketPrice() for u in undtickers}"
   ]
  }
 ],
 "metadata": {
  "kernelspec": {
   "display_name": "Python 3",
   "language": "python",
   "name": "python3"
  },
  "language_info": {
   "codemirror_mode": {
    "name": "ipython",
    "version": 3
   },
   "file_extension": ".py",
   "mimetype": "text/x-python",
   "name": "python",
   "nbconvert_exporter": "python",
   "pygments_lexer": "ipython3",
   "version": "3.7.1"
  }
 },
 "nbformat": 4,
 "nbformat_minor": 2
}
