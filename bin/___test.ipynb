{
 "cells": [
  {
   "cell_type": "markdown",
   "metadata": {},
   "source": [
    "# To do functions:\n",
    "* Check margin limit breach: margin_breached() -> (breached, breached_value) \n",
    "* Make underlying contracts: make_und_contracts(chains_nse.pkl)\n",
    "* Get the latest prices: get_prices(contracts) -> {conId: price}\n",
    "* Get uncovered calls: cancel_nakeds()\n",
    "* Get current positions (df_position) {get_positions}\n",
    "* Filter functions {maskFR, mask52, maskPutsOnly, masksd_LoHi}\n",
    "* Check uncovered shorts and longs (df_uncovered) {shorts_longs}"
   ]
  },
  {
   "cell_type": "code",
   "execution_count": null,
   "metadata": {},
   "outputs": [],
   "source": [
    "# imports\n",
    "from z_helper import *\n",
    "util.startLoop()\n",
    "\n",
    "ib = get_connected('nse', 'live')\n",
    "\n",
    "# from json\n",
    "a = assign_var('nse') + assign_var('common')\n",
    "for v in a:\n",
    "    exec(v)\n",
    "    \n",
    "jup_disp_adjust() # adjust jupyter's display\n",
    "\n",
    "with open(logpath+'test.log', 'w'):\n",
    "    pass # clear the run log\n",
    "\n",
    "util.logToFile(logpath+'test.log')"
   ]
  },
  {
   "cell_type": "code",
   "execution_count": null,
   "metadata": {},
   "outputs": [],
   "source": [
    "# input files for the functions\n",
    "df_chains = pd.read_pickle(fspath+'chains.pkl')\n",
    "df_sized = pd.read_pickle(fspath+'sized_nse.pkl')\n",
    "assignment_limit = nse_assignment_limit"
   ]
  },
  {
   "cell_type": "code",
   "execution_count": null,
   "metadata": {},
   "outputs": [],
   "source": []
  },
  {
   "cell_type": "code",
   "execution_count": null,
   "metadata": {},
   "outputs": [],
   "source": []
  },
  {
   "cell_type": "code",
   "execution_count": null,
   "metadata": {},
   "outputs": [],
   "source": []
  },
  {
   "cell_type": "code",
   "execution_count": null,
   "metadata": {},
   "outputs": [],
   "source": []
  },
  {
   "cell_type": "code",
   "execution_count": null,
   "metadata": {},
   "outputs": [],
   "source": [
    "# Preparatory inputs for df_sized\n",
    "df_chains = pd.read_pickle(fspath+'chains.pkl')\n",
    "df_ohlcs = pd.read_pickle(fspath+'ohlcs.pkl')\n",
    "\n",
    "filt1 = \"sdmult\" # fr=fallrise*, sdmult=standard deviation, , hilo52 = hilo52\n",
    "filt2 = \"all\" # all=all options*, putsonly = puts only"
   ]
  },
  {
   "cell_type": "code",
   "execution_count": null,
   "metadata": {},
   "outputs": [],
   "source": [
    "%%time\n",
    "#... Remove chains not meeting put and call std filter\n",
    "\n",
    "# get dte and remove those greater than maxdte\n",
    "df_chains = df_chains.assign(dte=df_chains.expiry.apply(get_dte))                    \n",
    "df_chains = df_chains[df_chains.dte <= maxdte]\n",
    "\n",
    "# replace dte with 1 for dte <= 0\n",
    "df_chains.loc[df_chains.dte <=0,  'dte'] = 1\n",
    "\n",
    "# generate std dataframe\n",
    "df = df_ohlcs[['symbol', 'stDev']]  # lookup dataframe\n",
    "df = df.assign(dte=df.groupby('symbol').cumcount()) # get the cumulative count for location as dte\n",
    "df.set_index(['symbol', 'dte'])\n",
    "\n",
    "df1 = df_chains[['symbol', 'dte']]  # data to be looked at\n",
    "df2 = df1.drop_duplicates()  # remove duplicates\n",
    "\n",
    "df_std = df2.set_index(['symbol', 'dte']).join(df.set_index(['symbol', 'dte']))\n",
    "\n",
    "# join to get std in chains\n",
    "df_chainstd = df_chains.set_index(['symbol', 'dte']).join(df_std).reset_index()\n",
    "\n",
    "# first stocks\n",
    "und_contracts = [Stock(symbol, exchange=exchange) for symbol in df_chainstd.symbol.unique()]\n",
    "und_quals = ib.qualifyContracts(*und_contracts)\n",
    "\n",
    "# then indexes\n",
    "idxs = set(df_chainstd.symbol.unique())-{u.symbol for u in und_quals}\n",
    "und_idxs = [Index(symbol, exchange=exchange) for symbol in idxs]\n",
    "und_idx_quals = ib.qualifyContracts(*und_idxs)\n",
    "\n",
    "und_quals = und_idx_quals+und_quals\n",
    "\n",
    "tickers = ib.reqTickers(*und_quals)\n",
    "\n",
    "uprice_dict = {u.contract.conId: u.marketPrice() for u in tickers}\n",
    "\n",
    "df_chainstd = df_chainstd.assign(undPrice=df_chainstd.undId.astype('int').map(uprice_dict))\n",
    "\n",
    "# make puts and calls dataframe with std filter\n",
    "df_puts = df_chainstd[df_chainstd.strike < (df_chainstd.undPrice-(df_chainstd.stDev*putstdmult))]\n",
    "df_puts = df_puts.assign(right = 'P')\n",
    "\n",
    "df_calls = df_chainstd[df_chainstd.strike > (df_chainstd.undPrice+(df_chainstd.stDev*callstdmult))]\n",
    "df_calls = df_calls.assign(right = 'C')\n",
    "\n",
    "df_opt = pd.concat([df_puts, df_calls], sort=False).reset_index(drop=True)\n",
    "\n",
    "# get lo52 and hi52\n",
    "df_opt = df_opt.set_index('symbol').join(df_ohlcs.groupby('symbol')\n",
    "                                         .close.agg(['min', 'max'])\n",
    "                                         .rename(columns={'min': 'lo52', 'max': 'hi52'})).reset_index()\n",
    "\n",
    "# make (df and dte) tuple for fallrise\n",
    "tup4fr = [(df_ohlcs[df_ohlcs.symbol == s.symbol], s.dte) \n",
    "          for s in df_opt[['symbol', 'dte']].drop_duplicates().itertuples()]\n",
    "\n",
    "# get the fallrise and put it into a dataframe\n",
    "fr = [fallrise(*t) for t in tup4fr]\n",
    "df_fr = pd.DataFrame(fr, columns=['symbol', 'dte', 'fall', 'rise' ])\n",
    "\n",
    "# merge with df_opt\n",
    "df_opt = pd.merge(df_opt, df_fr, on=['symbol', 'dte'])\n",
    "\n",
    "# make reference strikes from filter\n",
    "if filt1 == 'sdmult':\n",
    "    df_opt = df_opt.assign(strikeRef = np.where(df_opt.right == 'P', \n",
    "                                            df_opt.undPrice-putstdmult*df_opt.stDev, \n",
    "                                            df_opt.undPrice+callstdmult*df_opt.stDev))\n",
    "elif filt1 == 'hilo52':\n",
    "    df_opt = df_opt.assign(strikeRef = np.where(df_opt.right == 'P', \n",
    "                                            df_opt.lo52 - df_opt.stDev, \n",
    "                                            df_opt.hi52 + df_opt.stDev))    \n",
    "else: # default (fallrise)\n",
    "    df_opt = df_opt.assign(strikeRef = np.where(df_opt.right == 'P', \n",
    "                                                df_opt.undPrice-df_opt.fall, \n",
    "                                                df_opt.undPrice+df_opt.rise))    "
   ]
  },
  {
   "cell_type": "code",
   "execution_count": null,
   "metadata": {},
   "outputs": [],
   "source": [
    "df_opt[(df_opt.symbol == 'APOLLOTYR') & (df_opt.dte == 20) & (df_opt.right == 'C')].head()"
   ]
  },
  {
   "cell_type": "code",
   "execution_count": null,
   "metadata": {},
   "outputs": [],
   "source": [
    "df_ohlcs[df_ohlcs.symbol=='NIFTY50'].close.rolling(20).mean().iloc[20]"
   ]
  },
  {
   "cell_type": "code",
   "execution_count": null,
   "metadata": {},
   "outputs": [],
   "source": [
    "df_acc=df_ohlcs[df_ohlcs.symbol=='ACC'].loc[:252/2]"
   ]
  },
  {
   "cell_type": "code",
   "execution_count": null,
   "metadata": {},
   "outputs": [],
   "source": [
    "df_acc.close.rolling(20).mean()"
   ]
  },
  {
   "cell_type": "code",
   "execution_count": null,
   "metadata": {},
   "outputs": [],
   "source": [
    "66.4+27.10"
   ]
  },
  {
   "cell_type": "code",
   "execution_count": null,
   "metadata": {},
   "outputs": [],
   "source": [
    "df_chains = pd.read_pickle(fspath+'chains_nse.pkl')\n",
    "\n",
    "#...undprice refresh\n",
    "syms = list(df_chains.symbol.unique())\n",
    "\n",
    "# get the contracts and undprice\n",
    "qual_stks = ib.qualifyContracts(*[Stock(s, exchange=exchange) for s in syms])\n",
    "idxs = {s for s in syms if s not in {q.symbol for q in qual_stks}}\n",
    "qual_idxs = ib.qualifyContracts(*[Index(s, exchange=exchange) for s in idxs])\n",
    "qual_unds = qual_stks+qual_idxs\n",
    "undtickers = ib.reqTickers(*qual_unds)\n",
    "uprice_dict = {u.contract.conId: u.marketPrice() for u in undtickers}"
   ]
  }
 ],
 "metadata": {
  "kernelspec": {
   "display_name": "Python 3",
   "language": "python",
   "name": "python3"
  },
  "language_info": {
   "codemirror_mode": {
    "name": "ipython",
    "version": 3
   },
   "file_extension": ".py",
   "mimetype": "text/x-python",
   "name": "python",
   "nbconvert_exporter": "python",
   "pygments_lexer": "ipython3",
   "version": "3.7.1"
  }
 },
 "nbformat": 4,
 "nbformat_minor": 2
}
