{
 "cells": [
  {
   "cell_type": "markdown",
   "metadata": {},
   "source": [
    "# Today's to-do functions:\n",
    "* Get ALL the strike's margins and price"
   ]
  },
  {
   "cell_type": "code",
   "execution_count": 1,
   "metadata": {},
   "outputs": [],
   "source": [
    "# imports\n",
    "from z_helper import *\n",
    "util.startLoop()\n",
    "\n",
    "ib = get_connected('snp', 'live')\n",
    "\n",
    "# from json\n",
    "a = assign_var('snp') + assign_var('common')\n",
    "for v in a:\n",
    "    exec(v)\n",
    "    \n",
    "jup_disp_adjust() # adjust jupyter's display\n",
    "\n",
    "with open(logpath+'test.log', 'w'):\n",
    "    pass # clear the run log\n",
    "\n",
    "util.logToFile(logpath+'test.log')"
   ]
  },
  {
   "cell_type": "code",
   "execution_count": 2,
   "metadata": {},
   "outputs": [
    {
     "name": "stdout",
     "output_type": "stream",
     "text": [
      "Wall time: 30.7 s\n"
     ]
    }
   ],
   "source": [
    "%%time\n",
    "\n",
    "# Get all the chains\n",
    "df_chains = pd.read_pickle(fspath+'chains.pkl')\n",
    "\n",
    "#... Get the underlying prices of the chains\n",
    "\n",
    "undList = df_chains[['symbol', 'undId']].drop_duplicates().reset_index(drop=True)\n",
    "\n",
    "und_cs = [Contract(conId=c) for c in list(undList.undId)]\n",
    "und_blks = [und_cs[i: i+blk] for i in range(0, len(und_cs), blk)]\n",
    "\n",
    "qc_blks = []  # qualified contract blocks\n",
    "for u in und_blks:\n",
    "    req = ib.qualifyContractsAsync(*u)\n",
    "    qc_blks.append(ib.run(asyncio.wait_for(req, 12)))\n",
    "\n",
    "t_blks = [] # tickers\n",
    "for q in qc_blks:\n",
    "    req = ib.reqTickersAsync(*q)\n",
    "    t_blks.append(ib.run(asyncio.wait_for(req, 15)))\n",
    "\n",
    "df_undPrice = pd.DataFrame.from_dict({t.contract.conId: t.marketPrice() \n",
    "                        for tblk in t_blks \n",
    "                        for t in tblk}, 'index', columns={'undPrice'})\n",
    "\n",
    "df1 = df_chains.assign(undId=df_chains.undId.astype('int32')) \\\n",
    "        .set_index('undId') \\\n",
    "        .join(df_undPrice) \\\n",
    "        .rename_axis('undId') \\\n",
    "        .reset_index()\n",
    "\n",
    "# get dte and remove those greater than maxdte\n",
    "df1 = df1.assign(dte=df1.expiry.apply(get_dte))\n",
    "\n",
    "# replace dte with 1 for dte <= 0\n",
    "df_chains.loc[df1.dte <=0,  'dte'] = 1\n",
    "df2 = df1[df1.dte <= maxdte]\n",
    "\n",
    "# assign right\n",
    "df3 = df2.assign(right=np.where(df2.strike >= df2.undPrice, 'C', 'P'))\n",
    "\n",
    "# get the standard deviations\n",
    "df_ohlcs = pd.read_pickle(fspath+'ohlcs.pkl')\n",
    "\n",
    "# generate std dataframe\n",
    "dfo = df_ohlcs[['symbol', 'stDev']]  # lookup dataframe\n",
    "dfo = dfo.assign(dte=dfo.groupby('symbol').cumcount()) # get the cumulative count for location as dte\n",
    "dfo.set_index(['symbol', 'dte'])\n",
    "\n",
    "dfd = df3[['symbol', 'dte']]  # data to be looked at\n",
    "dfd = dfd.drop_duplicates()  # remove duplicates\n",
    "\n",
    "df_std = dfd.set_index(['symbol', 'dte']).join(dfo.set_index(['symbol', 'dte']))\n",
    "\n",
    "# join to get std in chains\n",
    "df4 = df3.set_index(['symbol', 'dte']).join(df_std).reset_index()\n",
    "\n",
    "# remove the calls and puts near strike price\n",
    "c_mask = (df4.right == 'C') & (df4.strike > df4.undPrice + 2*df4.stDev)\n",
    "p_mask = (df4.right == 'P') & (df4.strike < df4.undPrice + 2*df4.stDev)\n",
    "df5 = df4[c_mask | p_mask].reset_index(drop=True)\n",
    "\n",
    "# options and orders\n",
    "opts = [Option(i.symbol, i.expiry, i.strike, i.right, 'SMART') for i in df5[['symbol', 'expiry', 'strike', 'right']].itertuples()]\n",
    "\n",
    "if market == 'snp':\n",
    "    ords = [Order(action='SELL', orderType='MKT', totalQuantity=1, whatIf=True) for r in df5.lot]\n",
    "else:\n",
    "    ords = [Order(action='SELL', orderType='MKT', totalQuantity=r, whatIf=True) for r in df5.lot]"
   ]
  },
  {
   "cell_type": "code",
   "execution_count": 3,
   "metadata": {},
   "outputs": [
    {
     "name": "stdout",
     "output_type": "stream",
     "text": [
      "Wall time: 20min 41s\n"
     ]
    }
   ],
   "source": [
    "%%time\n",
    "\n",
    "# ... get the price and margins\n",
    "opt_blks = [opts[i: i+blk] for i in range(0, len(opts), blk)]\n",
    "\n",
    "qo_blks = [] # qualified option contract blocks\n",
    "for o in opt_blks:\n",
    "    req = ib.qualifyContractsAsync(*o)\n",
    "    qo_blks.append(ib.run(asyncio.wait_for(req, 12)))"
   ]
  },
  {
   "cell_type": "code",
   "execution_count": null,
   "metadata": {},
   "outputs": [],
   "source": [
    "%%time\n",
    "to_blks = [] # tickers\n",
    "for q in qo_blks:\n",
    "    req = ib.reqTickersAsync(*q)\n",
    "    to_blks.append(ib.run(asyncio.wait_for(req, 15)))"
   ]
  },
  {
   "cell_type": "code",
   "execution_count": null,
   "metadata": {},
   "outputs": [],
   "source": []
  },
  {
   "cell_type": "code",
   "execution_count": null,
   "metadata": {},
   "outputs": [],
   "source": [
    "%%time\n",
    "und_blks = [und_cs[i: i+blk] for i in range(0, len(und_cs), blk)]\n",
    "\n",
    "qc_blks = []  # qualified contract blocks\n",
    "for u in und_blks:\n",
    "    req = ib.qualifyContractsAsync(*u)\n",
    "    qc_blks.append(ib.run(asyncio.wait_for(req, 12)))\n",
    "\n",
    "t_blks = [] # tickers\n",
    "for q in qc_blks:\n",
    "    req = ib.reqTickersAsync(*q)\n",
    "    t_blks.append(ib.run(asyncio.wait_for(req, 15)))\n",
    "\n",
    "m_blks = [] # margins\n",
    "for q in qc_blks:\n",
    "    for m in q:\n",
    "        req = ib.whatIfOrderAsync(m, Order(action='SELL', orderType='MKT', totalQuantity=1, whatIf=True))\n",
    "        m_blks.append(ib.run(asyncio.wait_for(req, 2)))"
   ]
  },
  {
   "cell_type": "code",
   "execution_count": null,
   "metadata": {},
   "outputs": [],
   "source": [
    "m_blks"
   ]
  },
  {
   "cell_type": "code",
   "execution_count": null,
   "metadata": {},
   "outputs": [],
   "source": []
  },
  {
   "cell_type": "code",
   "execution_count": null,
   "metadata": {},
   "outputs": [],
   "source": [
    "# get the chains\n",
    "# get the underlying prices\n",
    "# get the ohlcs and the stdev\n",
    "# "
   ]
  },
  {
   "cell_type": "code",
   "execution_count": null,
   "metadata": {},
   "outputs": [],
   "source": [
    "qc_blks[0][0]"
   ]
  },
  {
   "cell_type": "code",
   "execution_count": null,
   "metadata": {},
   "outputs": [],
   "source": [
    "# {con: symbol} dictionary\n",
    "con_sym_dict = undList.set_index('undId').to_dict()['symbol']"
   ]
  },
  {
   "cell_type": "code",
   "execution_count": null,
   "metadata": {},
   "outputs": [],
   "source": []
  },
  {
   "cell_type": "code",
   "execution_count": null,
   "metadata": {},
   "outputs": [],
   "source": []
  },
  {
   "cell_type": "code",
   "execution_count": null,
   "metadata": {},
   "outputs": [],
   "source": [
    "df_ohlcs = pd.read_pickle(fspath+'ohlcs.pkl')\n",
    "\n",
    "#.... Get option prices of sized_snp\n",
    "df_sized = pd.read_pickle(fspath+'sized_snp.pkl')\n",
    "opt_cs = [Contract(conId=c) for c in list(df_sized.optId)]"
   ]
  },
  {
   "cell_type": "code",
   "execution_count": null,
   "metadata": {},
   "outputs": [],
   "source": [
    "cs = opt_cs[:100]\n",
    "req = ib.qualifyContractsAsync(*cs)\n",
    "qual_cs = ib.run(asyncio.wait_for(req, 12))"
   ]
  },
  {
   "cell_type": "code",
   "execution_count": null,
   "metadata": {},
   "outputs": [],
   "source": [
    "qual_cs[:5]"
   ]
  },
  {
   "cell_type": "code",
   "execution_count": null,
   "metadata": {},
   "outputs": [],
   "source": [
    "cs = qual_cs"
   ]
  },
  {
   "cell_type": "code",
   "execution_count": null,
   "metadata": {},
   "outputs": [],
   "source": [
    "ticks = ib.reqTickers(*cs)"
   ]
  },
  {
   "cell_type": "code",
   "execution_count": null,
   "metadata": {},
   "outputs": [],
   "source": [
    "ticks"
   ]
  },
  {
   "cell_type": "code",
   "execution_count": null,
   "metadata": {},
   "outputs": [],
   "source": [
    "# async function to get ticker for blocks with timeout\n",
    "async def get_ticks_Async(ib, cs):\n",
    "    '''gets the ticker with a timeout in blocks of 50\n",
    "    Arg:\n",
    "        (ib) as connection object\n",
    "        (cs) as contracts in block of 50\n",
    "    Returns:\n",
    "        ticks\n",
    "    '''\n",
    "    try:\n",
    "        aw = await asyncio.wait_for(ib.reqTickersAsync(*cs, regulatorySnapshot=False), timeout=5)\n",
    "    except asyncio.TimeoutError: # fails the timeout\n",
    "        return np.nan\n",
    "    \n",
    "    # success!!\n",
    "    return aw"
   ]
  },
  {
   "cell_type": "code",
   "execution_count": null,
   "metadata": {},
   "outputs": [],
   "source": []
  },
  {
   "cell_type": "code",
   "execution_count": null,
   "metadata": {},
   "outputs": [],
   "source": [
    "\n",
    "\n",
    "async def und_coro(und_cs):\n",
    "    '''Async coroutine for underlying contract tickers'''\n",
    "    t = await get_ticks_Async(ib, und_cs)\n",
    "    return t\n",
    "#     with tqdm(total=len(und_cs), file=sys.stdout, unit = ' tickers' ) as tqm:\n",
    "#         for c in und_cs:\n",
    "#             tqm.set_description(f\"Ticker for {con_sym_dict[c.conId]}\")\n",
    "#             t.update()\n",
    "#             tqm.update(1)\n",
    "\n",
    "ticks=asyncio.run(und_coro(und_cs))"
   ]
  },
  {
   "cell_type": "code",
   "execution_count": null,
   "metadata": {},
   "outputs": [],
   "source": [
    "und_cs[0:50]"
   ]
  },
  {
   "cell_type": "code",
   "execution_count": null,
   "metadata": {},
   "outputs": [],
   "source": [
    "with tqdm(total=len(und_cs), file=sys.stdout, unit = ' tickers' ) as tqm:\n",
    "    for c in und_cs:\n",
    "        tqm.set_description(f\"Ticker for {con_sym_dict[c.conId]}\")\n",
    "        tqm.update(1)\n",
    "        ib.sleep(2)"
   ]
  },
  {
   "cell_type": "code",
   "execution_count": null,
   "metadata": {},
   "outputs": [],
   "source": []
  },
  {
   "cell_type": "code",
   "execution_count": null,
   "metadata": {},
   "outputs": [],
   "source": []
  },
  {
   "cell_type": "code",
   "execution_count": null,
   "metadata": {},
   "outputs": [],
   "source": [
    "ib.accountSummary()"
   ]
  },
  {
   "cell_type": "code",
   "execution_count": null,
   "metadata": {},
   "outputs": [],
   "source": [
    "df_sized = pd.read_pickle(fspath+'sized_snp.pkl')\n",
    "assignment_limit = snp_assignment_limit"
   ]
  },
  {
   "cell_type": "code",
   "execution_count": null,
   "metadata": {},
   "outputs": [],
   "source": [
    "p = util.df(ib.portfolio()) # portfolio table\n",
    "\n",
    "# extract option contract info from portfolio table\n",
    "if p is not None:  # there are some contracts in the portfolio\n",
    "    dfp = pd.concat([p, util.df([c for c in p.contract])[util.df([c for c in p.contract]).columns[:7]]], axis=1).iloc[:, 1:]\n",
    "    dfp = dfp.rename(columns={'lastTradeDateOrContractMonth': 'expiration'})\n",
    "\n",
    "    # extract the options\n",
    "    dfpo = dfp[dfp.secType == 'OPT']\n",
    "\n",
    "    # get unique symbol, lot and underlying\n",
    "    df_lu = df_sized[['symbol', 'lot', 'undId', 'undPrice']].groupby('symbol').first()\n",
    "\n",
    "    # integrate the options with lot and underlying\n",
    "    dfp1 = dfpo.set_index('symbol').join(df_lu).reset_index()\n",
    "\n",
    "    # correct the positions for nse\n",
    "    if exchange == 'NSE':\n",
    "        dfp1 = dfp1.assign(position=dfp1.position/dfp1.lot)\n",
    "\n",
    "    # get the total position for options\n",
    "    dfp1 = dfp1[['symbol', 'position']].groupby('symbol').sum()\n",
    "\n",
    "    # ... integrate postion and lots and underlyings\n",
    "    # _______________________________________________\n",
    "    dfrq1 = df_lu.join(dfp1)\n",
    "else:\n",
    "    print('There is nothing in the portfolio')\n",
    "    dfrq1 = df_lu\n",
    "    dfrq1['position'] = 0"
   ]
  },
  {
   "cell_type": "code",
   "execution_count": null,
   "metadata": {},
   "outputs": [],
   "source": []
  },
  {
   "cell_type": "code",
   "execution_count": null,
   "metadata": {},
   "outputs": [],
   "source": [
    "# fill in the other columns\n",
    "dfrq1 = dfrq1.assign(assVal=dfrq1.position*dfrq1.lot*dfrq1.undPrice)\n",
    "dfrq1 = dfrq1.assign(assQty=-(assignment_limit/dfrq1.lot/dfrq1.undPrice).astype('int32'))\n",
    "dfrq1 = dfrq1.assign(mgnQty=-(assignment_limit/dfrq1.lot/dfrq1.undPrice/.225).astype('int32'))\n",
    "dfrq1 = dfrq1.assign(remq=(dfrq1.position-dfrq1.mgnQty))\n",
    "dfrq1 = dfrq1.assign(remq=dfrq1.remq.fillna(0))"
   ]
  },
  {
   "cell_type": "code",
   "execution_count": null,
   "metadata": {},
   "outputs": [],
   "source": [
    "dfrq1"
   ]
  },
  {
   "cell_type": "code",
   "execution_count": null,
   "metadata": {},
   "outputs": [],
   "source": []
  },
  {
   "cell_type": "code",
   "execution_count": null,
   "metadata": {},
   "outputs": [],
   "source": []
  },
  {
   "cell_type": "code",
   "execution_count": null,
   "metadata": {},
   "outputs": [],
   "source": [
    "def print_something():\n",
    "    print('This is just something')"
   ]
  },
  {
   "cell_type": "code",
   "execution_count": null,
   "metadata": {},
   "outputs": [],
   "source": [
    "ib.orderStatusEvent -= print_something"
   ]
  },
  {
   "cell_type": "code",
   "execution_count": null,
   "metadata": {},
   "outputs": [],
   "source": []
  },
  {
   "cell_type": "code",
   "execution_count": null,
   "metadata": {},
   "outputs": [],
   "source": [
    "ib.disconnectedEvent += print_something"
   ]
  },
  {
   "cell_type": "code",
   "execution_count": null,
   "metadata": {},
   "outputs": [],
   "source": [
    "ib.disconnect()"
   ]
  },
  {
   "cell_type": "code",
   "execution_count": null,
   "metadata": {},
   "outputs": [],
   "source": [
    "ib.disconnectedEvent -= print_something"
   ]
  },
  {
   "cell_type": "code",
   "execution_count": null,
   "metadata": {},
   "outputs": [],
   "source": [
    "# input files for the functions\n",
    "df_chains = pd.read_pickle(fspath+'chains.pkl')\n",
    "df_sized = pd.read_pickle(fspath+'sized_nse.pkl')\n",
    "assignment_limit = nse_assignment_limit"
   ]
  },
  {
   "cell_type": "code",
   "execution_count": null,
   "metadata": {},
   "outputs": [],
   "source": []
  },
  {
   "cell_type": "code",
   "execution_count": null,
   "metadata": {},
   "outputs": [],
   "source": []
  },
  {
   "cell_type": "code",
   "execution_count": null,
   "metadata": {},
   "outputs": [],
   "source": []
  },
  {
   "cell_type": "code",
   "execution_count": null,
   "metadata": {},
   "outputs": [],
   "source": []
  },
  {
   "cell_type": "code",
   "execution_count": null,
   "metadata": {},
   "outputs": [],
   "source": [
    "# Preparatory inputs for df_sized\n",
    "df_chains = pd.read_pickle(fspath+'chains.pkl')\n",
    "df_ohlcs = pd.read_pickle(fspath+'ohlcs.pkl')\n",
    "\n",
    "\n",
    "\n",
    "filt1 = \"sdmult\" # fr=fallrise*, sdmult=standard deviation, , hilo52 = hilo52\n",
    "filt2 = \"all\" # all=all options*, putsonly = puts only"
   ]
  },
  {
   "cell_type": "code",
   "execution_count": null,
   "metadata": {},
   "outputs": [],
   "source": [
    "%%time\n",
    "#... Remove chains not meeting put and call std filter\n",
    "\n",
    "# get dte and remove those greater than maxdte\n",
    "df_chains = df_chains.assign(dte=df_chains.expiry.apply(get_dte))                    \n",
    "df_chains = df_chains[df_chains.dte <= maxdte]\n",
    "\n",
    "# replace dte with 1 for dte <= 0\n",
    "df_chains.loc[df_chains.dte <=0,  'dte'] = 1\n",
    "\n",
    "# generate std dataframe\n",
    "df = df_ohlcs[['symbol', 'stDev']]  # lookup dataframe\n",
    "df = df.assign(dte=df.groupby('symbol').cumcount()) # get the cumulative count for location as dte\n",
    "df.set_index(['symbol', 'dte'])\n",
    "\n",
    "df1 = df_chains[['symbol', 'dte']]  # data to be looked at\n",
    "df2 = df1.drop_duplicates()  # remove duplicates\n",
    "\n",
    "df_std = df2.set_index(['symbol', 'dte']).join(df.set_index(['symbol', 'dte']))\n",
    "\n",
    "# join to get std in chains\n",
    "df_chainstd = df_chains.set_index(['symbol', 'dte']).join(df_std).reset_index()\n",
    "\n",
    "# first stocks\n",
    "und_contracts = [Stock(symbol, exchange=exchange) for symbol in df_chainstd.symbol.unique()]\n",
    "und_quals = ib.qualifyContracts(*und_contracts)\n",
    "\n",
    "# then indexes\n",
    "idxs = set(df_chainstd.symbol.unique())-{u.symbol for u in und_quals}\n",
    "und_idxs = [Index(symbol, exchange=exchange) for symbol in idxs]\n",
    "und_idx_quals = ib.qualifyContracts(*und_idxs)\n",
    "\n",
    "und_quals = und_idx_quals+und_quals\n",
    "\n",
    "tickers = ib.reqTickers(*und_quals)\n",
    "\n",
    "uprice_dict = {u.contract.conId: u.marketPrice() for u in tickers}\n",
    "\n",
    "df_chainstd = df_chainstd.assign(undPrice=df_chainstd.undId.astype('int').map(uprice_dict))\n",
    "\n",
    "# make puts and calls dataframe with std filter\n",
    "df_puts = df_chainstd[df_chainstd.strike < (df_chainstd.undPrice-(df_chainstd.stDev*putstdmult))]\n",
    "df_puts = df_puts.assign(right = 'P')\n",
    "\n",
    "df_calls = df_chainstd[df_chainstd.strike > (df_chainstd.undPrice+(df_chainstd.stDev*callstdmult))]\n",
    "df_calls = df_calls.assign(right = 'C')\n",
    "\n",
    "df_opt = pd.concat([df_puts, df_calls], sort=False).reset_index(drop=True)\n",
    "\n",
    "# get lo52 and hi52\n",
    "df_opt = df_opt.set_index('symbol').join(df_ohlcs.groupby('symbol')\n",
    "                                         .close.agg(['min', 'max'])\n",
    "                                         .rename(columns={'min': 'lo52', 'max': 'hi52'})).reset_index()\n",
    "\n",
    "# make (df and dte) tuple for fallrise\n",
    "tup4fr = [(df_ohlcs[df_ohlcs.symbol == s.symbol], s.dte) \n",
    "          for s in df_opt[['symbol', 'dte']].drop_duplicates().itertuples()]\n",
    "\n",
    "# get the fallrise and put it into a dataframe\n",
    "fr = [fallrise(*t) for t in tup4fr]\n",
    "df_fr = pd.DataFrame(fr, columns=['symbol', 'dte', 'fall', 'rise' ])\n",
    "\n",
    "# merge with df_opt\n",
    "df_opt = pd.merge(df_opt, df_fr, on=['symbol', 'dte'])\n",
    "\n",
    "# make reference strikes from filter\n",
    "if filt1 == 'sdmult':\n",
    "    df_opt = df_opt.assign(strikeRef = np.where(df_opt.right == 'P', \n",
    "                                            df_opt.undPrice-putstdmult*df_opt.stDev, \n",
    "                                            df_opt.undPrice+callstdmult*df_opt.stDev))\n",
    "elif filt1 == 'hilo52':\n",
    "    df_opt = df_opt.assign(strikeRef = np.where(df_opt.right == 'P', \n",
    "                                            df_opt.lo52 - df_opt.stDev, \n",
    "                                            df_opt.hi52 + df_opt.stDev))    \n",
    "else: # default (fallrise)\n",
    "    df_opt = df_opt.assign(strikeRef = np.where(df_opt.right == 'P', \n",
    "                                                df_opt.undPrice-df_opt.fall, \n",
    "                                                df_opt.undPrice+df_opt.rise))    "
   ]
  },
  {
   "cell_type": "code",
   "execution_count": null,
   "metadata": {},
   "outputs": [],
   "source": [
    "df_opt[(df_opt.symbol == 'APOLLOTYR') & (df_opt.dte == 20) & (df_opt.right == 'C')].head()"
   ]
  },
  {
   "cell_type": "code",
   "execution_count": null,
   "metadata": {},
   "outputs": [],
   "source": [
    "df_ohlcs[df_ohlcs.symbol=='NIFTY50'].close.rolling(20).mean().iloc[20]"
   ]
  },
  {
   "cell_type": "code",
   "execution_count": null,
   "metadata": {},
   "outputs": [],
   "source": [
    "df_acc=df_ohlcs[df_ohlcs.symbol=='ACC'].loc[:252/2]"
   ]
  },
  {
   "cell_type": "code",
   "execution_count": null,
   "metadata": {},
   "outputs": [],
   "source": [
    "df_acc.close.rolling(20).mean()"
   ]
  },
  {
   "cell_type": "code",
   "execution_count": null,
   "metadata": {},
   "outputs": [],
   "source": [
    "66.4+27.10"
   ]
  },
  {
   "cell_type": "code",
   "execution_count": null,
   "metadata": {},
   "outputs": [],
   "source": [
    "df_chains = pd.read_pickle(fspath+'chains_nse.pkl')\n",
    "\n",
    "#...undprice refresh\n",
    "syms = list(df_chains.symbol.unique())\n",
    "\n",
    "# get the contracts and undprice\n",
    "qual_stks = ib.qualifyContracts(*[Stock(s, exchange=exchange) for s in syms])\n",
    "idxs = {s for s in syms if s not in {q.symbol for q in qual_stks}}\n",
    "qual_idxs = ib.qualifyContracts(*[Index(s, exchange=exchange) for s in idxs])\n",
    "qual_unds = qual_stks+qual_idxs\n",
    "undtickers = ib.reqTickers(*qual_unds)\n",
    "uprice_dict = {u.contract.conId: u.marketPrice() for u in undtickers}"
   ]
  }
 ],
 "metadata": {
  "kernelspec": {
   "display_name": "Python 3",
   "language": "python",
   "name": "python3"
  },
  "language_info": {
   "codemirror_mode": {
    "name": "ipython",
    "version": 3
   },
   "file_extension": ".py",
   "mimetype": "text/x-python",
   "name": "python",
   "nbconvert_exporter": "python",
   "pygments_lexer": "ipython3",
   "version": "3.7.1"
  }
 },
 "nbformat": 4,
 "nbformat_minor": 2
}
