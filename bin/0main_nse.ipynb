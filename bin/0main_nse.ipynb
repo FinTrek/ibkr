{
 "cells": [
  {
   "cell_type": "code",
   "execution_count": null,
   "metadata": {},
   "outputs": [],
   "source": [
    "# main_nse.py\n",
    "\"\"\"Main program for NSE\n",
    "Date: 23-July-2019\n",
    "Ver: 1.0\n",
    "\"\"\"\n",
    "\n",
    "##### Main Program for NSE\n",
    "from z_helper import *\n",
    "util.startLoop()\n",
    "\n",
    "from chains_nse import *\n",
    "from ohlcs import *\n",
    "from sized_nse import *\n",
    "from target_nse import *\n",
    "from workout_nse import *\n",
    "from x_4Capstocks import *\n",
    "\n",
    "# from json\n",
    "a = assign_var('nse') + assign_var('common')\n",
    "for v in a:\n",
    "    exec(v)\n",
    "\n",
    "def ask_user():\n",
    "    '''Asks the user for what needs to be done\n",
    "    Arg: None\n",
    "    Returns: 0 to 7 int'''\n",
    "    # Get user input\n",
    "    askmsg = \"\\nChoose from the following numbers:\\n\" + \\\n",
    "            \"0) Prepare for morning trades\\n\" + \\\n",
    "            \"1) Chain Generation\\n\" + \\\n",
    "            \"2) OHLCs Generation\\n\" + \\\n",
    "            \"3) Size the options\\n\" + \\\n",
    "            \"4) Target preparation\\n\"+ \\\n",
    "            \"5) Place morning trades\\n\" + \\\n",
    "            \"6) Workout closing trades (DYNAMIC)\\n\" + \\\n",
    "            \"7) Zip Capstocks BUYs\\n\\n\" + \\\n",
    "            \"...Or close window to abort\\n\\n\"\n",
    "\n",
    "    while True:\n",
    "        try:\n",
    "            ip = int(input(askmsg+'\\n'))\n",
    "        except ValueError:\n",
    "            print(\"\\nSorry, I didn't understand what you entered. Try again!\\n\")\n",
    "            continue # Loop again\n",
    "        if not ip in [0, 1, 2, 3, 4, 5, 6, 7]:\n",
    "            print(f\"\\n{ip} is a wrong number! Choose any number from 0 to 7 and press <Enter>\\n\")\n",
    "        else:\n",
    "            break # success and exit loop\n",
    "    \n",
    "    return ip\n",
    "\n",
    "# delete data and log files\n",
    "def delete_all_data():\n",
    "    '''Deletes all data and log files\n",
    "    Arg: None Return: None'''\n",
    "    folderpaths = [\"../data/nse/\", \"../data/log/\"]\n",
    "\n",
    "    for folder in folderpaths:\n",
    "        for files in listdir(folder):\n",
    "            file_path = path.join(folder, files)\n",
    "            try:\n",
    "                if path.isfile(file_path):\n",
    "                    unlink(file_path)\n",
    "            except Exception as e:\n",
    "                print(e)\n",
    "                \n",
    "    return None\n",
    "\n",
    "# generate ohlcs\n",
    "def make_ohlcs(ib, df_chains):\n",
    "    '''Makes OHLCs for the underlying symbols\n",
    "    Args:\n",
    "        (ib) as connection object\n",
    "        (df_chains) as DataFrame chain\n",
    "    Returns: df_ohlcs as DataFrame of ohlcs and pickles them'''\n",
    "    id_sym = df_chains.set_index('undId').symbol.to_dict()\n",
    "\n",
    "    df_ohlcs = ohlcs(ib, id_sym, fspath, logpath)\n",
    "\n",
    "    df_ohlcs.to_pickle(fspath+'ohlcs.pkl')\n",
    "    \n",
    "    return df_ohlcs\n",
    "\n",
    "# get CAPSTOCK trades\n",
    "def get_capstocks(cap_blacklist):\n",
    "    '''Prepares list of Capstock Trades\n",
    "    Arg: (cap_blacklist) as list of symbols with positions that need to be excluded\n",
    "    Returns: DataFrame of capstock trades. Also makes a spreadsheet and watchlist'''\n",
    "    \n",
    "    df_cap=capstocks(cap_blacklist)\n",
    "    \n",
    "    return df_cap\n",
    "\n",
    "# do all the functions\n",
    "def do_all(ib):\n",
    "    '''Does all the functions outlined\n",
    "    Args: None\n",
    "    Returns: None'''\n",
    "    \n",
    "    # delete all data and log files\n",
    "    delete_all_data()\n",
    "    print(\"Deleted all data and log files\\n\")\n",
    "    \n",
    "    # do all the functions\n",
    "    df_chains=get_chains(nseweb=False)\n",
    "    print(\"Got the chains\\n\")\n",
    "    \n",
    "    df_ohlcs=make_ohlcs(ib, df_chains)\n",
    "    print(\"Made the OHLCs\\n\")\n",
    "    \n",
    "    df_sized=sized_nse(ib, df_chains, df_ohlcs)\n",
    "    print(\"Sized the options\\n\")\n",
    "    \n",
    "    # Error in margins\n",
    "    if len(df_sized[df_sized.margin.isnull()]) == len(df_sized):\n",
    "        print(\"\\nERROR: Margins unavailable. Please run sizing again!\\n\")\n",
    "        return None\n",
    "    \n",
    "    df_targets = target_nse(ib, df_sized, blacklist, nse_assignment_limit)\n",
    "    print(\"Build the targets\\n\")\n",
    "    \n",
    "    df_sell = df_targets\n",
    "    df_buy = workout_nse(ib)\n",
    "\n",
    "    return df_buy, df_sell"
   ]
  },
  {
   "cell_type": "code",
   "execution_count": null,
   "metadata": {},
   "outputs": [],
   "source": [
    "# userip.py\n",
    "# the selecting user inputs\n",
    "if __name__=='__main__':\n",
    "    userip = ask_user()\n",
    "    \n",
    "    with get_connected('nse', 'live') as ib:\n",
    "        if userip == 0: # Run all\n",
    "            start = time.time()\n",
    "            print(\"\\nRunning ALL\\n\")\n",
    "            df_buy, df_sell = do_all(ib)\n",
    "            print(f\"\\nTook {codetime(time.time()-start)} to complete do_all\\n\")\n",
    "            \n",
    "        elif userip == 1: # Chain Generation\n",
    "            start = time.time()\n",
    "            print(\"\\nGetting Chains\\n\")\n",
    "            df_chains=get_chains(nseweb=False)\n",
    "            print(f\"\\nGot option chains in {codetime(time.time()-start)}\\n\")\n",
    "            \n",
    "        elif userip == 2: # OHLC Generation\n",
    "            start = time.time()\n",
    "            print(\"\\nGenerating OHLCs\\n\")\n",
    "            df_chains = pd.read_pickle(fspath+'chains.pkl')\n",
    "            df_ohlcs=make_ohlcs(ib, df_chains)\n",
    "            print(f\"\\nOHLCs generated in {codetime(time.time()-start)}\\n\")\n",
    "            \n",
    "        elif userip == 3: # Size the options\n",
    "            start = time.time()\n",
    "            print(\"Sizing the options\\n\")\n",
    "            df_chains = pd.read_pickle(fspath+'chains.pkl')\n",
    "            df_ohlcs = pd.read_pickle(fspath+'ohlcs.pkl')\n",
    "            df_sized=sized_nse(ib, df_chains, df_ohlcs)\n",
    "            print(f\"\\nOptions sized in {codetime(time.time()-start)}\\n\")\n",
    "            \n",
    "        elif userip == 4: # Target prepration\n",
    "            start = time.time()\n",
    "            print(\"Preparing targets\\n\")\n",
    "            df_chains = pd.read_pickle(fspath+'chains.pkl')\n",
    "            df_ohlcs = pd.read_pickle(fspath+'ohlcs.pkl')\n",
    "            df_sized = pd.read_pickle(fspath+'sized_nse.pkl')\n",
    "            df_targets = target_nse(ib, df_sized, blacklist, nse_assignment_limit)\n",
    "            print(f\"\\nMade SELL targets in {codetime(time.time()-start)}\\n\")\n",
    "            \n",
    "        elif userip == 5: # Place morning trades\n",
    "            start = time.time()\n",
    "            print(\"Trading in the morning\\n\")\n",
    "            df_chains = pd.read_pickle(fspath+'chains.pkl')\n",
    "            df_ohlcs = pd.read_pickle(fspath+'ohlcs.pkl')\n",
    "            df_sized = pd.read_pickle(fspath+'sized_nse.pkl')            \n",
    "            df_targets = pd.read_pickle(fspath+'targets.pkl')\n",
    "\n",
    "            # cancel all existing trades\n",
    "            ib.reqGlobalCancel() \n",
    "            \n",
    "            df_buy = workout_nse(ib)\n",
    "            buy_tb = buys(ib, df_buy, exchange)\n",
    "            \n",
    "            sell_tb = sells(ib, df_targets, exchange)\n",
    "\n",
    "            # place the morning trades            \n",
    "            morning_trades = place_morning_trades(ib, sell_tb=sell_tb, buy_tb=buy_tb)\n",
    "            print(f\"\\nCompleted morning trades in {codetime(time.time()-start)}\\n\")\n",
    "            \n",
    "        elif userip == 6: # Workout closing trades for new fills\n",
    "            start = time.time()\n",
    "            print(\"Closing new fills\\n\")\n",
    "            \n",
    "            df_buy = workout_nse(ib)\n",
    "            \n",
    "            if df_buy.empty:\n",
    "                print(\"\\nNothing to buy!\\n\")\n",
    "            else:\n",
    "                buy_tb = buys(ib, df_buy, exchange)\n",
    "                doTrades(ib, buy_tb)\n",
    "                print(f\"\\nFilled close BUY orders in {codetime(time.time()-start)}\\n\")\n",
    "            \n",
    "        elif userip == 7: # Capstocks BUY generation\n",
    "            print(\"Generating BUYs for Capstocks\\n\")\n",
    "#             cap_blacklist = 'ASHOKLEY,BHARATFORG,GRASIM,PETRONET,SUNTV,ICICIPRULI,ARVIND,BSOFT,ENGINERSIN,TATAELXSI,EICHERMOT,MOTHERSUMI,TVSMOTOR'.split(',')\n",
    "            get_capstocks(cap_blacklist=cap_blacklist)\n",
    "            print(\"Completed generating Capstocks BUY list\\n\")"
   ]
  },
  {
   "cell_type": "code",
   "execution_count": null,
   "metadata": {},
   "outputs": [],
   "source": [
    "df_targets = pd.read_pickle(fspath+'targets.pkl')\n",
    "df_targets"
   ]
  },
  {
   "cell_type": "code",
   "execution_count": null,
   "metadata": {},
   "outputs": [],
   "source": [
    "df_trades"
   ]
  },
  {
   "cell_type": "code",
   "execution_count": null,
   "metadata": {},
   "outputs": [],
   "source": [
    "with get_connected('nse', 'live') as ib:\n",
    "    df_targets = pd.read_pickle(fspath+'targets.pkl')\n",
    "    sell_tb = sells(ib, df_targets, exchange)\n",
    "    doTrades(ib, sell_tb)"
   ]
  },
  {
   "cell_type": "code",
   "execution_count": null,
   "metadata": {},
   "outputs": [],
   "source": [
    "# make target xlsx and watchlist\n",
    "def make_watchlist(market, df):\n",
    "    df.to_excel(fspath+'__targets.xlsx', index=False, freeze_panes=(1,1))\n",
    "    \n",
    "    watchlist = [('DES', symbol, 'STK', 'NSE') for symbol in df.symbol.unique()]\n",
    "    pd.DataFrame(watchlist).to_csv(fspath+'__watchlist.csv', header=None, index=False)\n",
    "    \n",
    "    return None"
   ]
  },
  {
   "cell_type": "code",
   "execution_count": null,
   "metadata": {},
   "outputs": [],
   "source": [
    "# check the workouts\n",
    "with get_connected('nse', 'live') as ib:\n",
    "    df_buy = workout_nse(ib)\n",
    "#     sell_tb = sells(ib, df_targets, exchange)\n",
    "#     sell_trades = doTrades(ib, sell_tb)"
   ]
  },
  {
   "cell_type": "code",
   "execution_count": null,
   "metadata": {},
   "outputs": [],
   "source": [
    "df_buy"
   ]
  },
  {
   "cell_type": "code",
   "execution_count": null,
   "metadata": {},
   "outputs": [],
   "source": [
    "# cancel all sells\n",
    "with get_connected('nse', 'live') as ib:\n",
    "    cancelledsells = cancel_sells(ib)"
   ]
  },
  {
   "cell_type": "code",
   "execution_count": null,
   "metadata": {},
   "outputs": [],
   "source": [
    "ib = get_connected('nse', 'live')"
   ]
  },
  {
   "cell_type": "code",
   "execution_count": null,
   "metadata": {},
   "outputs": [],
   "source": [
    "opentrades = ib.openTrades()"
   ]
  },
  {
   "cell_type": "code",
   "execution_count": null,
   "metadata": {},
   "outputs": [],
   "source": [
    "len(opentrades)"
   ]
  },
  {
   "cell_type": "code",
   "execution_count": null,
   "metadata": {},
   "outputs": [],
   "source": [
    "contracts = util.df(opentrades)[['contract']]"
   ]
  },
  {
   "cell_type": "code",
   "execution_count": null,
   "metadata": {},
   "outputs": [],
   "source": [
    "util.df([j for i, j in list(contracts.itertuples())])"
   ]
  },
  {
   "cell_type": "code",
   "execution_count": null,
   "metadata": {},
   "outputs": [],
   "source": [
    "ib.reqGlobalCancel()"
   ]
  },
  {
   "cell_type": "code",
   "execution_count": null,
   "metadata": {},
   "outputs": [],
   "source": [
    "ib.disconnect()"
   ]
  },
  {
   "cell_type": "code",
   "execution_count": null,
   "metadata": {},
   "outputs": [],
   "source": []
  }
 ],
 "metadata": {
  "kernelspec": {
   "display_name": "Python 3",
   "language": "python",
   "name": "python3"
  },
  "language_info": {
   "codemirror_mode": {
    "name": "ipython",
    "version": 3
   },
   "file_extension": ".py",
   "mimetype": "text/x-python",
   "name": "python",
   "nbconvert_exporter": "python",
   "pygments_lexer": "ipython3",
   "version": "3.7.1"
  }
 },
 "nbformat": 4,
 "nbformat_minor": 2
}
