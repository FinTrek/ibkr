{
 "cells": [
  {
   "cell_type": "code",
   "execution_count": 2,
   "metadata": {},
   "outputs": [],
   "source": [
    "# main_nse.py\n",
    "\"\"\"Main program for NSE\n",
    "Date: 23-July-2019\n",
    "Ver: 1.0\n",
    "\"\"\"\n",
    "\n",
    "##### Main Program for NSE\n",
    "from z_helper import *\n",
    "util.startLoop()\n",
    "\n",
    "from chains_nse import *\n",
    "from ohlcs import *\n",
    "from sized_nse import *\n",
    "from target_nse import *\n",
    "from workout_nse import *\n",
    "from x_4Capstocks import *\n",
    "\n",
    "# from json\n",
    "a = assign_var('nse') + assign_var('common')\n",
    "for v in a:\n",
    "    exec(v)\n",
    "\n",
    "def ask_user():\n",
    "    '''Asks the user for what needs to be done\n",
    "    Arg: None\n",
    "    Returns: 0 to 7 int'''\n",
    "    # Get user input\n",
    "    askmsg = \"\\nChoose from the following numbers:\\n\" + \\\n",
    "            \"0) Run ALL (for morning trades)\\n\" + \\\n",
    "            \"1) Chain Generation\\n\" + \\\n",
    "            \"2) OHLCs Generation\\n\" + \\\n",
    "            \"3) Size the options\\n\" + \\\n",
    "            \"4) Target preparation\\n\"+ \\\n",
    "            \"5) Trade in the morning\\n\" + \\\n",
    "            \"6) Workout closing trades (DYNAMIC)\\n\" + \\\n",
    "            \"7) Zip Capstocks BUYs\\n\\n\" + \\\n",
    "            \"...Or close window to abort\\n\\n\"\n",
    "\n",
    "    while True:\n",
    "        try:\n",
    "            ip = int(input(askmsg+'\\n'))\n",
    "        except ValueError:\n",
    "            print(\"\\nSorry, I didn't understand what you entered. Try again!\\n\")\n",
    "            continue # Loop again\n",
    "        if not ip in [0, 1, 2, 3, 4, 5, 6, 7]:\n",
    "            print(f\"\\n{ip} is a wrong number! Choose any number from 0 to 7 and press <Enter>\\n\")\n",
    "        else:\n",
    "            break # success and exit loop\n",
    "    \n",
    "    return ip\n",
    "\n",
    "# delete data and log files\n",
    "def delete_all_data():\n",
    "    '''Deletes all data and log files\n",
    "    Arg: None Return: None'''\n",
    "    folderpaths = [\"../data/nse/\", \"../data/log/\"]\n",
    "\n",
    "    for folder in folderpaths:\n",
    "        for files in listdir(folder):\n",
    "            file_path = path.join(folder, files)\n",
    "            try:\n",
    "                if path.isfile(file_path):\n",
    "                    unlink(file_path)\n",
    "            except Exception as e:\n",
    "                print(e)\n",
    "                \n",
    "    return None\n",
    "\n",
    "# generate ohlcs\n",
    "def make_ohlcs(ib, df_chains):\n",
    "    '''Makes OHLCs for the underlying symbols\n",
    "    Args:\n",
    "        (ib) as connection object\n",
    "        (df_chains) as DataFrame chain\n",
    "    Returns: df_ohlcs as DataFrame of ohlcs and pickles them'''\n",
    "    id_sym = df_chains.set_index('undId').symbol.to_dict()\n",
    "\n",
    "    df_ohlcs = ohlcs(ib, id_sym, fspath, logpath)\n",
    "\n",
    "    df_ohlcs.to_pickle(fspath+'ohlcs.pkl')\n",
    "    \n",
    "    return df_ohlcs\n",
    "\n",
    "# prepares the SELL opening trade blocks\n",
    "def sells(ib, df_targets):\n",
    "    '''Prepares SELL trade blocks for targets\n",
    "    Should NOT BE used dynamically\n",
    "    Args: (ib) as connection object\n",
    "    Returns: (sell_tb) as SELL trade blocks'''\n",
    "    # make the SELL trade blocks\n",
    "    sell_tb = trade_blocks(ib=ib, df=df_targets, action='SELL', exchange=exchange)\n",
    "    \n",
    "    return sell_tb\n",
    "\n",
    "# prepare the BUY closing order trade blocks\n",
    "def buys(ib):\n",
    "    '''Prepares BUY trade blocks for those without close trades.\n",
    "    Can be used dynamically.\n",
    "    Args:  (ib) as connection object\n",
    "    Dependancy: sized_nse.pkl for other parameters\n",
    "    Returns: (buy_tb) as BUY trade blocks'''\n",
    "\n",
    "    df_buy = workout_nse(ib)\n",
    "    buy_tb = trade_blocks(ib=ib, df=df_buy, action='BUY', exchange=exchange)\n",
    "    \n",
    "    return buy_tb\n",
    "\n",
    "# place trades\n",
    "def place_morning_trades(ib, buy_tb, sell_tb):\n",
    "    '''Places morning trades\n",
    "    (ib) as connection object\n",
    "    '''\n",
    "    \n",
    "    # clears all existing trades\n",
    "    if ib.trades():\n",
    "        # confirm if all existing trades are to be cancelled\n",
    "        askglobcancel = '\\nTrades present. Cancel? Y/N: '\n",
    "        while True:\n",
    "            try:\n",
    "                yn = input(askglobcancel)\n",
    "            except ValueError:\n",
    "                print(\"\\nSorry, I didn't understand what you entered. Try again or close window!\\n\")\n",
    "                continue # Loop again\n",
    "            if yn.upper() == 'Y':\n",
    "                ib.reqGlobalCancel()  # cancel all open trades\n",
    "                print(\"\\nCancelling all open trades...\\n\")\n",
    "                ib.sleep(1)\n",
    "                break # success and exit loop\n",
    "            elif yn.upper() == 'N':\n",
    "                break # success and exit loop\n",
    "            else:\n",
    "                print(\"\\nSorry, I didn't understand what you entered. Try again or close window!\\n\")\n",
    "                continue # Loop again\n",
    "            \n",
    "    buy_trades = doTrades(ib, buy_tb)\n",
    "    sell_trades = doTrades(ib, sell_tb)\n",
    "    \n",
    "    print(\"\\nMorning trades completed!\\n\")\n",
    "    \n",
    "    return (buy_trades, sell_trades)\n",
    "\n",
    "# get CAPSTOCK trades\n",
    "def get_capstocks(cap_blacklist):\n",
    "    '''Prepares list of Capstock Trades\n",
    "    Arg: (cap_blacklist) as list of symbols with positions that need to be excluded\n",
    "    Returns: DataFrame of capstock trades. Also makes a spreadsheet and watchlist'''\n",
    "    \n",
    "    df_cap=capstocks(cap_blacklist)\n",
    "    \n",
    "    return df_cap\n",
    "\n",
    "# do all the functions\n",
    "def do_all(ib):\n",
    "    '''Does all the functions outlined\n",
    "    Args: None\n",
    "    Returns: None'''\n",
    "    \n",
    "    # delete all data and log files\n",
    "    delete_all_data()\n",
    "    print(\"Deleted all data and log files\\n\")\n",
    "    \n",
    "    # do all the functions\n",
    "    df_chains=get_chains(nseweb=False)\n",
    "    print(\"Got the chains\\n\")\n",
    "    \n",
    "    df_ohlcs=make_ohlcs(ib, df_chains)\n",
    "    print(\"Made the OHLCs\\n\")\n",
    "    \n",
    "    df_sized=sized_nse(ib, df_chains, df_ohlcs)\n",
    "    print(\"Sized the options\\n\")\n",
    "    \n",
    "    # Error in margins\n",
    "    if len(df_sized[df_sized.margin.isnull()]) == len(df_sized):\n",
    "        print(\"\\nERROR: Margins unavailable. Please run sizing again!\\n\")\n",
    "        return None\n",
    "    \n",
    "    df_targets = target_nse(ib, df_sized, blacklist)\n",
    "    print(\"Build the targets\\n\")\n",
    "    \n",
    "    sell_tb = sells(ib, df_targets)\n",
    "    buy_tb = buys(ib)\n",
    "    place_morning_trades(ib, sell_tb=sell_tb, buy_tb=buy_tb)\n",
    "    print(\"Placed the morning trades\\n\")\n",
    "    \n",
    "    cap_blacklist = 'ASHOKLEY,BHARATFORG,GRASIM,PETRONET,SUNTV,ICICIPRULI,ARVIND,BSOFT,ENGINERSIN,TATAELXSI,EICHERMOT,MOTHERSUMI,TVSMOTOR'.split(',')\n",
    "    get_capstocks(cap_blacklist=cap_blacklist)\n",
    "    print(\"Generated BUY list for Capstocks\\n\\n\")\n",
    "\n",
    "    return None"
   ]
  },
  {
   "cell_type": "code",
   "execution_count": 3,
   "metadata": {},
   "outputs": [
    {
     "name": "stdout",
     "output_type": "stream",
     "text": [
      "\n",
      "Choose from the following numbers:\n",
      "0) Run ALL (for morning trades)\n",
      "1) Chain Generation\n",
      "2) OHLCs Generation\n",
      "3) Size the options\n",
      "4) Target preparation\n",
      "5) Trade in the morning\n",
      "6) Workout closing trades (DYNAMIC)\n",
      "7) Zip Capstocks BUYs\n",
      "\n",
      "...Or close window to abort\n",
      "\n",
      "\n",
      "7\n",
      "Generating BUYs for Capstocks\n",
      "\n",
      "Completed generating Capstocks BUY list\n",
      "\n"
     ]
    }
   ],
   "source": [
    "# userip.py\n",
    "# the selecting user inputs\n",
    "if __name__=='__main__':\n",
    "    userip = ask_user()\n",
    "    \n",
    "    with get_connected('nse', 'live') as ib:\n",
    "        if userip == 0: # Run all\n",
    "            start = time.time()\n",
    "            print(\"\\nRunning ALL\\n\")\n",
    "            do_all(ib)\n",
    "            print(f\"\\nTook {codetime(time.time()-start)} to complete do_all\\n\")\n",
    "            \n",
    "        elif userip == 1: # Chain Generation\n",
    "            start = time.time()\n",
    "            print(\"\\nGetting Chains\\n\")\n",
    "            df_chains=get_chains(nseweb=False)\n",
    "            print(f\"\\nGot option chains in {codetime(time.time()-start)}\\n\")\n",
    "            \n",
    "        elif userip == 2: # OHLC Generation\n",
    "            start = time.time()\n",
    "            print(\"\\nGenerating OHLCs\\n\")\n",
    "            df_chains = pd.read_pickle(fspath+'chains_nse.pkl')\n",
    "            df_ohlcs=make_ohlcs(ib, df_chains)\n",
    "            print(f\"\\nOHLCs generated in {codetime(time.time()-start)}\\n\")\n",
    "            \n",
    "        elif userip == 3: # Size the options\n",
    "            start = time.time()\n",
    "            print(\"Sizing the options\\n\")\n",
    "            df_chains = pd.read_pickle(fspath+'chains_nse.pkl')\n",
    "            df_ohlcs = pd.read_pickle(fspath+'ohlcs.pkl')\n",
    "            df_sized=sized_nse(ib, df_chains, df_ohlcs)\n",
    "            print(f\"\\nOptions sized in {codetime(time.time()-start)}\\n\")\n",
    "            \n",
    "        elif userip == 4: # Target prepration\n",
    "            start = time.time()\n",
    "            print(\"Preparing targets\\n\")\n",
    "            df_chains = pd.read_pickle(fspath+'chains_nse.pkl')\n",
    "            df_ohlcs = pd.read_pickle(fspath+'ohlcs.pkl')\n",
    "            df_sized = pd.read_pickle(fspath+'sized_nse.pkl')\n",
    "            df_targets = target_nse(ib, df_sized, blacklist)\n",
    "            print(f\"\\nMade SELL targets in {codetime(time.time()-start)}\\n\")\n",
    "            \n",
    "        elif userip == 5: # Trade in the morning\n",
    "            start = time.time()\n",
    "            print(\"Trading in the morning\\n\")\n",
    "            df_chains = pd.read_pickle(fspath+'chains_nse.pkl')\n",
    "            df_ohlcs = pd.read_pickle(fspath+'ohlcs.pkl')\n",
    "            df_sized = pd.read_pickle(fspath+'sized_nse.pkl')            \n",
    "            df_targets = pd.read_pickle(fspath+'targets.pkl')\n",
    "            sell_tb = sells(ib, df_targets)\n",
    "            buy_tb = buys(ib)\n",
    "            morning_trades = place_morning_trades(ib, sell_tb=sell_tb, buy_tb=buy_tb)\n",
    "            print(f\"\\nCompleted morning trades in {codetime(time.time()-start)}\\n\")\n",
    "            \n",
    "        elif userip == 6: # Workout closing trades for new fills\n",
    "            start = time.time()\n",
    "            print(\"Closing new fills\\n\")\n",
    "            buy_tb = buys(ib)\n",
    "            doTrades(ib, buy_tb)\n",
    "            print(f\"\\nFilled close BUY orders in {codetime(time.time()-start)}\\n\")\n",
    "            \n",
    "        elif userip == 7: # Capstocks BUY generation\n",
    "            print(\"Generating BUYs for Capstocks\\n\")\n",
    "#             cap_blacklist = 'ASHOKLEY,BHARATFORG,GRASIM,PETRONET,SUNTV,ICICIPRULI,ARVIND,BSOFT,ENGINERSIN,TATAELXSI,EICHERMOT,MOTHERSUMI,TVSMOTOR'.split(',')\n",
    "            get_capstocks(cap_blacklist=cap_blacklist)\n",
    "            print(\"Completed generating Capstocks BUY list\\n\")"
   ]
  },
  {
   "cell_type": "code",
   "execution_count": null,
   "metadata": {},
   "outputs": [],
   "source": []
  },
  {
   "cell_type": "code",
   "execution_count": 58,
   "metadata": {},
   "outputs": [],
   "source": [
    "df_targets = pd.read_pickle(fspath+'targets.pkl')\n",
    "df_targets = df_targets[df_targets.dte >1]"
   ]
  },
  {
   "cell_type": "code",
   "execution_count": 60,
   "metadata": {},
   "outputs": [],
   "source": [
    "df_targets.to_pickle(fspath+'targets.pkl')"
   ]
  },
  {
   "cell_type": "code",
   "execution_count": 63,
   "metadata": {},
   "outputs": [
    {
     "name": "stderr",
     "output_type": "stream",
     "text": [
      "Started to throttle requests\n",
      "Stopped to throttle requests\n",
      "Started to throttle requests\n",
      "Stopped to throttle requests\n",
      "Started to throttle requests\n",
      "Stopped to throttle requests\n",
      "Started to throttle requests\n",
      "Error 0, reqId -1: Warning: Approaching max rate of 50 messages per second (44)\n",
      "Stopped to throttle requests\n"
     ]
    }
   ],
   "source": [
    "with get_connected('nse', 'live') as ib:\n",
    "    doTrades(ib, sell_tb)"
   ]
  },
  {
   "cell_type": "code",
   "execution_count": null,
   "metadata": {},
   "outputs": [],
   "source": []
  },
  {
   "cell_type": "code",
   "execution_count": 49,
   "metadata": {},
   "outputs": [],
   "source": [
    "# deleting specific orders\n",
    "with get_connected('nse', 'live') as ib:\n",
    "    trades = ib.trades()\n",
    "\n",
    "if trades:\n",
    "    trades_df = util.df(t.contract for t in trades).join(util.df(t.orderStatus for t in trades)).join(util.df(t.order for t in trades), lsuffix='_')\n",
    "    trades_df.rename({'lastTradeDateOrContractMonth': 'expiry'}, axis='columns', inplace=True)\n",
    "\n",
    "trades_cols = ['conId', 'symbol', 'localSymbol', 'secType', 'expiry', 'strike', 'right', \n",
    "               'orderId', 'permId', 'action', 'totalQuantity', 'lmtPrice', 'status']\n",
    "trades_df = trades_df[trades_cols]"
   ]
  },
  {
   "cell_type": "code",
   "execution_count": 54,
   "metadata": {},
   "outputs": [],
   "source": [
    "with get_connected('nse', 'live') as ib:\n",
    "    ib.reqGlobalCancel()"
   ]
  },
  {
   "cell_type": "code",
   "execution_count": 34,
   "metadata": {},
   "outputs": [],
   "source": [
    "# list of pre-summitted orders with expiry as 20190725\n",
    "del_ord_list = trades_df[(trades_df.status == 'PreSubmitted') & (trades_df.expiry == '20190725')].orderId.tolist()"
   ]
  },
  {
   "cell_type": "code",
   "execution_count": 37,
   "metadata": {},
   "outputs": [],
   "source": [
    "# orders to be deleted\n",
    "del_ords = [t.order for t in trades if t.order.orderId in del_ord_list]"
   ]
  },
  {
   "cell_type": "code",
   "execution_count": 39,
   "metadata": {},
   "outputs": [
    {
     "name": "stderr",
     "output_type": "stream",
     "text": [
      "Started to throttle requests\n"
     ]
    }
   ],
   "source": [
    "# cancel the orders\n",
    "with get_connected('nse', 'live') as ib:\n",
    "    deleted_ords = [ib.cancelOrder(order) for order in del_ords]"
   ]
  },
  {
   "cell_type": "code",
   "execution_count": 47,
   "metadata": {},
   "outputs": [],
   "source": [
    "with get_connected('nse', 'live') as ib:\n",
    "    openords = ib.openOrders()"
   ]
  },
  {
   "cell_type": "code",
   "execution_count": 48,
   "metadata": {},
   "outputs": [
    {
     "ename": "TypeError",
     "evalue": "unhashable type: 'Trade'",
     "output_type": "error",
     "traceback": [
      "\u001b[1;31m---------------------------------------------------------------------------\u001b[0m",
      "\u001b[1;31mTypeError\u001b[0m                                 Traceback (most recent call last)",
      "\u001b[1;32m<ipython-input-48-1d729df97f8a>\u001b[0m in \u001b[0;36m<module>\u001b[1;34m\u001b[0m\n\u001b[0;32m      1\u001b[0m \u001b[1;32mwith\u001b[0m \u001b[0mget_connected\u001b[0m\u001b[1;33m(\u001b[0m\u001b[1;34m'nse'\u001b[0m\u001b[1;33m,\u001b[0m \u001b[1;34m'live'\u001b[0m\u001b[1;33m)\u001b[0m \u001b[1;32mas\u001b[0m \u001b[0mib\u001b[0m\u001b[1;33m:\u001b[0m\u001b[1;33m\u001b[0m\u001b[1;33m\u001b[0m\u001b[0m\n\u001b[1;32m----> 2\u001b[1;33m     \u001b[0mcancelords\u001b[0m \u001b[1;33m=\u001b[0m \u001b[1;33m{\u001b[0m\u001b[0mib\u001b[0m\u001b[1;33m.\u001b[0m\u001b[0mcancelOrder\u001b[0m\u001b[1;33m(\u001b[0m\u001b[0morder\u001b[0m\u001b[1;33m)\u001b[0m \u001b[1;32mfor\u001b[0m \u001b[0morder\u001b[0m \u001b[1;32min\u001b[0m \u001b[0mopenords\u001b[0m\u001b[1;33m}\u001b[0m\u001b[1;33m\u001b[0m\u001b[1;33m\u001b[0m\u001b[0m\n\u001b[0m",
      "\u001b[1;32m<ipython-input-48-1d729df97f8a>\u001b[0m in \u001b[0;36m<setcomp>\u001b[1;34m(.0)\u001b[0m\n\u001b[0;32m      1\u001b[0m \u001b[1;32mwith\u001b[0m \u001b[0mget_connected\u001b[0m\u001b[1;33m(\u001b[0m\u001b[1;34m'nse'\u001b[0m\u001b[1;33m,\u001b[0m \u001b[1;34m'live'\u001b[0m\u001b[1;33m)\u001b[0m \u001b[1;32mas\u001b[0m \u001b[0mib\u001b[0m\u001b[1;33m:\u001b[0m\u001b[1;33m\u001b[0m\u001b[1;33m\u001b[0m\u001b[0m\n\u001b[1;32m----> 2\u001b[1;33m     \u001b[0mcancelords\u001b[0m \u001b[1;33m=\u001b[0m \u001b[1;33m{\u001b[0m\u001b[0mib\u001b[0m\u001b[1;33m.\u001b[0m\u001b[0mcancelOrder\u001b[0m\u001b[1;33m(\u001b[0m\u001b[0morder\u001b[0m\u001b[1;33m)\u001b[0m \u001b[1;32mfor\u001b[0m \u001b[0morder\u001b[0m \u001b[1;32min\u001b[0m \u001b[0mopenords\u001b[0m\u001b[1;33m}\u001b[0m\u001b[1;33m\u001b[0m\u001b[1;33m\u001b[0m\u001b[0m\n\u001b[0m",
      "\u001b[1;31mTypeError\u001b[0m: unhashable type: 'Trade'"
     ]
    }
   ],
   "source": [
    "with get_connected('nse', 'live') as ib:\n",
    "    cancelords = {ib.cancelOrder(order) for order in openords}"
   ]
  },
  {
   "cell_type": "code",
   "execution_count": null,
   "metadata": {},
   "outputs": [],
   "source": [
    "df = pd.DataFrame([t.orderStatus.status] for t in trades).set_axis(['status'], axis=1, inplace=True)"
   ]
  },
  {
   "cell_type": "code",
   "execution_count": null,
   "metadata": {},
   "outputs": [],
   "source": [
    "df"
   ]
  },
  {
   "cell_type": "code",
   "execution_count": null,
   "metadata": {},
   "outputs": [],
   "source": [
    "pd.DataFrame([t.orderStatus.status] for t in trades).columns"
   ]
  },
  {
   "cell_type": "code",
   "execution_count": null,
   "metadata": {},
   "outputs": [],
   "source": [
    "[i for i in list(trades_df) if i in 'orderId']"
   ]
  },
  {
   "cell_type": "code",
   "execution_count": null,
   "metadata": {},
   "outputs": [],
   "source": [
    "trades_cols = ['conId', 'symbol', 'localSymbol', 'secType', 'expiry', 'strike', 'right', \n",
    "               'orderId', 'permId', 'action', 'totalQuantity', 'lmtPrice', 'status']\n",
    "trades_df[trades_cols]"
   ]
  },
  {
   "cell_type": "code",
   "execution_count": null,
   "metadata": {},
   "outputs": [],
   "source": [
    "with get_connected('nse', 'live') as ib:\n",
    "    new_buys_df = workout_nse(ib)\n",
    "    pos = ib.positions()\n",
    "    trades = ib.trades()\n",
    "\n",
    "pos_cols = ['conId', 'symbol', 'localSymbol', 'secType', 'lastTradeDateOrContractMonth', 'strike', 'right']\n",
    "pos_df = util.df(p.contract for p in pos)[pos_cols]\n",
    "\n",
    "trades_df = util.df(t.contract for t in trades).join(util.df(t.order for t in trades)).join(util.df(t.orderStatus for t in trades), lsuffix='_')\n",
    "trades_df.rename({'lastTradeDateOrContractMonth': 'expiry'}, axis='columns', inplace=True)\n",
    "trades_cols = ['conId', 'symbol', 'localSymbol', 'secType', 'expiry', 'strike', 'right', \n",
    "               'orderId', 'permId', 'action', 'totalQuantity', 'lmtPrice', 'status']\n",
    "\n",
    "existing_buys = trades_df[(trades_df.action == 'BUY') & (trades_df.status == 'Submitted')][trades_cols]"
   ]
  },
  {
   "cell_type": "code",
   "execution_count": null,
   "metadata": {},
   "outputs": [],
   "source": []
  },
  {
   "cell_type": "code",
   "execution_count": null,
   "metadata": {},
   "outputs": [],
   "source": [
    "with get_connected('nse', 'live'):\n",
    "    pos = ib.positions()"
   ]
  },
  {
   "cell_type": "code",
   "execution_count": null,
   "metadata": {},
   "outputs": [],
   "source": [
    "with get_connected('nse', 'paper'):\n",
    "    pos_contracts = ib.qualifyContracts(*[Contract(conId=c) for c in [p.contract.conId for p in pos]])\n",
    "    pos_tickers = ib.reqTickers(*pos_contracts)\n",
    "    pos_prices = {t.contract.conId: t.marketPrice() for t in pos_tickers}\n",
    "\n",
    "#... position dataframe\n",
    "pos_cols = ['conId', 'symbol', 'localSymbol', 'secType', 'lastTradeDateOrContractMonth', 'strike', 'right']\n",
    "pos_df = util.df(p.contract for p in pos)[pos_cols]\n",
    "pos_df = pos_df.rename({'lastTradeDateOrContractMonth': 'expiry'}, axis='columns')\n",
    "pos_df = pos_df.assign(dte=pos_df.expiry.apply(get_dte))\n",
    "pos_df['position'] = [p.position for p in pos]\n",
    "pos_df['avgCost'] = [p.avgCost for p in pos]\n",
    "pos_df['close'] = pos_df.conId.map(pos_prices)\n",
    "\n",
    "underlyings = [Stock(symbol=s, exchange='NSE') for s in pos_df.symbol.unique()]\n",
    "\n",
    "with get_connected('nse', 'paper'):\n",
    "    qul = ib.qualifyContracts(*underlyings)\n",
    "    q_ticks = ib.reqTickers(*qul)"
   ]
  },
  {
   "cell_type": "code",
   "execution_count": null,
   "metadata": {},
   "outputs": [],
   "source": [
    "with get_connected('nse', 'paper') as ib:\n",
    "    print(\"Paper is connected\")\n",
    "    pos_contracts = ib.qualifyContracts(*[Contract(conId=c) for c in [p.contract.conId for p in pos]])\n",
    "    pos_tickers = ib.reqTickers(*pos_contracts)\n",
    "    pos_prices = {t.contract.conId: t.marketPrice() for t in pos_tickers}"
   ]
  },
  {
   "cell_type": "code",
   "execution_count": null,
   "metadata": {},
   "outputs": [],
   "source": [
    "pos_prices"
   ]
  },
  {
   "cell_type": "code",
   "execution_count": null,
   "metadata": {},
   "outputs": [],
   "source": [
    "undPrices = {t.contract.symbol: t.marketPrice() for t in q_ticks}\n",
    "\n",
    "trades = ib.trades()\n",
    "trades_df = util.df(t.contract for t in trades).join(util.df(t.order for t in trades)).join(util.df(t.orderStatus for t in trades), lsuffix='_')\n",
    "trades_df.rename({'lastTradeDateOrContractMonth': 'expiry'}, axis='columns', inplace=True)\n",
    "\n",
    "trades_df = trades_df.assign(undPrice=trades_df.symbol.map(undPrices))"
   ]
  },
  {
   "cell_type": "code",
   "execution_count": null,
   "metadata": {},
   "outputs": [],
   "source": [
    "trades_cols = ['conId', 'symbol', 'localSymbol', 'secType', 'undPrice', 'expiry', 'strike', 'right', \n",
    "               'orderId', 'permId', 'action', 'totalQuantity', 'lmtPrice', 'status']\n",
    "trades_df[trades_cols]"
   ]
  },
  {
   "cell_type": "code",
   "execution_count": null,
   "metadata": {},
   "outputs": [],
   "source": [
    "len(ib.fills())"
   ]
  },
  {
   "cell_type": "code",
   "execution_count": null,
   "metadata": {},
   "outputs": [],
   "source": [
    "yn"
   ]
  },
  {
   "cell_type": "raw",
   "metadata": {},
   "source": [
    "# place morning trades\n",
    "with get_connected('nse', 'live') as ib:\n",
    "    place_morning_trades(ib, buy_tb, sell_tb)"
   ]
  },
  {
   "cell_type": "code",
   "execution_count": null,
   "metadata": {},
   "outputs": [],
   "source": [
    "# get the capstocks BUYs\n",
    "cap_blacklist = 'ASHOKLEY,BHARATFORG,GRASIM,PETRONET,SUNTV,ICICIPRULI,ARVIND,BSOFT,ENGINERSIN,TATAELXSI,EICHERMOT,MOTHERSUMI,TVSMOTOR,BANKINDIA,CADILAHC,IBULHSGFIN,PAGEIND,SAIL,UNIONBANK'.split(',')\n",
    "get_capstocks(cap_blacklist=cap_blacklist)"
   ]
  },
  {
   "cell_type": "code",
   "execution_count": null,
   "metadata": {},
   "outputs": [],
   "source": [
    "import pandas as pd\n",
    "pd.read_pickle(r'../data/nse/sized.pkl')"
   ]
  },
  {
   "cell_type": "code",
   "execution_count": null,
   "metadata": {},
   "outputs": [],
   "source": []
  },
  {
   "cell_type": "code",
   "execution_count": null,
   "metadata": {},
   "outputs": [],
   "source": []
  }
 ],
 "metadata": {
  "kernelspec": {
   "display_name": "Python 3",
   "language": "python",
   "name": "python3"
  },
  "language_info": {
   "codemirror_mode": {
    "name": "ipython",
    "version": 3
   },
   "file_extension": ".py",
   "mimetype": "text/x-python",
   "name": "python",
   "nbconvert_exporter": "python",
   "pygments_lexer": "ipython3",
   "version": "3.7.1"
  }
 },
 "nbformat": 4,
 "nbformat_minor": 2
}
