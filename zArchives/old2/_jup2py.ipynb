{
 "cells": [
  {
   "cell_type": "code",
   "execution_count": 117,
   "metadata": {},
   "outputs": [],
   "source": [
    "# -*- coding: utf-8 -*-\n",
    "import json\n",
    "\n",
    "def j2p(f, c=[0]):\n",
    "    '''Converts jupyter to python\n",
    "    Args:\n",
    "        (f) = jupyter ipynb filename as string WITHOUT extension e.g. 'helper'\n",
    "        (c) = list of cells e.g. [0, 1]'''\n",
    "\n",
    "    with open(f+'.ipynb') as data_file:\n",
    "        code = json.load(data_file)\n",
    "    \n",
    "    code_cells = [cell['source'] for cell in code['cells'] if cell['cell_type'] == 'code']\n",
    "    cells = [code_cells[i] for i in c]\n",
    "    with open(f+'.py', 'w') as data:\n",
    "        # write line not having util.startLoop()\n",
    "        [data.write(\"%s\\n\" % (line)) for lines in cells for line in lines if not 'util.startLoop()' in line]"
   ]
  },
  {
   "cell_type": "code",
   "execution_count": 120,
   "metadata": {},
   "outputs": [],
   "source": [
    "j2p('helper', [1])"
   ]
  },
  {
   "cell_type": "code",
   "execution_count": null,
   "metadata": {},
   "outputs": [],
   "source": []
  }
 ],
 "metadata": {
  "kernelspec": {
   "display_name": "Python 3",
   "language": "python",
   "name": "python3"
  },
  "language_info": {
   "codemirror_mode": {
    "name": "ipython",
    "version": 3
   },
   "file_extension": ".py",
   "mimetype": "text/x-python",
   "name": "python",
   "nbconvert_exporter": "python",
   "pygments_lexer": "ipython3",
   "version": "3.7.1"
  }
 },
 "nbformat": 4,
 "nbformat_minor": 2
}
