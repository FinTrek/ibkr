{
 "cells": [
  {
   "cell_type": "code",
   "execution_count": null,
   "metadata": {},
   "outputs": [],
   "source": [
    "# SNP scanner and pickler\n",
    "\n",
    "# STATUS: Completed\n",
    "# Run-time: 1 hour and 31 mins before market opens\n",
    "\n",
    "#***          Start ib_insync (run once)       *****\n",
    "#___________________________________________________\n",
    "\n",
    "from ib_insync import *\n",
    "util.startLoop()\n",
    "ib = IB().connect('127.0.0.1', 1300, clientId=2)"
   ]
  },
  {
   "cell_type": "code",
   "execution_count": null,
   "metadata": {},
   "outputs": [],
   "source": [
    "import os\n",
    "from snplist import fspath, snp_list, get_opt\n",
    "from helper import catch\n",
    "import datetime\n",
    "import time\n",
    "import pandas as pd\n",
    "\n",
    "start = time.time()\n",
    "\n",
    "# declaration\n",
    "hrs = 3   # approximate time taken to get options for all scrips\n",
    "\n",
    "# qualified list of stocks and index, with their contracts and chains\n",
    "df_snplist = snp_list(ib)\n",
    "# df_snplist = pd.read_pickle(fspath+'snplist.pkl')\n",
    "\n",
    "# make the dfs from snplist\n",
    "dfs = [df_snplist[df_snplist.symbol == s].reset_index(drop=True) for s in list(df_snplist.symbol.unique())]\n",
    "\n",
    "# Take only pickle files. Remove directories and files starting with underscore (for underlyings)\n",
    "fs = [f for f in os.listdir(fspath) if (f[-7:] == 'opt.pkl')] # list of opt pickle files\n",
    "\n",
    "all_pickles = [fspath+f for f in os.listdir(fspath) if f.endswith('.pkl')]  # all pickled files\n",
    "av_pkl_symbols = [f[:-8] for f in fs] # available pickle symbols\n",
    "\n",
    "if fs: # if the file list is not empty\n",
    "    \n",
    "    # Get modified time, fail time and identify where the scrip has failed\n",
    "    fsmod = {f: os.path.getmtime(fspath + '/' + f) for f in fs}\n",
    "    failtime = max([v for k, v in fsmod.items()])\n",
    "    failscrip = [k[:-4] for k, v in fsmod.items() if v == failtime][0]\n",
    "    \n",
    "    # now - porgram runtime\n",
    "    floortime = (datetime.datetime.now() - datetime.timedelta(hours = hrs)).timestamp()\n",
    "    \n",
    "    if failtime < floortime:   # the pickles are old\n",
    "#         [os.unlink(fn) for fn in all_pickles] # delete all the pickles\n",
    "        [catch(lambda: get_opt(ib, df)) for df in dfs] # get options for all the symbols\n",
    "    else:\n",
    "        dfr = [df for df in dfs for sym in df.symbol.unique() if sym not in av_pkl_symbols] # pickle the remaining symbols\n",
    "\n",
    "        [catch(lambda: get_opt(ib, df)) for df in dfr] # get options for all the symbols\n",
    "\n",
    "else:  # there are no pickles\n",
    "    [catch(lambda: get_opt(ib, df)) for df in dfs] # get options for all the symbols\n",
    "\n",
    "end = time.time()\n",
    "\n",
    "time_taken = end-start\n",
    "\n",
    "m, s = divmod(time_taken, 60)\n",
    "h, m = divmod(m, 60)\n",
    "\n",
    "print(\"SNP build completed in {0:2.0f} hours : {1:2.0f} mins : {2:2.0f} seconds!\".format(h, m, s))\n",
    "ib.disconnect()"
   ]
  },
  {
   "cell_type": "code",
   "execution_count": null,
   "metadata": {},
   "outputs": [],
   "source": [
    "df_snplist.loc[df_snplist.symbol == 'BRKB', :]"
   ]
  },
  {
   "cell_type": "code",
   "execution_count": null,
   "metadata": {},
   "outputs": [],
   "source": [
    "pd.read_pickle(fspath+'FEZ_ohlc.pkl')"
   ]
  },
  {
   "cell_type": "code",
   "execution_count": null,
   "metadata": {},
   "outputs": [],
   "source": []
  }
 ],
 "metadata": {
  "kernelspec": {
   "display_name": "Python 3",
   "language": "python",
   "name": "python3"
  },
  "language_info": {
   "codemirror_mode": {
    "name": "ipython",
    "version": 3
   },
   "file_extension": ".py",
   "mimetype": "text/x-python",
   "name": "python",
   "nbconvert_exporter": "python",
   "pygments_lexer": "ipython3",
   "version": "3.7.1"
  }
 },
 "nbformat": 4,
 "nbformat_minor": 2
}
