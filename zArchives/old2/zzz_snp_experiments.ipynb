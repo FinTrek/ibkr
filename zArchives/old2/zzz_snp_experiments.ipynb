{
 "cells": [
  {
   "cell_type": "code",
   "execution_count": null,
   "metadata": {},
   "outputs": [],
   "source": [
    "def get_connected(market, trade_type):\n",
    "    ''' get connected to ibkr\n",
    "    Args: \n",
    "       (market) as string <'nse'> | <'snp'>\n",
    "       (trade_type) as string <'live'> | <'paper'>\n",
    "    Returns:\n",
    "        (ib) object if successful\n",
    "    '''\n",
    "    \n",
    "    ip = (market.upper(), trade_type.upper())\n",
    "    \n",
    "    #host dictionary\n",
    "    hostdict = {('NSE', 'LIVE'): 3000,\n",
    "                ('NSE', 'PAPER'): 3001,\n",
    "                ('SNP', 'LIVE'): 1300,\n",
    "                ('SNP', 'PAPER'): 1301,}\n",
    "    \n",
    "    host = hostdict[ip]\n",
    "    \n",
    "    cid = 1 # initialize clientId\n",
    "    max_cid = 5 # maximum clientId allowed. max possible is 32\n",
    "\n",
    "    for i in range(cid, max_cid):\n",
    "        try:\n",
    "            ib = IB().connect('127.0.0.1', host, clientId=i)\n",
    "            \n",
    "        except Exception as e:\n",
    "            print(e) # print the error\n",
    "            continue # go to next\n",
    "            \n",
    "        break # successful try\n",
    "        \n",
    "    return ib"
   ]
  },
  {
   "cell_type": "code",
   "execution_count": null,
   "metadata": {},
   "outputs": [],
   "source": [
    "from ib_insync import *\n",
    "util.startLoop()\n",
    "ib = get_connected('snp', 'live')"
   ]
  },
  {
   "cell_type": "code",
   "execution_count": null,
   "metadata": {},
   "outputs": [],
   "source": [
    "from itertools import repeat\n",
    "def get_margins(ib, contracts, *lotsize):\n",
    "    '''Margin dictionary. 1 min for 100 contracts.\n",
    "    Args:\n",
    "        (ib) as object\n",
    "        (contracts) as list of underlying contract\n",
    "        (*lotsize) as <int>|<list>\n",
    "    Returns:\n",
    "        {contract (obj): underlying_margin(float)} as dictionary'''\n",
    "    \n",
    "    if type(contracts) is pd.Series:\n",
    "        contracts = list(contracts)\n",
    "    else:\n",
    "        contracts = contracts\n",
    "\n",
    "    if type(lotsize[0]) is pd.Series:\n",
    "        positions = list(lotsize[0])\n",
    "    else:\n",
    "        positions = repeat(lotsize[0], len(contracts)) # convert *arg tuple to int\n",
    "    \n",
    "    orders = [Order(action='SELL', orderType='MKT', totalQuantity=abs(p), whatIf=True)\n",
    "              if p < 0 else\n",
    "              Order(action='BUY', orderType='MKT', totalQuantity=abs(p), whatIf=True)\n",
    "              for p in positions]\n",
    "\n",
    "    co = [c for c in zip(contracts, orders)]\n",
    "\n",
    "    dict_margins = {c: float(ib.whatIfOrder(c, o).initMarginChange) for c, o in co}\n",
    "    \n",
    "    return dict_margins"
   ]
  },
  {
   "cell_type": "code",
   "execution_count": null,
   "metadata": {},
   "outputs": [],
   "source": [
    "import pandas as pd\n",
    "def get_underlyings(ib):\n",
    "    '''Returns: list of underlying contracts\n",
    "    Usage: \n",
    "       with get_connected('snp', 'live') as ib: und_contracts = get_underlyings(ib)'''\n",
    "\n",
    "    # exclusion list\n",
    "    excl = ['VXX','P', 'TSRO']\n",
    "\n",
    "    # Download cboe weeklies to a dataframe\n",
    "    dls = \"http://www.cboe.com/publish/weelkysmf/weeklysmf.xls\"\n",
    "\n",
    "#     snp500 = list(pd.read_html('https://en.wikipedia.org/wiki/List_of_S%26P_500_companies')[0][1:].loc[:, 1])\n",
    "\n",
    "    snp100 = pd.read_html('https://en.wikipedia.org/wiki/S%26P_100')[2][1:].loc[:, 0]\n",
    "    snp100 = [s.replace('.', ' ') if '.' in s else s  for s in snp100] # without dot in symbol\n",
    "    # read from row no 11, dropna and reset index\n",
    "    df_cboe = pd.read_excel(dls, header=12, \n",
    "                            usecols=[0,2,3]).loc[11:, :]\\\n",
    "                            .dropna(axis=0)\\\n",
    "                            .reset_index(drop=True)\n",
    "\n",
    "    # remove column names white-spaces and remap to IBKR\n",
    "    df_cboe.columns = df_cboe.columns.str.replace(' ', '')\n",
    "\n",
    "    # remove '/' for IBKR\n",
    "    df_cboe.Ticker = df_cboe.Ticker.str.replace('/', ' ', regex=False)\n",
    "\n",
    "    # make symbols\n",
    "    symbols = {s for s in df_cboe.Ticker if s not in excl if s in snp100}\n",
    "    stocks = [Stock(symbol=s, exchange='SMART', currency='USD') for s in symbols]\n",
    "\n",
    "    blk = 50 # no of stocks in a block\n",
    "    stkblks = [stocks[i: i+blk] for i in range(0, len(stocks), blk)] # blocks of stocks\n",
    "\n",
    "    # qualify the contracts\n",
    "    contracts = [ib.qualifyContracts(*s) for s in stkblks]\n",
    "\n",
    "    # return flattened contract list\n",
    "    return [contract for subl in contracts for contract in subl] "
   ]
  },
  {
   "cell_type": "code",
   "execution_count": null,
   "metadata": {},
   "outputs": [],
   "source": [
    "# gets days to expiry from now onwards\n",
    "import datetime\n",
    "\n",
    "def get_dte(dt):\n",
    "    '''Gets days to expiry\n",
    "    Arg: (dt) as day in string format 'yyyymmdd'\n",
    "    Returns: days to expiry as int'''\n",
    "    return (util.parseIBDatetime(dt) - \n",
    "            datetime.datetime.now().date()).days"
   ]
  },
  {
   "cell_type": "code",
   "execution_count": null,
   "metadata": {},
   "outputs": [],
   "source": [
    "from math import sqrt\n",
    "def get_rollingmax_std(c, dte, durmult=3):\n",
    "    '''gets the rolling max standard deviation\n",
    "    Args:\n",
    "        (c) as contract object\n",
    "        (dte) as int for no of days for expiry\n",
    "        (durmult) no of samples to go backwards on\n",
    "    Returns:\n",
    "        maximum rolling standard deviation as int'''\n",
    "\n",
    "    durStr = str(durmult*dte) + ' D' # Duration String\n",
    "    tradingdays = 252\n",
    "    \n",
    "    # Extract the history\n",
    "    hist = ib.reqHistoricalData(contract=c, endDateTime='', \n",
    "                                    durationStr=durStr, barSizeSetting='1 day',  \n",
    "                                                whatToShow='Trades', useRTH=True)\n",
    "    df = util.df(hist)\n",
    "    df.insert(0, column='symbol', value=c.symbol)\n",
    "\n",
    "    df_ohlc = df.set_index('date').sort_index(ascending = False)\n",
    "\n",
    "    # get cumulative standard deviation\n",
    "    df_stdev = pd.DataFrame(df_ohlc['close'].expanding(1).std(ddof=0))\n",
    "    df_stdev.columns = ['stdev']\n",
    "\n",
    "    # get cumulative volatility\n",
    "    df_vol = pd.DataFrame(df_ohlc['close'].pct_change().expanding(1).std(ddof=0)*sqrt(tradingdays))\n",
    "    df_vol.columns = ['volatility']\n",
    "\n",
    "    df_ohlc1 = df_ohlc.join(df_vol)\n",
    "\n",
    "    df_ohlc2 = df_ohlc1.join(df_stdev)\n",
    "\n",
    "    return df_stdev.stdev.max()"
   ]
  },
  {
   "cell_type": "code",
   "execution_count": null,
   "metadata": {},
   "outputs": [],
   "source": [
    "def get_maxfallrise(c, dte):\n",
    "    '''get the maximum rise and fall for rolling window of dte\n",
    "    Args:\n",
    "       (c) as the underlying contract object\n",
    "       (dte) as int for days to expiry of a contract\n",
    "    Returns:\n",
    "       (max_fall, max_rise) tuple of floats'''\n",
    "    \n",
    "    \n",
    "    hist = ib.reqHistoricalData(contract=c, endDateTime='', \n",
    "                                        durationStr='365 D', barSizeSetting='1 day',  \n",
    "                                                    whatToShow='Trades', useRTH=True)\n",
    "\n",
    "    df = util.df(hist)\n",
    "    df.insert(0, column='symbol', value=c.symbol)\n",
    "\n",
    "    df_ohlc = df.set_index('date').sort_index(ascending=True)\n",
    "    df = df_ohlc.assign(delta=df_ohlc.high.rolling(dte).max()-df_ohlc.low.rolling(dte).min(), pctchange=df_ohlc.high.pct_change(periods=dte))\n",
    "\n",
    "    df1 = df.sort_index(ascending=False)\n",
    "    max_fall = df1[df1.pctchange<=0].delta.max()\n",
    "    max_rise = df1[df1.pctchange>0].delta.max()\n",
    "    \n",
    "    return(max_fall, max_rise)"
   ]
  },
  {
   "cell_type": "code",
   "execution_count": null,
   "metadata": {},
   "outputs": [],
   "source": [
    "# error catching for list comprehension\n",
    "def catch(func, handle=lambda e : e, *args, **kwargs):\n",
    "    '''List comprehension error catcher\n",
    "    Args: \n",
    "        (func) as the function\n",
    "         (handle) as the lambda of function\n",
    "         <*args | *kwargs> as arguments to the functions\n",
    "    Outputs:\n",
    "        output of the function | <np.nan> on error\n",
    "    Usage:\n",
    "        eggs = [1,3,0,3,2]\n",
    "        [catch(lambda: 1/egg) for egg in eggs]'''\n",
    "    try:\n",
    "        return func(*args, **kwargs)\n",
    "    except Exception as e:\n",
    "        return np.nan"
   ]
  },
  {
   "cell_type": "code",
   "execution_count": null,
   "metadata": {},
   "outputs": [],
   "source": [
    "%%time\n",
    "#____________________________________________________________________________________\n",
    "\n",
    "# This section needs to be a script.\n",
    "# It needs to be run once first to get df_p and remaining quantities\n",
    "\n",
    "import numpy as np\n",
    "\n",
    "if not ib.isConnected():\n",
    "    ib = get_connected('snp', 'live')\n",
    "\n",
    "m_maxp = 0.02     # % of max margin allowed on net liquidity per scrip to limit positon risk\n",
    "max_nlvp = 0.8    # max allowable nlv to prevent overall portfolio risk. 0.8 means 80% of NLV.\n",
    "                  # max available funds for option trades = max_nlvp * NLV - initMargin\n",
    "\n",
    "maxdte = 65       # maximum days-to-expiry for options\n",
    "minstdmult = 3    # minimum standard deviation multiple to screen strikes. 3 is 99.73% probability\n",
    "    \n",
    "fspath = '../data/snp/' # path for pickles\n",
    "       \n",
    "#...get current positions\n",
    "#________________________\n",
    "\n",
    "#... read the account info\n",
    "ac = ib.accountValues()\n",
    "df_a = util.df(ac)\n",
    "\n",
    "#... set max margin per position\n",
    "net_liq = float(df_a[df_a.tag == 'NetLiquidation'].iloc[0].value) \n",
    "# av_funds = float(df_a[df_a.tag == 'FullAvailableFunds'].iloc[0].value)\n",
    "max_p = net_liq*m_maxp\n",
    "\n",
    "#... read the positions\n",
    "ps = ib.portfolio()\n",
    "df_p = util.df(ps)\n",
    "\n",
    "expiry = [d.lastTradeDateOrContractMonth for d in df_p.contract]\n",
    "strike = [d.strike for d in df_p.contract]\n",
    "\n",
    "df_p['symbol'] = [s.symbol for s in df_p.contract.values]\n",
    "df_p['expiry'] = expiry\n",
    "df_p['strike'] = strike\n",
    "\n",
    "df_p = df_p.assign(type=[type(x).__name__ for x in df_p.contract])\n",
    "\n",
    "# get the contracts again (as some of them miss markets)\n",
    "port_c = [j for c in [ib.qualifyContracts(Contract(conId=c.conId)) for c in df_p.contract] for j in c]\n",
    "\n",
    "df_p = df_p.assign(contract=port_c)\n",
    "\n",
    "# get the margins\n",
    "dict_port_opt_margins = get_margins(ib, df_p.contract, df_p.position)\n",
    "df_p = df_p.assign(totmargin=df_p.contract.map(dict_port_opt_margins))\n",
    "\n",
    "df_p = df_p.assign(lotsize=[int(k.multiplier) for k in port_c])\n",
    "\n",
    "df_p_margin = pd.DataFrame(df_p.groupby('symbol').sum().totmargin).reset_index()\n",
    "\n",
    "#... get the underlying margins and the blacklist\n",
    "#____________________________________________________\n",
    "\n",
    "undContracts = get_underlyings(ib)\n",
    "lotsize=100\n",
    "undMargins = get_margins(ib, undContracts, 100)\n",
    "undMargins = {k.symbol: v for k, v in undMargins.items()} # margin with symbols instead of contracts\n",
    "undMargins = {k: abs(v) for k, v in undMargins.items()} # positive margins\n",
    "\n",
    "df_p_margin = df_p_margin.assign(margin = df_p_margin.symbol.map(undMargins))\n",
    "df_p_margin = df_p_margin.assign(maxmargin=max_p)\n",
    "df_p_margin = df_p_margin.assign(netqty=((df_p_margin.maxmargin-df_p_margin.totmargin)/df_p_margin.margin).apply(np.floor))\n",
    "df_p_margin = df_p_margin.assign(remqty=np.where(df_p_margin.netqty > 0, df_p_margin.netqty, 0).astype(int))\n",
    "\n",
    "blacklist = list(df_p_margin[df_p_margin.remqty <= 0 ].symbol)\n",
    "\n",
    "#...get the max remaining quantities for each symbol\n",
    "masterContracts = [c for c in undContracts if c.symbol not in blacklist]"
   ]
  },
  {
   "cell_type": "code",
   "execution_count": null,
   "metadata": {},
   "outputs": [],
   "source": [
    "#****!!! DATA LIMITER*****\n",
    "masterContracts = masterContracts[:3]\n",
    "\n",
    "masterMargin = {m.symbol: undMargins[m.symbol] for m in masterContracts}\n",
    "\n",
    "maxqty = {k: int(max_p/m) for k, m in masterMargin.items()}\n",
    "remq = list(df_p_margin[['symbol', 'remqty']].set_index('symbol').to_dict().values())[0]\n",
    "maxremqty = {k: remq.get(k, v) for k, v in maxqty.items()}"
   ]
  },
  {
   "cell_type": "code",
   "execution_count": null,
   "metadata": {},
   "outputs": [],
   "source": [
    "%%time\n",
    "#____________________________________________________________________________________\n",
    "\n",
    "#...get the underlying prices\n",
    "tickers = ib.reqTickers(*masterContracts)\n",
    "undPrice = {t.contract.symbol: t.marketPrice() for t in tickers}\n",
    "\n",
    "# ...get the SMART chains\n",
    "allchains = {c.symbol: ib.reqSecDefOptParams(underlyingSymbol=c.symbol, futFopExchange='', \n",
    "                                  underlyingConId=c.conId, underlyingSecType=c.secType) for c in masterContracts}\n",
    "\n",
    "from itertools import product\n",
    "smartchains = {k: list(product(e.expirations, e.strikes)) for k, v in allchains.items() for e in v if e.exchange == 'SMART'}\n",
    "\n",
    "#...get the standard deviations\n",
    "symexpiry = {(k, i) for k, v in smartchains.items() for i, j in v}     # symbol + expiry\n",
    "symcontracts = {s.symbol: s for s in masterContracts}                  # symbol + contract\n",
    "symconexpdur = {se: (symcontracts[se[0]], get_dte(se[1]))              # symbol + expiry + contract + dte\n",
    "                for se in symexpiry}\n",
    "\n",
    "symexpfordte = {k:v for k, v in symconexpdur.items() if v[1] < maxdte} # symbol + expiry + contract filtered for dte\n",
    "\n",
    "symexp_pc = {k: get_maxfallrise(*v) for k, v in symexpfordte.items()}  # symbol + expiry + put fall + call rise\n",
    "put_strike_limits = {(k[0], k[1], 'P'): undPrice[k[0]] - v[0]          # symbol + expiry + 'P' + put strike limit (lower than)\n",
    "                     for k, v in symexp_pc.items()}\n",
    "call_strike_limits = {(k[0], k[1], 'C'): undPrice[k[0]] + v[1]         # symbol + expiry + 'C' + call strike limit (higher than)\n",
    "                      for k, v in symexp_pc.items()}\n",
    "\n",
    "sekchains = [list(product([k], v)) for k, v in smartchains.items()]    # symbol + (expiry + strike) chains\n",
    "\n",
    "serkp = [(i[0], i[1][0], i[1][1], 'P') for s in sekchains for i in s]   # (symbol + expiry + right) chain with strike for puts"
   ]
  },
  {
   "cell_type": "code",
   "execution_count": null,
   "metadata": {},
   "outputs": [],
   "source": [
    "serkp1 = {s:                                                            # get the put strike limit\n",
    " catch(lambda: put_strike_limits[(s[0], s[1], s[3])]) \n",
    " for s in serkp}"
   ]
  },
  {
   "cell_type": "code",
   "execution_count": null,
   "metadata": {},
   "outputs": [],
   "source": [
    "sorted([(s, t) for s, t in serkp1.items() if s[0] == 'GM'])"
   ]
  },
  {
   "cell_type": "code",
   "execution_count": null,
   "metadata": {},
   "outputs": [],
   "source": [
    "[(p, q) for p, q in put_strike_limits.items() if p[0] == 'GM']"
   ]
  },
  {
   "cell_type": "code",
   "execution_count": null,
   "metadata": {},
   "outputs": [],
   "source": [
    "serkp2 = {k: v for k, v in serkp1.items() if not np.isnan(v)}           # remove the nans\n",
    "\n",
    "put_list = {k+('SMART',) for k, v in serkp2.items() if k[3] < v}        # remove the puts > puts_strike_limit"
   ]
  },
  {
   "cell_type": "code",
   "execution_count": null,
   "metadata": {},
   "outputs": [],
   "source": [
    "serkc = [(i[0], i[1][0], i[1][1], 'C') for s in sekchains for i in s]   # (symbol + expiry + right) chain with strike for calls\n",
    "\n",
    "serkc1 = {s:                                                            # get the call strike limit\n",
    " catch(lambda: call_strike_limits[(s[0], s[1], s[3])]) \n",
    " for s in serkc}\n",
    "\n",
    "serkc2 = {k: v for k, v in serkc1.items() if not np.isnan(v)}           # remove the nans\n",
    "\n",
    "call_list = {k+('SMART',) for k, v in serkc2.items() if k[3] > v}       # remove the calls < calls_strike_limit"
   ]
  },
  {
   "cell_type": "code",
   "execution_count": null,
   "metadata": {},
   "outputs": [],
   "source": [
    "serkp"
   ]
  },
  {
   "cell_type": "code",
   "execution_count": null,
   "metadata": {},
   "outputs": [],
   "source": [
    "unq_opts = [Option(*c) for c in call_list]+[Option(*p) for p in put_list]\n",
    "\n",
    "ib.qualifyContracts(*unq_opts)"
   ]
  },
  {
   "cell_type": "code",
   "execution_count": null,
   "metadata": {},
   "outputs": [],
   "source": [
    "[put_strike_limits[s[0]] for s in serk]"
   ]
  },
  {
   "cell_type": "code",
   "execution_count": null,
   "metadata": {},
   "outputs": [],
   "source": [
    "put_strike_limits[('MSFT', '20210115', 'P')]"
   ]
  },
  {
   "cell_type": "code",
   "execution_count": null,
   "metadata": {},
   "outputs": [],
   "source": [
    "{k for k, v in symconexpdur.items()}"
   ]
  },
  {
   "cell_type": "code",
   "execution_count": null,
   "metadata": {},
   "outputs": [],
   "source": [
    "sek = [(s[0], s[1][0], s[1][1]) for i in sekchains for s in i]\n",
    "\n",
    "sekr = list(product(sek, rights))\n",
    "\n",
    "megachains = {(s[0][0], s[0][1], s[1]): s[0][2] for s in sekr}"
   ]
  },
  {
   "cell_type": "code",
   "execution_count": null,
   "metadata": {},
   "outputs": [],
   "source": [
    "megachains"
   ]
  },
  {
   "cell_type": "code",
   "execution_count": null,
   "metadata": {},
   "outputs": [],
   "source": [
    "dict(itertools.islice(smartchains.items(), 5))"
   ]
  },
  {
   "cell_type": "code",
   "execution_count": null,
   "metadata": {},
   "outputs": [],
   "source": [
    "import itertools\n",
    "dict(itertools.islice(put_strike_limits.items(),5))"
   ]
  },
  {
   "cell_type": "code",
   "execution_count": null,
   "metadata": {},
   "outputs": [],
   "source": [
    "dict(itertools.islice(call_strike_limits.items(),5))"
   ]
  },
  {
   "cell_type": "code",
   "execution_count": null,
   "metadata": {},
   "outputs": [],
   "source": [
    "put_strike_limit"
   ]
  },
  {
   "cell_type": "code",
   "execution_count": null,
   "metadata": {},
   "outputs": [],
   "source": [
    "#...get the chains\n",
    "for c in masterContracts:\n",
    "    chains =  ib.reqSecDefOptParams(underlyingSymbol=c.symbol, futFopExchange='', \n",
    "                                  underlyingConId=c.conId, underlyingSecType=c.secType)\n",
    "    util.df(chains).to_pickle(fspath+c.symbol+'_chains.pkl')"
   ]
  },
  {
   "cell_type": "code",
   "execution_count": null,
   "metadata": {},
   "outputs": [],
   "source": [
    "# %%time\n",
    "#____________________________________________________________________________________\n"
   ]
  },
  {
   "cell_type": "code",
   "execution_count": null,
   "metadata": {},
   "outputs": [],
   "source": [
    "[c for c in chains if c.exchange == 'SMART']"
   ]
  },
  {
   "cell_type": "code",
   "execution_count": null,
   "metadata": {},
   "outputs": [],
   "source": [
    "chains"
   ]
  },
  {
   "cell_type": "code",
   "execution_count": null,
   "metadata": {},
   "outputs": [],
   "source": [
    "import pandas as pd\n",
    "def get_rfrate():\n",
    "    '''Returns: risk Free rate for the market as float'''\n",
    "    rate_url = 'https://www.treasury.gov/resource-center/data-chart-center/interest-rates/pages/textview.aspx?data=yield'\n",
    "    df_rate = pd.read_html(rate_url)[1]\n",
    "    df_rate.columns  = df_rate.iloc[0] # Set the first row as header\n",
    "    df_rate = df_rate.drop(0,0) # Drop the first row\n",
    "    rate = float(df_rate[-1:]['1 yr'].values[0])/100 # Get the last row's 1 yr value as float\n",
    "    return rate\n"
   ]
  },
  {
   "cell_type": "code",
   "execution_count": null,
   "metadata": {},
   "outputs": [],
   "source": [
    "def get_dividend_tick(ib, contract):\n",
    "    ''' Gets the dividend ticker\n",
    "    Args:\n",
    "       (ib) as the connected object\n",
    "       (contract) as the qualified contract object with conId\n",
    "    '''\n",
    "    ib.reqMktData(contract, '456', snapshot=False, regulatorySnapshot=False) # request ticker stream\n",
    "    ticker_data = ib.ticker(contract)\n",
    "    \n",
    "    while ticker_data.dividends is None:\n",
    "        ib.sleep(0.1)\n",
    "        \n",
    "    ib.cancelMktData(contract)\n",
    "    \n",
    "    return ticker_data"
   ]
  },
  {
   "cell_type": "code",
   "execution_count": null,
   "metadata": {},
   "outputs": [],
   "source": [
    "symbol = snp[5]\n",
    "\n",
    "from itertools import product\n",
    "\n",
    "ib=get_connected('snp', 'live')\n",
    "\n",
    "und_contract = ib.qualifyContracts(Stock(symbol=symbol, exchange='SMART', currency='USD'))[0]\n",
    "\n",
    "es = list([product(c.expirations, c.strikes) \n",
    "        for c in ib.reqSecDefOptParams(underlyingSymbol=und_contract.symbol, \n",
    "                               futFopExchange='', underlyingSecType=und_contract.secType, \n",
    "                               underlyingConId=und_contract.conId)\n",
    "        if c.exchange == 'SMART'\n",
    "        if c.expirations\n",
    "        if c.strikes][0])"
   ]
  },
  {
   "cell_type": "code",
   "execution_count": null,
   "metadata": {},
   "outputs": [],
   "source": [
    "ib.disconnect()"
   ]
  },
  {
   "cell_type": "code",
   "execution_count": null,
   "metadata": {},
   "outputs": [],
   "source": [
    "df_ohlc = get_ohlc(ib, und_contract, fspath)"
   ]
  },
  {
   "cell_type": "code",
   "execution_count": null,
   "metadata": {},
   "outputs": [],
   "source": [
    "df_ohlc[:45].stdev.max()*3"
   ]
  },
  {
   "cell_type": "code",
   "execution_count": null,
   "metadata": {},
   "outputs": [],
   "source": []
  },
  {
   "cell_type": "code",
   "execution_count": null,
   "metadata": {},
   "outputs": [],
   "source": []
  },
  {
   "cell_type": "code",
   "execution_count": null,
   "metadata": {},
   "outputs": [],
   "source": []
  },
  {
   "cell_type": "code",
   "execution_count": null,
   "metadata": {},
   "outputs": [],
   "source": [
    "    und_contracts = ib.qualifyContracts(*(Stock(symbol=s, exchange='SMART', currency='USD') for s in snp))\n",
    "    tickers = ib.reqTickers(*und_contracts)\n",
    "    und_prices = {t.contract.symbol: t.marketPrice() for t in tickers}\n",
    "    div_ticks = [get_dividend_tick(ib, contract) for contract in und_contracts]"
   ]
  },
  {
   "cell_type": "code",
   "execution_count": null,
   "metadata": {},
   "outputs": [],
   "source": [
    "with get_connected('snp', 'live') as ib:\n",
    "    df_ohlc = get_ohlc(ib, und_contracts[20], fspath)"
   ]
  },
  {
   "cell_type": "code",
   "execution_count": null,
   "metadata": {},
   "outputs": [],
   "source": [
    "from itertools import product\n",
    "\n",
    "with get_connected('snp', 'live') as ib:\n",
    "    chains = [ib.reqSecDefOptParams(underlyingSymbol=und_contract.symbol, futFopExchange='', \n",
    "                                  underlyingConId=und_contract.conId, underlyingSecType=und_contract.secType) for und_contract in und_contracts]"
   ]
  },
  {
   "cell_type": "code",
   "execution_count": null,
   "metadata": {},
   "outputs": [],
   "source": [
    "chains"
   ]
  },
  {
   "cell_type": "code",
   "execution_count": null,
   "metadata": {},
   "outputs": [],
   "source": []
  },
  {
   "cell_type": "code",
   "execution_count": null,
   "metadata": {},
   "outputs": [],
   "source": []
  }
 ],
 "metadata": {
  "kernelspec": {
   "display_name": "Python 3",
   "language": "python",
   "name": "python3"
  },
  "language_info": {
   "codemirror_mode": {
    "name": "ipython",
    "version": 3
   },
   "file_extension": ".py",
   "mimetype": "text/x-python",
   "name": "python",
   "nbconvert_exporter": "python",
   "pygments_lexer": "ipython3",
   "version": "3.7.1"
  }
 },
 "nbformat": 4,
 "nbformat_minor": 2
}
