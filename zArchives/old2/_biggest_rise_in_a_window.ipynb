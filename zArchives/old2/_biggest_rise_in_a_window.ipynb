{
 "cells": [
  {
   "cell_type": "code",
   "execution_count": 55,
   "metadata": {},
   "outputs": [
    {
     "name": "stdout",
     "output_type": "stream",
     "text": [
      "Wall time: 17 ms\n"
     ]
    }
   ],
   "source": [
    "%%time\n",
    "# Computes the biggest rise in a time-window within a dataset\n",
    "# Refer https://stackoverflow.com/questions/55558191\n",
    "\n",
    "import datetime\n",
    "import numpy as np\n",
    "import pandas as pd\n",
    "\n",
    "base = datetime.datetime.today()\n",
    "\n",
    "date_list = [base - datetime.timedelta(days=x) for x in range(0, 365)]\n",
    "\n",
    "data = np.random.randint(low=1, high=10000, size=len(date_list))\n",
    "\n",
    "df = pd.DataFrame({'date': date_list, 'value': data})\n",
    "\n",
    "# 10-day rolling window\n",
    "df1 = df.sort_values(['date']).set_index('date').rolling('10d').max() - \\\n",
    "      df.sort_values(['date']).set_index('date').rolling('10d').min()\n",
    "\n",
    "# percent change to see if there is a rise or fall\n",
    "df2 = df.sort_values(['date']).set_index('date').value.pct_change(periods=10)\n",
    "\n",
    "# filter out the rises (pctchange > 0) and find the maximum rise\n",
    "df3 = df.sort_values(['date']).set_index('date').assign(delta=df1, pctchange=df2)\n",
    "biggest_rise = df3[df3.pctchange>0].delta.max()\n",
    "biggest_fall = df3[df3.pctchange<=0].delta.max()"
   ]
  },
  {
   "cell_type": "code",
   "execution_count": 56,
   "metadata": {},
   "outputs": [
    {
     "data": {
      "text/plain": [
       "(9930.0, 9930.0)"
      ]
     },
     "execution_count": 56,
     "metadata": {},
     "output_type": "execute_result"
    }
   ],
   "source": [
    "(biggest_rise, biggest_fall)"
   ]
  },
  {
   "cell_type": "code",
   "execution_count": 62,
   "metadata": {},
   "outputs": [
    {
     "data": {
      "text/plain": [
       "9930.0"
      ]
     },
     "execution_count": 62,
     "metadata": {},
     "output_type": "execute_result"
    }
   ],
   "source": [
    "df3[df3.pctchange<=0].reset_index().delta.max()"
   ]
  },
  {
   "cell_type": "code",
   "execution_count": 59,
   "metadata": {},
   "outputs": [
    {
     "data": {
      "text/plain": [
       "4612.0"
      ]
     },
     "execution_count": 59,
     "metadata": {},
     "output_type": "execute_result"
    }
   ],
   "source": [
    "df3[df3.pctchange>0].delta.min()"
   ]
  },
  {
   "cell_type": "code",
   "execution_count": null,
   "metadata": {},
   "outputs": [],
   "source": []
  }
 ],
 "metadata": {
  "kernelspec": {
   "display_name": "Python 3",
   "language": "python",
   "name": "python3"
  },
  "language_info": {
   "codemirror_mode": {
    "name": "ipython",
    "version": 3
   },
   "file_extension": ".py",
   "mimetype": "text/x-python",
   "name": "python",
   "nbconvert_exporter": "python",
   "pygments_lexer": "ipython3",
   "version": "3.7.1"
  }
 },
 "nbformat": 4,
 "nbformat_minor": 2
}
