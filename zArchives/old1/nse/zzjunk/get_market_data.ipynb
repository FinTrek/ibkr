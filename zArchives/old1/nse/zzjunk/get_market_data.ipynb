{
 "cells": [
  {
   "cell_type": "code",
   "execution_count": null,
   "metadata": {},
   "outputs": [],
   "source": [
    "# Code to test ticker extract\n",
    "\n",
    "from ib_insync import *\n",
    "util.startLoop()\n",
    "# ib=IB().connect('127.0.0.1', 7496, clientId=5) # kavi tws live\n",
    "ib = IB().connect('127.0.0.1', 3000, clientId=5) # kavi IBG live"
   ]
  },
  {
   "cell_type": "code",
   "execution_count": null,
   "metadata": {},
   "outputs": [],
   "source": [
    "%%time\n",
    "contract = Stock('ACC', 'NSE') # set the contract\n",
    "ib.qualifyContracts(contract) # qualifty the contract\n",
    "\n",
    "m = ib.reqMktData(contract, genericTickList='456', snapshot=False, regulatorySnapshot=False) # request market data\n",
    "# while m.close != m.close: ib.sleep(0.1)\n",
    "while m.dividends is None:\n",
    "    ib.sleep(0.1)\n",
    "print(m.dividends)\n",
    "ib.cancelMktData\n",
    "\n",
    "ib.disconnect()"
   ]
  },
  {
   "cell_type": "code",
   "execution_count": null,
   "metadata": {},
   "outputs": [],
   "source": []
  }
 ],
 "metadata": {
  "kernelspec": {
   "display_name": "Python 3",
   "language": "python",
   "name": "python3"
  },
  "language_info": {
   "codemirror_mode": {
    "name": "ipython",
    "version": 3
   },
   "file_extension": ".py",
   "mimetype": "text/x-python",
   "name": "python",
   "nbconvert_exporter": "python",
   "pygments_lexer": "ipython3",
   "version": "3.7.1"
  }
 },
 "nbformat": 4,
 "nbformat_minor": 2
}
