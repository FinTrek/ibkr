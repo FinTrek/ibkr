{
 "cells": [
  {
   "cell_type": "markdown",
   "metadata": {},
   "source": [
    "# Introduction\n",
    "\n",
    "The SnP500 program has the following components:\n",
    "1. Ticker and expiry extraction - Make a list of NYSE weekly tickers of interest\n",
<<<<<<< HEAD
    "2. Contract data extraction - Deltas (PoP), Contract Price, Underlying Value, 52W high and low of Underlying\n",
    "3. Determine margins\n",
=======
    "2. Contract data extraction - Probablility of Profit from Standard Deviation, Strike Price, Underlying Value\n",
    "3. Determine margins and Return on Margin\n",
>>>>>>> changes w.r.t Ewald ib-insync
    "4. Assemble target dataframe\n",
    "5. Place orders"
   ]
  },
  {
   "cell_type": "markdown",
   "metadata": {},
   "source": [
    "## Ticker and Expiry extraction\n",
    "The following program called <i>snp_weeklies</i>:\n",
    "1. Generates a list of NYSE weekly options from CBOE's spreadsheet\n",
    "2. Extracts only S&P500 scrips from it\n",
    "\n",
    "The file contents <i> snp_weeklies.py</i> can be seen here..."
   ]
  },
  {
   "cell_type": "raw",
   "metadata": {},
   "source": [
    "from utilities import display_py\n",
    "with open('snp_weeklies.py') as f:\n",
    "    code = f.read()\n",
    "    \n",
    "display_py(code)"
   ]
  },
  {
   "cell_type": "markdown",
   "metadata": {},
   "source": [
    "## Contract Data Extraction\n",
    "\n",
    "This program is split into the following parts:\n",
<<<<<<< HEAD
    "1. Assembling the weeklies dataframe\n",
    "2. Connecting to IBKR\n",
    "3. Extracting target scrips' strike prices\n",
    "4. Computing the standard deviation of the scrip\n",
    "5. Extracting the contract price beyond SD fence"
=======
    "1. Assemble the weeklies dataframe\n",
    "2. Connect to IBKR\n",
    "3. Extract target scrips underlying price and standard deviation\n",
    "4. Extract all strike prices for the expiries\n",
    "4. Filter dataframe for only relevant strike prices beyond standard deviation threshold\n",
    "5. Extract the contract price for the filtered dataframe"
>>>>>>> changes w.r.t Ewald ib-insync
   ]
  },
  {
   "cell_type": "markdown",
   "metadata": {},
   "source": [
<<<<<<< HEAD
    "## Prepare to Order\n",
    "6. Checking out the margin requirements for the trade\n",
    "7. Assembling scrips + strike, sorted and weighted PoP and RoM"
   ]
  },
  {
   "cell_type": "markdown",
   "metadata": {},
   "source": [
    "## Order Management\n",
    "8. Checking liquidation value limits\n",
    "9. Placing orders with continuous liquidation value limit check"
   ]
  },
  {
   "cell_type": "markdown",
   "metadata": {},
   "source": [
    "### 1. Assembling the weeklies dataframe\n",
=======
    "### 1) Assemble the weeklies dataframe\n",
>>>>>>> changes w.r.t Ewald ib-insync
    "The script is imported. Weeklies df is generated."
   ]
  },
  {
   "cell_type": "code",
   "execution_count": 1,
   "metadata": {},
   "outputs": [
    {
     "data": {
      "text/html": [
       "<div>\n",
       "<style scoped>\n",
       "    .dataframe tbody tr th:only-of-type {\n",
       "        vertical-align: middle;\n",
       "    }\n",
       "\n",
       "    .dataframe tbody tr th {\n",
       "        vertical-align: top;\n",
       "    }\n",
       "\n",
       "    .dataframe thead th {\n",
       "        text-align: right;\n",
       "    }\n",
       "</style>\n",
       "<table border=\"1\" class=\"dataframe\">\n",
       "  <thead>\n",
       "    <tr style=\"text-align: right;\">\n",
       "      <th></th>\n",
       "      <th>Expiry</th>\n",
       "      <th>Ticker</th>\n",
       "      <th>Desc</th>\n",
       "      <th>Type</th>\n",
       "      <th>DTE</th>\n",
       "    </tr>\n",
       "  </thead>\n",
       "  <tbody>\n",
       "    <tr>\n",
<<<<<<< HEAD
       "      <th>3</th>\n",
       "      <td>2018-07-13</td>\n",
       "      <td>AAPL</td>\n",
       "      <td>Apple Inc*</td>\n",
       "      <td>Equity</td>\n",
       "      <td>22</td>\n",
       "    </tr>\n",
       "    <tr>\n",
       "      <th>4</th>\n",
       "      <td>2018-07-27</td>\n",
       "      <td>AAPL</td>\n",
       "      <td>Apple Inc*</td>\n",
       "      <td>Equity</td>\n",
       "      <td>36</td>\n",
       "    </tr>\n",
       "    <tr>\n",
       "      <th>8</th>\n",
       "      <td>2018-07-13</td>\n",
       "      <td>ABBV</td>\n",
       "      <td>AbbVie Inc.*</td>\n",
       "      <td>Equity</td>\n",
       "      <td>22</td>\n",
       "    </tr>\n",
       "    <tr>\n",
       "      <th>9</th>\n",
       "      <td>2018-07-27</td>\n",
       "      <td>ABBV</td>\n",
       "      <td>AbbVie Inc.*</td>\n",
       "      <td>Equity</td>\n",
       "      <td>36</td>\n",
       "    </tr>\n",
       "    <tr>\n",
       "      <th>13</th>\n",
       "      <td>2018-07-13</td>\n",
       "      <td>ABT</td>\n",
       "      <td>ABBOTT LABORATORIES*</td>\n",
       "      <td>Equity</td>\n",
       "      <td>22</td>\n",
=======
       "      <th>4</th>\n",
       "      <td>20180810</td>\n",
       "      <td>AAPL</td>\n",
       "      <td>Apple Inc*</td>\n",
       "      <td>Equity</td>\n",
       "      <td>36</td>\n",
       "    </tr>\n",
       "    <tr>\n",
       "      <th>5</th>\n",
       "      <td>20180824</td>\n",
       "      <td>AAPL</td>\n",
       "      <td>Apple Inc*</td>\n",
       "      <td>Equity</td>\n",
       "      <td>50</td>\n",
       "    </tr>\n",
       "    <tr>\n",
       "      <th>10</th>\n",
       "      <td>20180810</td>\n",
       "      <td>ABBV</td>\n",
       "      <td>AbbVie Inc.*</td>\n",
       "      <td>Equity</td>\n",
       "      <td>36</td>\n",
       "    </tr>\n",
       "    <tr>\n",
       "      <th>11</th>\n",
       "      <td>20180824</td>\n",
       "      <td>ABBV</td>\n",
       "      <td>AbbVie Inc.*</td>\n",
       "      <td>Equity</td>\n",
       "      <td>50</td>\n",
       "    </tr>\n",
       "    <tr>\n",
       "      <th>16</th>\n",
       "      <td>20180810</td>\n",
       "      <td>ABT</td>\n",
       "      <td>ABBOTT LABORATORIES*</td>\n",
       "      <td>Equity</td>\n",
       "      <td>36</td>\n",
>>>>>>> changes w.r.t Ewald ib-insync
       "    </tr>\n",
       "  </tbody>\n",
       "</table>\n",
       "</div>"
      ],
      "text/plain": [
<<<<<<< HEAD
       "       Expiry Ticker                  Desc    Type  DTE\n",
       "3  2018-07-13   AAPL            Apple Inc*  Equity   22\n",
       "4  2018-07-27   AAPL            Apple Inc*  Equity   36\n",
       "8  2018-07-13   ABBV          AbbVie Inc.*  Equity   22\n",
       "9  2018-07-27   ABBV          AbbVie Inc.*  Equity   36\n",
       "13 2018-07-13    ABT  ABBOTT LABORATORIES*  Equity   22"
=======
       "      Expiry Ticker                  Desc    Type  DTE\n",
       "4   20180810   AAPL            Apple Inc*  Equity   36\n",
       "5   20180824   AAPL            Apple Inc*  Equity   50\n",
       "10  20180810   ABBV          AbbVie Inc.*  Equity   36\n",
       "11  20180824   ABBV          AbbVie Inc.*  Equity   50\n",
       "16  20180810    ABT  ABBOTT LABORATORIES*  Equity   36"
>>>>>>> changes w.r.t Ewald ib-insync
      ]
     },
     "execution_count": 1,
     "metadata": {},
     "output_type": "execute_result"
    }
   ],
   "source": [
    "import snp_weeklies\n",
    "\n",
    "# Get the weeklies dataframe\n",
    "df = snp_weeklies.main()\n",
    "\n",
    "# limit the DTE to a reasonable no of days\n",
<<<<<<< HEAD
    "df1 = df.loc[(df.DTE > 20) & (df.DTE < 60), :]\n",
    "df1.head()"
=======
    "df1 = df.loc[(df.DTE > 30) & (df.DTE < 60), :]\n",
    "\n",
    "# Small dataframe\n",
    "df_small = df1.head().copy()\n",
    "df_small"
>>>>>>> changes w.r.t Ewald ib-insync
   ]
  },
  {
   "cell_type": "markdown",
   "metadata": {},
   "source": [
<<<<<<< HEAD
    "### 2) Connecting to IBKR   \n",
=======
    "### 2) Connect to IBKR   \n",
>>>>>>> changes w.r.t Ewald ib-insync
    "<p>...Ensure that either TWS or IBG has been started in _Paper_ mode.</p>\n",
    "<p>...In _File -> Global Configuration -> API -> Settings_ the Socket number typically for TWS is: 7497 | IBG is: 4002</p>\n",
    "<p>...Read-Only API is unchecked</p>\n",
    "<p>...Trusted IPs is 127.0.0.1</p>"
   ]
  },
  {
   "cell_type": "markdown",
   "metadata": {},
   "source": [
    "To set up a connection with IBKR a connector class has been made. The file contents of _connector.py_ is in the cell below."
   ]
  },
  {
   "cell_type": "raw",
   "metadata": {},
   "source": [
    "from utilities import display_py\n",
    "\n",
    "with open('connector.py') as f:\n",
    "    code = f.read()\n",
    "    \n",
    "display_py(code)"
   ]
  },
  {
   "cell_type": "markdown",
   "metadata": {},
   "source": [
    "Run the following cells to:<br\\>\n",
    "a) Instantiate <i>ib_insync</i><br\\>\n",
    "b) Instantiate a connection<br\\>"
   ]
  },
  {
   "cell_type": "code",
<<<<<<< HEAD
   "execution_count": 4,
   "metadata": {},
   "outputs": [
    {
     "data": {
      "text/plain": [
       "<IB connected to 127.0.0.1:4002 clientId=1>"
      ]
     },
     "execution_count": 4,
     "metadata": {},
     "output_type": "execute_result"
    }
   ],
=======
   "execution_count": 2,
   "metadata": {},
   "outputs": [],
>>>>>>> changes w.r.t Ewald ib-insync
   "source": [
    "from ib_insync import *\n",
    "util.startLoop()  # to keep Jupyter live\n",
    "\n",
    "# Instantiate from main IB class\n",
    "ib = IB()\n",
    "\n",
    "from connector import Connector\n",
    "\n",
    "platform = 2       # (<1> for TWS | <2> for IBG)\n",
    "live_or_paper = 2  # (<1> for Live | <2> for Paper)\n",
    "y = 1              # (<1> for USA  | <2> for NSE)\n",
    "\n",
    "connection = Connector(platform = platform, live_or_paper = live_or_paper, y = y)\n",
    "\n",
<<<<<<< HEAD
    "connection = Connector(2, 2, 1)\n",
=======
>>>>>>> changes w.r.t Ewald ib-insync
    "ip=connection.ip\n",
    "socket=connection.socket\n",
    "client = connection.client\n",
    "\n",
    "# Connect to IB\n",
<<<<<<< HEAD
    "ib.connect(host=ip, port=socket, clientId=client)"
=======
    "ib.connect(host=ip, port=socket, clientId=client)\n",
    "\n",
    "# Set the exchange\n",
    "exchange = 'SMART'\n",
    "\n",
    "# Set currency and primaryExchange based on connector\n",
    "if connection.y == 1:\n",
    "    currency  = 'USD'\n",
    "    primaryExchange = 'NASDAQ'\n",
    "else:\n",
    "    currency = 'INR'\n",
    "    primaryExchange = 'NSE'"
   ]
  },
  {
   "cell_type": "markdown",
   "metadata": {},
   "source": [
    "### 3) Extract underlying price and standard deviation"
   ]
  },
  {
   "cell_type": "code",
   "execution_count": 3,
   "metadata": {},
   "outputs": [],
   "source": [
    "import pandas as pd\n",
    "import numpy as np\n",
    "\n",
    "def get_price(symbol, exchange=exchange, currency=currency, primaryExchange=primaryExchange):\n",
    "    '''Gets the Last / Market Price of the Stock\n",
    "    Args: \n",
    "       (symbol)          = string: name of equity\n",
    "       \n",
    "       [exchange]        = string: [default: 'SMART']\n",
    "       [currency]        = string: [default: 'USD']\n",
    "       [primaryExchange] = string: for scrips like INTC [default: 'NASDAQ']\n",
    "       \n",
    "    Returns:\n",
    "           marketPrice() = float\n",
    "           \n",
    "    '''\n",
    "    contract = Stock(symbol, exchange=exchange, currency=currency, primaryExchange=primaryExchange)\n",
    "    ib.qualifyContracts(contract) # qualify the contract\n",
    "    \n",
    "    [ticker] = ib.reqTickers(contract)\n",
    "    price = ticker.marketPrice()\n",
    "    \n",
    "    return price\n",
    "\n",
    "def get_stdev(symbol, DTE, exchange=exchange, currency=currency, primaryExchange=primaryExchange):\n",
    "    '''Gets the Standard Deviation of the Stock\n",
    "    Args: \n",
    "       (symbol)          = string: name of equity\n",
    "       (DTE)             = int: days-to-expiry\n",
    "       \n",
    "       [exchange]        = string: [default: 'SMART']\n",
    "       [currency]        = string: [default: 'USD']\n",
    "       [primaryExchange] = string: for scrips like INTC [default: 'NASDAQ']\n",
    "       \n",
    "    Returns:\n",
    "       standard deviation = float\n",
    "    \n",
    "    '''\n",
    "    contract = Stock(symbol, exchange=exchange, currency=currency, primaryExchange=primaryExchange)\n",
    "    \n",
    "    sd_days = str(DTE)+' D'  # days for standard deviation\n",
    "    bars = ib.reqHistoricalData(contract=contract, endDateTime='', durationStr=sd_days, \n",
    "                                barSizeSetting='1 day',  whatToShow='Trades', useRTH=True)\n",
    "    sd = np.std([b.close for b in bars], ddof=1)\n",
    "    \n",
    "    return sd\n",
    "\n",
    "# Get the unique list of symbols to generate a price dataframe\n",
    "underlying_df = pd.DataFrame(df_small['Ticker'].unique().tolist(), columns=['Ticker'])\n",
    "\n",
    "# Make the price dataframe\n",
    "underlying_df['Underlying'] = underlying_df.Ticker.apply(get_price)\n",
    "\n",
    "# Make the Standard Deviation dataframe\n",
    "df_small.loc[:, 'Stdev'] = df_small[['Ticker', 'DTE']].apply(lambda x: get_stdev(*x), axis=1)\n",
    "\n",
    "# Merge the underlying and stdev dataframes\n",
    "df_small = df_small.merge(underlying_df, how='left', left_on='Ticker', right_on='Ticker')"
   ]
  },
  {
   "cell_type": "markdown",
   "metadata": {},
   "source": [
    "### 3) Extract strike prices for the expiries"
   ]
  },
  {
   "cell_type": "code",
   "execution_count": 5,
   "metadata": {},
   "outputs": [],
   "source": [
    "def get_strikes(symbol, expiry, exchange=exchange, currency=currency, primaryExchange=primaryExchange):\n",
    "    '''Gets the strike prices for the various expiries of a contract\n",
    "    Args: \n",
    "       (symbol)          = string: name of equity\n",
    "       (expiry)          = string: expiry in yyyymmdd format\n",
    "       \n",
    "       [exchange]        = string: [default: 'SMART']\n",
    "       [currency]        = string: [default: 'USD']\n",
    "       [primaryExchange] = string: for scrips like INTC [default: 'NASDAQ']\n",
    "       \n",
    "    Returns:\n",
    "       strikes = tuple of floats\n",
    "    \n",
    "    '''\n",
    "    contract = Option(symbol, expiry, exchange=exchange, currency=currency, primaryExchange=primaryExchange)\n",
    "    \n",
    "    strikes = set(cd.contract.strike for cd in ib.reqContractDetails(contract))\n",
    "    \n",
    "    return strikes"
   ]
  },
  {
   "cell_type": "code",
   "execution_count": 7,
   "metadata": {},
   "outputs": [
    {
     "data": {
      "text/html": [
       "<div>\n",
       "<style scoped>\n",
       "    .dataframe tbody tr th:only-of-type {\n",
       "        vertical-align: middle;\n",
       "    }\n",
       "\n",
       "    .dataframe tbody tr th {\n",
       "        vertical-align: top;\n",
       "    }\n",
       "\n",
       "    .dataframe thead th {\n",
       "        text-align: right;\n",
       "    }\n",
       "</style>\n",
       "<table border=\"1\" class=\"dataframe\">\n",
       "  <thead>\n",
       "    <tr style=\"text-align: right;\">\n",
       "      <th></th>\n",
       "      <th>Expiry</th>\n",
       "      <th>Ticker</th>\n",
       "      <th>Desc</th>\n",
       "      <th>Type</th>\n",
       "      <th>DTE</th>\n",
       "      <th>Stdev</th>\n",
       "      <th>Underlying</th>\n",
       "    </tr>\n",
       "  </thead>\n",
       "  <tbody>\n",
       "    <tr>\n",
       "      <th>0</th>\n",
       "      <td>20180810</td>\n",
       "      <td>AAPL</td>\n",
       "      <td>Apple Inc*</td>\n",
       "      <td>Equity</td>\n",
       "      <td>36</td>\n",
       "      <td>2.919296</td>\n",
       "      <td>187.18</td>\n",
       "    </tr>\n",
       "    <tr>\n",
       "      <th>1</th>\n",
       "      <td>20180824</td>\n",
       "      <td>AAPL</td>\n",
       "      <td>Apple Inc*</td>\n",
       "      <td>Equity</td>\n",
       "      <td>50</td>\n",
       "      <td>8.261978</td>\n",
       "      <td>187.18</td>\n",
       "    </tr>\n",
       "    <tr>\n",
       "      <th>2</th>\n",
       "      <td>20180810</td>\n",
       "      <td>ABBV</td>\n",
       "      <td>AbbVie Inc.*</td>\n",
       "      <td>Equity</td>\n",
       "      <td>36</td>\n",
       "      <td>4.536414</td>\n",
       "      <td>93.11</td>\n",
       "    </tr>\n",
       "    <tr>\n",
       "      <th>3</th>\n",
       "      <td>20180824</td>\n",
       "      <td>ABBV</td>\n",
       "      <td>AbbVie Inc.*</td>\n",
       "      <td>Equity</td>\n",
       "      <td>50</td>\n",
       "      <td>4.285396</td>\n",
       "      <td>93.11</td>\n",
       "    </tr>\n",
       "    <tr>\n",
       "      <th>4</th>\n",
       "      <td>20180810</td>\n",
       "      <td>ABT</td>\n",
       "      <td>ABBOTT LABORATORIES*</td>\n",
       "      <td>Equity</td>\n",
       "      <td>36</td>\n",
       "      <td>0.895888</td>\n",
       "      <td>61.00</td>\n",
       "    </tr>\n",
       "  </tbody>\n",
       "</table>\n",
       "</div>"
      ],
      "text/plain": [
       "     Expiry Ticker                  Desc    Type  DTE     Stdev  Underlying\n",
       "0  20180810   AAPL            Apple Inc*  Equity   36  2.919296      187.18\n",
       "1  20180824   AAPL            Apple Inc*  Equity   50  8.261978      187.18\n",
       "2  20180810   ABBV          AbbVie Inc.*  Equity   36  4.536414       93.11\n",
       "3  20180824   ABBV          AbbVie Inc.*  Equity   50  4.285396       93.11\n",
       "4  20180810    ABT  ABBOTT LABORATORIES*  Equity   36  0.895888       61.00"
      ]
     },
     "execution_count": 7,
     "metadata": {},
     "output_type": "execute_result"
    }
   ],
   "source": [
    "df_small"
   ]
  },
  {
   "cell_type": "code",
   "execution_count": 9,
   "metadata": {},
   "outputs": [
    {
     "name": "stderr",
     "output_type": "stream",
     "text": [
      "ERROR:ib_insync.wrapper:Error 200, reqId 16: No security definition has been found for the request, contract: Option(symbol='AAPL', lastTradeDateOrContractMonth='20180810', strike='', exchange='SMART', primaryExchange='NASDAQ', currency='USD')\n"
     ]
    },
    {
     "data": {
      "text/plain": [
       "set()"
      ]
     },
     "execution_count": 9,
     "metadata": {},
     "output_type": "execute_result"
    }
   ],
   "source": [
    "get_strikes(symbol='AAPL', expiry='20180810')"
   ]
  },
  {
   "cell_type": "markdown",
   "metadata": {},
   "source": [
    "## Prepare to Order\n",
    "6. Check out the margin requirements for the trade\n",
    "7. Assemble scrips + strike, sorted and weighted PoP and RoM"
>>>>>>> changes w.r.t Ewald ib-insync
   ]
  },
  {
   "cell_type": "markdown",
   "metadata": {},
   "source": [
<<<<<<< HEAD
    "### Get Underlying's last traded price"
=======
    "## Order Management\n",
    "8. Check liquidation value limits\n",
    "9. Place orders with continuous liquidation value limit check"
>>>>>>> changes w.r.t Ewald ib-insync
   ]
  },
  {
   "cell_type": "code",
<<<<<<< HEAD
   "execution_count": 6,
   "metadata": {},
   "outputs": [
    {
     "data": {
      "text/plain": [
       "[Stock(conId=265598, symbol='AAPL', exchange='SMART', primaryExchange='NASDAQ', currency='USD', localSymbol='AAPL', tradingClass='NMS')]"
      ]
     },
     "execution_count": 6,
=======
   "execution_count": 10,
   "metadata": {},
   "outputs": [
    {
     "name": "stderr",
     "output_type": "stream",
     "text": [
      "ERROR:ib_insync.wrapper:Error 200, reqId 17: No security definition has been found for the request, contract: Option(symbol='AAPL', lastTradeDateOrContractMonth='20180622', strike='', exchange='SMART')\n"
     ]
    },
    {
     "data": {
      "text/plain": [
       "set()"
      ]
     },
     "execution_count": 10,
>>>>>>> changes w.r.t Ewald ib-insync
     "metadata": {},
     "output_type": "execute_result"
    }
   ],
   "source": [
<<<<<<< HEAD
    "contract = Stock(symbol='AAPL', exchange='SMART', currency='USD', primaryExchange='NASDAQ')\n",
    "qcontract = ib.qualifyContracts(contract)\n",
    "qcontract"
=======
    "contract = Option('AAPL', '20180622', exchange='SMART')\n",
    "set(cd.contract.strike for cd in ib.reqContractDetails(contract))"
>>>>>>> changes w.r.t Ewald ib-insync
   ]
  },
  {
   "cell_type": "markdown",
   "metadata": {},
   "source": [
    "### 3) Extract target scrips info"
   ]
  },
  {
   "cell_type": "code",
   "execution_count": null,
   "metadata": {},
   "outputs": [],
   "source": [
    "contract = Option('AAPL', '20180622', exchange='SMART')\n",
    "set(cd.contract.strike for cd in ib.reqContractDetails(contract))``"
   ]
  },
  {
   "cell_type": "code",
<<<<<<< HEAD
   "execution_count": 42,
=======
   "execution_count": null,
>>>>>>> changes w.r.t Ewald ib-insync
   "metadata": {},
   "outputs": [],
   "source": [
    "exch = 'SMART'\n",
    "curr = 'USD'\n",
    "scrip = 'TSLA'\n",
    "stock = Stock(symbol=scrip, currency=curr, exchange=exch)\n",
    "vol = ib.reqHistoricalData(contract=stock, endDateTime='', durationStr='33 D', \n",
    "                                barSizeSetting='1 DAY', whatToShow='OPTION_IMPLIED_VOLATILITY', \n",
    "                                useRTH=False)"
   ]
  },
  {
   "cell_type": "code",
<<<<<<< HEAD
   "execution_count": 43,
   "metadata": {},
   "outputs": [
    {
     "data": {
      "text/plain": [
       "0.43192515333333337"
      ]
     },
     "execution_count": 43,
     "metadata": {},
     "output_type": "execute_result"
    }
   ],
=======
   "execution_count": null,
   "metadata": {},
   "outputs": [],
>>>>>>> changes w.r.t Ewald ib-insync
   "source": [
    "np.mean([v.close for v in vol])"
   ]
  },
  {
   "cell_type": "code",
   "execution_count": null,
   "metadata": {},
   "outputs": [],
   "source": [
    "import numpy as np\n",
    "import math\n",
    "bars = ib.reqHistoricalData(contract=stock, endDateTime='', durationStr='33 D', \n",
    "                                barSizeSetting='1 DAY', whatToShow='Trades', \n",
    "                                useRTH=False)\n",
    "daily_sd = np.std([b.close for b in bars], ddof=1)\n",
    "daily_sd"
   ]
  },
  {
   "cell_type": "markdown",
   "metadata": {},
   "source": [
    "3) Get StdDev for the expiries"
   ]
  },
  {
   "cell_type": "code",
   "execution_count": null,
   "metadata": {},
   "outputs": [],
   "source": [
    "df2 = df1.head()\n",
    "df2\n",
    "\n",
    "def get_stdev(scrip, DTE):\n",
    "    '''\n",
    "    Gets the standard deviation of the stock.\n",
    "    Min DTE is 45 days\n",
    "    \n",
    "    Args: scrip = name of scrip (string)\n",
    "           DTE = Days to Expiry (int)\n",
    "           \n",
    "    Returns: Std Dev of scrip (double?) '''\n",
    "    \n",
    "    exch = 'SMART'\n",
    "    curr = 'USD'\n",
    "    sd_days = str(DTE)+' D'\n",
    "    \n",
    "    stock = Stock(scrip, exch, curr)\n",
    "    bars = ib.reqHistoricalData(stock, '', sd_days, '1 day', 'Trades', True )\n",
    "    \n",
    "    return np.std([b.close for b in bars], ddof=1)"
   ]
  },
  {
   "cell_type": "raw",
   "metadata": {},
   "source": [
    "df1[['Ticker', 'DTE']].apply(lambda x: get_stdev(*x), axis=1)"
   ]
  },
  {
   "cell_type": "code",
   "execution_count": null,
   "metadata": {},
   "outputs": [],
   "source": [
    "# Put the parameters\n",
    "scrip = 'AAPL'\n",
    "exch = 'SMART'\n",
    "curr = 'USD'\n",
    "\n",
    "# Qualify the contract\n",
    "contract = Stock(scrip, exch, curr)\n",
    "ib.qualifyContracts (contract)\n",
    "\n",
    "cds = ib.reqContractDetails(contract)\n",
    "cds"
   ]
  },
  {
   "cell_type": "code",
<<<<<<< HEAD
   "execution_count": 6,
   "metadata": {},
   "outputs": [
    {
     "data": {
      "text/plain": [
       "[Ticker(contract=Contract(secType='OPT', conId=319172544, symbol='AAPL', lastTradeDateOrContractMonth='20180706', strike=152.5, right='P', multiplier='100', exchange='SMART', currency='USD', localSymbol='AAPL  180706P00152500', tradingClass='AAPL'), time=datetime.datetime(2018, 6, 19, 22, 12, 7, 170900, tzinfo=datetime.timezone.utc), bid=-1.0, bidSize=0, ask=-1.0, askSize=0, volume=3, high=0.05, low=0.05, close=0.03, ticks=[], tickByTicks=[], domBids=[], domAsks=[], domTicks=[], bidGreeks=OptionComputation(impliedVol=0.3526705931285293, delta=None, optPrice=None, pvDividend=0.0, gamma=None, vega=None, theta=None, undPrice=185.67999267578125), askGreeks=OptionComputation(impliedVol=0.41139426638855403, delta=-0.010957899759202219, optPrice=0.07000000029802322, pvDividend=0.0, gamma=0.0017591246282979782, vega=0.012963666495593815, theta=-0.013947932219996044, undPrice=185.67999267578125), lastGreeks=OptionComputation(impliedVol=None, delta=None, optPrice=None, pvDividend=0.0, gamma=None, vega=None, theta=None, undPrice=185.67999267578125), modelGreeks=OptionComputation(impliedVol=0.27114371840171, delta=-0.0002744304246206475, optPrice=0.0007761814653621757, pvDividend=0.0, gamma=9.344863331893852e-05, vega=0.0005354915919306311, theta=-0.0003216729737431263, undPrice=185.67999267578125))]"
      ]
     },
     "execution_count": 6,
     "metadata": {},
     "output_type": "execute_result"
    }
   ],
=======
   "execution_count": null,
   "metadata": {},
   "outputs": [],
>>>>>>> changes w.r.t Ewald ib-insync
   "source": [
    "cds = ib.reqContractDetails(Option('AAPL', '20180706', exchange='SMART', strike=152.5, right='P'))\n",
    "options = [cd.contract for cd in cds]\n",
    "tickers = [t for i in range(0, len(options), 100) for t in ib.reqTickers(*options[i:i + 100])]\n",
    "tickers"
   ]
  },
  {
   "cell_type": "code",
   "execution_count": null,
   "metadata": {},
   "outputs": [],
   "source": [
    "ib.reqContractDetails(Option('AAPL', '20180706', exchange='SMART', strike=152.5, right='P'))"
   ]
  },
  {
   "cell_type": "code",
   "execution_count": null,
   "metadata": {},
   "outputs": [],
   "source": [
    "symbol = df2.iloc[0].Ticker\n",
    "exp_date = df2.iloc[0].Expiry"
   ]
  },
  {
   "cell_type": "code",
   "execution_count": null,
   "metadata": {},
   "outputs": [],
   "source": [
    "# contract = Option[symbol, exp_date, 240, 'C', 'SMART']\n",
    "spx = Index('SPX', 'CBOE')\n",
    "ib.qualifyContracts(spx)"
   ]
  },
  {
   "cell_type": "code",
   "execution_count": null,
   "metadata": {},
   "outputs": [],
   "source": [
    "[ticker] = ib.reqTickers(spx)\n",
    "ticker"
   ]
  },
  {
   "cell_type": "code",
   "execution_count": null,
   "metadata": {},
   "outputs": [],
   "source": [
    "spxValue= ticker.marketPrice\n",
    "spxValue"
   ]
  },
  {
   "cell_type": "code",
   "execution_count": null,
   "metadata": {},
   "outputs": [],
   "source": [
    "import ib_insync\n",
    "print(ib_insync.__all__)"
   ]
  },
  {
   "cell_type": "code",
   "execution_count": null,
   "metadata": {},
   "outputs": [],
   "source": [
<<<<<<< HEAD
    "ib.isConnected()"
=======
    "ib.isConnected() "
>>>>>>> changes w.r.t Ewald ib-insync
   ]
  },
  {
   "cell_type": "code",
   "execution_count": null,
   "metadata": {},
   "outputs": [],
   "source": []
  },
  {
   "cell_type": "code",
   "execution_count": null,
   "metadata": {},
   "outputs": [],
   "source": [
    "# Disconnect\n",
    "ib.disconnect()"
   ]
  },
  {
   "cell_type": "code",
   "execution_count": null,
   "metadata": {},
   "outputs": [],
<<<<<<< HEAD
=======
   "source": [
    "contract = Stock('BULLSHIT', exchange=exchange, currency=currency, primaryExchange=primaryExchange)"
   ]
  },
  {
   "cell_type": "code",
   "execution_count": null,
   "metadata": {},
   "outputs": [],
   "source": [
    "try:\n",
    "    ib.qualifyContracts(contract)\n",
    "except Exception:\n",
    "    pass"
   ]
  },
  {
   "cell_type": "code",
   "execution_count": null,
   "metadata": {},
   "outputs": [],
>>>>>>> changes w.r.t Ewald ib-insync
   "source": []
  }
 ],
 "metadata": {
  "kernelspec": {
   "display_name": "Python 3",
   "language": "python",
   "name": "python3"
  },
  "language_info": {
   "codemirror_mode": {
    "name": "ipython",
    "version": 3
   },
   "file_extension": ".py",
   "mimetype": "text/x-python",
   "name": "python",
   "nbconvert_exporter": "python",
   "pygments_lexer": "ipython3",
   "version": "3.6.4"
  }
 },
 "nbformat": 4,
 "nbformat_minor": 2
}
