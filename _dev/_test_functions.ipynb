{
 "cells": [
  {
   "source": [
    "import pandas as pd\n",
    "import numpy as np\n",
    "import json\n",
    "from itertools import product\n",
    "import datetime\n",
    "import time\n",
    "from math import erf, sqrt\n",
    "\n",
    "from ib_insync import *\n",
    "\n",
    "print(f\"started at {time.strftime('%X')}\")\n",
    "\n",
    "host = data['common']['host']\n",
    "port = data[market]['port']\n",
    "cid = 1\n",
    "\n",
    "symbol = 'FDX'\n",
    "\n",
    "with IB().connect(host=host, port=port, clientId=cid) as ib:\n",
    "    c = ib.qualifyContracts(Stock(symbol, 'SMART', 'USD'))[0] # ASYNC THIS\n",
    "    \n",
    "    # ASYNC THIS\n",
    "    ohlc = ib.reqHistoricalData(contract=c, endDateTime = '',\n",
    "                       durationStr='365 D', barSizeSetting= '1 day',\n",
    "                       whatToShow = 'Trades', useRTH=True)\n",
    "    \n",
    "    # reverse sort to have latest date on top\n",
    "    df_ohlc = util.df(ohlc).sort_index(ascending=False).reset_index(drop=True)\n",
    "    \n",
    "    df_ohlc.insert(0, 'symbol', c.symbol)\n",
    "\n",
    "    df_ohlc['rise'] = [df_ohlc['close'].rolling(i).apply(lambda x: x[0]-x[-1], raw=True).max()\n",
    "                       for i in range(1, len(df_ohlc)+1)]\n",
    "    \n",
    "    df_ohlc['rise'] = df_ohlc['rise'].abs()\n",
    "\n",
    "    df_ohlc['fall'] = [df_ohlc['close'].rolling(i).apply(lambda x: x[0]-x[-1], raw=True).min()\n",
    "                       for i in range(1, len(df_ohlc)+1)]\n",
    "    df_ohlc.fall = df_ohlc.fall.abs()\n",
    "\n",
    "    df_ohlc = df_ohlc.assign(sd=df_ohlc.close.expanding(1).std(ddof=0))\n",
    "    df_ohlc.sd = df_ohlc.sd.expanding(1).max() # roll the standard deviation upwards\n",
    "\n",
    "    undPrice = {c.symbol: ib.reqTickers(c)[0].marketPrice()} # ASYNC THIS\n",
    "    \n",
    "\n",
    "    # ASYNC THIS\n",
    "    chains = {c.symbol: ib.reqSecDefOptParams(\n",
    "        underlyingSymbol=c.symbol, futFopExchange='',\n",
    "        underlyingSecType=c.secType, underlyingConId=c.conId)[0]}\n",
    "    sek = {b for a in [list(product([k], m.expirations, m.strikes))\n",
    "                       for k, m in chains.items()] for b in a}\n",
    "\n",
    "    dfc = pd.DataFrame(list(sek), columns=['symbol', 'expiry', 'strike'])\n",
    "    dfc = dfc.assign(dte=[(util.parseIBDatetime(\n",
    "        dt)-datetime.datetime.now().date()).days for dt in dfc.expiry])    \n",
    "    dfc = dfc[dfc.dte <= data['common']['maxdte']] # Limit to max and min dte\n",
    "    dfc = dfc[dfc.dte >= data['common']['mindte']]\n",
    "    dfc = dfc.join(dfc.dte.apply(lambda x: df_ohlc.iloc[x][['rise', 'fall', 'sd']])) # integrate rise, fall and stdev\n",
    "\n",
    "    # remove the calls and puts whose strike is in the threshold of st dev\n",
    "    dfc['undPrice'] = undPrice[c.symbol]\n",
    "    dfc = dfc.assign(right=np.where(dfc.strike >= dfc.undPrice, 'C', 'P'))\n",
    "    c_mask = (dfc.right == 'C') & (dfc.strike > dfc.undPrice + data['common']['callstdmult']*dfc.sd)\n",
    "    p_mask = (dfc.right == 'P') & (dfc.strike < dfc.undPrice - data['common']['putstdmult']*dfc.sd)\n",
    "    dfc = dfc[c_mask | p_mask].reset_index(drop=True)\n",
    "\n",
    "    # Based on filter selection in json weed out...\n",
    "    dfc = dfc.assign(strikeRef = np.where(dfc.right == 'P', \n",
    "                                          dfc.undPrice-dfc.fall, \n",
    "                                          dfc.undPrice+dfc.rise))\n",
    "\n",
    "    if data['common']['callRise']:\n",
    "        dfc = dfc[~((dfc.right == 'C') & (dfc.strike < dfc.strikeRef))].reset_index(drop=True)\n",
    "\n",
    "    if data['common']['putFall']:\n",
    "        dfc = dfc[~((dfc.right =='P') & (dfc.strike > dfc.strikeRef))].reset_index(drop=True)\n",
    "\n",
    "    if data['common']['onlyPuts']:\n",
    "        dfc = dfc[dfc.right == 'P'].reset_index(drop=True)\n",
    "\n",
    "    # limit to nBands\n",
    "    nBand = data['common']['nBand']\n",
    "    gb = dfc.groupby(['right'])\n",
    "\n",
    "    if 'C' in [k for k in gb.indices]:\n",
    "        df_calls = gb.get_group('C').reset_index(drop=True).sort_values(['symbol', 'dte', 'strike'], ascending=[True, True, True])\n",
    "        df_calls = df_calls.groupby(['symbol', 'dte']).head(nBand)\n",
    "    else:\n",
    "        df_calls = pd.DataFrame([])\n",
    "\n",
    "    if 'P' in [k for k in gb.indices]:\n",
    "        df_puts = gb.get_group('P').reset_index(drop=True).sort_values(['symbol', 'dte', 'strike'], ascending=[True, True, False])\n",
    "        df_puts = df_puts.groupby(['symbol', 'dte']).head(nBand)\n",
    "    else:\n",
    "        df_puts =  pd.DataFrame([])\n",
    "\n",
    "    dfc = pd.concat([df_puts, df_calls]).reset_index(drop=True)\n",
    "\n",
    "    # qualify the options\n",
    "    opts = [Option(i.symbol, i.expiry, i.strike, i.right, data[market]['exchange']) for i in dfc[['symbol', 'expiry', 'strike', 'right']].itertuples()]\n",
    "    qual_opts = ib.qualifyContracts(*opts) # ASYNC THIS\n",
    "\n",
    "    df_qo = util.df(qual_opts).iloc[:, 1:6].rename(columns={'lastTradeDateOrContractMonth': 'expiry'})\n",
    "    df_qo = df_qo.set_index(['symbol', 'expiry', 'strike', 'right']).join(\n",
    "            dfc.set_index(['symbol', 'expiry', 'strike', 'right'])).reset_index()\n",
    "            \n",
    "    qo_ticks = ib.reqTickers(*qual_opts) # ASYNC THIS\n",
    "    optPrice = {q.contract.conId: q.marketPrice() for q in qo_ticks}\n",
    "    df_qo = df_qo.assign(optPrice = [optPrice[cid] for cid in df_qo.conId])\n",
    "\n",
    "    # get the margins\n",
    "    mgn_ords = [Order(action='SELL', orderType='MKT', totalQuantity=1, whatIf=True) for _ in range(len(qual_opts))]\n",
    "\n",
    "    q_margins =[ib.whatIfOrder(qual_opts[i], mgn_ords[i]) for i in range(len(qual_opts))] # ASYNC THIS\n",
    "\n",
    "    margins = [abs(float(m.initMarginChange)) for m in q_margins] # makes negative margins positive\n",
    "    comm = [m.maxCommission for m in q_margins]\n",
    "    df_qo = df_qo.assign(margin = margins, comm = comm)\n",
    "    df_qo = df_qo[df_qo.margin < 1.7e7] # remove too high margin errors\n",
    "    df_qo['lot'] = 100 # needs to be changed for NSE!\n",
    "\n",
    "    df_qo = df_qo.assign(PoP=[erf(i/sqrt(2.0)) for i in abs(df_qo.strike-df_qo.undPrice)/df_qo.sd],\n",
    "                         RoM = abs((df_qo.optPrice*df_qo.lot-df_qo.comm)/df_qo.margin*365/df_qo.dte))\n",
    "\n",
    "    end = datetime.datetime.now()-start\n",
    "    print(f\"finished at {time.strftime('%X')} in {end.microseconds*1e-6:.2f} seconds\")"
   ],
   "cell_type": "code",
   "outputs": [
    {
     "output_type": "stream",
     "name": "stdout",
     "text": "started at 10:23:48\nError 200, reqId 524919: No security definition has been found for the request, contract: Option(symbol='FDX', lastTradeDateOrContractMonth='20200117', strike=138.0, right='P', exchange='SMART')\nError 200, reqId 524920: No security definition has been found for the request, contract: Option(symbol='FDX', lastTradeDateOrContractMonth='20200117', strike=137.0, right='P', exchange='SMART')\nError 200, reqId 524921: No security definition has been found for the request, contract: Option(symbol='FDX', lastTradeDateOrContractMonth='20200117', strike=136.0, right='P', exchange='SMART')\nError 200, reqId 524922: No security definition has been found for the request, contract: Option(symbol='FDX', lastTradeDateOrContractMonth='20200124', strike=131.0, right='P', exchange='SMART')\nError 200, reqId 524924: No security definition has been found for the request, contract: Option(symbol='FDX', lastTradeDateOrContractMonth='20200124', strike=129.0, right='P', exchange='SMART')\nError 200, reqId 524941: No security definition has been found for the request, contract: Option(symbol='FDX', lastTradeDateOrContractMonth='20200117', strike=187.5, right='C', exchange='SMART')\nUnknown contract: Option(symbol='FDX', lastTradeDateOrContractMonth='20200117', strike=138.0, right='P', exchange='SMART')\nUnknown contract: Option(symbol='FDX', lastTradeDateOrContractMonth='20200117', strike=137.0, right='P', exchange='SMART')\nUnknown contract: Option(symbol='FDX', lastTradeDateOrContractMonth='20200117', strike=136.0, right='P', exchange='SMART')\nUnknown contract: Option(symbol='FDX', lastTradeDateOrContractMonth='20200124', strike=131.0, right='P', exchange='SMART')\nUnknown contract: Option(symbol='FDX', lastTradeDateOrContractMonth='20200124', strike=129.0, right='P', exchange='SMART')\nUnknown contract: Option(symbol='FDX', lastTradeDateOrContractMonth='20200117', strike=187.5, right='C', exchange='SMART')\nfinished at 10:24:27 in 0.93 seconds\n"
    }
   ],
   "metadata": {},
   "execution_count": 60
  },
  {
   "cell_type": "code",
   "metadata": {},
   "outputs": [],
   "source": [
    "with IB().connect(host=host, port=port, clientId=cid) as ib:"
   ]
  },
  {
   "source": [
    "df_qo"
   ],
   "cell_type": "code",
   "outputs": [
    {
     "output_type": "execute_result",
     "data": {
      "text/plain": "   symbol    expiry  strike right      conId  dte   rise   fall        sd  \\\n0     FDX  20191213   145.0     P  389803576    4  13.51  37.11  2.394806   \n1     FDX  20191213   144.0     P  389803558    4  13.51  37.11  2.394806   \n2     FDX  20191213   143.0     P  389803551    4  13.51  37.11  2.394806   \n3     FDX  20191220   141.0     P  394869462   11  23.98  67.53  3.615123   \n4     FDX  20191220   140.0     P  388155860   11  23.98  67.53  3.615123   \n5     FDX  20191220   139.0     P  394869459   11  23.98  67.53  3.615123   \n6     FDX  20191227   141.0     P  392654012   18  26.08  72.53  3.615123   \n7     FDX  20191227   140.0     P  391429474   18  26.08  72.53  3.615123   \n8     FDX  20191227   139.0     P  394200324   18  26.08  72.53  3.615123   \n9     FDX  20200103   140.0     P  392654258   25  25.17  75.11  4.089853   \n10    FDX  20200103   139.0     P  394200401   25  25.17  75.11  4.089853   \n11    FDX  20200103   138.0     P  394200394   25  25.17  75.11  4.089853   \n12    FDX  20200110   140.0     P  393293170   32  28.39  74.07  4.089853   \n13    FDX  20200110   139.0     P  394200549   32  28.39  74.07  4.089853   \n14    FDX  20200110   138.0     P  394200544   32  28.39  74.07  4.089853   \n15    FDX  20200124   130.0     P  394869725   46  28.44  70.76  7.073085   \n16    FDX  20191213   167.5     C  389803306    4  13.51  37.11  2.394806   \n17    FDX  20191213   170.0     C  389803323    4  13.51  37.11  2.394806   \n18    FDX  20191213   172.5     C  389803334    4  13.51  37.11  2.394806   \n19    FDX  20191220   177.5     C  391837094   11  23.98  67.53  3.615123   \n20    FDX  20191220   180.0     C  388155694   11  23.98  67.53  3.615123   \n21    FDX  20191220   182.5     C  391837111   11  23.98  67.53  3.615123   \n22    FDX  20191227   180.0     C  390670178   18  26.08  72.53  3.615123   \n23    FDX  20191227   182.5     C  390670198   18  26.08  72.53  3.615123   \n24    FDX  20191227   185.0     C  390670204   18  26.08  72.53  3.615123   \n25    FDX  20200103   180.0     C  392654243   25  25.17  75.11  4.089853   \n26    FDX  20200103   182.5     C  393292790   25  25.17  75.11  4.089853   \n27    FDX  20200103   185.0     C  392654246   25  25.17  75.11  4.089853   \n28    FDX  20200110   182.5     C  393293146   32  28.39  74.07  4.089853   \n29    FDX  20200110   185.0     C  393293151   32  28.39  74.07  4.089853   \n30    FDX  20200110   187.5     C  394200511   32  28.39  74.07  4.089853   \n31    FDX  20200117   185.0     C  288711336   39  29.58  65.42  4.790081   \n32    FDX  20200117   190.0     C  288711341   39  29.58  65.42  4.790081   \n33    FDX  20200124   182.5     C  394200974   46  28.44  70.76  7.073085   \n34    FDX  20200124   185.0     C  394200995   46  28.44  70.76  7.073085   \n35    FDX  20200124   187.5     C  394201004   46  28.44  70.76  7.073085   \n\n    undPrice  strikeRef  optPrice   margin      comm  lot       PoP  \\\n0     153.29     116.18      0.44  1386.91  1.596043  100  0.999463   \n1     153.29     116.18      0.35  1305.47  1.596002  100  0.999895   \n2     153.29     116.18      0.29  1227.65  1.595974  100  0.999983   \n3     153.29      85.76      1.82  1599.84  1.598442  100  0.999325   \n4     153.29      85.76      1.69  1546.61  1.598158  100  0.999763   \n5     153.29      85.76      1.48  1495.23  1.597912  100  0.999923   \n6     153.29      80.76      2.17  1608.28  1.598901  100  0.999325   \n7     153.29      80.76      1.97  1560.79  1.598585  100  0.999763   \n8     153.29      80.76      1.78  1509.42  1.598321  100  0.999923   \n9     153.29      78.18      2.23  1548.07  1.599078  100  0.998844   \n10    153.29      78.18      2.03  1502.96  1.598781  100  0.999524   \n11    153.29      78.18      1.85  1459.80  1.598508  100  0.999815   \n12    153.29      79.22      2.48  1523.25  1.599579  100  0.998844   \n13    153.29      79.22      2.28  1481.08  1.599273  100  0.999524   \n14    153.29      79.22      2.10  1445.87  1.598989  100  0.999815   \n15    153.29      82.53      1.04  1055.77  1.597708  100  0.999008   \n16    153.29     166.80      0.07     2.34  1.595937  100  1.000000   \n17    153.29     166.80      0.06     1.06  1.595884  100  1.000000   \n18    153.29     166.80      0.05     0.47  1.595855  100  1.000000   \n19    153.29     177.27      0.34    16.55  1.596729  100  1.000000   \n20    153.29     177.27      0.25    18.89  1.596454  100  1.000000   \n21    153.29     177.27      0.17    21.68  1.596303  100  1.000000   \n22    153.29     179.37      0.35    17.45  1.596729  100  1.000000   \n23    153.29     179.37      0.26    20.05  1.596479  100  1.000000   \n24    153.29     179.37      0.20    19.05  1.596224  100  1.000000   \n25    153.29     178.46      0.47     6.80  1.597048  100  1.000000   \n26    153.29     178.46      0.36    13.93  1.596747  100  1.000000   \n27    153.29     178.46      0.29    16.35  1.596517  100  1.000000   \n28    153.29     181.68      0.44     0.89  1.597017  100  1.000000   \n29    153.29     181.68      0.35     6.99  1.596724  100  1.000000   \n30    153.29     181.68      0.28    10.21  1.596517  100  1.000000   \n31    153.29     182.87      0.41     6.21  1.596814  100  1.000000   \n32    153.29     182.87      0.21     3.33  1.596376  100  1.000000   \n33    153.29     181.73      0.63    28.41  1.597412  100  0.999964   \n34    153.29     181.73      0.48    19.73  1.597047  100  0.999993   \n35    153.29     181.73      0.38    10.53  1.596761  100  0.999999   \n\n           RoM  \n0     2.789915  \n1     2.334879  \n2     2.036914  \n3     3.741656  \n4     3.591531  \n5     3.248923  \n6     2.715855  \n7     2.538654  \n8     2.369807  \n9     2.088054  \n10    1.956444  \n11    1.834266  \n12    1.845071  \n13    1.743581  \n14    1.644044  \n15    0.769618  \n16  210.735347  \n17  379.127906  \n18  660.911072  \n19   64.966735  \n20   41.110228  \n21   23.575769  \n22   38.816281  \n23   24.680757  \n24   19.589904  \n25   97.482808  \n26   36.057968  \n27   24.470388  \n28  543.437112  \n29   54.507313  \n30   29.497035  \n31   59.383801  \n32   54.533940  \n33   17.149461  \n34   18.661802  \n35   27.431319  ",
      "text/html": "<div>\n<style scoped>\n    .dataframe tbody tr th:only-of-type {\n        vertical-align: middle;\n    }\n\n    .dataframe tbody tr th {\n        vertical-align: top;\n    }\n\n    .dataframe thead th {\n        text-align: right;\n    }\n</style>\n<table border=\"1\" class=\"dataframe\">\n  <thead>\n    <tr style=\"text-align: right;\">\n      <th></th>\n      <th>symbol</th>\n      <th>expiry</th>\n      <th>strike</th>\n      <th>right</th>\n      <th>conId</th>\n      <th>dte</th>\n      <th>rise</th>\n      <th>fall</th>\n      <th>sd</th>\n      <th>undPrice</th>\n      <th>strikeRef</th>\n      <th>optPrice</th>\n      <th>margin</th>\n      <th>comm</th>\n      <th>lot</th>\n      <th>PoP</th>\n      <th>RoM</th>\n    </tr>\n  </thead>\n  <tbody>\n    <tr>\n      <th>0</th>\n      <td>FDX</td>\n      <td>20191213</td>\n      <td>145.0</td>\n      <td>P</td>\n      <td>389803576</td>\n      <td>4</td>\n      <td>13.51</td>\n      <td>37.11</td>\n      <td>2.394806</td>\n      <td>153.29</td>\n      <td>116.18</td>\n      <td>0.44</td>\n      <td>1386.91</td>\n      <td>1.596043</td>\n      <td>100</td>\n      <td>0.999463</td>\n      <td>2.789915</td>\n    </tr>\n    <tr>\n      <th>1</th>\n      <td>FDX</td>\n      <td>20191213</td>\n      <td>144.0</td>\n      <td>P</td>\n      <td>389803558</td>\n      <td>4</td>\n      <td>13.51</td>\n      <td>37.11</td>\n      <td>2.394806</td>\n      <td>153.29</td>\n      <td>116.18</td>\n      <td>0.35</td>\n      <td>1305.47</td>\n      <td>1.596002</td>\n      <td>100</td>\n      <td>0.999895</td>\n      <td>2.334879</td>\n    </tr>\n    <tr>\n      <th>2</th>\n      <td>FDX</td>\n      <td>20191213</td>\n      <td>143.0</td>\n      <td>P</td>\n      <td>389803551</td>\n      <td>4</td>\n      <td>13.51</td>\n      <td>37.11</td>\n      <td>2.394806</td>\n      <td>153.29</td>\n      <td>116.18</td>\n      <td>0.29</td>\n      <td>1227.65</td>\n      <td>1.595974</td>\n      <td>100</td>\n      <td>0.999983</td>\n      <td>2.036914</td>\n    </tr>\n    <tr>\n      <th>3</th>\n      <td>FDX</td>\n      <td>20191220</td>\n      <td>141.0</td>\n      <td>P</td>\n      <td>394869462</td>\n      <td>11</td>\n      <td>23.98</td>\n      <td>67.53</td>\n      <td>3.615123</td>\n      <td>153.29</td>\n      <td>85.76</td>\n      <td>1.82</td>\n      <td>1599.84</td>\n      <td>1.598442</td>\n      <td>100</td>\n      <td>0.999325</td>\n      <td>3.741656</td>\n    </tr>\n    <tr>\n      <th>4</th>\n      <td>FDX</td>\n      <td>20191220</td>\n      <td>140.0</td>\n      <td>P</td>\n      <td>388155860</td>\n      <td>11</td>\n      <td>23.98</td>\n      <td>67.53</td>\n      <td>3.615123</td>\n      <td>153.29</td>\n      <td>85.76</td>\n      <td>1.69</td>\n      <td>1546.61</td>\n      <td>1.598158</td>\n      <td>100</td>\n      <td>0.999763</td>\n      <td>3.591531</td>\n    </tr>\n    <tr>\n      <th>5</th>\n      <td>FDX</td>\n      <td>20191220</td>\n      <td>139.0</td>\n      <td>P</td>\n      <td>394869459</td>\n      <td>11</td>\n      <td>23.98</td>\n      <td>67.53</td>\n      <td>3.615123</td>\n      <td>153.29</td>\n      <td>85.76</td>\n      <td>1.48</td>\n      <td>1495.23</td>\n      <td>1.597912</td>\n      <td>100</td>\n      <td>0.999923</td>\n      <td>3.248923</td>\n    </tr>\n    <tr>\n      <th>6</th>\n      <td>FDX</td>\n      <td>20191227</td>\n      <td>141.0</td>\n      <td>P</td>\n      <td>392654012</td>\n      <td>18</td>\n      <td>26.08</td>\n      <td>72.53</td>\n      <td>3.615123</td>\n      <td>153.29</td>\n      <td>80.76</td>\n      <td>2.17</td>\n      <td>1608.28</td>\n      <td>1.598901</td>\n      <td>100</td>\n      <td>0.999325</td>\n      <td>2.715855</td>\n    </tr>\n    <tr>\n      <th>7</th>\n      <td>FDX</td>\n      <td>20191227</td>\n      <td>140.0</td>\n      <td>P</td>\n      <td>391429474</td>\n      <td>18</td>\n      <td>26.08</td>\n      <td>72.53</td>\n      <td>3.615123</td>\n      <td>153.29</td>\n      <td>80.76</td>\n      <td>1.97</td>\n      <td>1560.79</td>\n      <td>1.598585</td>\n      <td>100</td>\n      <td>0.999763</td>\n      <td>2.538654</td>\n    </tr>\n    <tr>\n      <th>8</th>\n      <td>FDX</td>\n      <td>20191227</td>\n      <td>139.0</td>\n      <td>P</td>\n      <td>394200324</td>\n      <td>18</td>\n      <td>26.08</td>\n      <td>72.53</td>\n      <td>3.615123</td>\n      <td>153.29</td>\n      <td>80.76</td>\n      <td>1.78</td>\n      <td>1509.42</td>\n      <td>1.598321</td>\n      <td>100</td>\n      <td>0.999923</td>\n      <td>2.369807</td>\n    </tr>\n    <tr>\n      <th>9</th>\n      <td>FDX</td>\n      <td>20200103</td>\n      <td>140.0</td>\n      <td>P</td>\n      <td>392654258</td>\n      <td>25</td>\n      <td>25.17</td>\n      <td>75.11</td>\n      <td>4.089853</td>\n      <td>153.29</td>\n      <td>78.18</td>\n      <td>2.23</td>\n      <td>1548.07</td>\n      <td>1.599078</td>\n      <td>100</td>\n      <td>0.998844</td>\n      <td>2.088054</td>\n    </tr>\n    <tr>\n      <th>10</th>\n      <td>FDX</td>\n      <td>20200103</td>\n      <td>139.0</td>\n      <td>P</td>\n      <td>394200401</td>\n      <td>25</td>\n      <td>25.17</td>\n      <td>75.11</td>\n      <td>4.089853</td>\n      <td>153.29</td>\n      <td>78.18</td>\n      <td>2.03</td>\n      <td>1502.96</td>\n      <td>1.598781</td>\n      <td>100</td>\n      <td>0.999524</td>\n      <td>1.956444</td>\n    </tr>\n    <tr>\n      <th>11</th>\n      <td>FDX</td>\n      <td>20200103</td>\n      <td>138.0</td>\n      <td>P</td>\n      <td>394200394</td>\n      <td>25</td>\n      <td>25.17</td>\n      <td>75.11</td>\n      <td>4.089853</td>\n      <td>153.29</td>\n      <td>78.18</td>\n      <td>1.85</td>\n      <td>1459.80</td>\n      <td>1.598508</td>\n      <td>100</td>\n      <td>0.999815</td>\n      <td>1.834266</td>\n    </tr>\n    <tr>\n      <th>12</th>\n      <td>FDX</td>\n      <td>20200110</td>\n      <td>140.0</td>\n      <td>P</td>\n      <td>393293170</td>\n      <td>32</td>\n      <td>28.39</td>\n      <td>74.07</td>\n      <td>4.089853</td>\n      <td>153.29</td>\n      <td>79.22</td>\n      <td>2.48</td>\n      <td>1523.25</td>\n      <td>1.599579</td>\n      <td>100</td>\n      <td>0.998844</td>\n      <td>1.845071</td>\n    </tr>\n    <tr>\n      <th>13</th>\n      <td>FDX</td>\n      <td>20200110</td>\n      <td>139.0</td>\n      <td>P</td>\n      <td>394200549</td>\n      <td>32</td>\n      <td>28.39</td>\n      <td>74.07</td>\n      <td>4.089853</td>\n      <td>153.29</td>\n      <td>79.22</td>\n      <td>2.28</td>\n      <td>1481.08</td>\n      <td>1.599273</td>\n      <td>100</td>\n      <td>0.999524</td>\n      <td>1.743581</td>\n    </tr>\n    <tr>\n      <th>14</th>\n      <td>FDX</td>\n      <td>20200110</td>\n      <td>138.0</td>\n      <td>P</td>\n      <td>394200544</td>\n      <td>32</td>\n      <td>28.39</td>\n      <td>74.07</td>\n      <td>4.089853</td>\n      <td>153.29</td>\n      <td>79.22</td>\n      <td>2.10</td>\n      <td>1445.87</td>\n      <td>1.598989</td>\n      <td>100</td>\n      <td>0.999815</td>\n      <td>1.644044</td>\n    </tr>\n    <tr>\n      <th>15</th>\n      <td>FDX</td>\n      <td>20200124</td>\n      <td>130.0</td>\n      <td>P</td>\n      <td>394869725</td>\n      <td>46</td>\n      <td>28.44</td>\n      <td>70.76</td>\n      <td>7.073085</td>\n      <td>153.29</td>\n      <td>82.53</td>\n      <td>1.04</td>\n      <td>1055.77</td>\n      <td>1.597708</td>\n      <td>100</td>\n      <td>0.999008</td>\n      <td>0.769618</td>\n    </tr>\n    <tr>\n      <th>16</th>\n      <td>FDX</td>\n      <td>20191213</td>\n      <td>167.5</td>\n      <td>C</td>\n      <td>389803306</td>\n      <td>4</td>\n      <td>13.51</td>\n      <td>37.11</td>\n      <td>2.394806</td>\n      <td>153.29</td>\n      <td>166.80</td>\n      <td>0.07</td>\n      <td>2.34</td>\n      <td>1.595937</td>\n      <td>100</td>\n      <td>1.000000</td>\n      <td>210.735347</td>\n    </tr>\n    <tr>\n      <th>17</th>\n      <td>FDX</td>\n      <td>20191213</td>\n      <td>170.0</td>\n      <td>C</td>\n      <td>389803323</td>\n      <td>4</td>\n      <td>13.51</td>\n      <td>37.11</td>\n      <td>2.394806</td>\n      <td>153.29</td>\n      <td>166.80</td>\n      <td>0.06</td>\n      <td>1.06</td>\n      <td>1.595884</td>\n      <td>100</td>\n      <td>1.000000</td>\n      <td>379.127906</td>\n    </tr>\n    <tr>\n      <th>18</th>\n      <td>FDX</td>\n      <td>20191213</td>\n      <td>172.5</td>\n      <td>C</td>\n      <td>389803334</td>\n      <td>4</td>\n      <td>13.51</td>\n      <td>37.11</td>\n      <td>2.394806</td>\n      <td>153.29</td>\n      <td>166.80</td>\n      <td>0.05</td>\n      <td>0.47</td>\n      <td>1.595855</td>\n      <td>100</td>\n      <td>1.000000</td>\n      <td>660.911072</td>\n    </tr>\n    <tr>\n      <th>19</th>\n      <td>FDX</td>\n      <td>20191220</td>\n      <td>177.5</td>\n      <td>C</td>\n      <td>391837094</td>\n      <td>11</td>\n      <td>23.98</td>\n      <td>67.53</td>\n      <td>3.615123</td>\n      <td>153.29</td>\n      <td>177.27</td>\n      <td>0.34</td>\n      <td>16.55</td>\n      <td>1.596729</td>\n      <td>100</td>\n      <td>1.000000</td>\n      <td>64.966735</td>\n    </tr>\n    <tr>\n      <th>20</th>\n      <td>FDX</td>\n      <td>20191220</td>\n      <td>180.0</td>\n      <td>C</td>\n      <td>388155694</td>\n      <td>11</td>\n      <td>23.98</td>\n      <td>67.53</td>\n      <td>3.615123</td>\n      <td>153.29</td>\n      <td>177.27</td>\n      <td>0.25</td>\n      <td>18.89</td>\n      <td>1.596454</td>\n      <td>100</td>\n      <td>1.000000</td>\n      <td>41.110228</td>\n    </tr>\n    <tr>\n      <th>21</th>\n      <td>FDX</td>\n      <td>20191220</td>\n      <td>182.5</td>\n      <td>C</td>\n      <td>391837111</td>\n      <td>11</td>\n      <td>23.98</td>\n      <td>67.53</td>\n      <td>3.615123</td>\n      <td>153.29</td>\n      <td>177.27</td>\n      <td>0.17</td>\n      <td>21.68</td>\n      <td>1.596303</td>\n      <td>100</td>\n      <td>1.000000</td>\n      <td>23.575769</td>\n    </tr>\n    <tr>\n      <th>22</th>\n      <td>FDX</td>\n      <td>20191227</td>\n      <td>180.0</td>\n      <td>C</td>\n      <td>390670178</td>\n      <td>18</td>\n      <td>26.08</td>\n      <td>72.53</td>\n      <td>3.615123</td>\n      <td>153.29</td>\n      <td>179.37</td>\n      <td>0.35</td>\n      <td>17.45</td>\n      <td>1.596729</td>\n      <td>100</td>\n      <td>1.000000</td>\n      <td>38.816281</td>\n    </tr>\n    <tr>\n      <th>23</th>\n      <td>FDX</td>\n      <td>20191227</td>\n      <td>182.5</td>\n      <td>C</td>\n      <td>390670198</td>\n      <td>18</td>\n      <td>26.08</td>\n      <td>72.53</td>\n      <td>3.615123</td>\n      <td>153.29</td>\n      <td>179.37</td>\n      <td>0.26</td>\n      <td>20.05</td>\n      <td>1.596479</td>\n      <td>100</td>\n      <td>1.000000</td>\n      <td>24.680757</td>\n    </tr>\n    <tr>\n      <th>24</th>\n      <td>FDX</td>\n      <td>20191227</td>\n      <td>185.0</td>\n      <td>C</td>\n      <td>390670204</td>\n      <td>18</td>\n      <td>26.08</td>\n      <td>72.53</td>\n      <td>3.615123</td>\n      <td>153.29</td>\n      <td>179.37</td>\n      <td>0.20</td>\n      <td>19.05</td>\n      <td>1.596224</td>\n      <td>100</td>\n      <td>1.000000</td>\n      <td>19.589904</td>\n    </tr>\n    <tr>\n      <th>25</th>\n      <td>FDX</td>\n      <td>20200103</td>\n      <td>180.0</td>\n      <td>C</td>\n      <td>392654243</td>\n      <td>25</td>\n      <td>25.17</td>\n      <td>75.11</td>\n      <td>4.089853</td>\n      <td>153.29</td>\n      <td>178.46</td>\n      <td>0.47</td>\n      <td>6.80</td>\n      <td>1.597048</td>\n      <td>100</td>\n      <td>1.000000</td>\n      <td>97.482808</td>\n    </tr>\n    <tr>\n      <th>26</th>\n      <td>FDX</td>\n      <td>20200103</td>\n      <td>182.5</td>\n      <td>C</td>\n      <td>393292790</td>\n      <td>25</td>\n      <td>25.17</td>\n      <td>75.11</td>\n      <td>4.089853</td>\n      <td>153.29</td>\n      <td>178.46</td>\n      <td>0.36</td>\n      <td>13.93</td>\n      <td>1.596747</td>\n      <td>100</td>\n      <td>1.000000</td>\n      <td>36.057968</td>\n    </tr>\n    <tr>\n      <th>27</th>\n      <td>FDX</td>\n      <td>20200103</td>\n      <td>185.0</td>\n      <td>C</td>\n      <td>392654246</td>\n      <td>25</td>\n      <td>25.17</td>\n      <td>75.11</td>\n      <td>4.089853</td>\n      <td>153.29</td>\n      <td>178.46</td>\n      <td>0.29</td>\n      <td>16.35</td>\n      <td>1.596517</td>\n      <td>100</td>\n      <td>1.000000</td>\n      <td>24.470388</td>\n    </tr>\n    <tr>\n      <th>28</th>\n      <td>FDX</td>\n      <td>20200110</td>\n      <td>182.5</td>\n      <td>C</td>\n      <td>393293146</td>\n      <td>32</td>\n      <td>28.39</td>\n      <td>74.07</td>\n      <td>4.089853</td>\n      <td>153.29</td>\n      <td>181.68</td>\n      <td>0.44</td>\n      <td>0.89</td>\n      <td>1.597017</td>\n      <td>100</td>\n      <td>1.000000</td>\n      <td>543.437112</td>\n    </tr>\n    <tr>\n      <th>29</th>\n      <td>FDX</td>\n      <td>20200110</td>\n      <td>185.0</td>\n      <td>C</td>\n      <td>393293151</td>\n      <td>32</td>\n      <td>28.39</td>\n      <td>74.07</td>\n      <td>4.089853</td>\n      <td>153.29</td>\n      <td>181.68</td>\n      <td>0.35</td>\n      <td>6.99</td>\n      <td>1.596724</td>\n      <td>100</td>\n      <td>1.000000</td>\n      <td>54.507313</td>\n    </tr>\n    <tr>\n      <th>30</th>\n      <td>FDX</td>\n      <td>20200110</td>\n      <td>187.5</td>\n      <td>C</td>\n      <td>394200511</td>\n      <td>32</td>\n      <td>28.39</td>\n      <td>74.07</td>\n      <td>4.089853</td>\n      <td>153.29</td>\n      <td>181.68</td>\n      <td>0.28</td>\n      <td>10.21</td>\n      <td>1.596517</td>\n      <td>100</td>\n      <td>1.000000</td>\n      <td>29.497035</td>\n    </tr>\n    <tr>\n      <th>31</th>\n      <td>FDX</td>\n      <td>20200117</td>\n      <td>185.0</td>\n      <td>C</td>\n      <td>288711336</td>\n      <td>39</td>\n      <td>29.58</td>\n      <td>65.42</td>\n      <td>4.790081</td>\n      <td>153.29</td>\n      <td>182.87</td>\n      <td>0.41</td>\n      <td>6.21</td>\n      <td>1.596814</td>\n      <td>100</td>\n      <td>1.000000</td>\n      <td>59.383801</td>\n    </tr>\n    <tr>\n      <th>32</th>\n      <td>FDX</td>\n      <td>20200117</td>\n      <td>190.0</td>\n      <td>C</td>\n      <td>288711341</td>\n      <td>39</td>\n      <td>29.58</td>\n      <td>65.42</td>\n      <td>4.790081</td>\n      <td>153.29</td>\n      <td>182.87</td>\n      <td>0.21</td>\n      <td>3.33</td>\n      <td>1.596376</td>\n      <td>100</td>\n      <td>1.000000</td>\n      <td>54.533940</td>\n    </tr>\n    <tr>\n      <th>33</th>\n      <td>FDX</td>\n      <td>20200124</td>\n      <td>182.5</td>\n      <td>C</td>\n      <td>394200974</td>\n      <td>46</td>\n      <td>28.44</td>\n      <td>70.76</td>\n      <td>7.073085</td>\n      <td>153.29</td>\n      <td>181.73</td>\n      <td>0.63</td>\n      <td>28.41</td>\n      <td>1.597412</td>\n      <td>100</td>\n      <td>0.999964</td>\n      <td>17.149461</td>\n    </tr>\n    <tr>\n      <th>34</th>\n      <td>FDX</td>\n      <td>20200124</td>\n      <td>185.0</td>\n      <td>C</td>\n      <td>394200995</td>\n      <td>46</td>\n      <td>28.44</td>\n      <td>70.76</td>\n      <td>7.073085</td>\n      <td>153.29</td>\n      <td>181.73</td>\n      <td>0.48</td>\n      <td>19.73</td>\n      <td>1.597047</td>\n      <td>100</td>\n      <td>0.999993</td>\n      <td>18.661802</td>\n    </tr>\n    <tr>\n      <th>35</th>\n      <td>FDX</td>\n      <td>20200124</td>\n      <td>187.5</td>\n      <td>C</td>\n      <td>394201004</td>\n      <td>46</td>\n      <td>28.44</td>\n      <td>70.76</td>\n      <td>7.073085</td>\n      <td>153.29</td>\n      <td>181.73</td>\n      <td>0.38</td>\n      <td>10.53</td>\n      <td>1.596761</td>\n      <td>100</td>\n      <td>0.999999</td>\n      <td>27.431319</td>\n    </tr>\n  </tbody>\n</table>\n</div>"
     },
     "metadata": {},
     "execution_count": 61
    }
   ],
   "metadata": {},
   "execution_count": 61
  },
  {
   "cell_type": "code",
   "metadata": {},
   "outputs": [],
   "source": []
  },
  {
   "cell_type": "code",
   "metadata": {},
   "outputs": [],
   "source": [
    "df_qo.dtypes"
   ]
  },
  {
   "cell_type": "code",
   "metadata": {},
   "outputs": [],
   "source": []
  }
 ],
 "metadata": {
  "kernelspec": {
   "display_name": "Python 3",
   "language": "python",
   "name": "python3"
  },
  "language_info": {
   "codemirror_mode": {
    "name": "ipython",
    "version": 3
   },
   "file_extension": ".py",
   "mimetype": "text/x-python",
   "name": "python",
   "nbconvert_exporter": "python",
   "pygments_lexer": "ipython3",
   "version": "3.7.1"
  }
 },
 "nbformat": 4,
 "nbformat_minor": 2
}