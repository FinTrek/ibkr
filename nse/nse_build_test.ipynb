{
 "cells": [
  {
   "cell_type": "code",
   "execution_count": 1,
   "metadata": {},
   "outputs": [
    {
     "name": "stderr",
     "output_type": "stream",
     "text": [
      "Peer closed connection\n"
     ]
    }
   ],
   "source": [
    "# NSE scanner and pickler\n",
    "\n",
    "# STATUS: WIP\n",
    "# Run-time: \n",
    "\n",
    "#***          Start ib_insync (run once)       *****\n",
    "#_______________________________________________\n",
    "\n",
    "from ib_insync import *\n",
    "util.startLoop()\n",
    "ib = IB().connect('127.0.0.1', 3000, clientId=1)"
   ]
  },
  {
   "cell_type": "code",
   "execution_count": null,
   "metadata": {},
   "outputs": [],
   "source": [
    "%%time\n",
    "\n",
    "import pandas as pd\n",
    "import numpy as np\n",
    "import itertools\n",
    "import datetime\n",
    "from math import sqrt\n",
    "import os\n",
    "\n",
    "# to import library functions\n",
    "import sys\n",
    "sys.path.append('..') # add the parent directory to sys.path\n",
    "from lib.ibkr import get_hist, get_dividend_ticker, catch, get_dte, filter_kxdte, get_bsm\n",
    "from lib.snplist import snp_unds\n",
    "\n",
    "#... assignments\n",
    "exchange = 'NSE'\n",
    "fspath = './zdata/'\n",
    "\n",
    "maxdte = 70  # max expiry date for options\n",
    "mindte = 20  # min expiry date for options\n",
    "\n",
    "ohlc_min_dte = 45     # no of minimum dte days to determine strikes based on ohlc\n",
    "\n",
    "tradingdays = 252\n",
    "\n",
    "blks = 50"
   ]
  }
 ],
 "metadata": {
  "kernelspec": {
   "display_name": "Python 3",
   "language": "python",
   "name": "python3"
  },
  "language_info": {
   "codemirror_mode": {
    "name": "ipython",
    "version": 3
   },
   "file_extension": ".py",
   "mimetype": "text/x-python",
   "name": "python",
   "nbconvert_exporter": "python",
   "pygments_lexer": "ipython3",
   "version": "3.7.1"
  }
 },
 "nbformat": 4,
 "nbformat_minor": 2
}
