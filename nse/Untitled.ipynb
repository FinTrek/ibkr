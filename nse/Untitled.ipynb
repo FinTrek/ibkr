{
 "cells": [
  {
   "cell_type": "code",
   "execution_count": 2,
   "metadata": {},
   "outputs": [],
   "source": [
    "from ib_insync import *\n",
    "util.startLoop()\n",
    "ib = IB().connect('127.0.0.1', 7497, clientId=15)"
   ]
  },
  {
   "cell_type": "code",
   "execution_count": 8,
   "metadata": {},
   "outputs": [],
   "source": [
    "contracts = (Stock('AMD', 'SMART', 'USD'), Forex('EURUSD'), CFD('IBUS30'))"
   ]
  },
  {
   "cell_type": "code",
   "execution_count": 10,
   "metadata": {},
   "outputs": [
    {
     "data": {
      "text/plain": [
       "[Stock(conId=4391, symbol='AMD', exchange='SMART', primaryExchange='NASDAQ', currency='USD', localSymbol='AMD', tradingClass='NMS'),\n",
       " Forex('EURUSD', conId=12087792, exchange='IDEALPRO', localSymbol='EUR.USD', tradingClass='EUR.USD'),\n",
       " CFD(conId=111767879, symbol='IBUS30', exchange='SMART', currency='USD', localSymbol='IBUS30', tradingClass='IBUS30')]"
      ]
     },
     "execution_count": 10,
     "metadata": {},
     "output_type": "execute_result"
    }
   ],
   "source": [
    "ib.qualifyContracts(*contracts)"
   ]
  },
  {
   "cell_type": "code",
   "execution_count": 25,
   "metadata": {},
   "outputs": [
    {
     "data": {
      "text/plain": [
       "[Stock(conId=4391, symbol='AMD', exchange='SMART', primaryExchange='NASDAQ', currency='USD', localSymbol='AMD', tradingClass='NMS')]"
      ]
     },
     "execution_count": 25,
     "metadata": {},
     "output_type": "execute_result"
    }
   ],
   "source": [
    "[c for c in contracts if type(c) is Stock]"
   ]
  },
  {
   "cell_type": "code",
   "execution_count": 17,
   "metadata": {},
   "outputs": [
    {
     "data": {
      "text/plain": [
       "[ib_insync.contract.Stock, ib_insync.contract.Forex, ib_insync.contract.CFD]"
      ]
     },
     "execution_count": 17,
     "metadata": {},
     "output_type": "execute_result"
    }
   ],
   "source": [
    "[type(c) for c in contracts]"
   ]
  },
  {
   "cell_type": "code",
   "execution_count": 3,
   "metadata": {},
   "outputs": [
    {
     "data": {
      "text/plain": [
       "2012-01-01 00:00:00    270\n",
       "2012-01-01 00:00:01    286\n",
       "2012-01-01 00:00:02     47\n",
       "2012-01-01 00:00:03    419\n",
       "2012-01-01 00:00:04     41\n",
       "2012-01-01 00:00:05    245\n",
       "2012-01-01 00:00:06      7\n",
       "2012-01-01 00:00:07    475\n",
       "2012-01-01 00:00:08    491\n",
       "2012-01-01 00:00:09    299\n",
       "2012-01-01 00:00:10    395\n",
       "2012-01-01 00:00:11    275\n",
       "2012-01-01 00:00:12    253\n",
       "2012-01-01 00:00:13    361\n",
       "2012-01-01 00:00:14     15\n",
       "2012-01-01 00:00:15    350\n",
       "2012-01-01 00:00:16    489\n",
       "2012-01-01 00:00:17     13\n",
       "2012-01-01 00:00:18    403\n",
       "2012-01-01 00:00:19    275\n",
       "2012-01-01 00:00:20    180\n",
       "2012-01-01 00:00:21     68\n",
       "2012-01-01 00:00:22     82\n",
       "2012-01-01 00:00:23    225\n",
       "2012-01-01 00:00:24    458\n",
       "2012-01-01 00:00:25    243\n",
       "2012-01-01 00:00:26    105\n",
       "2012-01-01 00:00:27    125\n",
       "2012-01-01 00:00:28    468\n",
       "2012-01-01 00:00:29    295\n",
       "                      ... \n",
       "2012-01-01 00:01:10    443\n",
       "2012-01-01 00:01:11    435\n",
       "2012-01-01 00:01:12    209\n",
       "2012-01-01 00:01:13    253\n",
       "2012-01-01 00:01:14    378\n",
       "2012-01-01 00:01:15    245\n",
       "2012-01-01 00:01:16    468\n",
       "2012-01-01 00:01:17    121\n",
       "2012-01-01 00:01:18    255\n",
       "2012-01-01 00:01:19    403\n",
       "2012-01-01 00:01:20    444\n",
       "2012-01-01 00:01:21    237\n",
       "2012-01-01 00:01:22    135\n",
       "2012-01-01 00:01:23    125\n",
       "2012-01-01 00:01:24    268\n",
       "2012-01-01 00:01:25    472\n",
       "2012-01-01 00:01:26    215\n",
       "2012-01-01 00:01:27      4\n",
       "2012-01-01 00:01:28    206\n",
       "2012-01-01 00:01:29    305\n",
       "2012-01-01 00:01:30    322\n",
       "2012-01-01 00:01:31    448\n",
       "2012-01-01 00:01:32    237\n",
       "2012-01-01 00:01:33    219\n",
       "2012-01-01 00:01:34     36\n",
       "2012-01-01 00:01:35    174\n",
       "2012-01-01 00:01:36    341\n",
       "2012-01-01 00:01:37    445\n",
       "2012-01-01 00:01:38     46\n",
       "2012-01-01 00:01:39    165\n",
       "Freq: S, Length: 100, dtype: int32"
      ]
     },
     "execution_count": 3,
     "metadata": {},
     "output_type": "execute_result"
    }
   ],
   "source": [
    "import pandas as pd\n",
    "import numpy as np\n",
    "rng = pd.date_range('1/1/2012', periods=100, freq='S')\n",
    "ts = pd.Series(np.random.randint(0, 500, len(rng)), index=rng)\n",
    "ts"
   ]
  },
  {
   "cell_type": "code",
   "execution_count": 9,
   "metadata": {},
   "outputs": [
    {
     "data": {
      "text/plain": [
       "2012-01-01 00:00:00    2580\n",
       "2012-01-01 00:00:10    2829\n",
       "2012-01-01 00:00:20    2249\n",
       "2012-01-01 00:00:30    2406\n",
       "2012-01-01 00:00:40    3126\n",
       "2012-01-01 00:00:50    2368\n",
       "2012-01-01 00:01:00    2238\n",
       "2012-01-01 00:01:10    3210\n",
       "2012-01-01 00:01:20    2411\n",
       "2012-01-01 00:01:30    2433\n",
       "Freq: 10S, dtype: int32"
      ]
     },
     "execution_count": 9,
     "metadata": {},
     "output_type": "execute_result"
    }
   ],
   "source": [
    "ts.resample('10S').sum()"
   ]
  },
  {
   "cell_type": "code",
   "execution_count": null,
   "metadata": {},
   "outputs": [],
   "source": []
  }
 ],
 "metadata": {
  "kernelspec": {
   "display_name": "Python 3",
   "language": "python",
   "name": "python3"
  },
  "language_info": {
   "codemirror_mode": {
    "name": "ipython",
    "version": 3
   },
   "file_extension": ".py",
   "mimetype": "text/x-python",
   "name": "python",
   "nbconvert_exporter": "python",
   "pygments_lexer": "ipython3",
   "version": "3.7.1"
  }
 },
 "nbformat": 4,
 "nbformat_minor": 2
}
