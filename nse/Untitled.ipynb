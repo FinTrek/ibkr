{
 "cells": [
  {
   "cell_type": "code",
   "execution_count": null,
   "metadata": {},
   "outputs": [],
   "source": [
    "from ib_insync import *\n",
    "util.startLoop()\n",
    "ib = IB().connect('127.0.0.1', 3000, clientId=15)\n",
    "\n",
    "contract = Option(symbol='YESBANK', lastTradeDateOrContractMonth='20190328', strike=200, right='P', exchange='NSE')\n",
    "\n",
    "ib.qualifyContracts(contract)\n",
    "\n",
    "import numpy as np\n",
    "def get_ticker(contract):\n",
    "    '''Gets ticker of the contract\n",
    "    Arg: (contract) as a qualified contract object with conId\n",
    "    Returns: ticker'''\n",
    "    \n",
    "    ib.reqMktData(contract, '', snapshot=False, regulatorySnapshot=False) # request ticker stream\n",
    "\n",
    "    ticker = ib.ticker(contract)\n",
    "    \n",
    "    # Ensure the ticker is filled\n",
    "    while np.isnan(ticker.close):\n",
    "        ib.sleep(0.1)\n",
    "\n",
    "    ib.cancelMktData(contract)\n",
    "       \n",
    "    return ticker\n",
    "\n",
    "get_ticker(contract)\n",
    "\n",
    "ib.disconnect()"
   ]
  }
 ],
 "metadata": {
  "kernelspec": {
   "display_name": "Python 3",
   "language": "python",
   "name": "python3"
  },
  "language_info": {
   "codemirror_mode": {
    "name": "ipython",
    "version": 3
   },
   "file_extension": ".py",
   "mimetype": "text/x-python",
   "name": "python",
   "nbconvert_exporter": "python",
   "pygments_lexer": "ipython3",
   "version": "3.7.1"
  }
 },
 "nbformat": 4,
 "nbformat_minor": 2
}
