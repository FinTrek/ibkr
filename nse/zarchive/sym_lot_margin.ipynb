{
 "cells": [
  {
   "cell_type": "code",
   "execution_count": null,
   "metadata": {},
   "outputs": [],
   "source": [
    "# Gets symbol, lot and margin from various sources, incase 5paise does not work!\n",
    "import pandas as pd\n",
    "\n",
    "# from tradeplusonline. This is closest to Zerodha\n",
    "tp = pd.read_html('https://www.tradeplusonline.com/Equity-Futures-Margin-Calculator.aspx')\n",
    "\n",
    "df_tp = tp[1][2:].iloc[:, :-1]\n",
    "df_tp = df_tp.iloc[:, [0,1,5]]\n",
    "df_tp.columns=['nseSymbol', 'lot', 'margin']"
   ]
  },
  {
   "cell_type": "code",
   "execution_count": null,
   "metadata": {},
   "outputs": [],
   "source": [
    "# from celebrus\n",
    "celebrusurl = \"http://celebrus.in/displaycapital.php\"\n",
    "df_celeb = pd.read_html(celebrusurl)[0]\n",
    "df_celeb = df_celeb.rename(columns=df_celeb.iloc[1])[2:]\n",
    "\n",
    "df_celeb1 = df_celeb.groupby(['Symbol', 'Lot Size'])['Total Margin'].max().reset_index()\n",
    "df_celeb1.columns = ['nseSymbol', 'lot', 'margin']"
   ]
  },
  {
   "cell_type": "code",
   "execution_count": null,
   "metadata": {},
   "outputs": [],
   "source": [
    "# from 5paisa\n",
    "paisaurl = \"https://www.5paisa.com/5pit/spma.asp\"\n",
    "df_paisa = pd.read_html(paisaurl, header=0)[1].drop_duplicates(subset='Symbol')\n",
    "\n",
    "# Rename Symbol and Margin fields\n",
    "df_paisa = df_paisa.rename(columns={'Symbol': 'nseSymbol', 'TotMgn%': 'marginpct', 'Mlot': 'lot'})"
   ]
  },
  {
   "cell_type": "markdown",
   "metadata": {},
   "source": [
    "# The following code is experimental\n",
    "## This was an attempt to get margins either:\n",
    "    a. Directly from NSE, or,   \n",
    "    b. Symbol, Lot, Expiry from Zerodha, coupled with IBKR\n",
    "    \n",
    "## Problems:\n",
    "1. To get Zerodha's Span and Exposure margin from symbol, expiry and lot\n",
    "2. ib.whatIfOrder(contract, order) does not work in NSE to give initMarginChange. It says there is no permission!\n",
    "3. extracting SPAN from NSE is a bloody pain!!"
   ]
  },
  {
   "cell_type": "raw",
   "metadata": {},
   "source": [
    "import requests\n",
    "import json\n",
    "from bs4 import BeautifulSoup\n",
    "import itertools\n",
    "# import io\n",
    "\n",
    "from ib_insync import *\n",
    "util.startLoop()\n",
    "ib = IB().connect('127.0.0.1', 3000, clientId=3)"
   ]
  },
  {
   "cell_type": "raw",
   "metadata": {},
   "source": [
    "exchange = 'NSE'\n",
    "\n",
    "# Extract symbol, expiry, lot from Zerodha\n",
    "session = requests.session()\n",
    "url = 'https://zerodha.com/margin-calculator/SPAN/'\n",
    "req = session.get(url)\n",
    "soup = BeautifulSoup(req.content) # soup it\n",
    "\n",
    "raw_script = str(soup.findAll('script')[4]) # 5th script is json\n",
    "\n",
    "# Filter out FUTURES and clean them\n",
    "raw_script1 = raw_script.rsplit('var FUTURES =')[1]\n",
    "raw_script2 = raw_script1.rsplit(\"',\")[0]\n",
    "raw_script3 = raw_script2.rsplit(\",\\n\\t\")[0]\n",
    "\n",
    "\n",
    "opt_list = json.loads(raw_script3)\n",
    "sel = [(o[1].split(\" \"), o[2]) for o in opt_list]\n",
    "df_ml = pd.DataFrame([(x[0][0], x[0][1], x[1]) for x in sel])\n",
    "df_ml.columns=(['nseSymbol', 'expiry', 'lot'])\n",
    "\n",
    "# convert expiry to string format required for ib.qualifyContract\n",
    "df_ml.expiry = pd.to_datetime(df_ml.expiry).dt.strftime('%Y%m%d')\n",
    "\n",
    "# truncate to 9 characters for ibSymbol\n",
    "df_ml['symbol'] = df_ml.nseSymbol.str.slice(0,9)\n",
    "\n",
    "# nseSymbol to ibSymbol dictionary for conversion\n",
    "ntoi = {'M&M': 'MM', 'M&MFIN': 'MMFIN', 'L&TFH': 'LTFH', 'NIFTY': 'NIFTY50'}\n",
    "\n",
    "df_ml.symbol = df_ml.symbol.replace(ntoi)\n",
    "\n",
    "# separate indexes and equities, eliminate discards from df_ml\n",
    "indexes = ['NIFTY50', 'BANKNIFTY']\n",
    "discards = ['NIFTYMID5', 'NIFTYIT', 'LUPIN']\n",
    "\n",
    "symbols = sorted([s for s in df_ml.symbol.unique() if s not in discards])\n",
    "equities = sorted([s for s in df_ml.symbol.unique() if s not in indexes+discards])\n",
    "\n",
    "df_ix = df_ml[df_ml.symbol.isin(indexes)].drop_duplicates('symbol')\n",
    "df_eq = df_ml[df_ml.symbol.isin(equities)].drop_duplicates('symbol')\n",
    "\n",
    "eq_list = ib.qualifyContracts(*[Stock(s, exchange) for s in df_eq.symbol])\n",
    "eq_order = [Order(action='SELL', totalQuantity=undlot, orderType='MKT') for undlot in df_eq.lot]\n",
    "\n",
    "ib.whatIfOrder(eq_list[0], eq_order[0])\n",
    "\n",
    "[ib.whatIfOrder(contract, order).initMarginChange for contract, order in zip(eq_list, eq_order)]"
   ]
  },
  {
   "cell_type": "raw",
   "metadata": {},
   "source": [
    "# Another alternative to get lot from nse\n",
    "resp_lot = requests.get('https://www.nseindia.com/content/fo/fo_mktlots.csv')\n",
    "file_object = io.StringIO(resp_lot.content.decode('utf-8'))\n",
    "\n",
    "df_lots = pd.read_csv(file_object)\n",
    "df_lots = df_lots.iloc[:, 1:3] # Get the symbol and the latest month\n",
    "df_lots.columns = ['symbol', 'lot'] # Rename the columns\n",
    "\n",
    "df_lots.lot = pd.to_numeric(df_lots.lot, errors='coerce')\n",
    "df_lots.dropna(subset = ['lot'], inplace=True)"
   ]
  }
 ],
 "metadata": {
  "kernelspec": {
   "display_name": "Python 3",
   "language": "python",
   "name": "python3"
  },
  "language_info": {
   "codemirror_mode": {
    "name": "ipython",
    "version": 3
   },
   "file_extension": ".py",
   "mimetype": "text/x-python",
   "name": "python",
   "nbconvert_exporter": "python",
   "pygments_lexer": "ipython3",
   "version": "3.7.1"
  }
 },
 "nbformat": 4,
 "nbformat_minor": 2
}
